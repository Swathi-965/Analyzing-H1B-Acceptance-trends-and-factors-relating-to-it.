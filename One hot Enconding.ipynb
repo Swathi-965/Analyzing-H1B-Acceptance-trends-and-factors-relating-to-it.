{
 "cells": [
  {
   "cell_type": "code",
   "execution_count": null,
   "metadata": {},
   "outputs": [],
   "source": [
    "import pandas as pd\n",
    "import numpy as np"
   ]
  },
  {
   "cell_type": "code",
   "execution_count": null,
   "metadata": {},
   "outputs": [],
   "source": [
    "df=pd.read_csv('PERM_Disclosure_Data_FY2018_EOY.csv') # reading data 2018"
   ]
  },
  {
   "cell_type": "code",
   "execution_count": null,
   "metadata": {
    "scrolled": true
   },
   "outputs": [],
   "source": [
    "df"
   ]
  },
  {
   "cell_type": "code",
   "execution_count": null,
   "metadata": {},
   "outputs": [],
   "source": [
    "from sklearn.compose import make_column_transformer\n",
    "from sklearn.preprocessing import OneHotEncoder\n",
    "from sklearn.linear_model import LogisticRegression\n",
    "from sklearn.pipeline import make_pipeline\n",
    "from sklearn.model_selection import cross_val_score"
   ]
  },
  {
   "cell_type": "code",
   "execution_count": null,
   "metadata": {},
   "outputs": [],
   "source": [
    "df['CASE_STATUS'].value_counts() #Remove Withdrawn and Certified Expired\n",
    "df = df[df.CASE_STATUS != 'Certified-Expired']\n",
    "df = df[df.CASE_STATUS != 'Withdrawn']\n",
    "df['CASE_STATUS'].value_counts()\n",
    "\n",
    "df['PW_JOB_TITLE_9089'].value_counts()\n",
    "\n"
   ]
  },
  {
   "cell_type": "code",
   "execution_count": null,
   "metadata": {},
   "outputs": [],
   "source": [
    "#df['EMPLOYER_STATE'].value_counts()\n",
    "#df['LCA_CASE_JOB_TITLE'].value_counts()\n",
    "df['PW_JOB_TITLE_9089'].value_counts()\n",
    "\n",
    "#df.columns\n",
    "\n"
   ]
  },
  {
   "cell_type": "code",
   "execution_count": null,
   "metadata": {},
   "outputs": [],
   "source": [
    "###ValueError: Found unknown categories ['BC'] in column 0 during transform\n",
    "#df = df[df.EMPLOYER_STATE != 'BC']\n",
    "\n",
    "data = df.loc[df.EMPLOYER_STATE.notna(),['CASE_STATUS', 'EMPLOYER_STATE']]\n",
    "\n",
    "\n",
    "X = data.drop('CASE_STATUS', axis='columns')\n",
    "y = data.CASE_STATUS"
   ]
  },
  {
   "cell_type": "code",
   "execution_count": null,
   "metadata": {},
   "outputs": [],
   "source": [
    "# One hot Enconder & Logisti Regression to build up a pipeline \n",
    "colums_trans = make_column_transformer(\n",
    "    (OneHotEncoder(), ['EMPLOYER_STATE']),\n",
    "    remainder = \"passthrough\" )\n",
    "\n",
    "logreg = LogisticRegression(solver = 'lbfgs')"
   ]
  },
  {
   "cell_type": "code",
   "execution_count": null,
   "metadata": {
    "scrolled": false
   },
   "outputs": [],
   "source": [
    "pipe = make_pipeline(colums_trans, logreg) #(pre-processiong and model)\n",
    "cross_val_score(pipe, X, y, cv=5, scoring='accuracy').mean() # "
   ]
  },
  {
   "cell_type": "code",
   "execution_count": null,
   "metadata": {
    "scrolled": true
   },
   "outputs": [],
   "source": [
    "new_df=pd.read_csv('H-1B_Disclosure_Data_FY2019.csv') # reading data 2019"
   ]
  },
  {
   "cell_type": "code",
   "execution_count": null,
   "metadata": {
    "scrolled": true
   },
   "outputs": [],
   "source": [
    "new_data = new_df.loc[new_df.EMPLOYER_STATE.notna(),['CASE_STATUS', 'EMPLOYER_STATE']]\n",
    "new_X = new_data.drop('CASE_STATUS', axis='columns')\n",
    "new_y = new_data.CASE_STATUS\n",
    "#JOB_TITLE"
   ]
  },
  {
   "cell_type": "code",
   "execution_count": null,
   "metadata": {
    "scrolled": true
   },
   "outputs": [],
   "source": [
    "new_X_random = new_X.sample(200, random_state = 99)\n",
    "new_X_random"
   ]
  },
  {
   "cell_type": "code",
   "execution_count": null,
   "metadata": {
    "scrolled": true
   },
   "outputs": [],
   "source": [
    "pipe.fit(X,y)"
   ]
  },
  {
   "cell_type": "code",
   "execution_count": null,
   "metadata": {},
   "outputs": [],
   "source": [
    "pipe.predict(new_X_random)"
   ]
  }
 ],
 "metadata": {
  "kernelspec": {
   "display_name": "Python 3",
   "language": "python",
   "name": "python3"
  },
  "language_info": {
   "codemirror_mode": {
    "name": "ipython",
    "version": 3
   },
   "file_extension": ".py",
   "mimetype": "text/x-python",
   "name": "python",
   "nbconvert_exporter": "python",
   "pygments_lexer": "ipython3",
   "version": "3.7.4"
  }
 },
 "nbformat": 4,
 "nbformat_minor": 2
}
