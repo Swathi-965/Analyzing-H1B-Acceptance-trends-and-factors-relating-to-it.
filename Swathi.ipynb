{
 "cells": [
  {
   "cell_type": "code",
   "execution_count": 143,
   "metadata": {},
   "outputs": [],
   "source": [
    "import numpy as np\n",
    "import pandas as pd\n",
    "import os\n",
    "import seaborn as sns\n",
    "from spellchecker import SpellChecker\n",
    "%matplotlib inline\n",
    "import matplotlib.pyplot as plt"
   ]
  },
  {
   "cell_type": "code",
   "execution_count": 104,
   "metadata": {},
   "outputs": [
    {
     "name": "stderr",
     "output_type": "stream",
     "text": [
      "C:\\Users\\bodav\\Anaconda3\\lib\\site-packages\\IPython\\core\\interactiveshell.py:3058: DtypeWarning: Columns (16,122) have mixed types. Specify dtype option on import or set low_memory=False.\n",
      "  interactivity=interactivity, compiler=compiler, result=result)\n"
     ]
    }
   ],
   "source": [
    "df_1 = pd.read_csv('PERM_Disclosure_Data_FY2018_EOY.csv')"
   ]
  },
  {
   "cell_type": "code",
   "execution_count": 5,
   "metadata": {},
   "outputs": [],
   "source": [
    "df_2 = pd.read_csv('PERM_Disclosure_Data_FY17.csv')"
   ]
  },
  {
   "cell_type": "code",
   "execution_count": 7,
   "metadata": {},
   "outputs": [],
   "source": [
    "# Merging two datasets\n",
    "df_3 = pd.concat([df_1,df_2],join = 'inner',ignore_index=True,sort = False)"
   ]
  },
  {
   "cell_type": "code",
   "execution_count": 8,
   "metadata": {},
   "outputs": [
    {
     "data": {
      "text/html": [
       "<div>\n",
       "<style scoped>\n",
       "    .dataframe tbody tr th:only-of-type {\n",
       "        vertical-align: middle;\n",
       "    }\n",
       "\n",
       "    .dataframe tbody tr th {\n",
       "        vertical-align: top;\n",
       "    }\n",
       "\n",
       "    .dataframe thead th {\n",
       "        text-align: right;\n",
       "    }\n",
       "</style>\n",
       "<table border=\"1\" class=\"dataframe\">\n",
       "  <thead>\n",
       "    <tr style=\"text-align: right;\">\n",
       "      <th></th>\n",
       "      <th>CASE_NUMBER</th>\n",
       "      <th>DECISION_DATE</th>\n",
       "      <th>CASE_STATUS</th>\n",
       "      <th>CASE_RECEIVED_DATE</th>\n",
       "      <th>REFILE</th>\n",
       "      <th>ORIG_FILE_DATE</th>\n",
       "      <th>ORIG_CASE_NO</th>\n",
       "      <th>SCHD_A_SHEEPHERDER</th>\n",
       "      <th>EMPLOYER_NAME</th>\n",
       "      <th>EMPLOYER_ADDRESS_1</th>\n",
       "      <th>...</th>\n",
       "      <th>FW_INFO_TRAINING_COMP</th>\n",
       "      <th>FW_INFO_REQ_EXPERIENCE</th>\n",
       "      <th>FW_INFO_ALT_EDU_EXPERIENCE</th>\n",
       "      <th>FW_INFO_REL_OCCUP_EXP</th>\n",
       "      <th>PREPARER_INFO_EMP_COMPLETED</th>\n",
       "      <th>PREPARER_INFO_TITLE</th>\n",
       "      <th>EMPLOYER_DECL_INFO_TITLE</th>\n",
       "      <th>NAICS_US_CODE</th>\n",
       "      <th>NAICS_US_TITLE</th>\n",
       "      <th>PW_JOB_TITLE_9089</th>\n",
       "    </tr>\n",
       "  </thead>\n",
       "  <tbody>\n",
       "    <tr>\n",
       "      <td>0</td>\n",
       "      <td>A-17268-91243</td>\n",
       "      <td>10/1/2017</td>\n",
       "      <td>Withdrawn</td>\n",
       "      <td>9/29/2017</td>\n",
       "      <td>N</td>\n",
       "      <td>NaN</td>\n",
       "      <td>NaN</td>\n",
       "      <td>N</td>\n",
       "      <td>DATA MEANING SERVICES GROUP</td>\n",
       "      <td>3301 NORTH UNIVERSITY DRIVE</td>\n",
       "      <td>...</td>\n",
       "      <td>A</td>\n",
       "      <td>Y</td>\n",
       "      <td>A</td>\n",
       "      <td>A</td>\n",
       "      <td>N</td>\n",
       "      <td>Counsel</td>\n",
       "      <td>Human Capital Manager</td>\n",
       "      <td>541511</td>\n",
       "      <td>Custom Computer Programming Services</td>\n",
       "      <td>Web Architect</td>\n",
       "    </tr>\n",
       "    <tr>\n",
       "      <td>1</td>\n",
       "      <td>A-17268-91198</td>\n",
       "      <td>10/1/2017</td>\n",
       "      <td>Withdrawn</td>\n",
       "      <td>9/29/2017</td>\n",
       "      <td>N</td>\n",
       "      <td>NaN</td>\n",
       "      <td>NaN</td>\n",
       "      <td>N</td>\n",
       "      <td>NOVO NORDISK INC.</td>\n",
       "      <td>800 SCUDDERS MILL ROAD</td>\n",
       "      <td>...</td>\n",
       "      <td>A</td>\n",
       "      <td>A</td>\n",
       "      <td>A</td>\n",
       "      <td>Y</td>\n",
       "      <td>N</td>\n",
       "      <td>Partner</td>\n",
       "      <td>Associate Director, Mobility - Human Resources</td>\n",
       "      <td>325412</td>\n",
       "      <td>Pharmaceutical Preparation Manufacturing</td>\n",
       "      <td>Senior Systems Analyst</td>\n",
       "    </tr>\n",
       "    <tr>\n",
       "      <td>2</td>\n",
       "      <td>A-17275-93842</td>\n",
       "      <td>10/2/2017</td>\n",
       "      <td>Withdrawn</td>\n",
       "      <td>10/2/2017</td>\n",
       "      <td>N</td>\n",
       "      <td>NaN</td>\n",
       "      <td>NaN</td>\n",
       "      <td>N</td>\n",
       "      <td>HITACHI CONSULTING CORPORATION</td>\n",
       "      <td>14643 DALLAS PARKWAY</td>\n",
       "      <td>...</td>\n",
       "      <td>A</td>\n",
       "      <td>A</td>\n",
       "      <td>N</td>\n",
       "      <td>Y</td>\n",
       "      <td>N</td>\n",
       "      <td>Of Counsel</td>\n",
       "      <td>Director, Global Immigration Services</td>\n",
       "      <td>541512</td>\n",
       "      <td>Computer Systems Design Services</td>\n",
       "      <td>Computer Systems Analysts</td>\n",
       "    </tr>\n",
       "    <tr>\n",
       "      <td>3</td>\n",
       "      <td>A-17257-86988</td>\n",
       "      <td>10/2/2017</td>\n",
       "      <td>Withdrawn</td>\n",
       "      <td>10/2/2017</td>\n",
       "      <td>N</td>\n",
       "      <td>NaN</td>\n",
       "      <td>NaN</td>\n",
       "      <td>N</td>\n",
       "      <td>HITACHI CONSULTING CORPORATION</td>\n",
       "      <td>14643 DALLAS PARKWAY</td>\n",
       "      <td>...</td>\n",
       "      <td>A</td>\n",
       "      <td>A</td>\n",
       "      <td>N</td>\n",
       "      <td>Y</td>\n",
       "      <td>N</td>\n",
       "      <td>Of Counsel</td>\n",
       "      <td>Director, Global Immigration Services</td>\n",
       "      <td>541512</td>\n",
       "      <td>Computer Systems Design Services</td>\n",
       "      <td>Computer Systems Analysts</td>\n",
       "    </tr>\n",
       "    <tr>\n",
       "      <td>4</td>\n",
       "      <td>A-17263-89145</td>\n",
       "      <td>10/2/2017</td>\n",
       "      <td>Withdrawn</td>\n",
       "      <td>10/2/2017</td>\n",
       "      <td>N</td>\n",
       "      <td>NaN</td>\n",
       "      <td>NaN</td>\n",
       "      <td>N</td>\n",
       "      <td>FANATICS RETAIL GROUP FULFILLMENT INC DBA FANA...</td>\n",
       "      <td>8100 NATIONS WAY</td>\n",
       "      <td>...</td>\n",
       "      <td>A</td>\n",
       "      <td>N</td>\n",
       "      <td>N</td>\n",
       "      <td>Y</td>\n",
       "      <td>N</td>\n",
       "      <td>Attorney</td>\n",
       "      <td>Director of Talent Acquisition</td>\n",
       "      <td>45411</td>\n",
       "      <td>Electronic Shopping and Mail-Order Houses</td>\n",
       "      <td>Statisticians</td>\n",
       "    </tr>\n",
       "  </tbody>\n",
       "</table>\n",
       "<p>5 rows × 124 columns</p>\n",
       "</div>"
      ],
      "text/plain": [
       "     CASE_NUMBER DECISION_DATE CASE_STATUS CASE_RECEIVED_DATE REFILE  \\\n",
       "0  A-17268-91243     10/1/2017   Withdrawn          9/29/2017      N   \n",
       "1  A-17268-91198     10/1/2017   Withdrawn          9/29/2017      N   \n",
       "2  A-17275-93842     10/2/2017   Withdrawn          10/2/2017      N   \n",
       "3  A-17257-86988     10/2/2017   Withdrawn          10/2/2017      N   \n",
       "4  A-17263-89145     10/2/2017   Withdrawn          10/2/2017      N   \n",
       "\n",
       "  ORIG_FILE_DATE ORIG_CASE_NO SCHD_A_SHEEPHERDER  \\\n",
       "0            NaN          NaN                  N   \n",
       "1            NaN          NaN                  N   \n",
       "2            NaN          NaN                  N   \n",
       "3            NaN          NaN                  N   \n",
       "4            NaN          NaN                  N   \n",
       "\n",
       "                                       EMPLOYER_NAME  \\\n",
       "0                        DATA MEANING SERVICES GROUP   \n",
       "1                                  NOVO NORDISK INC.   \n",
       "2                     HITACHI CONSULTING CORPORATION   \n",
       "3                     HITACHI CONSULTING CORPORATION   \n",
       "4  FANATICS RETAIL GROUP FULFILLMENT INC DBA FANA...   \n",
       "\n",
       "            EMPLOYER_ADDRESS_1  ... FW_INFO_TRAINING_COMP  \\\n",
       "0  3301 NORTH UNIVERSITY DRIVE  ...                     A   \n",
       "1       800 SCUDDERS MILL ROAD  ...                     A   \n",
       "2         14643 DALLAS PARKWAY  ...                     A   \n",
       "3         14643 DALLAS PARKWAY  ...                     A   \n",
       "4             8100 NATIONS WAY  ...                     A   \n",
       "\n",
       "  FW_INFO_REQ_EXPERIENCE FW_INFO_ALT_EDU_EXPERIENCE FW_INFO_REL_OCCUP_EXP  \\\n",
       "0                      Y                          A                     A   \n",
       "1                      A                          A                     Y   \n",
       "2                      A                          N                     Y   \n",
       "3                      A                          N                     Y   \n",
       "4                      N                          N                     Y   \n",
       "\n",
       "  PREPARER_INFO_EMP_COMPLETED PREPARER_INFO_TITLE  \\\n",
       "0                           N             Counsel   \n",
       "1                           N             Partner   \n",
       "2                           N          Of Counsel   \n",
       "3                           N          Of Counsel   \n",
       "4                           N            Attorney   \n",
       "\n",
       "                         EMPLOYER_DECL_INFO_TITLE  NAICS_US_CODE  \\\n",
       "0                           Human Capital Manager         541511   \n",
       "1  Associate Director, Mobility - Human Resources         325412   \n",
       "2           Director, Global Immigration Services         541512   \n",
       "3           Director, Global Immigration Services         541512   \n",
       "4                  Director of Talent Acquisition          45411   \n",
       "\n",
       "                              NAICS_US_TITLE          PW_JOB_TITLE_9089  \n",
       "0       Custom Computer Programming Services              Web Architect  \n",
       "1   Pharmaceutical Preparation Manufacturing     Senior Systems Analyst  \n",
       "2           Computer Systems Design Services  Computer Systems Analysts  \n",
       "3           Computer Systems Design Services  Computer Systems Analysts  \n",
       "4  Electronic Shopping and Mail-Order Houses              Statisticians  \n",
       "\n",
       "[5 rows x 124 columns]"
      ]
     },
     "execution_count": 8,
     "metadata": {},
     "output_type": "execute_result"
    }
   ],
   "source": [
    "df_3.head()"
   ]
  },
  {
   "cell_type": "code",
   "execution_count": 30,
   "metadata": {},
   "outputs": [
    {
     "name": "stdout",
     "output_type": "stream",
     "text": [
      "(119776, 125)\n",
      "(97603, 125)\n",
      "(217379, 124)\n",
      "True\n"
     ]
    }
   ],
   "source": [
    "print(df_1.shape)\n",
    "print(df_2.shape)\n",
    "print(df_3.shape)\n",
    "if 'JOB_INFO_TRAINING_NUM_MONTHS' in df_2.columns:\n",
    "    print(True)\n",
    "else:\n",
    "    print(False)"
   ]
  },
  {
   "cell_type": "code",
   "execution_count": 117,
   "metadata": {},
   "outputs": [
    {
     "name": "stdout",
     "output_type": "stream",
     "text": [
      "(217379, 21)\n",
      "31178\n"
     ]
    },
    {
     "name": "stderr",
     "output_type": "stream",
     "text": [
      "C:\\Users\\bodav\\Anaconda3\\lib\\site-packages\\ipykernel_launcher.py:7: SettingWithCopyWarning: \n",
      "A value is trying to be set on a copy of a slice from a DataFrame\n",
      "\n",
      "See the caveats in the documentation: http://pandas.pydata.org/pandas-docs/stable/user_guide/indexing.html#returning-a-view-versus-a-copy\n",
      "  import sys\n"
     ]
    },
    {
     "name": "stdout",
     "output_type": "stream",
     "text": [
      "(187619, 21)\n"
     ]
    }
   ],
   "source": [
    "Dataset = df_3[['EMPLOYER_NAME','EMPLOYER_COUNTRY','EMPLOYER_NUM_EMPLOYEES','EMPLOYER_YR_ESTAB','PW_SOC_CODE','PW_SOC_TITLE',\n",
    "               'PW_AMOUNT_9089','PW_UNIT_OF_PAY_9089','WAGE_OFFER_UNIT_OF_PAY_9089','JOB_INFO_JOB_TITLE','JOB_INFO_EDUCATION',\n",
    "               'JOB_INFO_MAJOR','JOB_INFO_TRAINING','JOB_INFO_EXPERIENCE','JOB_INFO_ALT_FIELD','JOB_INFO_ALT_COMBO_ED_EXP',\n",
    "                'JI_OFFERED_TO_SEC_J_FW','JI_FW_LIVE_ON_PREMISES','NAICS_US_CODE','NAICS_US_TITLE','PW_JOB_TITLE_9089']]\n",
    "print(Dataset.shape)\n",
    "print(Dataset.isna().sum().sum())\n",
    "Dataset.dropna(inplace = True)\n",
    "print(Dataset.shape)\n",
    "Dataset.isna().sum().sum()\n",
    "Dataset.reset_index(inplace = True)\n",
    "Dataset.drop(columns=['index'],inplace = True)"
   ]
  },
  {
   "cell_type": "code",
   "execution_count": 81,
   "metadata": {},
   "outputs": [
    {
     "data": {
      "image/png": "[encoded data removed]",
      "text/plain": [
       "<Figure size 432x288 with 1 Axes>"
      ]
     },
     "metadata": {
      "needs_background": "light"
     },
     "output_type": "display_data"
    }
   ],
   "source": [
    "Dataset['JOB_INFO_EDUCATION'].value_counts()\n",
    "ax = sns.countplot(y = \"JOB_INFO_EDUCATION\", data = Dataset)"
   ]
  },
  {
   "cell_type": "code",
   "execution_count": 128,
   "metadata": {},
   "outputs": [
    {
     "name": "stderr",
     "output_type": "stream",
     "text": [
      "C:\\Users\\bodav\\Anaconda3\\lib\\site-packages\\ipykernel_launcher.py:5: SettingWithCopyWarning: \n",
      "A value is trying to be set on a copy of a slice from a DataFrame.\n",
      "Try using .loc[row_indexer,col_indexer] = value instead\n",
      "\n",
      "See the caveats in the documentation: http://pandas.pydata.org/pandas-docs/stable/user_guide/indexing.html#returning-a-view-versus-a-copy\n",
      "  \"\"\"\n"
     ]
    }
   ],
   "source": [
    "#Same position with different names(Computer Systems Analyst,Computer Systems Analyst), so changing them\n",
    "Dataset.replace('Computer Systems Analysts', 'Computer Systems Analyst',inplace = True)\n",
    "Dataset.replace('Softwae Developers', 'Software Developers, Applications',inplace = True)\n",
    "Dataset.replace('Elecronics Engineers,Except Computer', 'Electronics Engineers, Except Computer',inplace = True)\n",
    "Dataset['PW_JOB_TITLE_9089'] = Dataset['PW_JOB_TITLE_9089'].str.lower()\n",
    "spell = SpellChecker()\n"
   ]
  },
  {
   "cell_type": "code",
   "execution_count": 132,
   "metadata": {},
   "outputs": [
    {
     "name": "stdout",
     "output_type": "stream",
     "text": [
      "software developers, applications            25687\n",
      "software developers, systems software        10705\n",
      "computer systems analyst                      8138\n",
      "electronics engineers, except computer        3941\n",
      "computer occupations, all other               3098\n",
      "computer and information systems managers     1841\n",
      "statisticians                                 1181\n",
      "management analysts                            953\n",
      "accountants and auditors                       934\n",
      "marketing managers                             815\n",
      "Name: PW_JOB_TITLE_9089, dtype: int64\n",
      "Master's       38161\n",
      "Bachelor's     28938\n",
      "Doctorate        897\n",
      "Other            352\n",
      "Associate's       76\n",
      "None               1\n",
      "Name: JOB_INFO_EDUCATION, dtype: int64\n"
     ]
    }
   ],
   "source": [
    "# whether the company is sponsoring or not\n",
    "#Y : Sponsoring\n",
    "#N : Not sponsoring\n",
    "Dataset['JI_OFFERED_TO_SEC_J_FW'].value_counts()\n",
    "\n",
    "# Companies that are hiring more than 100 people \n",
    "Dataset['EMPLOYER_NAME'].value_counts()\n",
    "Filtered_Companies = Dataset.groupby(\"EMPLOYER_NAME\").filter(lambda x : len(x)>100)\n",
    "Filtered_Companies\n",
    "Filtered_Companies.reset_index(inplace = True)\n",
    "Filtered_Companies.drop(['index'],axis = 1, inplace = True)\n",
    "Filtered_Companies\n",
    "print(Filtered_Companies['PW_JOB_TITLE_9089'].value_counts().head(10))\n",
    "print(Filtered_Companies['JOB_INFO_EDUCATION'].value_counts())\n",
    "# Filtered roles if they are greater than 100\n",
    "Filtered_positions = Filtered_Companies.groupby(\"PW_JOB_TITLE_9089\").filter(lambda x : len(x)>100)"
   ]
  },
  {
   "cell_type": "markdown",
   "metadata": {},
   "source": [
    "# Comparision of job roles with respect to education"
   ]
  },
  {
   "cell_type": "code",
   "execution_count": 205,
   "metadata": {},
   "outputs": [
    {
     "name": "stderr",
     "output_type": "stream",
     "text": [
      "C:\\Users\\bodav\\Anaconda3\\lib\\site-packages\\ipykernel_launcher.py:5: SettingWithCopyWarning: \n",
      "A value is trying to be set on a copy of a slice from a DataFrame\n",
      "\n",
      "See the caveats in the documentation: http://pandas.pydata.org/pandas-docs/stable/user_guide/indexing.html#returning-a-view-versus-a-copy\n",
      "  \"\"\"\n",
      "C:\\Users\\bodav\\Anaconda3\\lib\\site-packages\\ipykernel_launcher.py:6: SettingWithCopyWarning: \n",
      "A value is trying to be set on a copy of a slice from a DataFrame\n",
      "\n",
      "See the caveats in the documentation: http://pandas.pydata.org/pandas-docs/stable/user_guide/indexing.html#returning-a-view-versus-a-copy\n",
      "  \n",
      "C:\\Users\\bodav\\Anaconda3\\lib\\site-packages\\ipykernel_launcher.py:7: SettingWithCopyWarning: \n",
      "A value is trying to be set on a copy of a slice from a DataFrame\n",
      "\n",
      "See the caveats in the documentation: http://pandas.pydata.org/pandas-docs/stable/user_guide/indexing.html#returning-a-view-versus-a-copy\n",
      "  import sys\n",
      "C:\\Users\\bodav\\Anaconda3\\lib\\site-packages\\ipykernel_launcher.py:8: SettingWithCopyWarning: \n",
      "A value is trying to be set on a copy of a slice from a DataFrame\n",
      "\n",
      "See the caveats in the documentation: http://pandas.pydata.org/pandas-docs/stable/user_guide/indexing.html#returning-a-view-versus-a-copy\n",
      "  \n",
      "C:\\Users\\bodav\\Anaconda3\\lib\\site-packages\\ipykernel_launcher.py:9: SettingWithCopyWarning: \n",
      "A value is trying to be set on a copy of a slice from a DataFrame\n",
      "\n",
      "See the caveats in the documentation: http://pandas.pydata.org/pandas-docs/stable/user_guide/indexing.html#returning-a-view-versus-a-copy\n",
      "  if __name__ == '__main__':\n"
     ]
    },
    {
     "data": {
      "image/png": "[encoded data removed]",
      "text/plain": [
       "<Figure size 432x288 with 1 Axes>"
      ]
     },
     "metadata": {
      "needs_background": "light"
     },
     "output_type": "display_data"
    }
   ],
   "source": [
    "plot = Dataset[['JOB_INFO_EDUCATION','PW_JOB_TITLE_9089']]\n",
    "plot\n",
    "plot_1 = plot[plot['PW_JOB_TITLE_9089'].isin(['software developers, applications','software developers, systems software',\n",
    "            'computer systems analyst','electronics engineers, except computer','computer occupations, all other'])]\n",
    "plot_1.loc[(plot_1.PW_JOB_TITLE_9089 == 'software developers, applications'),'PW_JOB_TITLE_9089'] = 'SDA'\n",
    "plot_1.loc[(plot_1.PW_JOB_TITLE_9089 == 'software developers, systems software'),'PW_JOB_TITLE_9089'] = 'SDSS'\n",
    "plot_1.loc[(plot_1.PW_JOB_TITLE_9089 == 'computer systems analyst'),'PW_JOB_TITLE_9089'] = 'CSA'\n",
    "plot_1.loc[(plot_1.PW_JOB_TITLE_9089 == 'electronics engineers, except computer'),'PW_JOB_TITLE_9089'] = 'EEEC'\n",
    "plot_1.loc[(plot_1.PW_JOB_TITLE_9089 == 'computer occupations, all other'),'PW_JOB_TITLE_9089'] = 'COAO'\n",
    "\n",
    "plot_1 = plot_1[plot_1['JOB_INFO_EDUCATION'].isin([\"Master's\",\"Bachelor's\",\"Doctorate\",\"Other\",\"Associate's\"])]\n",
    "#print(plot_1)\n",
    "plot_2 = plot_1.groupby(['PW_JOB_TITLE_9089'])['JOB_INFO_EDUCATION'].value_counts(ascending = False, normalize = True)\n",
    "#print(plot_2)\n",
    "plot_2=plot_2.reset_index(name= '%')\n",
    "plot_2['%']=100*plot_2['%']\n",
    "plot_2\n",
    "bar_plot = sns.barplot(x = 'PW_JOB_TITLE_9089', y = '%', hue = 'JOB_INFO_EDUCATION', palette = \"cubehelix_r\", data = plot_2)\n",
    "leg = bar_plot.legend(title = 'Level of Education',loc = (1,0.5))\n",
    "sns.despine(top=True, right=True)\n",
    "plt.xlabel('Various Positions')\n",
    "plt.ylabel('Percentage of levels of education(%)')\n",
    "plt.title(\"Comparision of levels of education\")\n",
    "plt.show()"
   ]
  },
  {
   "cell_type": "code",
   "execution_count": null,
   "metadata": {},
   "outputs": [],
   "source": [
    "#RANDOM FOREST REGRESSOR\n"
   ]
  }
 ],
 "metadata": {
  "kernelspec": {
   "display_name": "Python 3",
   "language": "python",
   "name": "python3"
  },
  "language_info": {
   "codemirror_mode": {
    "name": "ipython",
    "version": 3
   },
   "file_extension": ".py",
   "mimetype": "text/x-python",
   "name": "python",
   "nbconvert_exporter": "python",
   "pygments_lexer": "ipython3",
   "version": "3.7.4"
  }
 },
 "nbformat": 4,
 "nbformat_minor": 2
}
