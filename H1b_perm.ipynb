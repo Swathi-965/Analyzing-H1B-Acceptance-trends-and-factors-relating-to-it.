{
  "nbformat": 4,
  "nbformat_minor": 0,
  "metadata": {
    "kernelspec": {
      "display_name": "Python 3",
      "language": "python",
      "name": "python3"
    },
    "language_info": {
      "codemirror_mode": {
        "name": "ipython",
        "version": 3
      },
      "file_extension": ".py",
      "mimetype": "text/x-python",
      "name": "python",
      "nbconvert_exporter": "python",
      "pygments_lexer": "ipython3",
      "version": "3.7.4"
    },
    "colab": {
      "name": "H1b_perm",
      "provenance": [],
      "collapsed_sections": [],
      "toc_visible": true
    }
  },
  "cells": [
    {
      "cell_type": "code",
      "metadata": {
        "id": "ZXqB4GMgYQFo",
        "colab_type": "code",
        "colab": {}
      },
      "source": [
        "from google.colab import drive\n",
        "drive.mount('/content/gdrive')"
      ],
      "execution_count": 0,
      "outputs": []
    },
    {
      "cell_type": "code",
      "metadata": {
        "id": "ovtUsKS1le3e",
        "colab_type": "code",
        "colab": {}
      },
      "source": [
        "!pip install autocorrect\n",
        "import numpy as np\n",
        "import pandas as pd\n",
        "import os\n",
        "import seaborn as sns\n",
        "%matplotlib inline\n",
        "import matplotlib.pyplot as plt\n",
        "import nltk,warnings\n",
        "from autocorrect import Speller\n",
        "import gensim.downloader as api\n",
        "from sklearn.cluster import KMeans\n",
        "nltk.download('wordnet')\n",
        "nltk.download('words')"
      ],
      "execution_count": 0,
      "outputs": []
    },
    {
      "cell_type": "code",
      "metadata": {
        "id": "rAgb8e_gle3h",
        "colab_type": "code",
        "colab": {}
      },
      "source": [
        "df_1 = pd.read_csv(\"/content/gdrive/My Drive/H1b_perm/PERM_Disclosure_Data_FY17.csv\")\n",
        "f_1 = df_1[['FOREIGN_WORKER_INFO_MAJOR','FOREIGN_WORKER_INFO_EDUCATION']]\n",
        "f_1.isna().sum()\n",
        "f_1.dropna(inplace = True)"
      ],
      "execution_count": 0,
      "outputs": []
    },
    {
      "cell_type": "code",
      "metadata": {
        "id": "l_zIR3rzle3j",
        "colab_type": "code",
        "colab": {}
      },
      "source": [
        "df_2 = pd.read_csv('/content/gdrive/My Drive/H1b_perm/PERM_Disclosure_Data_FY15_Q4.csv')\n",
        "f_2 = df_2[['FOREIGN_WORKER_INFO_MAJOR','FOREIGN_WORKER_INFO_EDUCATION']]\n",
        "f_2.isna().sum()\n",
        "f_2.dropna(inplace = True)"
      ],
      "execution_count": 0,
      "outputs": []
    },
    {
      "cell_type": "code",
      "metadata": {
        "id": "TIk1mAeV50QT",
        "colab_type": "code",
        "colab": {}
      },
      "source": [
        "df_3 = pd.read_csv('/content/gdrive/My Drive/H1b_perm/PERM_Disclosure_Data_FY16.csv')\n",
        "f_3 = df_3[['FOREIGN_WORKER_INFO_MAJOR','FOREIGN_WORKER_INFO_EDUCATION']]\n",
        "f_3.isna().sum()\n",
        "f_3.dropna(inplace = True)"
      ],
      "execution_count": 0,
      "outputs": []
    },
    {
      "cell_type": "code",
      "metadata": {
        "id": "0kVuqrDiXzQ1",
        "colab_type": "code",
        "colab": {}
      },
      "source": [
        "df_4 = pd.read_csv('/content/gdrive/My Drive/H1b_perm/PERM_Disclosure_Data_FY2018_EOY.csv')\n",
        "f_4 = df_4[['FOREIGN_WORKER_INFO_MAJOR','FOREIGN_WORKER_INFO_EDUCATION']]\n",
        "f_4.isna().sum()\n",
        "f_4.dropna(inplace = True)"
      ],
      "execution_count": 0,
      "outputs": []
    },
    {
      "cell_type": "code",
      "metadata": {
        "id": "p94vJm_xle3l",
        "colab_type": "code",
        "colab": {}
      },
      "source": [
        "perm=pd.concat([f_1,f_2,f_3,f_4])\n",
        "perm.shape"
      ],
      "execution_count": 0,
      "outputs": []
    },
    {
      "cell_type": "code",
      "metadata": {
        "id": "r30-x7K3jzf7",
        "colab_type": "code",
        "colab": {}
      },
      "source": [
        "perm['FOREIGN_WORKER_INFO_EDUCATION'].value_counts()\n",
        "perm.drop(labels=perm.loc[perm['FOREIGN_WORKER_INFO_EDUCATION']=='None'].index, inplace = True)\n",
        "perm.drop(labels=perm.loc[perm['FOREIGN_WORKER_INFO_EDUCATION']=='High School'].index, inplace = True)"
      ],
      "execution_count": 0,
      "outputs": []
    },
    {
      "cell_type": "code",
      "metadata": {
        "id": "TM-jfT2vle3q",
        "colab_type": "code",
        "colab": {}
      },
      "source": [
        "perm['FOREIGN_WORKER_INFO_EDUCATION'].value_counts()\n",
        "ax = sns.countplot(x = \"FOREIGN_WORKER_INFO_EDUCATION\", data = perm)"
      ],
      "execution_count": 0,
      "outputs": []
    },
    {
      "cell_type": "code",
      "metadata": {
        "id": "H73s7HhTlPJi",
        "colab_type": "code",
        "colab": {}
      },
      "source": [
        "lemmatizer = nltk.stem.WordNetLemmatizer()\n",
        "words = set(nltk.corpus.words.words())\n",
        "spell = Speller()\n",
        "def lemmatize_text(text):\n",
        "     return lemmatizer.lemmatize(text)\n",
        "def spelling_checker(text):\n",
        "     return spell(text)"
      ],
      "execution_count": 0,
      "outputs": []
    },
    {
      "cell_type": "code",
      "metadata": {
        "id": "ODGWNB2-mSf7",
        "colab_type": "code",
        "colab": {}
      },
      "source": [
        "perm['FOREIGN_WORKER_INFO_MAJOR']=perm.FOREIGN_WORKER_INFO_MAJOR.apply(lambda txt: \" \".join([lemmatize_text(i) for i in txt.lower().split()]))\n",
        "perm['FOREIGN_WORKER_INFO_MAJOR']=perm.FOREIGN_WORKER_INFO_MAJOR.apply(lambda txt: \" \".join([spelling_checker(i) for i in txt.lower().split()]))"
      ],
      "execution_count": 0,
      "outputs": []
    },
    {
      "cell_type": "code",
      "metadata": {
        "id": "l3M7y9cXvLsk",
        "colab_type": "code",
        "colab": {}
      },
      "source": [
        "perm.reset_index(drop = True,inplace = True)"
      ],
      "execution_count": 0,
      "outputs": []
    },
    {
      "cell_type": "code",
      "metadata": {
        "id": "gkHf0n5Uvcf2",
        "colab_type": "code",
        "colab": {}
      },
      "source": [
        "import string\n",
        "def remove_punctuation(value):\n",
        "    result = \"\"\n",
        "    for c in value:\n",
        "        if c not in string.punctuation:\n",
        "            result += c\n",
        "        else:\n",
        "            result +=\" \"\n",
        "    return result\n",
        "perm[\"FOREIGN_WORKER_INFO_MAJOR\"] = perm[\"FOREIGN_WORKER_INFO_MAJOR\"].apply(lambda x : remove_punctuation(x))\n"
      ],
      "execution_count": 0,
      "outputs": []
    },
    {
      "cell_type": "code",
      "metadata": {
        "id": "vS9gAhD8z-W4",
        "colab_type": "code",
        "colab": {}
      },
      "source": [
        "perm[\"FOREIGN_WORKER_INFO_MAJOR\"].value_counts()"
      ],
      "execution_count": 0,
      "outputs": []
    },
    {
      "cell_type": "code",
      "metadata": {
        "id": "iTD7yY4a0ll_",
        "colab_type": "code",
        "colab": {}
      },
      "source": [
        "word_vectors_1 = api.load(\"glove-wiki-gigaword-100\")"
      ],
      "execution_count": 0,
      "outputs": []
    },
    {
      "cell_type": "code",
      "metadata": {
        "id": "NeIgpkXY0Udn",
        "colab_type": "code",
        "colab": {}
      },
      "source": [
        "def grouping(position):\n",
        "  # print(position)\n",
        "  z = np.zeros(100)\n",
        "  x = position.split()\n",
        "  count = 0\n",
        "  for i in x:\n",
        "    if i in word_vectors_1:\n",
        "      z += word_vectors_1[i]\n",
        "      count+=1\n",
        "  if count>0:\n",
        "    return z/count\n",
        "  else:\n",
        "    return z\n",
        "perm[\"word_vectors\"] = perm[\"FOREIGN_WORKER_INFO_MAJOR\"].apply(lambda text : grouping(text))"
      ],
      "execution_count": 0,
      "outputs": []
    },
    {
      "cell_type": "code",
      "metadata": {
        "id": "adI_IYqg1B8G",
        "colab_type": "code",
        "colab": {}
      },
      "source": [
        "word_vectors = perm[[\"word_vectors\"]].values\n",
        "temp = np.vstack(word_vectors.tolist())\n",
        "temp.shape"
      ],
      "execution_count": 0,
      "outputs": []
    },
    {
      "cell_type": "code",
      "metadata": {
        "id": "I-U9y_qU1cwk",
        "colab_type": "code",
        "colab": {}
      },
      "source": [
        "kmeans = KMeans(n_clusters=20, random_state=0).fit(temp)\n",
        "y = kmeans.predict(temp)"
      ],
      "execution_count": 0,
      "outputs": []
    },
    {
      "cell_type": "code",
      "metadata": {
        "id": "rodx_4iPoece",
        "colab_type": "code",
        "colab": {}
      },
      "source": [
        "perm.shape"
      ],
      "execution_count": 0,
      "outputs": []
    },
    {
      "cell_type": "code",
      "metadata": {
        "id": "EWD152Vc1w3-",
        "colab_type": "code",
        "colab": {}
      },
      "source": [
        "perm[\"cluster\"] = y\n",
        "perm[perm[\"cluster\"] == 15]"
      ],
      "execution_count": 0,
      "outputs": []
    },
    {
      "cell_type": "code",
      "metadata": {
        "id": "Mlf0iCLVKRbx",
        "colab_type": "code",
        "colab": {}
      },
      "source": [
        "perm.loc[(perm.cluster == 1),\"cluster\"] = \"Business Administration\"\n",
        "perm.loc[(perm.cluster == 5),\"cluster\"] = \"Information Technology\"\n",
        "perm.loc[(perm.cluster == 8),\"cluster\"] = \"Information Technology\"\n",
        "perm.loc[(perm.cluster == 2),\"cluster\"] = \"Electrical Engineering\"\n",
        "perm.loc[(perm.cluster == 3),\"cluster\"] = \"Electrical,Electronics and Computer Engineering\"\n",
        "perm.loc[(perm.cluster == 7),\"cluster\"] = \"Computer Science\"\n",
        "perm.loc[(perm.cluster == 10),\"cluster\"] = \"Computer Engineering\"\n",
        "perm.loc[(perm.cluster == 14),\"cluster\"] = \"Computer Science\"\n",
        "perm.loc[(perm.cluster == 17),\"cluster\"] = \"Electronics Engineering\"\n",
        "perm"
      ],
      "execution_count": 0,
      "outputs": []
    },
    {
      "cell_type": "code",
      "metadata": {
        "id": "uapOWUzCle3y",
        "colab_type": "code",
        "colab": {}
      },
      "source": [
        "plot = perm['cluster'].isin(['Information Technology','Electrical,Electronics and Computer Engineering','Business Administration',\n",
        "                               'Electrical Engineering','Computer Science','Electronics Engineering','Computer Engineering'])\n",
        "plot_1 = perm[plot]\n",
        "plot_1.reset_index(drop = True,inplace = True)"
      ],
      "execution_count": 0,
      "outputs": []
    },
    {
      "cell_type": "code",
      "metadata": {
        "id": "xhQrxq_chbxu",
        "colab_type": "code",
        "colab": {}
      },
      "source": [
        "x = plot_1[\"FOREIGN_WORKER_INFO_EDUCATION\"].value_counts()\n",
        "x[\"Master's\"]"
      ],
      "execution_count": 0,
      "outputs": []
    },
    {
      "cell_type": "code",
      "metadata": {
        "id": "ssAlpXKule36",
        "colab_type": "code",
        "colab": {}
      },
      "source": [
        "bar_plot = plot_1.groupby('cluster')['FOREIGN_WORKER_INFO_EDUCATION'].value_counts()\n",
        "bar_plot=bar_plot.reset_index(name = 'count')\n",
        "bar_plot"
      ],
      "execution_count": 0,
      "outputs": []
    },
    {
      "cell_type": "code",
      "metadata": {
        "id": "c1-m0qpyle38",
        "colab_type": "code",
        "colab": {}
      },
      "source": [
        "for i in bar_plot.index:\n",
        "    if(bar_plot['FOREIGN_WORKER_INFO_EDUCATION'][i] == \"Master's\"):\n",
        "        bar_plot['count'][i] = bar_plot['count'][i]*100/x[\"Master's\"]\n",
        "        \n",
        "    elif(bar_plot['FOREIGN_WORKER_INFO_EDUCATION'][i] == \"Bachelor's\"):\n",
        "        bar_plot['count'][i] = bar_plot['count'][i]*100/x[\"Bachelor's\"]\n",
        "        \n",
        "    elif(bar_plot['FOREIGN_WORKER_INFO_EDUCATION'][i] == \"Doctorate\"):\n",
        "        bar_plot['count'][i] = bar_plot['count'][i]*100/x[\"Doctorate\"]\n",
        "    \n",
        "    elif(bar_plot['FOREIGN_WORKER_INFO_EDUCATION'][i] == \"Other\"):\n",
        "        bar_plot['count'][i] = bar_plot['count'][i]*100/x[\"Other\"]\n",
        "    \n",
        "    elif(bar_plot['FOREIGN_WORKER_INFO_EDUCATION'][i] == \"Associate's\"):\n",
        "        bar_plot['count'][i] = bar_plot['count'][i]*100/x[\"Associate's\"]\n",
        "    \n",
        "    "
      ],
      "execution_count": 0,
      "outputs": []
    },
    {
      "cell_type": "code",
      "metadata": {
        "id": "hfygmSKnle3-",
        "colab_type": "code",
        "colab": {}
      },
      "source": [
        "\n",
        "bar_plot.loc[(bar_plot.cluster == 'Business Administration'),'cluster'] = 'BA'\n",
        "bar_plot.loc[(bar_plot.cluster == 'Computer Science'),'cluster'] = 'CS'\n",
        "bar_plot.loc[(bar_plot.cluster == 'Computer Engineering'),'cluster'] = 'CE'\n",
        "bar_plot.loc[(bar_plot.cluster == 'Information Technology'),'cluster'] = 'IT'\n",
        "bar_plot.loc[(bar_plot.cluster == 'Electrical,Electronics and Computer Engineering'),'cluster'] = 'EEC'\n",
        "bar_plot.loc[(bar_plot.cluster == 'Electrical Engineering'),'cluster'] = 'EE1'\n",
        "bar_plot.loc[(bar_plot.cluster == 'Electronics Engineering'),'cluster'] = 'EE2'\n",
        "bar_plot"
      ],
      "execution_count": 0,
      "outputs": []
    },
    {
      "cell_type": "code",
      "metadata": {
        "id": "YIh5tKV0le4A",
        "colab_type": "code",
        "colab": {}
      },
      "source": [
        "sns.set(rc={'figure.figsize':(11.7,8.27)})\n",
        "bar_plot_1 = sns.barplot(x = 'cluster', y = 'count', hue = 'FOREIGN_WORKER_INFO_EDUCATION', palette = \"cubehelix_r\", data = bar_plot)\n",
        "leg = bar_plot_1.legend(title = 'Level of Education',loc = (1,0.5))\n",
        "sns.despine(top=True, right=True)\n",
        "plt.xlabel('Major Degree')\n",
        "plt.ylabel('Percentage of levels of education(%)')\n",
        "# plt.yscale(\"log\")\n",
        "plt.title(\"Comparision of levels of education\")\n",
        "plt.show()"
      ],
      "execution_count": 0,
      "outputs": []
    }
  ]
}