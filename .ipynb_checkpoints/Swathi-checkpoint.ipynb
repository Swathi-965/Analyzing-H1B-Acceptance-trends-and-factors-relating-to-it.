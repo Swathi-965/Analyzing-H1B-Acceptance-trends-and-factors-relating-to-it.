{
 "cells": [
  {
   "cell_type": "code",
   "execution_count": null,
   "metadata": {},
   "outputs": [],
   "source": [
    "import numpy as np\n",
    "import pandas as pd\n",
    "import os\n",
    "import seaborn as sns\n",
    "from spellchecker import SpellChecker\n",
    "%matplotlib inline\n",
    "import matplotlib.pyplot as plt"
   ]
  },
  {
   "cell_type": "code",
   "execution_count": null,
   "metadata": {},
   "outputs": [],
   "source": [
    "df_1 = pd.read_csv('PERM_Disclosure_Data_FY2018_EOY.csv')"
   ]
  },
  {
   "cell_type": "code",
   "execution_count": null,
   "metadata": {},
   "outputs": [],
   "source": [
    "df_2 = pd.read_csv('PERM_Disclosure_Data_FY17.csv')"
   ]
  },
  {
   "cell_type": "code",
   "execution_count": null,
   "metadata": {},
   "outputs": [],
   "source": [
    "# Merging two datasets\n",
    "df_3 = pd.concat([df_1,df_2],join = 'inner',ignore_index=True,sort = False)"
   ]
  },
  {
   "cell_type": "code",
   "execution_count": null,
   "metadata": {},
   "outputs": [],
   "source": [
    "df_3.head()"
   ]
  },
  {
   "cell_type": "code",
   "execution_count": null,
   "metadata": {},
   "outputs": [],
   "source": [
    "print(df_1.shape)\n",
    "print(df_2.shape)\n",
    "print(df_3.shape)\n",
    "if 'JOB_INFO_TRAINING_NUM_MONTHS' in df_2.columns:\n",
    "    print(True)\n",
    "else:\n",
    "    print(False)"
   ]
  },
  {
   "cell_type": "code",
   "execution_count": null,
   "metadata": {},
   "outputs": [],
   "source": [
    "Dataset = df_3[['EMPLOYER_NAME','EMPLOYER_COUNTRY','EMPLOYER_NUM_EMPLOYEES','EMPLOYER_YR_ESTAB','PW_SOC_CODE','PW_SOC_TITLE',\n",
    "               'PW_AMOUNT_9089','PW_UNIT_OF_PAY_9089','WAGE_OFFER_UNIT_OF_PAY_9089','JOB_INFO_JOB_TITLE','JOB_INFO_EDUCATION',\n",
    "               'JOB_INFO_MAJOR','JOB_INFO_TRAINING','JOB_INFO_EXPERIENCE','JOB_INFO_ALT_FIELD','JOB_INFO_ALT_COMBO_ED_EXP',\n",
    "                'JI_OFFERED_TO_SEC_J_FW','JI_FW_LIVE_ON_PREMISES','NAICS_US_CODE','NAICS_US_TITLE','PW_JOB_TITLE_9089']]\n",
    "print(Dataset.shape)\n",
    "print(Dataset.isna().sum().sum())\n",
    "Dataset.dropna(inplace = True)\n",
    "print(Dataset.shape)\n",
    "Dataset.isna().sum().sum()\n",
    "Dataset.reset_index(inplace = True)\n",
    "Dataset.drop(columns=['index'],inplace = True)"
   ]
  },
  {
   "cell_type": "code",
   "execution_count": null,
   "metadata": {},
   "outputs": [],
   "source": [
    "Dataset['JOB_INFO_EDUCATION'].value_counts()\n",
    "ax = sns.countplot(y = \"JOB_INFO_EDUCATION\", data = Dataset)"
   ]
  },
  {
   "cell_type": "code",
   "execution_count": null,
   "metadata": {},
   "outputs": [],
   "source": [
    "#Same position with different names(Computer Systems Analyst,Computer Systems Analyst), so changing them\n",
    "Dataset.replace('Computer Systems Analysts', 'Computer Systems Analyst',inplace = True)\n",
    "Dataset.replace('Softwae Developers', 'Software Developers, Applications',inplace = True)\n",
    "Dataset.replace('Elecronics Engineers,Except Computer', 'Electronics Engineers, Except Computer',inplace = True)\n",
    "Dataset['PW_JOB_TITLE_9089'] = Dataset['PW_JOB_TITLE_9089'].str.lower()\n",
    "spell = SpellChecker()\n"
   ]
  },
  {
   "cell_type": "code",
   "execution_count": null,
   "metadata": {},
   "outputs": [],
   "source": [
    "# whether the company is sponsoring or not\n",
    "#Y : Sponsoring\n",
    "#N : Not sponsoring\n",
    "Dataset['JI_OFFERED_TO_SEC_J_FW'].value_counts()\n",
    "\n",
    "# Companies that are hiring more than 100 people \n",
    "Dataset['EMPLOYER_NAME'].value_counts()\n",
    "Filtered_Companies = Dataset.groupby(\"EMPLOYER_NAME\").filter(lambda x : len(x)>100)\n",
    "Filtered_Companies\n",
    "Filtered_Companies.reset_index(inplace = True)\n",
    "Filtered_Companies.drop(['index'],axis = 1, inplace = True)\n",
    "Filtered_Companies\n",
    "print(Filtered_Companies['PW_JOB_TITLE_9089'].value_counts().head(10))\n",
    "print(Filtered_Companies['JOB_INFO_EDUCATION'].value_counts())\n",
    "# Filtered roles if they are greater than 100\n",
    "Filtered_positions = Filtered_Companies.groupby(\"PW_JOB_TITLE_9089\").filter(lambda x : len(x)>100)"
   ]
  },
  {
   "cell_type": "markdown",
   "metadata": {},
   "source": [
    "# Comparision of job roles with respect to education"
   ]
  },
  {
   "cell_type": "code",
   "execution_count": null,
   "metadata": {
    "scrolled": true
   },
   "outputs": [],
   "source": [
    "plot = Dataset[['JOB_INFO_EDUCATION','PW_JOB_TITLE_9089']]\n",
    "plot\n",
    "plot_1 = plot[plot['PW_JOB_TITLE_9089'].isin(['software developers, applications','software developers, systems software',\n",
    "            'computer systems analyst','electronics engineers, except computer','computer occupations, all other'])]\n",
    "plot_1.loc[(plot_1.PW_JOB_TITLE_9089 == 'software developers, applications'),'PW_JOB_TITLE_9089'] = 'SDA'\n",
    "plot_1.loc[(plot_1.PW_JOB_TITLE_9089 == 'software developers, systems software'),'PW_JOB_TITLE_9089'] = 'SDSS'\n",
    "plot_1.loc[(plot_1.PW_JOB_TITLE_9089 == 'computer systems analyst'),'PW_JOB_TITLE_9089'] = 'CSA'\n",
    "plot_1.loc[(plot_1.PW_JOB_TITLE_9089 == 'electronics engineers, except computer'),'PW_JOB_TITLE_9089'] = 'EEEC'\n",
    "plot_1.loc[(plot_1.PW_JOB_TITLE_9089 == 'computer occupations, all other'),'PW_JOB_TITLE_9089'] = 'COAO'\n",
    "\n",
    "plot_1 = plot_1[plot_1['JOB_INFO_EDUCATION'].isin([\"Master's\",\"Bachelor's\",\"Doctorate\",\"Other\",\"Associate's\"])]\n",
    "#print(plot_1)\n",
    "plot_2 = plot_1.groupby(['PW_JOB_TITLE_9089'])['JOB_INFO_EDUCATION'].value_counts(ascending = False, normalize = True)\n",
    "#print(plot_2)\n",
    "plot_2=plot_2.reset_index(name= '%')\n",
    "plot_2['%']=100*plot_2['%']\n",
    "plot_2\n",
    "bar_plot = sns.barplot(x = 'PW_JOB_TITLE_9089', y = '%', hue = 'JOB_INFO_EDUCATION', palette = \"cubehelix_r\", data = plot_2)\n",
    "leg = bar_plot.legend(title = 'Level of Education',loc = (1,0.5))\n",
    "sns.despine(top=True, right=True)\n",
    "plt.xlabel('Various Positions')\n",
    "plt.ylabel('Percentage of levels of education(%)')\n",
    "plt.title(\"Comparision of levels of education\")\n",
    "plt.show()"
   ]
  }
 ],
 "metadata": {
  "kernelspec": {
   "display_name": "Python 3",
   "language": "python",
   "name": "python3"
  },
  "language_info": {
   "codemirror_mode": {
    "name": "ipython",
    "version": 3
   },
   "file_extension": ".py",
   "mimetype": "text/x-python",
   "name": "python",
   "nbconvert_exporter": "python",
   "pygments_lexer": "ipython3",
   "version": "3.7.4"
  }
 },
 "nbformat": 4,
 "nbformat_minor": 2
}
