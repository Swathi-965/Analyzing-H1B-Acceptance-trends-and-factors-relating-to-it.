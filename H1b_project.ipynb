{
  "nbformat": 4,
  "nbformat_minor": 0,
  "metadata": {
    "colab": {
      "name": "H1b_project.ipynb",
      "provenance": [],
      "machine_shape": "hm"
    },
    "kernelspec": {
      "name": "python3",
      "display_name": "Python 3"
    },
    "accelerator": "GPU"
  },
  "cells": [
    {
      "cell_type": "markdown",
      "metadata": {
        "id": "RFnPSdxLC6em",
        "colab_type": "text"
      },
      "source": [
        "# Analysing H1B Acceptance Trends "
      ]
    },
    {
      "cell_type": "markdown",
      "metadata": {
        "id": "Uh8CJdwBJOAL",
        "colab_type": "text"
      },
      "source": [
        "H1B visa is a nonimmigrant visa issued to gradute level workers which allows them to work in the United States. The employer sponsors the H1B visa for workers with theoretical or technical expertise in specialized fields such as in IT, finance, accounting etc. An interesting fact about immigrant workers is that about 52 percent of new Silicon valley companies were founded by such workers during 1995 and 2005. Some famous CEOs like Indira Nooyi (Pepsico), Elon Musk (Tesla), Sundar Pichai (Google),Satya Nadella (Microsoft) once arrived to the US on a H1B visa."
      ]
    },
    {
      "cell_type": "markdown",
      "metadata": {
        "id": "QIe1lq1-RyDV",
        "colab_type": "text"
      },
      "source": [
        "**Motivation**: Our team consists of five international gradute students, in the future we will be applying for H1B visa. The visa application process seems very long, complicated and uncertain. So we decided to understand this process and use Machine learning algorithms to predict the acceptance rate and trends of H1B visa. "
      ]
    },
    {
      "cell_type": "markdown",
      "metadata": {
        "id": "kjQ8YI2GTfb6",
        "colab_type": "text"
      },
      "source": [
        "## Data \n",
        "The data used in the project has been collected from <a href=\"https://www.foreignlaborcert.doleta.gov/performancedata.cfm\">the Office of Foreign Labor Certification (OFLC).</a> "
      ]
    },
    {
      "cell_type": "code",
      "metadata": {
        "id": "eUglaNmlQ44L",
        "colab_type": "code",
        "outputId": "d9db8d86-204f-4bf4-d001-8419f43e4226",
        "colab": {
          "base_uri": "https://localhost:8080/",
          "height": 122
        }
      },
      "source": [
        "from google.colab import drive\n",
        "drive.mount('/content/gdrive')"
      ],
      "execution_count": 1,
      "outputs": [
        {
          "output_type": "stream",
          "text": [
            "Go to this URL in a browser: https://accounts.google.com/o/oauth2/auth?client_id=947318989803-6bn6qk8qdgf4n4g3pfee6491hc0brc4i.apps.googleusercontent.com&redirect_uri=urn%3aietf%3awg%3aoauth%3a2.0%3aoob&response_type=code&scope=email%20https%3a%2f%2fwww.googleapis.com%2fauth%2fdocs.test%20https%3a%2f%2fwww.googleapis.com%2fauth%2fdrive%20https%3a%2f%2fwww.googleapis.com%2fauth%2fdrive.photos.readonly%20https%3a%2f%2fwww.googleapis.com%2fauth%2fpeopleapi.readonly\n",
            "\n",
            "Enter your authorization code:\n",
            "··········\n",
            "Mounted at /content/gdrive\n"
          ],
          "name": "stdout"
        }
      ]
    },
    {
      "cell_type": "code",
      "metadata": {
        "id": "_sSzHVSl3-bD",
        "colab_type": "code",
        "colab": {}
      },
      "source": [
        "import pandas as pd\n",
        "import numpy as np\n",
        "import warnings"
      ],
      "execution_count": 0,
      "outputs": []
    },
    {
      "cell_type": "markdown",
      "metadata": {
        "id": "FARuLUkuV7T8",
        "colab_type": "text"
      },
      "source": [
        "## Exploratory Data Analysis"
      ]
    },
    {
      "cell_type": "markdown",
      "metadata": {
        "id": "pleklaelV_xO",
        "colab_type": "text"
      },
      "source": [
        "Before we begin working on our data we need to understand the traits of our data which we accomplish using EDA. We see that we have about 260 columns , not all 260 coulms have essential information that contributes to our analysis. Hence we pick out the columns such as case status( Accepted/ Denied) ,Employer, Job title etc. "
      ]
    },
    {
      "cell_type": "code",
      "metadata": {
        "id": "iCiYlOyXHHKJ",
        "colab_type": "code",
        "outputId": "0a5f5370-eaa7-48a7-ef21-ea9c1f7a42b4",
        "colab": {
          "base_uri": "https://localhost:8080/",
          "height": 71
        }
      },
      "source": [
        "#Read the csv file and stored in file\n",
        "file=pd.read_csv('/content/gdrive/My Drive/H-1B_Disclosure_Data_FY2019.csv')\n"
      ],
      "execution_count": 6,
      "outputs": [
        {
          "output_type": "stream",
          "text": [
            "/usr/local/lib/python3.6/dist-packages/IPython/core/interactiveshell.py:2718: DtypeWarning: Columns (0,1,2,3,4,5,6,7,8,9,10,11,13,14,19,20,21,22,23,24,25,26,27,28,29,31,32,33,34,35,36,37,38,39,40,41,42,43,45,46,47,48,49,50,51,52,53,54,55,57,58,59,61,64,66,67,68,69,70,71,72,73,76,78,79,80,82,85,87,88,89,90,91,92,93,94,97,98,99,100,101,103,106,108,109,110,111,112,113,114,115,121,122,124,127,129,130,131,132,133,134,135,136,142,143,145,148,150,151,152,153,154,155,156,157,160,162,163,164,166,169,171,172,173,174,175,176,177,178,184,185,187,190,192,193,194,195,196,197,198,199,205,206,208,211,213,214,215,216,217,218,219,220,223,225,226,227,229,232,234,235,236,237,238,239,240,244,246,247,248,250,253,254,255,256,257,258,259) have mixed types.Specify dtype option on import or set low_memory=False.\n",
            "  interactivity=interactivity, compiler=compiler, result=result)\n"
          ],
          "name": "stderr"
        }
      ]
    },
    {
      "cell_type": "code",
      "metadata": {
        "id": "XT6Wmc2-WVo7",
        "colab_type": "code",
        "colab": {
          "base_uri": "https://localhost:8080/",
          "height": 34
        },
        "outputId": "4093ab4c-7c58-4f90-821c-39d99aa5aa06"
      },
      "source": [
        "file.shape"
      ],
      "execution_count": 7,
      "outputs": [
        {
          "output_type": "execute_result",
          "data": {
            "text/plain": [
              "(1048548, 260)"
            ]
          },
          "metadata": {
            "tags": []
          },
          "execution_count": 7
        }
      ]
    },
    {
      "cell_type": "code",
      "metadata": {
        "id": "ZxxeAh5SX0Bc",
        "colab_type": "code",
        "colab": {
          "base_uri": "https://localhost:8080/",
          "height": 479
        },
        "outputId": "e3ed1f4d-1af0-4780-bfa6-8aef8d5888ce"
      },
      "source": [
        "cleaned=file[['CASE_NUMBER','CASE_STATUS','CASE_SUBMITTED','DECISION_DATE','VISA_CLASS','JOB_TITLE','SOC_CODE','SOC_TITLE','EMPLOYER_NAME','WAGE_RATE_OF_PAY_FROM_1','WAGE_UNIT_OF_PAY_1']]\n",
        "cleaned.head()"
      ],
      "execution_count": 10,
      "outputs": [
        {
          "output_type": "execute_result",
          "data": {
            "text/html": [
              "<div>\n",
              "<style scoped>\n",
              "    .dataframe tbody tr th:only-of-type {\n",
              "        vertical-align: middle;\n",
              "    }\n",
              "\n",
              "    .dataframe tbody tr th {\n",
              "        vertical-align: top;\n",
              "    }\n",
              "\n",
              "    .dataframe thead th {\n",
              "        text-align: right;\n",
              "    }\n",
              "</style>\n",
              "<table border=\"1\" class=\"dataframe\">\n",
              "  <thead>\n",
              "    <tr style=\"text-align: right;\">\n",
              "      <th></th>\n",
              "      <th>CASE_NUMBER</th>\n",
              "      <th>CASE_STATUS</th>\n",
              "      <th>CASE_SUBMITTED</th>\n",
              "      <th>DECISION_DATE</th>\n",
              "      <th>VISA_CLASS</th>\n",
              "      <th>JOB_TITLE</th>\n",
              "      <th>SOC_CODE</th>\n",
              "      <th>SOC_TITLE</th>\n",
              "      <th>EMPLOYER_NAME</th>\n",
              "      <th>WAGE_RATE_OF_PAY_FROM_1</th>\n",
              "      <th>WAGE_UNIT_OF_PAY_1</th>\n",
              "    </tr>\n",
              "  </thead>\n",
              "  <tbody>\n",
              "    <tr>\n",
              "      <th>0</th>\n",
              "      <td>I-200-16092-327771</td>\n",
              "      <td>WITHDRAWN</td>\n",
              "      <td>4/8/2016</td>\n",
              "      <td>4/30/2019</td>\n",
              "      <td>H-1B</td>\n",
              "      <td>ASSOCIATE CREATIVE DIRECTOR</td>\n",
              "      <td>11-2011</td>\n",
              "      <td>ADVERTISING AND PROMOTIONS MANAGERS</td>\n",
              "      <td>R/GA MEDIA GROUP, INC.</td>\n",
              "      <td>$179,000.00</td>\n",
              "      <td>Year</td>\n",
              "    </tr>\n",
              "    <tr>\n",
              "      <th>1</th>\n",
              "      <td>I-203-17188-450729</td>\n",
              "      <td>WITHDRAWN</td>\n",
              "      <td>7/14/2017</td>\n",
              "      <td>5/13/2019</td>\n",
              "      <td>E-3 Australian</td>\n",
              "      <td>ACCOUNT SUPERVISOR (MOTHER)</td>\n",
              "      <td>11-2011</td>\n",
              "      <td>ADVERTISING AND PROMOTIONS MANAGERS</td>\n",
              "      <td>MOTHER INDUSTRIES LLC</td>\n",
              "      <td>$110,000.00</td>\n",
              "      <td>Year</td>\n",
              "    </tr>\n",
              "    <tr>\n",
              "      <th>2</th>\n",
              "      <td>I-203-17229-572307</td>\n",
              "      <td>WITHDRAWN</td>\n",
              "      <td>8/23/2017</td>\n",
              "      <td>4/30/2019</td>\n",
              "      <td>E-3 Australian</td>\n",
              "      <td>EXECUTIVE CREATIVE DIRECTOR</td>\n",
              "      <td>11-2011</td>\n",
              "      <td>ADVERTISING AND PROMOTIONS MANAGERS</td>\n",
              "      <td>WE ARE UNLIMITED, INC.</td>\n",
              "      <td>$275,000.00</td>\n",
              "      <td>Year</td>\n",
              "    </tr>\n",
              "    <tr>\n",
              "      <th>3</th>\n",
              "      <td>I-203-17356-299648</td>\n",
              "      <td>WITHDRAWN</td>\n",
              "      <td>12/22/2017</td>\n",
              "      <td>8/20/2019</td>\n",
              "      <td>E-3 Australian</td>\n",
              "      <td>PROJECT MANAGEMENT LEAD</td>\n",
              "      <td>11-2011</td>\n",
              "      <td>ADVERTISING AND PROMOTIONS MANAGERS</td>\n",
              "      <td>HELLO ELEPHANT, LLC</td>\n",
              "      <td>$140,000.00</td>\n",
              "      <td>Year</td>\n",
              "    </tr>\n",
              "    <tr>\n",
              "      <th>4</th>\n",
              "      <td>I-203-18008-577576</td>\n",
              "      <td>WITHDRAWN</td>\n",
              "      <td>1/10/2018</td>\n",
              "      <td>4/15/2019</td>\n",
              "      <td>E-3 Australian</td>\n",
              "      <td>CREATIVE DIRECTOR, UX</td>\n",
              "      <td>11-2011</td>\n",
              "      <td>ADVERTISING AND PROMOTIONS MANAGERS</td>\n",
              "      <td>HELLO ELEPHANT, LLC</td>\n",
              "      <td>$180,000.00</td>\n",
              "      <td>Year</td>\n",
              "    </tr>\n",
              "  </tbody>\n",
              "</table>\n",
              "</div>"
            ],
            "text/plain": [
              "          CASE_NUMBER CASE_STATUS  ... WAGE_RATE_OF_PAY_FROM_1 WAGE_UNIT_OF_PAY_1\n",
              "0  I-200-16092-327771   WITHDRAWN  ...             $179,000.00               Year\n",
              "1  I-203-17188-450729   WITHDRAWN  ...             $110,000.00               Year\n",
              "2  I-203-17229-572307   WITHDRAWN  ...             $275,000.00               Year\n",
              "3  I-203-17356-299648   WITHDRAWN  ...             $140,000.00               Year\n",
              "4  I-203-18008-577576   WITHDRAWN  ...             $180,000.00               Year\n",
              "\n",
              "[5 rows x 11 columns]"
            ]
          },
          "metadata": {
            "tags": []
          },
          "execution_count": 10
        }
      ]
    },
    {
      "cell_type": "code",
      "metadata": {
        "id": "BbgGJEB9XpO6",
        "colab_type": "code",
        "colab": {
          "base_uri": "https://localhost:8080/",
          "height": 51
        },
        "outputId": "a457c993-a36f-4f50-e19d-6c3fa6e7c58f"
      },
      "source": [
        "cleaned['VISA_CLASS'].value_counts()"
      ],
      "execution_count": 16,
      "outputs": [
        {
          "output_type": "execute_result",
          "data": {
            "text/plain": [
              "H-1B    649083\n",
              "Name: VISA_CLASS, dtype: int64"
            ]
          },
          "metadata": {
            "tags": []
          },
          "execution_count": 16
        }
      ]
    },
    {
      "cell_type": "code",
      "metadata": {
        "id": "NLttcaMGZC1l",
        "colab_type": "code",
        "outputId": "58d0bddf-3d11-4557-f1d8-fca7502d69bc",
        "colab": {
          "base_uri": "https://localhost:8080/",
          "height": 102
        }
      },
      "source": [
        "# Visa class has many categories which are not of use , we require only H1B visa type , hence we drop all records with other visa types\n",
        "cleaned.drop(labels=cleaned[cleaned['VISA_CLASS']!='H-1B'].index , inplace=True)"
      ],
      "execution_count": 13,
      "outputs": [
        {
          "output_type": "stream",
          "text": [
            "/usr/local/lib/python3.6/dist-packages/pandas/core/frame.py:3997: SettingWithCopyWarning: \n",
            "A value is trying to be set on a copy of a slice from a DataFrame\n",
            "\n",
            "See the caveats in the documentation: https://pandas.pydata.org/pandas-docs/stable/user_guide/indexing.html#returning-a-view-versus-a-copy\n",
            "  errors=errors,\n"
          ],
          "name": "stderr"
        }
      ]
    },
    {
      "cell_type": "code",
      "metadata": {
        "id": "qox8ruM-Xff_",
        "colab_type": "code",
        "colab": {
          "base_uri": "https://localhost:8080/",
          "height": 102
        },
        "outputId": "5db30d87-42e9-4c3f-f37e-bed89077983c"
      },
      "source": [
        "cleaned['CASE_STATUS'].value_counts()"
      ],
      "execution_count": 14,
      "outputs": [
        {
          "output_type": "execute_result",
          "data": {
            "text/plain": [
              "CERTIFIED              578640\n",
              "CERTIFIED-WITHDRAWN     46050\n",
              "WITHDRAWN               19227\n",
              "DENIED                   5166\n",
              "Name: CASE_STATUS, dtype: int64"
            ]
          },
          "metadata": {
            "tags": []
          },
          "execution_count": 14
        }
      ]
    },
    {
      "cell_type": "code",
      "metadata": {
        "id": "7Cz9Kkghr3JP",
        "colab_type": "code",
        "outputId": "ad10a855-c2ec-4e47-ad00-39c71a65817f",
        "colab": {
          "base_uri": "https://localhost:8080/",
          "height": 544
        }
      },
      "source": [
        "#As we want to only need accepted and denied cases we are dropping withdrawn from the data frame. \n",
        "#Case status of class certified-withdraw were certified earlier and later withdraw which can be considered a\n",
        "cleaned.replace({\"CASE_STATUS\":\"CERTIFIED-WITHDRAWN\"},\"CERTIFIED\",inplace=True)\n",
        "cleaned.drop(labels=cleaned[cleaned['CASE_STATUS']=='WITHDRAWN'].index , inplace=True)\n",
        "cleaned.head()"
      ],
      "execution_count": 36,
      "outputs": [
        {
          "output_type": "stream",
          "text": [
            "/usr/local/lib/python3.6/dist-packages/pandas/core/frame.py:4172: SettingWithCopyWarning: \n",
            "A value is trying to be set on a copy of a slice from a DataFrame\n",
            "\n",
            "See the caveats in the documentation: https://pandas.pydata.org/pandas-docs/stable/user_guide/indexing.html#returning-a-view-versus-a-copy\n",
            "  method=method,\n",
            "/usr/local/lib/python3.6/dist-packages/pandas/core/frame.py:3997: SettingWithCopyWarning: \n",
            "A value is trying to be set on a copy of a slice from a DataFrame\n",
            "\n",
            "See the caveats in the documentation: https://pandas.pydata.org/pandas-docs/stable/user_guide/indexing.html#returning-a-view-versus-a-copy\n",
            "  errors=errors,\n"
          ],
          "name": "stderr"
        },
        {
          "output_type": "execute_result",
          "data": {
            "text/html": [
              "<div>\n",
              "<style scoped>\n",
              "    .dataframe tbody tr th:only-of-type {\n",
              "        vertical-align: middle;\n",
              "    }\n",
              "\n",
              "    .dataframe tbody tr th {\n",
              "        vertical-align: top;\n",
              "    }\n",
              "\n",
              "    .dataframe thead th {\n",
              "        text-align: right;\n",
              "    }\n",
              "</style>\n",
              "<table border=\"1\" class=\"dataframe\">\n",
              "  <thead>\n",
              "    <tr style=\"text-align: right;\">\n",
              "      <th></th>\n",
              "      <th>CASE_NUMBER</th>\n",
              "      <th>CASE_STATUS</th>\n",
              "      <th>CASE_SUBMITTED</th>\n",
              "      <th>DECISION_DATE</th>\n",
              "      <th>VISA_CLASS</th>\n",
              "      <th>JOB_TITLE</th>\n",
              "      <th>SOC_CODE</th>\n",
              "      <th>SOC_TITLE</th>\n",
              "      <th>EMPLOYER_NAME</th>\n",
              "      <th>WAGES</th>\n",
              "    </tr>\n",
              "  </thead>\n",
              "  <tbody>\n",
              "    <tr>\n",
              "      <th>18</th>\n",
              "      <td>I-200-17250-072640</td>\n",
              "      <td>CERTIFIED</td>\n",
              "      <td>9/7/2017</td>\n",
              "      <td>1/7/2019</td>\n",
              "      <td>H-1B</td>\n",
              "      <td>EXECUTIVE DIRECTOR, STRATEGY</td>\n",
              "      <td>11-2011</td>\n",
              "      <td>ADVERTISING AND PROMOTIONS MANAGERS</td>\n",
              "      <td>FIGLIULO &amp; PARTNERS LLC</td>\n",
              "      <td>230000.0</td>\n",
              "    </tr>\n",
              "    <tr>\n",
              "      <th>19</th>\n",
              "      <td>I-200-18026-717110</td>\n",
              "      <td>CERTIFIED</td>\n",
              "      <td>1/26/2018</td>\n",
              "      <td>7/5/2019</td>\n",
              "      <td>H-1B</td>\n",
              "      <td>PROJECT OPERATIONS MANAGER</td>\n",
              "      <td>11-2011</td>\n",
              "      <td>ADVERTISING AND PROMOTIONS MANAGERS</td>\n",
              "      <td>INVISIONAPP INC.</td>\n",
              "      <td>107000.0</td>\n",
              "    </tr>\n",
              "    <tr>\n",
              "      <th>21</th>\n",
              "      <td>I-200-18039-081565</td>\n",
              "      <td>CERTIFIED</td>\n",
              "      <td>3/5/2018</td>\n",
              "      <td>1/8/2019</td>\n",
              "      <td>H-1B</td>\n",
              "      <td>MANAGER OF LEAGUE AND TOURNAMENT SERVICES</td>\n",
              "      <td>11-2011</td>\n",
              "      <td>ADVERTISING AND PROMOTIONS MANAGERS</td>\n",
              "      <td>OREGON YOUTH SOCCER ASSOCIATION</td>\n",
              "      <td>49087.0</td>\n",
              "    </tr>\n",
              "    <tr>\n",
              "      <th>22</th>\n",
              "      <td>I-200-18082-340860</td>\n",
              "      <td>CERTIFIED</td>\n",
              "      <td>3/23/2018</td>\n",
              "      <td>4/22/2019</td>\n",
              "      <td>H-1B</td>\n",
              "      <td>DIRECTOR, DEMAND</td>\n",
              "      <td>11-2011</td>\n",
              "      <td>ADVERTISING AND PROMOTIONS MANAGERS</td>\n",
              "      <td>FACTUAL, INC.</td>\n",
              "      <td>172930.0</td>\n",
              "    </tr>\n",
              "    <tr>\n",
              "      <th>24</th>\n",
              "      <td>I-200-18162-689783</td>\n",
              "      <td>CERTIFIED</td>\n",
              "      <td>9/26/2018</td>\n",
              "      <td>10/2/2018</td>\n",
              "      <td>H-1B</td>\n",
              "      <td>ADVERSTING AND PROMOTIONS MANAGER</td>\n",
              "      <td>11-2011</td>\n",
              "      <td>ADVERTISING AND PROMOTIONS MANAGERS</td>\n",
              "      <td>FANTUAN GROUP INC</td>\n",
              "      <td>68640.0</td>\n",
              "    </tr>\n",
              "  </tbody>\n",
              "</table>\n",
              "</div>"
            ],
            "text/plain": [
              "           CASE_NUMBER CASE_STATUS  ...                    EMPLOYER_NAME     WAGES\n",
              "18  I-200-17250-072640   CERTIFIED  ...          FIGLIULO & PARTNERS LLC  230000.0\n",
              "19  I-200-18026-717110   CERTIFIED  ...                 INVISIONAPP INC.  107000.0\n",
              "21  I-200-18039-081565   CERTIFIED  ...  OREGON YOUTH SOCCER ASSOCIATION   49087.0\n",
              "22  I-200-18082-340860   CERTIFIED  ...                    FACTUAL, INC.  172930.0\n",
              "24  I-200-18162-689783   CERTIFIED  ...                FANTUAN GROUP INC   68640.0\n",
              "\n",
              "[5 rows x 10 columns]"
            ]
          },
          "metadata": {
            "tags": []
          },
          "execution_count": 36
        }
      ]
    },
    {
      "cell_type": "code",
      "metadata": {
        "id": "75W7CN49Yvhf",
        "colab_type": "code",
        "colab": {
          "base_uri": "https://localhost:8080/",
          "height": 323
        },
        "outputId": "a0c17144-ed85-4205-da31-ce6b0f15d745"
      },
      "source": [
        "cleaned.info()"
      ],
      "execution_count": 19,
      "outputs": [
        {
          "output_type": "stream",
          "text": [
            "<class 'pandas.core.frame.DataFrame'>\n",
            "Int64Index: 629856 entries, 18 to 664616\n",
            "Data columns (total 11 columns):\n",
            " #   Column                   Non-Null Count   Dtype \n",
            "---  ------                   --------------   ----- \n",
            " 0   CASE_NUMBER              629855 non-null  object\n",
            " 1   CASE_STATUS              629856 non-null  object\n",
            " 2   CASE_SUBMITTED           629856 non-null  object\n",
            " 3   DECISION_DATE            629856 non-null  object\n",
            " 4   VISA_CLASS               629856 non-null  object\n",
            " 5   JOB_TITLE                629856 non-null  object\n",
            " 6   SOC_CODE                 629852 non-null  object\n",
            " 7   SOC_TITLE                629852 non-null  object\n",
            " 8   EMPLOYER_NAME            629848 non-null  object\n",
            " 9   WAGE_RATE_OF_PAY_FROM_1  629852 non-null  object\n",
            " 10  WAGE_UNIT_OF_PAY_1       629852 non-null  object\n",
            "dtypes: object(11)\n",
            "memory usage: 57.7+ MB\n"
          ],
          "name": "stdout"
        }
      ]
    },
    {
      "cell_type": "code",
      "metadata": {
        "id": "F5SSKy8mVr01",
        "colab_type": "code",
        "outputId": "e18ea131-5be9-4df2-a013-6d64ba8eb7d6",
        "colab": {
          "base_uri": "https://localhost:8080/",
          "height": 68
        }
      },
      "source": [
        "#the column wages has a mix of both string and float value types and some record have the symbol '$' which we want to remove\n",
        "cleaned['WAGE_RATE_OF_PAY_FROM_1'].apply(type).value_counts()"
      ],
      "execution_count": 20,
      "outputs": [
        {
          "output_type": "execute_result",
          "data": {
            "text/plain": [
              "<class 'float'>    460442\n",
              "<class 'str'>      169414\n",
              "Name: WAGE_RATE_OF_PAY_FROM_1, dtype: int64"
            ]
          },
          "metadata": {
            "tags": []
          },
          "execution_count": 20
        }
      ]
    },
    {
      "cell_type": "code",
      "metadata": {
        "id": "cDAglVs6XHVB",
        "colab_type": "code",
        "colab": {}
      },
      "source": [
        "def clean_wages(w):\n",
        "    \"\"\" Function to remove '$' symbol and other delimiters from wages column which consistes of str and float type values\n",
        "    if the column entry is string type then remove the symbols else return the column value as it is \n",
        "    \"\"\"\n",
        "    if isinstance(w, str):\n",
        "        return(w.replace('$', '').replace(',', ''))\n",
        "    return(w)"
      ],
      "execution_count": 0,
      "outputs": []
    },
    {
      "cell_type": "code",
      "metadata": {
        "id": "Py3xCbSawIpR",
        "colab_type": "code",
        "outputId": "87a61dbc-85a9-4ade-ded2-2e62ef83c9b5",
        "colab": {
          "base_uri": "https://localhost:8080/",
          "height": 442
        }
      },
      "source": [
        "cleaned['WAGES']=cleaned['WAGE_RATE_OF_PAY_FROM_1'].apply(clean_wages).astype('float')\n",
        "cleaned.info()\n"
      ],
      "execution_count": 22,
      "outputs": [
        {
          "output_type": "stream",
          "text": [
            "<class 'pandas.core.frame.DataFrame'>\n",
            "Int64Index: 629856 entries, 18 to 664616\n",
            "Data columns (total 12 columns):\n",
            " #   Column                   Non-Null Count   Dtype  \n",
            "---  ------                   --------------   -----  \n",
            " 0   CASE_NUMBER              629855 non-null  object \n",
            " 1   CASE_STATUS              629856 non-null  object \n",
            " 2   CASE_SUBMITTED           629856 non-null  object \n",
            " 3   DECISION_DATE            629856 non-null  object \n",
            " 4   VISA_CLASS               629856 non-null  object \n",
            " 5   JOB_TITLE                629856 non-null  object \n",
            " 6   SOC_CODE                 629852 non-null  object \n",
            " 7   SOC_TITLE                629852 non-null  object \n",
            " 8   EMPLOYER_NAME            629848 non-null  object \n",
            " 9   WAGE_RATE_OF_PAY_FROM_1  629852 non-null  object \n",
            " 10  WAGE_UNIT_OF_PAY_1       629852 non-null  object \n",
            " 11  WAGES                    629852 non-null  float64\n",
            "dtypes: float64(1), object(11)\n",
            "memory usage: 62.5+ MB\n"
          ],
          "name": "stdout"
        },
        {
          "output_type": "stream",
          "text": [
            "/usr/local/lib/python3.6/dist-packages/ipykernel_launcher.py:1: SettingWithCopyWarning: \n",
            "A value is trying to be set on a copy of a slice from a DataFrame.\n",
            "Try using .loc[row_indexer,col_indexer] = value instead\n",
            "\n",
            "See the caveats in the documentation: https://pandas.pydata.org/pandas-docs/stable/user_guide/indexing.html#returning-a-view-versus-a-copy\n",
            "  \"\"\"Entry point for launching an IPython kernel.\n"
          ],
          "name": "stderr"
        }
      ]
    },
    {
      "cell_type": "code",
      "metadata": {
        "id": "yKCdooZsQ7yD",
        "colab_type": "code",
        "outputId": "89a1e9dd-cbda-4270-e1c7-762dcc01d17a",
        "colab": {
          "base_uri": "https://localhost:8080/",
          "height": 119
        }
      },
      "source": [
        "# the wage information that we have available has different unit of pay\n",
        "cleaned['WAGE_UNIT_OF_PAY_1'].value_counts()"
      ],
      "execution_count": 24,
      "outputs": [
        {
          "output_type": "execute_result",
          "data": {
            "text/plain": [
              "Year         587386\n",
              "Hour          41927\n",
              "Month           342\n",
              "Bi-Weekly       105\n",
              "Week             92\n",
              "Name: WAGE_UNIT_OF_PAY_1, dtype: int64"
            ]
          },
          "metadata": {
            "tags": []
          },
          "execution_count": 24
        }
      ]
    },
    {
      "cell_type": "code",
      "metadata": {
        "id": "44hLG2TIZH-v",
        "colab_type": "code",
        "outputId": "4fe051f6-8d00-4db8-e491-6ad102ec6c5e",
        "colab": {
          "base_uri": "https://localhost:8080/",
          "height": 267
        }
      },
      "source": [
        "x=cleaned.loc[cleaned['WAGE_UNIT_OF_PAY_1']==\"Month\"]\n",
        "x.head(2)\n"
      ],
      "execution_count": 0,
      "outputs": [
        {
          "output_type": "execute_result",
          "data": {
            "text/html": [
              "<div>\n",
              "<style scoped>\n",
              "    .dataframe tbody tr th:only-of-type {\n",
              "        vertical-align: middle;\n",
              "    }\n",
              "\n",
              "    .dataframe tbody tr th {\n",
              "        vertical-align: top;\n",
              "    }\n",
              "\n",
              "    .dataframe thead th {\n",
              "        text-align: right;\n",
              "    }\n",
              "</style>\n",
              "<table border=\"1\" class=\"dataframe\">\n",
              "  <thead>\n",
              "    <tr style=\"text-align: right;\">\n",
              "      <th></th>\n",
              "      <th>CASE_NUMBER</th>\n",
              "      <th>CASE_STATUS</th>\n",
              "      <th>CASE_SUBMITTED</th>\n",
              "      <th>DECISION_DATE</th>\n",
              "      <th>VISA_CLASS</th>\n",
              "      <th>JOB_TITLE</th>\n",
              "      <th>SOC_CODE</th>\n",
              "      <th>SOC_TITLE</th>\n",
              "      <th>EMPLOYER_NAME</th>\n",
              "      <th>WAGE_RATE_OF_PAY_FROM_1</th>\n",
              "      <th>WAGE_UNIT_OF_PAY_1</th>\n",
              "      <th>WAGES</th>\n",
              "    </tr>\n",
              "  </thead>\n",
              "  <tbody>\n",
              "    <tr>\n",
              "      <th>818</th>\n",
              "      <td>I-200-18306-399497</td>\n",
              "      <td>DENIED</td>\n",
              "      <td>11/02/2018 11:37:37</td>\n",
              "      <td>11/05/2018 12:07:42</td>\n",
              "      <td>H-1B</td>\n",
              "      <td>ACCOUNTING &amp; MARKETING MANAGER FOR AFRICA</td>\n",
              "      <td>11-2021</td>\n",
              "      <td>MARKETING MANAGERS</td>\n",
              "      <td>SHOP2SHIP LLC</td>\n",
              "      <td>2000</td>\n",
              "      <td>Month</td>\n",
              "      <td>2000.0</td>\n",
              "    </tr>\n",
              "    <tr>\n",
              "      <th>826</th>\n",
              "      <td>I-200-18309-843479</td>\n",
              "      <td>CERTIFIED</td>\n",
              "      <td>11/05/2018 12:34:19</td>\n",
              "      <td>11/09/2018 22:00:34</td>\n",
              "      <td>H-1B</td>\n",
              "      <td>ACCOUNTING &amp; MARKETING MANAGER FOR AFRICA</td>\n",
              "      <td>11-2021</td>\n",
              "      <td>MARKETING MANAGERS</td>\n",
              "      <td>SHOP2SHIP LLC</td>\n",
              "      <td>2000</td>\n",
              "      <td>Month</td>\n",
              "      <td>2000.0</td>\n",
              "    </tr>\n",
              "  </tbody>\n",
              "</table>\n",
              "</div>"
            ],
            "text/plain": [
              "            CASE_NUMBER CASE_STATUS  ... WAGE_UNIT_OF_PAY_1   WAGES\n",
              "818  I-200-18306-399497      DENIED  ...              Month  2000.0\n",
              "826  I-200-18309-843479   CERTIFIED  ...              Month  2000.0\n",
              "\n",
              "[2 rows x 12 columns]"
            ]
          },
          "metadata": {
            "tags": []
          },
          "execution_count": 19
        }
      ]
    },
    {
      "cell_type": "code",
      "metadata": {
        "id": "hCGTUT22Z6Bj",
        "colab_type": "code",
        "outputId": "f3ab7c70-37c1-476c-e4aa-9e44c151310f",
        "colab": {
          "base_uri": "https://localhost:8080/",
          "height": 425
        }
      },
      "source": [
        "# we convert the different units of pay to the type 'Year'\n",
        "cleaned['WAGES'] = np.where(cleaned['WAGE_UNIT_OF_PAY_1'] == 'Month',cleaned['WAGES'] * 12,cleaned['WAGES'])\n",
        "cleaned['WAGES'] = np.where(cleaned['WAGE_UNIT_OF_PAY_1'] == 'Hour',cleaned['WAGES'] * 2080,cleaned['WAGES']) # 2080=8 hours*5 days* 52 weeks\n",
        "cleaned['WAGES'] = np.where(cleaned['WAGE_UNIT_OF_PAY_1'] == 'Bi-Weekly',cleaned['WAGES'] *26,cleaned['WAGES'])\n",
        "cleaned['WAGES'] = np.where(cleaned['WAGE_UNIT_OF_PAY_1'] == 'Week',cleaned['WAGES'] * 52,cleaned['WAGES'])"
      ],
      "execution_count": 25,
      "outputs": [
        {
          "output_type": "stream",
          "text": [
            "/usr/local/lib/python3.6/dist-packages/ipykernel_launcher.py:1: SettingWithCopyWarning: \n",
            "A value is trying to be set on a copy of a slice from a DataFrame.\n",
            "Try using .loc[row_indexer,col_indexer] = value instead\n",
            "\n",
            "See the caveats in the documentation: https://pandas.pydata.org/pandas-docs/stable/user_guide/indexing.html#returning-a-view-versus-a-copy\n",
            "  \"\"\"Entry point for launching an IPython kernel.\n",
            "/usr/local/lib/python3.6/dist-packages/ipykernel_launcher.py:2: SettingWithCopyWarning: \n",
            "A value is trying to be set on a copy of a slice from a DataFrame.\n",
            "Try using .loc[row_indexer,col_indexer] = value instead\n",
            "\n",
            "See the caveats in the documentation: https://pandas.pydata.org/pandas-docs/stable/user_guide/indexing.html#returning-a-view-versus-a-copy\n",
            "  \n",
            "/usr/local/lib/python3.6/dist-packages/ipykernel_launcher.py:3: SettingWithCopyWarning: \n",
            "A value is trying to be set on a copy of a slice from a DataFrame.\n",
            "Try using .loc[row_indexer,col_indexer] = value instead\n",
            "\n",
            "See the caveats in the documentation: https://pandas.pydata.org/pandas-docs/stable/user_guide/indexing.html#returning-a-view-versus-a-copy\n",
            "  This is separate from the ipykernel package so we can avoid doing imports until\n",
            "/usr/local/lib/python3.6/dist-packages/ipykernel_launcher.py:4: SettingWithCopyWarning: \n",
            "A value is trying to be set on a copy of a slice from a DataFrame.\n",
            "Try using .loc[row_indexer,col_indexer] = value instead\n",
            "\n",
            "See the caveats in the documentation: https://pandas.pydata.org/pandas-docs/stable/user_guide/indexing.html#returning-a-view-versus-a-copy\n",
            "  after removing the cwd from sys.path.\n"
          ],
          "name": "stderr"
        }
      ]
    },
    {
      "cell_type": "code",
      "metadata": {
        "id": "1Q006QHRdl-q",
        "colab_type": "code",
        "outputId": "e14ad403-3dfa-4f3d-efa0-05f70a577b3b",
        "colab": {
          "base_uri": "https://localhost:8080/",
          "height": 102
        }
      },
      "source": [
        "#As we have got the information of Wages and made transformation we can drop the initial two records\n",
        "cleaned.drop(columns=['WAGE_RATE_OF_PAY_FROM_1','WAGE_UNIT_OF_PAY_1'],axis=1,inplace=True)\n"
      ],
      "execution_count": 26,
      "outputs": [
        {
          "output_type": "stream",
          "text": [
            "/usr/local/lib/python3.6/dist-packages/pandas/core/frame.py:3997: SettingWithCopyWarning: \n",
            "A value is trying to be set on a copy of a slice from a DataFrame\n",
            "\n",
            "See the caveats in the documentation: https://pandas.pydata.org/pandas-docs/stable/user_guide/indexing.html#returning-a-view-versus-a-copy\n",
            "  errors=errors,\n"
          ],
          "name": "stderr"
        }
      ]
    },
    {
      "cell_type": "code",
      "metadata": {
        "id": "lnSktMB3bVM3",
        "colab_type": "code",
        "colab": {
          "base_uri": "https://localhost:8080/",
          "height": 306
        },
        "outputId": "6f40e29f-e4e8-475e-a9a0-829a36fc3cda"
      },
      "source": [
        "cleaned.info()"
      ],
      "execution_count": 27,
      "outputs": [
        {
          "output_type": "stream",
          "text": [
            "<class 'pandas.core.frame.DataFrame'>\n",
            "Int64Index: 629856 entries, 18 to 664616\n",
            "Data columns (total 10 columns):\n",
            " #   Column          Non-Null Count   Dtype  \n",
            "---  ------          --------------   -----  \n",
            " 0   CASE_NUMBER     629855 non-null  object \n",
            " 1   CASE_STATUS     629856 non-null  object \n",
            " 2   CASE_SUBMITTED  629856 non-null  object \n",
            " 3   DECISION_DATE   629856 non-null  object \n",
            " 4   VISA_CLASS      629856 non-null  object \n",
            " 5   JOB_TITLE       629856 non-null  object \n",
            " 6   SOC_CODE        629852 non-null  object \n",
            " 7   SOC_TITLE       629852 non-null  object \n",
            " 8   EMPLOYER_NAME   629848 non-null  object \n",
            " 9   WAGES           629852 non-null  float64\n",
            "dtypes: float64(1), object(9)\n",
            "memory usage: 52.9+ MB\n"
          ],
          "name": "stdout"
        }
      ]
    },
    {
      "cell_type": "code",
      "metadata": {
        "id": "RyS7f3eIbcCl",
        "colab_type": "code",
        "colab": {
          "base_uri": "https://localhost:8080/",
          "height": 51
        },
        "outputId": "61058600-fc03-489e-970a-534d222a1772"
      },
      "source": [
        "\"\"\"\n",
        "We should remove record that have null objects, from the above cell we see\n",
        "that all columns don't have same number of non-null records\n",
        "which means we have to remove the records that have the null values.\n",
        "we see that there are about 17 records that have null values\n",
        "\"\"\" \n",
        "null_rows = cleaned.isnull().any(axis=1)\n",
        "print(cleaned[null_rows].shape)\n",
        "print(cleaned.shape)"
      ],
      "execution_count": 37,
      "outputs": [
        {
          "output_type": "stream",
          "text": [
            "(17, 10)\n",
            "(629856, 10)\n"
          ],
          "name": "stdout"
        }
      ]
    },
    {
      "cell_type": "code",
      "metadata": {
        "id": "keAByWsddXRe",
        "colab_type": "code",
        "colab": {
          "base_uri": "https://localhost:8080/",
          "height": 119
        },
        "outputId": "cb086c82-cfc7-4439-8f51-2ee8a5e295f7"
      },
      "source": [
        "cleaned.dropna(inplace=True)\n",
        "print(cleaned.shape)"
      ],
      "execution_count": 41,
      "outputs": [
        {
          "output_type": "stream",
          "text": [
            "(629839, 10)\n"
          ],
          "name": "stdout"
        },
        {
          "output_type": "stream",
          "text": [
            "/usr/local/lib/python3.6/dist-packages/ipykernel_launcher.py:1: SettingWithCopyWarning: \n",
            "A value is trying to be set on a copy of a slice from a DataFrame\n",
            "\n",
            "See the caveats in the documentation: https://pandas.pydata.org/pandas-docs/stable/user_guide/indexing.html#returning-a-view-versus-a-copy\n",
            "  \"\"\"Entry point for launching an IPython kernel.\n"
          ],
          "name": "stderr"
        }
      ]
    },
    {
      "cell_type": "code",
      "metadata": {
        "id": "9Aa-4cFWnW6s",
        "colab_type": "code",
        "outputId": "b9de581c-fb27-4600-a158-859af49efd55",
        "colab": {
          "base_uri": "https://localhost:8080/",
          "height": 221
        }
      },
      "source": [
        "cleaned['JOB_TITLE'].value_counts()"
      ],
      "execution_count": 42,
      "outputs": [
        {
          "output_type": "execute_result",
          "data": {
            "text/plain": [
              "SOFTWARE ENGINEER                              33199\n",
              "SOFTWARE DEVELOPER                             33057\n",
              "SENIOR SYSTEMS ANALYST JC60                    12759\n",
              "SENIOR SOFTWARE ENGINEER                        8135\n",
              "MANAGER JC50                                    8118\n",
              "                                               ...  \n",
              "SOFTWARE ENGINEER 1615.31987                       1\n",
              "SENIOR DATA INTEGRATION PROGRAMMER                 1\n",
              "MANAGER TECHNOLOGY & INTEGRATION                   1\n",
              "SENIOR PARTNER ACCOUNT MANAGER (15-1199.08)        1\n",
              "MIDDLEWARE ADMINISTRATOR/PROGRAMMER ANALYST        1\n",
              "Name: JOB_TITLE, Length: 108139, dtype: int64"
            ]
          },
          "metadata": {
            "tags": []
          },
          "execution_count": 42
        }
      ]
    },
    {
      "cell_type": "code",
      "metadata": {
        "id": "bwgV1bu5sXlE",
        "colab_type": "code",
        "outputId": "7f4a6210-8fcd-4855-bd97-15f0701194f0",
        "colab": {
          "base_uri": "https://localhost:8080/",
          "height": 476
        }
      },
      "source": [
        "#we see that the job title has integers in the record which we can remove\n",
        "cleaned['JOB_TITLE']=cleaned['JOB_TITLE'].str.replace('[0-9(){}[].]', '')\n",
        "cleaned.head()"
      ],
      "execution_count": 43,
      "outputs": [
        {
          "output_type": "stream",
          "text": [
            "/usr/local/lib/python3.6/dist-packages/ipykernel_launcher.py:1: SettingWithCopyWarning: \n",
            "A value is trying to be set on a copy of a slice from a DataFrame.\n",
            "Try using .loc[row_indexer,col_indexer] = value instead\n",
            "\n",
            "See the caveats in the documentation: https://pandas.pydata.org/pandas-docs/stable/user_guide/indexing.html#returning-a-view-versus-a-copy\n",
            "  \"\"\"Entry point for launching an IPython kernel.\n"
          ],
          "name": "stderr"
        },
        {
          "output_type": "execute_result",
          "data": {
            "text/html": [
              "<div>\n",
              "<style scoped>\n",
              "    .dataframe tbody tr th:only-of-type {\n",
              "        vertical-align: middle;\n",
              "    }\n",
              "\n",
              "    .dataframe tbody tr th {\n",
              "        vertical-align: top;\n",
              "    }\n",
              "\n",
              "    .dataframe thead th {\n",
              "        text-align: right;\n",
              "    }\n",
              "</style>\n",
              "<table border=\"1\" class=\"dataframe\">\n",
              "  <thead>\n",
              "    <tr style=\"text-align: right;\">\n",
              "      <th></th>\n",
              "      <th>CASE_NUMBER</th>\n",
              "      <th>CASE_STATUS</th>\n",
              "      <th>CASE_SUBMITTED</th>\n",
              "      <th>DECISION_DATE</th>\n",
              "      <th>VISA_CLASS</th>\n",
              "      <th>JOB_TITLE</th>\n",
              "      <th>SOC_CODE</th>\n",
              "      <th>SOC_TITLE</th>\n",
              "      <th>EMPLOYER_NAME</th>\n",
              "      <th>WAGES</th>\n",
              "    </tr>\n",
              "  </thead>\n",
              "  <tbody>\n",
              "    <tr>\n",
              "      <th>18</th>\n",
              "      <td>I-200-17250-072640</td>\n",
              "      <td>CERTIFIED</td>\n",
              "      <td>9/7/2017</td>\n",
              "      <td>1/7/2019</td>\n",
              "      <td>H-1B</td>\n",
              "      <td>EXECUTIVE DIRECTOR, STRATEGY</td>\n",
              "      <td>11-2011</td>\n",
              "      <td>ADVERTISING AND PROMOTIONS MANAGERS</td>\n",
              "      <td>FIGLIULO &amp; PARTNERS LLC</td>\n",
              "      <td>230000.0</td>\n",
              "    </tr>\n",
              "    <tr>\n",
              "      <th>19</th>\n",
              "      <td>I-200-18026-717110</td>\n",
              "      <td>CERTIFIED</td>\n",
              "      <td>1/26/2018</td>\n",
              "      <td>7/5/2019</td>\n",
              "      <td>H-1B</td>\n",
              "      <td>PROJECT OPERATIONS MANAGER</td>\n",
              "      <td>11-2011</td>\n",
              "      <td>ADVERTISING AND PROMOTIONS MANAGERS</td>\n",
              "      <td>INVISIONAPP INC.</td>\n",
              "      <td>107000.0</td>\n",
              "    </tr>\n",
              "    <tr>\n",
              "      <th>21</th>\n",
              "      <td>I-200-18039-081565</td>\n",
              "      <td>CERTIFIED</td>\n",
              "      <td>3/5/2018</td>\n",
              "      <td>1/8/2019</td>\n",
              "      <td>H-1B</td>\n",
              "      <td>MANAGER OF LEAGUE AND TOURNAMENT SERVICES</td>\n",
              "      <td>11-2011</td>\n",
              "      <td>ADVERTISING AND PROMOTIONS MANAGERS</td>\n",
              "      <td>OREGON YOUTH SOCCER ASSOCIATION</td>\n",
              "      <td>49087.0</td>\n",
              "    </tr>\n",
              "    <tr>\n",
              "      <th>22</th>\n",
              "      <td>I-200-18082-340860</td>\n",
              "      <td>CERTIFIED</td>\n",
              "      <td>3/23/2018</td>\n",
              "      <td>4/22/2019</td>\n",
              "      <td>H-1B</td>\n",
              "      <td>DIRECTOR, DEMAND</td>\n",
              "      <td>11-2011</td>\n",
              "      <td>ADVERTISING AND PROMOTIONS MANAGERS</td>\n",
              "      <td>FACTUAL, INC.</td>\n",
              "      <td>172930.0</td>\n",
              "    </tr>\n",
              "    <tr>\n",
              "      <th>24</th>\n",
              "      <td>I-200-18162-689783</td>\n",
              "      <td>CERTIFIED</td>\n",
              "      <td>9/26/2018</td>\n",
              "      <td>10/2/2018</td>\n",
              "      <td>H-1B</td>\n",
              "      <td>ADVERSTING AND PROMOTIONS MANAGER</td>\n",
              "      <td>11-2011</td>\n",
              "      <td>ADVERTISING AND PROMOTIONS MANAGERS</td>\n",
              "      <td>FANTUAN GROUP INC</td>\n",
              "      <td>68640.0</td>\n",
              "    </tr>\n",
              "  </tbody>\n",
              "</table>\n",
              "</div>"
            ],
            "text/plain": [
              "           CASE_NUMBER CASE_STATUS  ...                    EMPLOYER_NAME     WAGES\n",
              "18  I-200-17250-072640   CERTIFIED  ...          FIGLIULO & PARTNERS LLC  230000.0\n",
              "19  I-200-18026-717110   CERTIFIED  ...                 INVISIONAPP INC.  107000.0\n",
              "21  I-200-18039-081565   CERTIFIED  ...  OREGON YOUTH SOCCER ASSOCIATION   49087.0\n",
              "22  I-200-18082-340860   CERTIFIED  ...                    FACTUAL, INC.  172930.0\n",
              "24  I-200-18162-689783   CERTIFIED  ...                FANTUAN GROUP INC   68640.0\n",
              "\n",
              "[5 rows x 10 columns]"
            ]
          },
          "metadata": {
            "tags": []
          },
          "execution_count": 43
        }
      ]
    },
    {
      "cell_type": "code",
      "metadata": {
        "id": "15py5C4RfXIj",
        "colab_type": "code",
        "colab": {
          "base_uri": "https://localhost:8080/",
          "height": 221
        },
        "outputId": "50170d71-ed64-4035-aaf0-1f5c39b39da1"
      },
      "source": [
        "cleaned['JOB_TITLE'].value_counts()"
      ],
      "execution_count": 44,
      "outputs": [
        {
          "output_type": "execute_result",
          "data": {
            "text/plain": [
              "SOFTWARE ENGINEER                             33199\n",
              "SOFTWARE DEVELOPER                            33057\n",
              "SENIOR SYSTEMS ANALYST JC60                   12759\n",
              "SENIOR SOFTWARE ENGINEER                       8135\n",
              "MANAGER JC50                                   8118\n",
              "                                              ...  \n",
              "EDI (ELECTRONIC DATA INTERCHANGE) ENGINEER        1\n",
              "VISITING CLINCIAL ASSOCIATE PROFESSOR             1\n",
              "SR. SOFTWARE DEVELOPER-MAINFRAME                  1\n",
              "QUANTITATIVE BUSINESS ANALYST 1615.18749          1\n",
              "COORDINATOR, SPORT SCIENCES & MEDICINE            1\n",
              "Name: JOB_TITLE, Length: 108130, dtype: int64"
            ]
          },
          "metadata": {
            "tags": []
          },
          "execution_count": 44
        }
      ]
    },
    {
      "cell_type": "code",
      "metadata": {
        "id": "fNjXyrLzntEN",
        "colab_type": "code",
        "outputId": "417f62cd-d7af-4506-c4d1-94091d6cfcea",
        "colab": {
          "base_uri": "https://localhost:8080/",
          "height": 482
        }
      },
      "source": [
        "grouped_wages=cleaned.groupby('JOB_TITLE', as_index=False).agg({'WAGES':'mean'})\n",
        "op=grouped_wages.sort_values(by=['WAGES'],ascending=False)\n",
        "X=op.loc[op['JOB_TITLE']=='SOFTWARE ENGINEER']\n",
        "display(op)\n",
        "display(X)"
      ],
      "execution_count": 45,
      "outputs": [
        {
          "output_type": "display_data",
          "data": {
            "text/html": [
              "<div>\n",
              "<style scoped>\n",
              "    .dataframe tbody tr th:only-of-type {\n",
              "        vertical-align: middle;\n",
              "    }\n",
              "\n",
              "    .dataframe tbody tr th {\n",
              "        vertical-align: top;\n",
              "    }\n",
              "\n",
              "    .dataframe thead th {\n",
              "        text-align: right;\n",
              "    }\n",
              "</style>\n",
              "<table border=\"1\" class=\"dataframe\">\n",
              "  <thead>\n",
              "    <tr style=\"text-align: right;\">\n",
              "      <th></th>\n",
              "      <th>JOB_TITLE</th>\n",
              "      <th>WAGES</th>\n",
              "    </tr>\n",
              "  </thead>\n",
              "  <tbody>\n",
              "    <tr>\n",
              "      <th>86328</th>\n",
              "      <td>SOFTWARE ENGINEER 1615.36850</td>\n",
              "      <td>357136000.0</td>\n",
              "    </tr>\n",
              "    <tr>\n",
              "      <th>83630</th>\n",
              "      <td>SOFTWARE ENGINEER (1615.46146)</td>\n",
              "      <td>110293000.0</td>\n",
              "    </tr>\n",
              "    <tr>\n",
              "      <th>70008</th>\n",
              "      <td>SENIOR APPLICATIONS ENGINEER - POWER MANAGEMENT</td>\n",
              "      <td>98847500.0</td>\n",
              "    </tr>\n",
              "    <tr>\n",
              "      <th>50810</th>\n",
              "      <td>NURSE PRACTITIONERS (LICENSED)</td>\n",
              "      <td>97780945.6</td>\n",
              "    </tr>\n",
              "    <tr>\n",
              "      <th>91813</th>\n",
              "      <td>SPECIALIST WEB DEVELOPER</td>\n",
              "      <td>74060709.0</td>\n",
              "    </tr>\n",
              "    <tr>\n",
              "      <th>...</th>\n",
              "      <td>...</td>\n",
              "      <td>...</td>\n",
              "    </tr>\n",
              "    <tr>\n",
              "      <th>49912</th>\n",
              "      <td>NAIL TECHNICAN</td>\n",
              "      <td>18720.0</td>\n",
              "    </tr>\n",
              "    <tr>\n",
              "      <th>19351</th>\n",
              "      <td>CUSTOMER SERVICE, ALL TASKS &amp; DUTIES OF A NAIL...</td>\n",
              "      <td>18200.0</td>\n",
              "    </tr>\n",
              "    <tr>\n",
              "      <th>104210</th>\n",
              "      <td>TRACK AND FIELD COACH</td>\n",
              "      <td>17040.0</td>\n",
              "    </tr>\n",
              "    <tr>\n",
              "      <th>43547</th>\n",
              "      <td>LIVE STREAMING SERVICE</td>\n",
              "      <td>17000.0</td>\n",
              "    </tr>\n",
              "    <tr>\n",
              "      <th>34713</th>\n",
              "      <td>HOME HEALTH &amp; PERSONAL CARE AIDE</td>\n",
              "      <td>15912.0</td>\n",
              "    </tr>\n",
              "  </tbody>\n",
              "</table>\n",
              "<p>108130 rows × 2 columns</p>\n",
              "</div>"
            ],
            "text/plain": [
              "                                                JOB_TITLE        WAGES\n",
              "86328                        SOFTWARE ENGINEER 1615.36850  357136000.0\n",
              "83630                      SOFTWARE ENGINEER (1615.46146)  110293000.0\n",
              "70008     SENIOR APPLICATIONS ENGINEER - POWER MANAGEMENT   98847500.0\n",
              "50810                      NURSE PRACTITIONERS (LICENSED)   97780945.6\n",
              "91813                            SPECIALIST WEB DEVELOPER   74060709.0\n",
              "...                                                   ...          ...\n",
              "49912                                      NAIL TECHNICAN      18720.0\n",
              "19351   CUSTOMER SERVICE, ALL TASKS & DUTIES OF A NAIL...      18200.0\n",
              "104210                              TRACK AND FIELD COACH      17040.0\n",
              "43547                              LIVE STREAMING SERVICE      17000.0\n",
              "34713                    HOME HEALTH & PERSONAL CARE AIDE      15912.0\n",
              "\n",
              "[108130 rows x 2 columns]"
            ]
          },
          "metadata": {
            "tags": []
          }
        },
        {
          "output_type": "display_data",
          "data": {
            "text/html": [
              "<div>\n",
              "<style scoped>\n",
              "    .dataframe tbody tr th:only-of-type {\n",
              "        vertical-align: middle;\n",
              "    }\n",
              "\n",
              "    .dataframe tbody tr th {\n",
              "        vertical-align: top;\n",
              "    }\n",
              "\n",
              "    .dataframe thead th {\n",
              "        text-align: right;\n",
              "    }\n",
              "</style>\n",
              "<table border=\"1\" class=\"dataframe\">\n",
              "  <thead>\n",
              "    <tr style=\"text-align: right;\">\n",
              "      <th></th>\n",
              "      <th>JOB_TITLE</th>\n",
              "      <th>WAGES</th>\n",
              "    </tr>\n",
              "  </thead>\n",
              "  <tbody>\n",
              "    <tr>\n",
              "      <th>83066</th>\n",
              "      <td>SOFTWARE ENGINEER</td>\n",
              "      <td>112102.821495</td>\n",
              "    </tr>\n",
              "  </tbody>\n",
              "</table>\n",
              "</div>"
            ],
            "text/plain": [
              "               JOB_TITLE          WAGES\n",
              "83066  SOFTWARE ENGINEER  112102.821495"
            ]
          },
          "metadata": {
            "tags": []
          }
        }
      ]
    },
    {
      "cell_type": "code",
      "metadata": {
        "id": "MU8xjr98qbJG",
        "colab_type": "code",
        "colab": {}
      },
      "source": [
        "\n"
      ],
      "execution_count": 0,
      "outputs": []
    }
  ]
}