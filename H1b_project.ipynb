{
  "nbformat": 4,
  "nbformat_minor": 0,
  "metadata": {
    "accelerator": "GPU",
    "colab": {
      "name": "H1b_project.ipynb",
      "provenance": [],
      "collapsed_sections": [],
      "toc_visible": true,
      "machine_shape": "hm"
    },
    "kernelspec": {
      "display_name": "Python 3",
      "language": "python",
      "name": "python3"
    },
    "language_info": {
      "codemirror_mode": {
        "name": "ipython",
        "version": 3
      },
      "file_extension": ".py",
      "mimetype": "text/x-python",
      "name": "python",
      "nbconvert_exporter": "python",
      "pygments_lexer": "ipython3",
      "version": "3.7.4"
    }
  },
  "cells": [
    {
      "cell_type": "markdown",
      "metadata": {
        "colab_type": "text",
        "id": "RFnPSdxLC6em"
      },
      "source": [
        "# Analysing H1B Acceptance Trends "
      ]
    },
    {
      "cell_type": "markdown",
      "metadata": {
        "colab_type": "text",
        "id": "Uh8CJdwBJOAL"
      },
      "source": [
        "H1B visa is a nonimmigrant visa issued to gradute level workers which allows them to work in the United States. The employer sponsors the H1B visa for workers with theoretical or technical expertise in specialized fields such as in IT, finance, accounting etc. An interesting fact about immigrant workers is that about 52 percent of new Silicon valley companies were founded by such workers during 1995 and 2005. Some famous CEOs like Indira Nooyi (Pepsico), Elon Musk (Tesla), Sundar Pichai (Google),Satya Nadella (Microsoft) once arrived to the US on a H1B visa."
      ]
    },
    {
      "cell_type": "markdown",
      "metadata": {
        "colab_type": "text",
        "id": "QIe1lq1-RyDV"
      },
      "source": [
        "**Motivation**: Our team consists of five international gradute students, in the future we will be applying for H1B visa. The visa application process seems very long, complicated and uncertain. So we decided to understand this process and use Machine learning algorithms to predict the acceptance rate and trends of H1B visa. "
      ]
    },
    {
      "cell_type": "markdown",
      "metadata": {
        "colab_type": "text",
        "id": "kjQ8YI2GTfb6"
      },
      "source": [
        "## Data \n",
        "The data used in the project has been collected from <a href=\"https://www.foreignlaborcert.doleta.gov/performancedata.cfm\">the Office of Foreign Labor Certification (OFLC).</a> "
      ]
    },
    {
      "cell_type": "code",
      "metadata": {
        "colab_type": "code",
        "id": "eUglaNmlQ44L",
        "colab": {}
      },
      "source": [
        "from google.colab import drive\n",
        "drive.mount('/content/gdrive')"
      ],
      "execution_count": 0,
      "outputs": []
    },
    {
      "cell_type": "code",
      "metadata": {
        "colab_type": "code",
        "id": "_sSzHVSl3-bD",
        "colab": {}
      },
      "source": [
        "!pip install autocorrect\n",
        "import nltk\n",
        "from textblob import TextBlob\n",
        "from autocorrect import Speller \n",
        "nltk.download('wordnet')\n",
        "import pandas as pd\n",
        "import numpy as np\n",
        "import warnings"
      ],
      "execution_count": 0,
      "outputs": []
    },
    {
      "cell_type": "markdown",
      "metadata": {
        "colab_type": "text",
        "id": "FARuLUkuV7T8"
      },
      "source": [
        "## Exploratory Data Analysis"
      ]
    },
    {
      "cell_type": "markdown",
      "metadata": {
        "colab_type": "text",
        "id": "pleklaelV_xO"
      },
      "source": [
        "Before we begin working on our data we need to understand the traits of our data which we accomplish using EDA. We see that we have about 260 columns , not all 260 columns have essential information that contributes to our analysis. Hence we pick out the columns such as case status( Accepted/ Denied) ,Employer, Job title etc. "
      ]
    },
    {
      "cell_type": "code",
      "metadata": {
        "colab_type": "code",
        "id": "iCiYlOyXHHKJ",
        "colab": {}
      },
      "source": [
        "#Read the csv file and stored in file\n",
        "file=pd.read_csv('/content/gdrive/My Drive/H-1B_Disclosure_Data_FY2019.csv')"
      ],
      "execution_count": 0,
      "outputs": []
    },
    {
      "cell_type": "code",
      "metadata": {
        "colab_type": "code",
        "id": "XT6Wmc2-WVo7",
        "colab": {}
      },
      "source": [
        "file.shape"
      ],
      "execution_count": 0,
      "outputs": []
    },
    {
      "cell_type": "code",
      "metadata": {
        "colab_type": "code",
        "id": "ZxxeAh5SX0Bc",
        "outputId": "fedab785-e8f2-4f33-f4e3-e3a11c7b9e3b",
        "colab": {
          "base_uri": "https://localhost:8080/",
          "height": 479
        }
      },
      "source": [
        "cleaned=file[['CASE_NUMBER','CASE_STATUS','CASE_SUBMITTED','DECISION_DATE','VISA_CLASS','FULL_TIME_POSITION','JOB_TITLE','SOC_CODE','SOC_TITLE',\\\n",
        "              'EMPLOYER_NAME','WAGE_RATE_OF_PAY_FROM_1','WAGE_UNIT_OF_PAY_1','NAICS_CODE','WORKSITE_CITY_1','WORKSITE_STATE_1']]\n",
        "cleaned.head()"
      ],
      "execution_count": 136,
      "outputs": [
        {
          "output_type": "execute_result",
          "data": {
            "text/html": [
              "<div>\n",
              "<style scoped>\n",
              "    .dataframe tbody tr th:only-of-type {\n",
              "        vertical-align: middle;\n",
              "    }\n",
              "\n",
              "    .dataframe tbody tr th {\n",
              "        vertical-align: top;\n",
              "    }\n",
              "\n",
              "    .dataframe thead th {\n",
              "        text-align: right;\n",
              "    }\n",
              "</style>\n",
              "<table border=\"1\" class=\"dataframe\">\n",
              "  <thead>\n",
              "    <tr style=\"text-align: right;\">\n",
              "      <th></th>\n",
              "      <th>CASE_NUMBER</th>\n",
              "      <th>CASE_STATUS</th>\n",
              "      <th>CASE_SUBMITTED</th>\n",
              "      <th>DECISION_DATE</th>\n",
              "      <th>VISA_CLASS</th>\n",
              "      <th>FULL_TIME_POSITION</th>\n",
              "      <th>JOB_TITLE</th>\n",
              "      <th>SOC_CODE</th>\n",
              "      <th>SOC_TITLE</th>\n",
              "      <th>EMPLOYER_NAME</th>\n",
              "      <th>WAGE_RATE_OF_PAY_FROM_1</th>\n",
              "      <th>WAGE_UNIT_OF_PAY_1</th>\n",
              "      <th>NAICS_CODE</th>\n",
              "      <th>WORKSITE_CITY_1</th>\n",
              "      <th>WORKSITE_STATE_1</th>\n",
              "    </tr>\n",
              "  </thead>\n",
              "  <tbody>\n",
              "    <tr>\n",
              "      <th>0</th>\n",
              "      <td>I-200-16092-327771</td>\n",
              "      <td>WITHDRAWN</td>\n",
              "      <td>4/8/2016</td>\n",
              "      <td>4/30/2019</td>\n",
              "      <td>H-1B</td>\n",
              "      <td>Y</td>\n",
              "      <td>ASSOCIATE CREATIVE DIRECTOR</td>\n",
              "      <td>11-2011</td>\n",
              "      <td>ADVERTISING AND PROMOTIONS MANAGERS</td>\n",
              "      <td>R/GA MEDIA GROUP, INC.</td>\n",
              "      <td>$179,000.00</td>\n",
              "      <td>Year</td>\n",
              "      <td>541810.0</td>\n",
              "      <td>NEW YORK</td>\n",
              "      <td>NY</td>\n",
              "    </tr>\n",
              "    <tr>\n",
              "      <th>1</th>\n",
              "      <td>I-203-17188-450729</td>\n",
              "      <td>WITHDRAWN</td>\n",
              "      <td>7/14/2017</td>\n",
              "      <td>5/13/2019</td>\n",
              "      <td>E-3 Australian</td>\n",
              "      <td>Y</td>\n",
              "      <td>ACCOUNT SUPERVISOR (MOTHER)</td>\n",
              "      <td>11-2011</td>\n",
              "      <td>ADVERTISING AND PROMOTIONS MANAGERS</td>\n",
              "      <td>MOTHER INDUSTRIES LLC</td>\n",
              "      <td>$110,000.00</td>\n",
              "      <td>Year</td>\n",
              "      <td>541810.0</td>\n",
              "      <td>NEW YORK</td>\n",
              "      <td>NY</td>\n",
              "    </tr>\n",
              "    <tr>\n",
              "      <th>2</th>\n",
              "      <td>I-203-17229-572307</td>\n",
              "      <td>WITHDRAWN</td>\n",
              "      <td>8/23/2017</td>\n",
              "      <td>4/30/2019</td>\n",
              "      <td>E-3 Australian</td>\n",
              "      <td>Y</td>\n",
              "      <td>EXECUTIVE CREATIVE DIRECTOR</td>\n",
              "      <td>11-2011</td>\n",
              "      <td>ADVERTISING AND PROMOTIONS MANAGERS</td>\n",
              "      <td>WE ARE UNLIMITED, INC.</td>\n",
              "      <td>$275,000.00</td>\n",
              "      <td>Year</td>\n",
              "      <td>541810.0</td>\n",
              "      <td>CHICAGO</td>\n",
              "      <td>IL</td>\n",
              "    </tr>\n",
              "    <tr>\n",
              "      <th>3</th>\n",
              "      <td>I-203-17356-299648</td>\n",
              "      <td>WITHDRAWN</td>\n",
              "      <td>12/22/2017</td>\n",
              "      <td>8/20/2019</td>\n",
              "      <td>E-3 Australian</td>\n",
              "      <td>Y</td>\n",
              "      <td>PROJECT MANAGEMENT LEAD</td>\n",
              "      <td>11-2011</td>\n",
              "      <td>ADVERTISING AND PROMOTIONS MANAGERS</td>\n",
              "      <td>HELLO ELEPHANT, LLC</td>\n",
              "      <td>$140,000.00</td>\n",
              "      <td>Year</td>\n",
              "      <td>541810.0</td>\n",
              "      <td>BROOKLYN</td>\n",
              "      <td>NY</td>\n",
              "    </tr>\n",
              "    <tr>\n",
              "      <th>4</th>\n",
              "      <td>I-203-18008-577576</td>\n",
              "      <td>WITHDRAWN</td>\n",
              "      <td>1/10/2018</td>\n",
              "      <td>4/15/2019</td>\n",
              "      <td>E-3 Australian</td>\n",
              "      <td>Y</td>\n",
              "      <td>CREATIVE DIRECTOR, UX</td>\n",
              "      <td>11-2011</td>\n",
              "      <td>ADVERTISING AND PROMOTIONS MANAGERS</td>\n",
              "      <td>HELLO ELEPHANT, LLC</td>\n",
              "      <td>$180,000.00</td>\n",
              "      <td>Year</td>\n",
              "      <td>541810.0</td>\n",
              "      <td>BROOKLYN</td>\n",
              "      <td>NY</td>\n",
              "    </tr>\n",
              "  </tbody>\n",
              "</table>\n",
              "</div>"
            ],
            "text/plain": [
              "          CASE_NUMBER CASE_STATUS  ... WORKSITE_CITY_1 WORKSITE_STATE_1\n",
              "0  I-200-16092-327771   WITHDRAWN  ...        NEW YORK               NY\n",
              "1  I-203-17188-450729   WITHDRAWN  ...        NEW YORK               NY\n",
              "2  I-203-17229-572307   WITHDRAWN  ...         CHICAGO               IL\n",
              "3  I-203-17356-299648   WITHDRAWN  ...        BROOKLYN               NY\n",
              "4  I-203-18008-577576   WITHDRAWN  ...        BROOKLYN               NY\n",
              "\n",
              "[5 rows x 15 columns]"
            ]
          },
          "metadata": {
            "tags": []
          },
          "execution_count": 136
        }
      ]
    },
    {
      "cell_type": "code",
      "metadata": {
        "colab_type": "code",
        "id": "7sKPhmuNf6eW",
        "colab": {}
      },
      "source": [
        "cleaned.shape"
      ],
      "execution_count": 0,
      "outputs": []
    },
    {
      "cell_type": "code",
      "metadata": {
        "colab_type": "code",
        "id": "BbgGJEB9XpO6",
        "colab": {}
      },
      "source": [
        "cleaned['VISA_CLASS'].value_counts()"
      ],
      "execution_count": 0,
      "outputs": []
    },
    {
      "cell_type": "code",
      "metadata": {
        "colab_type": "code",
        "id": "NLttcaMGZC1l",
        "outputId": "f859ae7f-a7c0-4562-ce0d-e316602c8ea5",
        "colab": {
          "base_uri": "https://localhost:8080/",
          "height": 122
        }
      },
      "source": [
        "# Visa class has many categories which are not of use , we require only H1B visa type , hence we drop all records with other visa types\n",
        "cleaned.drop(labels=cleaned.loc[cleaned['VISA_CLASS']!='H-1B'].index , inplace=True)"
      ],
      "execution_count": 139,
      "outputs": [
        {
          "output_type": "stream",
          "text": [
            "/usr/local/lib/python3.6/dist-packages/pandas/core/frame.py:3997: SettingWithCopyWarning: \n",
            "A value is trying to be set on a copy of a slice from a DataFrame\n",
            "\n",
            "See the caveats in the documentation: https://pandas.pydata.org/pandas-docs/stable/user_guide/indexing.html#returning-a-view-versus-a-copy\n",
            "  errors=errors,\n"
          ],
          "name": "stderr"
        }
      ]
    },
    {
      "cell_type": "code",
      "metadata": {
        "colab_type": "code",
        "id": "3dzct3CLeVuI",
        "colab": {}
      },
      "source": [
        "cleaned['FULL_TIME_POSITION'].value_counts()"
      ],
      "execution_count": 0,
      "outputs": []
    },
    {
      "cell_type": "code",
      "metadata": {
        "colab_type": "code",
        "id": "qox8ruM-Xff_",
        "outputId": "4d3fdf69-d6e2-4404-e7f1-37d4b0413acb",
        "colab": {
          "base_uri": "https://localhost:8080/",
          "height": 102
        }
      },
      "source": [
        "cleaned['CASE_STATUS'].value_counts()"
      ],
      "execution_count": 141,
      "outputs": [
        {
          "output_type": "execute_result",
          "data": {
            "text/plain": [
              "CERTIFIED              578640\n",
              "CERTIFIED-WITHDRAWN     46050\n",
              "WITHDRAWN               19227\n",
              "DENIED                   5166\n",
              "Name: CASE_STATUS, dtype: int64"
            ]
          },
          "metadata": {
            "tags": []
          },
          "execution_count": 141
        }
      ]
    },
    {
      "cell_type": "code",
      "metadata": {
        "colab_type": "code",
        "id": "7Cz9Kkghr3JP",
        "colab": {}
      },
      "source": [
        "#As we want to only need accepted and denied cases we are dropping withdrawn from the data frame. \n",
        "#Case status of class certified-withdraw were certified earlier and later withdraw which can be considered a\n",
        "cleaned.replace({\"CASE_STATUS\":\"CERTIFIED-WITHDRAWN\"},\"CERTIFIED\",inplace=True)\n",
        "cleaned.drop(labels=cleaned.loc[cleaned['CASE_STATUS']=='WITHDRAWN'].index , inplace=True)\n",
        "cleaned.head()"
      ],
      "execution_count": 0,
      "outputs": []
    },
    {
      "cell_type": "code",
      "metadata": {
        "colab_type": "code",
        "id": "75W7CN49Yvhf",
        "colab": {}
      },
      "source": [
        "#cleaned.info()"
      ],
      "execution_count": 0,
      "outputs": []
    },
    {
      "cell_type": "code",
      "metadata": {
        "colab_type": "code",
        "id": "F5SSKy8mVr01",
        "colab": {}
      },
      "source": [
        "#the column wages has a mix of both string and float value types and some record have the symbol '$' which we want to remove\n",
        "cleaned['WAGE_RATE_OF_PAY_FROM_1'].apply(type).value_counts()"
      ],
      "execution_count": 0,
      "outputs": []
    },
    {
      "cell_type": "code",
      "metadata": {
        "colab_type": "code",
        "id": "dxghSqYygMTm",
        "colab": {}
      },
      "source": [
        "cleaned['WORKSITE_STATE_1'].apply(type).value_counts()"
      ],
      "execution_count": 0,
      "outputs": []
    },
    {
      "cell_type": "code",
      "metadata": {
        "colab_type": "code",
        "id": "cDAglVs6XHVB",
        "colab": {}
      },
      "source": [
        "def clean_wages(w):\n",
        "    \"\"\" Function to remove '$' symbol and other delimiters from wages column which consistes of str and float type values\n",
        "    if the column entry is string type then remove the symbols else return the column value as it is \n",
        "    \"\"\"\n",
        "    if isinstance(w, str):\n",
        "        return(w.replace('$', '').replace(',', ''))\n",
        "    return(w)"
      ],
      "execution_count": 0,
      "outputs": []
    },
    {
      "cell_type": "code",
      "metadata": {
        "colab_type": "code",
        "id": "Py3xCbSawIpR",
        "colab": {}
      },
      "source": [
        "cleaned['WAGES']=cleaned['WAGE_RATE_OF_PAY_FROM_1'].apply(clean_wages).astype('float')\n",
        "#cleaned.info()"
      ],
      "execution_count": 0,
      "outputs": []
    },
    {
      "cell_type": "code",
      "metadata": {
        "colab_type": "code",
        "id": "yKCdooZsQ7yD",
        "colab": {}
      },
      "source": [
        "# the wage information that we have available has different unit of pay\n",
        "cleaned['WAGE_UNIT_OF_PAY_1'].value_counts()"
      ],
      "execution_count": 0,
      "outputs": []
    },
    {
      "cell_type": "code",
      "metadata": {
        "colab_type": "code",
        "id": "hCGTUT22Z6Bj",
        "colab": {}
      },
      "source": [
        "# we convert the different units of pay to the type 'Year'\n",
        "cleaned['WAGES'] = np.where(cleaned['WAGE_UNIT_OF_PAY_1'] == 'Month',cleaned['WAGES'] * 12,cleaned['WAGES'])\n",
        "cleaned['WAGES'] = np.where(cleaned['WAGE_UNIT_OF_PAY_1'] == 'Hour',cleaned['WAGES'] * 2080,cleaned['WAGES']) # 2080=8 hours*5 days* 52 weeks\n",
        "cleaned['WAGES'] = np.where(cleaned['WAGE_UNIT_OF_PAY_1'] == 'Bi-Weekly',cleaned['WAGES'] *26,cleaned['WAGES'])\n",
        "cleaned['WAGES'] = np.where(cleaned['WAGE_UNIT_OF_PAY_1'] == 'Week',cleaned['WAGES'] * 52,cleaned['WAGES'])"
      ],
      "execution_count": 0,
      "outputs": []
    },
    {
      "cell_type": "code",
      "metadata": {
        "colab_type": "code",
        "id": "1Q006QHRdl-q",
        "colab": {}
      },
      "source": [
        "#As we have got the information of Wages and made transformation we can drop the initial two records\n",
        "cleaned.drop(columns=['WAGE_RATE_OF_PAY_FROM_1','WAGE_UNIT_OF_PAY_1'],axis=1,inplace=True)\n"
      ],
      "execution_count": 0,
      "outputs": []
    },
    {
      "cell_type": "code",
      "metadata": {
        "colab_type": "code",
        "id": "lnSktMB3bVM3",
        "colab": {}
      },
      "source": [
        "cleaned.info()"
      ],
      "execution_count": 0,
      "outputs": []
    },
    {
      "cell_type": "code",
      "metadata": {
        "colab_type": "code",
        "id": "RyS7f3eIbcCl",
        "colab": {}
      },
      "source": [
        "\"\"\"\n",
        "We should remove record that have null objects, from the above cell we see\n",
        "that all columns don't have same number of non-null records\n",
        "which means we have to remove the records that have the null values.\n",
        "we see that there are about 17 records that have null values\n",
        "\"\"\" \n",
        "null_rows = cleaned.isnull().any(axis=1)\n",
        "print(cleaned[null_rows].shape)\n",
        "print(cleaned.shape)"
      ],
      "execution_count": 0,
      "outputs": []
    },
    {
      "cell_type": "code",
      "metadata": {
        "colab_type": "code",
        "id": "keAByWsddXRe",
        "colab": {}
      },
      "source": [
        "cleaned.dropna(inplace=True)\n",
        "print(cleaned.shape)"
      ],
      "execution_count": 0,
      "outputs": []
    },
    {
      "cell_type": "code",
      "metadata": {
        "colab_type": "code",
        "id": "9Aa-4cFWnW6s",
        "colab": {}
      },
      "source": [
        "#cleaned['JOB_TITLE'].value_counts()"
      ],
      "execution_count": 0,
      "outputs": []
    },
    {
      "cell_type": "code",
      "metadata": {
        "colab_type": "code",
        "id": "M03_5gLDxgYT",
        "colab": {}
      },
      "source": [
        "#we see that the job title has integers(words with integers also) \n",
        "#removing comma also\n",
        "def remove_num(text):\n",
        "  if not any(c.isdigit() for c in text):\n",
        "    return text\n",
        "  return ''\n",
        "cleaned['JOB_TITLE']=cleaned.JOB_TITLE.apply(lambda txt: \" \".join([remove_num(i) for i in txt.lower().split()]))\n",
        "cleaned['JOB_TITLE']=cleaned['JOB_TITLE'].str.replace(',', '')\n",
        "cleaned['SOC_TITLE']=cleaned.SOC_TITLE.apply(lambda txt: \" \".join([remove_num(i) for i in txt.lower().split()]))\n",
        "cleaned['SOC_TITLE']=cleaned['SOC_TITLE'].str.replace(',', '')\n",
        "print(\"Numbers and strings with numbers removed\" )\n",
        "#cleaned.head()\n",
        "#cleaned['JOB_TITLE'].value_counts()"
      ],
      "execution_count": 0,
      "outputs": []
    },
    {
      "cell_type": "code",
      "metadata": {
        "colab_type": "code",
        "id": "3DxeRz6Mxkx1",
        "colab": {}
      },
      "source": [
        "nltk.download('words')\n",
        "lemmatizer = nltk.stem.WordNetLemmatizer()\n",
        "words = set(nltk.corpus.words.words())\n",
        "spell = Speller()\n",
        "\n",
        "\n",
        "def lemmatize_text(text):\n",
        "  return lemmatizer.lemmatize(text)\n",
        "\n",
        "def spelling_checker(text):\n",
        "  return spell(text)\n",
        " \n",
        "print(spelling_checker(\"computr sciece progam check\"))"
      ],
      "execution_count": 0,
      "outputs": []
    },
    {
      "cell_type": "code",
      "metadata": {
        "colab_type": "code",
        "id": "5ZzB9FbCxvgQ",
        "colab": {}
      },
      "source": [
        "#this part takes more time because spell_checker \n",
        "cleaned['JOB_TITLE']=cleaned.JOB_TITLE.apply(lambda txt: \" \".join([lemmatize_text(i) for i in txt.lower().split()]))\n",
        "print(' JOB_TITLE IS  lemmatized')\n",
        "#print(cleaned['JOB_TITLE'].value_counts() )\n",
        "#cleaned['JOB_TITLE'].value_counts() "
      ],
      "execution_count": 0,
      "outputs": []
    },
    {
      "cell_type": "code",
      "metadata": {
        "id": "uyUrsfDY9Kym",
        "colab_type": "code",
        "colab": {}
      },
      "source": [
        "cleaned['JOB_TITLE']=cleaned.JOB_TITLE.apply(lambda txt: \" \".join([spelling_checker(i) for i in txt.lower().split()]))\n",
        "print('JOB_TITLE SPELLING MISTAKES RECTIFIED)"
      ],
      "execution_count": 0,
      "outputs": []
    },
    {
      "cell_type": "code",
      "metadata": {
        "colab_type": "code",
        "id": "q1NGrEDGxzPS",
        "colab": {}
      },
      "source": [
        "#clean SOC TITLE\n",
        "cleaned['SOC_TITLE']=cleaned.SOC_TITLE.apply(lambda txt: \" \".join([lemmatize_text(i) for i in txt.lower().split()]))\n",
        "cleaned['SOC_TITLE']=cleaned.SOC_TITLE.apply(lambda txt: \" \".join([spelling_checker(i) for i in txt.lower().split()]))\n",
        "print('SOC_TITLE SPELLING MISTAKES RECTIFIED')\n",
        "cleaned = cleaned.groupby(\"SOC_TITLE\").filter(lambda x: len(x) > 15)\n",
        "print(\" removing least significant values from SOC_TITLE\")\n",
        "#cleaned['SOC_TITLE'].value_counts()"
      ],
      "execution_count": 0,
      "outputs": []
    },
    {
      "cell_type": "code",
      "metadata": {
        "id": "4km-0ZlZEDyU",
        "colab_type": "code",
        "colab": {}
      },
      "source": [
        "cleaned = cleaned.groupby(\"SOC_CODE\").filter(lambda x: len(x) > 15)\n",
        "print(\"DROPPING THE LEAST SIGNIFICANT EMPLYOERS\")\n",
        "#cleaned['SOC_CODE'].value_counts()"
      ],
      "execution_count": 0,
      "outputs": []
    },
    {
      "cell_type": "code",
      "metadata": {
        "colab_type": "code",
        "id": "bwgV1bu5sXlE",
        "colab": {}
      },
      "source": [
        "#we see that the job title has integers in the record which we can remove\n",
        "#handeled above\n",
        "#so commenting this part\n",
        "#cleaned['JOB_TITLE']=cleaned['JOB_TITLE'].str.replace('[0-9(){}[].]', '')\n",
        "#cleaned.head()"
      ],
      "execution_count": 0,
      "outputs": []
    },
    {
      "cell_type": "code",
      "metadata": {
        "colab_type": "code",
        "id": "15py5C4RfXIj",
        "colab": {}
      },
      "source": [
        "#cleaned['SOC_TITLE'].value_counts()"
      ],
      "execution_count": 0,
      "outputs": []
    },
    {
      "cell_type": "code",
      "metadata": {
        "id": "Rs1b1X50C6CK",
        "colab_type": "code",
        "colab": {}
      },
      "source": [
        "cleaned['EMPLOYER_NAME'].value_counts()\n",
        "cleaned = cleaned.groupby(\"EMPLOYER_NAME\").filter(lambda x: len(x) > 15)\n",
        "print(\"DROPPING THE LEAST SIGNIFICANT EMPLYOERS\")\n",
        "#cleaned['EMPLOYER_NAME'].value_counts()"
      ],
      "execution_count": 0,
      "outputs": []
    },
    {
      "cell_type": "code",
      "metadata": {
        "colab_type": "code",
        "id": "67Q2TX1Ju18U",
        "colab": {}
      },
      "source": [
        "Top_Employer=cleaned['EMPLOYER_NAME'].value_counts()[:10]\n",
        "Top_Employer"
      ],
      "execution_count": 0,
      "outputs": []
    },
    {
      "cell_type": "code",
      "metadata": {
        "colab_type": "code",
        "id": "1z8j5d55v2Ak",
        "colab": {}
      },
      "source": [
        "%matplotlib inline\n",
        "import matplotlib.pyplot as plt\n",
        "import seaborn as sns"
      ],
      "execution_count": 0,
      "outputs": []
    },
    {
      "cell_type": "code",
      "metadata": {
        "colab_type": "code",
        "id": "IARZcE10wHBl",
        "colab": {}
      },
      "source": [
        "plt.figure(figsize=[10,10])\n",
        "ax=sns.barplot(y=Top_Employer.index,x=Top_Employer.values,palette=sns.color_palette('viridis',10))\n",
        "ax.tick_params(labelsize=12)\n",
        "for i, v in enumerate(Top_Employer.values): \n",
        "    ax.text(.5, i, v,fontsize=15,color='white',weight='bold')\n",
        "plt.title('Top 10 Companies sponsoring H1B Visa in 2019', fontsize=20)\n",
        "plt.show()"
      ],
      "execution_count": 0,
      "outputs": []
    },
    {
      "cell_type": "code",
      "metadata": {
        "colab_type": "code",
        "id": "SBHPirCRabjw",
        "colab": {}
      },
      "source": [
        "def wage_feature_eng(wage):\n",
        "    if wage <=50000:\n",
        "        return \"VERY LOW\"\n",
        "    elif wage in range(50000,75000):\n",
        "        return \"LOW\"\n",
        "    elif wage in range(75000,100000):\n",
        "        return \"AVERAGE\"\n",
        "    elif wage in range(100000,150000):\n",
        "        return \"HIGH\"\n",
        "    elif wage >=150000:\n",
        "        return \"VERY HIGH\""
      ],
      "execution_count": 0,
      "outputs": []
    },
    {
      "cell_type": "code",
      "metadata": {
        "colab_type": "code",
        "id": "EYUdOnMdafXp",
        "colab": {}
      },
      "source": [
        "cleaned['WAGE_CATEGORY'] = cleaned['WAGES'].apply(wage_feature_eng)\n",
        "cleaned.head()"
      ],
      "execution_count": 0,
      "outputs": []
    },
    {
      "cell_type": "code",
      "metadata": {
        "id": "QLdpSF1WYFBe",
        "colab_type": "code",
        "colab": {}
      },
      "source": [
        "cleaned.columns"
      ],
      "execution_count": 0,
      "outputs": []
    },
    {
      "cell_type": "code",
      "metadata": {
        "id": "wdt_e6hWYFBi",
        "colab_type": "code",
        "colab": {}
      },
      "source": [
        "print(\"BEFORE CLEANING THE WORKSITE_STATE_1 COLUMN\")\n",
        "cleaned[\"WORKSITE_STATE_1\"].value_counts()"
      ],
      "execution_count": 0,
      "outputs": []
    },
    {
      "cell_type": "code",
      "metadata": {
        "id": "d2eB1UQUYFBm",
        "colab_type": "code",
        "colab": {}
      },
      "source": [
        "# Code to clean the \"WORKSITE_STATE_1\" column because some of the values are abbrevations and some of them are names\n",
        "#So changed to names as most of the values are names.   \n",
        "print(\"AFTER CLEANING THE WORKSITE_STATE_1 COLUMN\")\n",
        "\n",
        "cleaned.loc[(cleaned.WORKSITE_STATE_1 == \"AL\"),\"WORKSITE_STATE_1\"] = \"ALABAMA\"\n",
        "cleaned.loc[(cleaned.WORKSITE_STATE_1 == \"AK\"),\"WORKSITE_STATE_1\"] = \"ALASKA\"\n",
        "cleaned.loc[(cleaned.WORKSITE_STATE_1 == \"AZ\"),\"WORKSITE_STATE_1\"] = \"ARIZONA\"\n",
        "cleaned.loc[(cleaned.WORKSITE_STATE_1 == \"AR\"),\"WORKSITE_STATE_1\"] = \"ARKANSAS\"\n",
        "cleaned.loc[(cleaned.WORKSITE_STATE_1 == \"CA\"),\"WORKSITE_STATE_1\"] = \"CALIFORNIA\"\n",
        "cleaned.loc[(cleaned.WORKSITE_STATE_1 == \"CO\"),\"WORKSITE_STATE_1\"] = \"COLORADO\"\n",
        "cleaned.loc[(cleaned.WORKSITE_STATE_1 == \"DE\"),\"WORKSITE_STATE_1\"] = \"DELAWARE\"\n",
        "cleaned.loc[(cleaned.WORKSITE_STATE_1 == \"FL\"),\"WORKSITE_STATE_1\"] = \"FLORIDA\"\n",
        "cleaned.loc[(cleaned.WORKSITE_STATE_1 == \"GA\"),\"WORKSITE_STATE_1\"] = \"GEORGIA\"\n",
        "cleaned.loc[(cleaned.WORKSITE_STATE_1 == \"HI\"),\"WORKSITE_STATE_1\"] = \"HAWAII\"\n",
        "cleaned.loc[(cleaned.WORKSITE_STATE_1 == \"ID\"),\"WORKSITE_STATE_1\"] = \"IDAHO\"\n",
        "cleaned.loc[(cleaned.WORKSITE_STATE_1 == \"IL\"),\"WORKSITE_STATE_1\"] = \"ILLINOIS\"\n",
        "cleaned.loc[(cleaned.WORKSITE_STATE_1 == \"IN\"),\"WORKSITE_STATE_1\"] = \"INDIANA\"\n",
        "cleaned.loc[(cleaned.WORKSITE_STATE_1 == \"IA\"),\"WORKSITE_STATE_1\"] = \"IOWA\"\n",
        "cleaned.loc[(cleaned.WORKSITE_STATE_1 == \"KS\"),\"WORKSITE_STATE_1\"] = \"KANSAS\"\n",
        "cleaned.loc[(cleaned.WORKSITE_STATE_1 == \"KY\"),\"WORKSITE_STATE_1\"] = \"KENTUCKY\"\n",
        "cleaned.loc[(cleaned.WORKSITE_STATE_1 == \"LA\"),\"WORKSITE_STATE_1\"] = \"LOUISIANA\"\n",
        "cleaned.loc[(cleaned.WORKSITE_STATE_1 == \"ME\"),\"WORKSITE_STATE_1\"] = \"MAINE\"\n",
        "cleaned.loc[(cleaned.WORKSITE_STATE_1 == \"MD\"),\"WORKSITE_STATE_1\"] = \"MARYLAND\"\n",
        "cleaned.loc[(cleaned.WORKSITE_STATE_1 == \"MA\"),\"WORKSITE_STATE_1\"] = \"MASSACHUSETTS\"\n",
        "cleaned.loc[(cleaned.WORKSITE_STATE_1 == \"MI\"),\"WORKSITE_STATE_1\"] = \"MICHIGAN\"\n",
        "cleaned.loc[(cleaned.WORKSITE_STATE_1 == \"MN\"),\"WORKSITE_STATE_1\"] = \"MINNESOTA\"\n",
        "cleaned.loc[(cleaned.WORKSITE_STATE_1 == \"MS\"),\"WORKSITE_STATE_1\"] = \"MISSISSIPPI\"\n",
        "cleaned.loc[(cleaned.WORKSITE_STATE_1 == \"MO\"),\"WORKSITE_STATE_1\"] = \"MISSOURI\"\n",
        "cleaned.loc[(cleaned.WORKSITE_STATE_1 == \"MT\"),\"WORKSITE_STATE_1\"] = \"MONTANA\"\n",
        "cleaned.loc[(cleaned.WORKSITE_STATE_1 == \"NE\"),\"WORKSITE_STATE_1\"] = \"NEBRASKA\"\n",
        "cleaned.loc[(cleaned.WORKSITE_STATE_1 == \"NV\"),\"WORKSITE_STATE_1\"] = \"NEVADA\"\n",
        "cleaned.loc[(cleaned.WORKSITE_STATE_1 == \"NH\"),\"WORKSITE_STATE_1\"] = \"NEW HAMPSHIRE\"\n",
        "cleaned.loc[(cleaned.WORKSITE_STATE_1 == \"NJ\"),\"WORKSITE_STATE_1\"] = \"NEW JERSEY\"\n",
        "cleaned.loc[(cleaned.WORKSITE_STATE_1 == \"NM\"),\"WORKSITE_STATE_1\"] = \"NEW MEXICO\"\n",
        "cleaned.loc[(cleaned.WORKSITE_STATE_1 == \"NY\"),\"WORKSITE_STATE_1\"] = \"NEW YORK\"\n",
        "cleaned.loc[(cleaned.WORKSITE_STATE_1 == \"NC\"),\"WORKSITE_STATE_1\"] = \"NORTH CAROLINA\"\n",
        "cleaned.loc[(cleaned.WORKSITE_STATE_1 == \"ND\"),\"WORKSITE_STATE_1\"] = \"NORTH DAKOTA\"\n",
        "cleaned.loc[(cleaned.WORKSITE_STATE_1 == \"OH\"),\"WORKSITE_STATE_1\"] = \"OHIO\"\n",
        "cleaned.loc[(cleaned.WORKSITE_STATE_1 == \"OK\"),\"WORKSITE_STATE_1\"] = \"OKLAHOMA\"\n",
        "cleaned.loc[(cleaned.WORKSITE_STATE_1 == \"OR\"),\"WORKSITE_STATE_1\"] = \"OREGON\"\n",
        "cleaned.loc[(cleaned.WORKSITE_STATE_1 == \"PA\"),\"WORKSITE_STATE_1\"] = \"PENNSYLVANIA\"\n",
        "cleaned.loc[(cleaned.WORKSITE_STATE_1 == \"RI\"),\"WORKSITE_STATE_1\"] = \"RHODE ISLAND\"\n",
        "cleaned.loc[(cleaned.WORKSITE_STATE_1 == \"SC\"),\"WORKSITE_STATE_1\"] = \"SOUTH CAROLINA\"\n",
        "cleaned.loc[(cleaned.WORKSITE_STATE_1 == \"SD\"),\"WORKSITE_STATE_1\"] = \"SOUTH DAKOTA\"\n",
        "cleaned.loc[(cleaned.WORKSITE_STATE_1 == \"TN\"),\"WORKSITE_STATE_1\"] = \"TENNESSEE\"\n",
        "cleaned.loc[(cleaned.WORKSITE_STATE_1 == \"TX\"),\"WORKSITE_STATE_1\"] = \"TEXAS\"\n",
        "cleaned.loc[(cleaned.WORKSITE_STATE_1 == \"UT\"),\"WORKSITE_STATE_1\"] = \"UTAH\"\n",
        "cleaned.loc[(cleaned.WORKSITE_STATE_1 == \"VT\"),\"WORKSITE_STATE_1\"] = \"VERMONT\"\n",
        "cleaned.loc[(cleaned.WORKSITE_STATE_1 == \"VA\"),\"WORKSITE_STATE_1\"] = \"VIRGINIA\"\n",
        "cleaned.loc[(cleaned.WORKSITE_STATE_1 == \"WA\"),\"WORKSITE_STATE_1\"] = \"WASHINGTON\"\n",
        "cleaned.loc[(cleaned.WORKSITE_STATE_1 == \"WV\"),\"WORKSITE_STATE_1\"] = \"WEST VIRGINIA\"\n",
        "cleaned.loc[(cleaned.WORKSITE_STATE_1 == \"WI\"),\"WORKSITE_STATE_1\"] = \"WISCONSIN\"\n",
        "cleaned.loc[(cleaned.WORKSITE_STATE_1 == \"WY\"),\"WORKSITE_STATE_1\"] = \"WYOMING\"\n",
        "cleaned.loc[(cleaned.WORKSITE_STATE_1 == \"PR\"),\"WORKSITE_STATE_1\"] = \"PUERTO RICO\"\n",
        "cleaned.loc[(cleaned.WORKSITE_STATE_1 == \"VI\"),\"WORKSITE_STATE_1\"] = \"U.S. VIRGIN ISLANDS\"\n",
        "cleaned.loc[(cleaned.WORKSITE_STATE_1 == \"MP\"),\"WORKSITE_STATE_1\"] = \"NORTHERN MARIANA ISLANDS\"\n",
        "cleaned.loc[(cleaned.WORKSITE_STATE_1 == \"GU\"),\"WORKSITE_STATE_1\"] = \"GUAM\"\n",
        "cleaned.loc[(cleaned.WORKSITE_STATE_1 == \"MH\"),\"WORKSITE_STATE_1\"] = \"MARSHALL ISLANDS\"\n",
        "cleaned.loc[(cleaned.WORKSITE_STATE_1 == \"PW\"),\"WORKSITE_STATE_1\"] = \"PALAU\"\n",
        "cleaned.loc[(cleaned.WORKSITE_STATE_1 == \"DC\"),\"WORKSITE_STATE_1\"] = \"DISTRICT OF COLUMBIA\"\n",
        "cleaned.loc[(cleaned.WORKSITE_STATE_1 == \"CT\"),\"WORKSITE_STATE_1\"] = \"CONNECTICUT\"\n"
      ],
      "execution_count": 0,
      "outputs": []
    },
    {
      "cell_type": "code",
      "metadata": {
        "id": "vH1_TFOPYFBq",
        "colab_type": "code",
        "colab": {}
      },
      "source": [
        "cleaned[\"WORKSITE_STATE_1\"].value_counts()\n",
        "print(\"CONVERTING CATEGORICAL COLUMNS INTO NUMERIC COLUMNS\")"
      ],
      "execution_count": 0,
      "outputs": []
    },
    {
      "cell_type": "code",
      "metadata": {
        "id": "4GUrigYlCnEm",
        "colab_type": "code",
        "colab": {}
      },
      "source": [
        "cleaned = cleaned.groupby(\"WORKSITE_STATE_1\").filter(lambda x: len(x) > 15)\n",
        "print(\"DROPPING LEAST SIGNIFICANT STATES\")\n",
        "#cleaned[\"WORKSITE_STATE_1\"].value_counts()"
      ],
      "execution_count": 0,
      "outputs": []
    },
    {
      "cell_type": "code",
      "metadata": {
        "id": "CWqlRyKUYFBt",
        "colab_type": "code",
        "colab": {}
      },
      "source": [
        "#CONVERTING CATEGORICAL COLUMNS INTO NUMERIC COLUMNS\n",
        "print(cleaned[\"CASE_STATUS\"].value_counts())\n",
        "cleaned.loc[(cleaned.CASE_STATUS == \"CERTIFIED\"),\"CASE_STATUS\"] = 1\n",
        "cleaned.loc[(cleaned.CASE_STATUS == \"DENIED\"),\"CASE_STATUS\"] = 0\n",
        "print(cleaned[\"CASE_STATUS\"].value_counts())"
      ],
      "execution_count": 0,
      "outputs": []
    },
    {
      "cell_type": "code",
      "metadata": {
        "id": "5N8mMVwCYFBw",
        "colab_type": "code",
        "colab": {}
      },
      "source": [
        "print(cleaned[\"FULL_TIME_POSITION\"].value_counts())\n",
        "cleaned.loc[(cleaned.FULL_TIME_POSITION == \"Y\"),\"FULL_TIME_POSITION\"] = 1\n",
        "cleaned.loc[(cleaned.FULL_TIME_POSITION == \"N\"),\"FULL_TIME_POSITION\"] = 0\n",
        "print(cleaned[\"FULL_TIME_POSITION\"].value_counts())"
      ],
      "execution_count": 0,
      "outputs": []
    },
    {
      "cell_type": "code",
      "metadata": {
        "id": "z_8BeN-WYFBy",
        "colab_type": "code",
        "colab": {}
      },
      "source": [
        "#ONE HOT ENCODING ON SOC_CODE column\n",
        "from sklearn.preprocessing import OneHotEncoder\n",
        "\n",
        "Dataset = cleaned[[\"CASE_STATUS\", \"FULL_TIME_POSITION\", \"SOC_CODE\", \"SOC_TITLE\", \"EMPLOYER_NAME\", \"WORKSITE_STATE_1\", \"WAGES\"]]\n",
        "Dataset.head()\n",
        "SOC_Encoding = OneHotEncoder(handle_unknown='ignore',sparse = True)\n",
        "SOC_Encoding_df = pd.DataFrame(Encoding.fit_transform(cleaned[[\"SOC_CODE\"]]).toarray())\n",
        "SOC_Encoding_df = pd.DataFrame(Encoding.fit_transform(cleaned1[[\"SOC_CODE\"]]).toarray())"
      ],
      "execution_count": 0,
      "outputs": []
    },
    {
      "cell_type": "code",
      "metadata": {
        "id": "75PtP1FaYFB1",
        "colab_type": "code",
        "colab": {}
      },
      "source": [
        "SOC_Encoding_df.head()"
      ],
      "execution_count": 0,
      "outputs": []
    }
  ]
}