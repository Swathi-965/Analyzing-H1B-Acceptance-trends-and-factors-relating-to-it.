{
 "cells": [
  {
   "cell_type": "markdown",
   "metadata": {
    "colab_type": "text",
    "id": "RFnPSdxLC6em"
   },
   "source": [
    "# Analysing H1B Acceptance Trends "
   ]
  },
  {
   "cell_type": "markdown",
   "metadata": {
    "colab_type": "text",
    "id": "Uh8CJdwBJOAL"
   },
   "source": [
    "H1B visa is a nonimmigrant visa issued to gradute level workers which allows them to work in the United States. The employer sponsors the H1B visa for workers with theoretical or technical expertise in specialized fields such as in IT, finance, accounting etc. An interesting fact about immigrant workers is that about 52 percent of new Silicon valley companies were founded by such workers during 1995 and 2005. Some famous CEOs like Indira Nooyi (Pepsico), Elon Musk (Tesla), Sundar Pichai (Google),Satya Nadella (Microsoft) once arrived to the US on a H1B visa."
   ]
  },
  {
   "cell_type": "markdown",
   "metadata": {
    "colab_type": "text",
    "id": "QIe1lq1-RyDV"
   },
   "source": [
    "**Motivation**: Our team consists of five international gradute students, in the future we will be applying for H1B visa. The visa application process seems very long, complicated and uncertain. So we decided to understand this process and use Machine learning algorithms to predict the acceptance rate and trends of H1B visa. "
   ]
  },
  {
   "cell_type": "markdown",
   "metadata": {
    "colab_type": "text",
    "id": "kjQ8YI2GTfb6"
   },
   "source": [
    "## Data \n",
    "The data used in the project has been collected from <a href=\"https://www.foreignlaborcert.doleta.gov/performancedata.cfm\">the Office of Foreign Labor Certification (OFLC).</a> "
   ]
  },
  {
   "cell_type": "code",
   "execution_count": null,
   "metadata": {
    "colab": {
     "base_uri": "https://localhost:8080/",
     "height": 122
    },
    "colab_type": "code",
    "id": "eUglaNmlQ44L",
    "outputId": "b915b8d8-490d-4bf4-98db-8e8151e59922"
   },
   "outputs": [],
   "source": [
    "from google.colab import drive\n",
    "drive.mount('/content/gdrive')"
   ]
  },
  {
   "cell_type": "code",
   "execution_count": null,
   "metadata": {
    "colab": {
     "base_uri": "https://localhost:8080/",
     "height": 241
    },
    "colab_type": "code",
    "id": "_sSzHVSl3-bD",
    "outputId": "ab9bf144-a50d-4be5-85fe-0c16d1d97e74"
   },
   "outputs": [],
   "source": [
    "\n",
    "!pip install autocorrect\n",
    "import nltk\n",
    "from textblob import TextBlob\n",
    "from autocorrect import Speller \n",
    "nltk.download('wordnet')\n",
    "import pandas as pd\n",
    "import numpy as np\n",
    "import warnings"
   ]
  },
  {
   "cell_type": "markdown",
   "metadata": {
    "colab_type": "text",
    "id": "FARuLUkuV7T8"
   },
   "source": [
    "## Exploratory Data Analysis"
   ]
  },
  {
   "cell_type": "markdown",
   "metadata": {
    "colab_type": "text",
    "id": "pleklaelV_xO"
   },
   "source": [
    "Before we begin working on our data we need to understand the traits of our data which we accomplish using EDA. We see that we have about 260 columns , not all 260 columns have essential information that contributes to our analysis. Hence we pick out the columns such as case status( Accepted/ Denied) ,Employer, Job title etc. "
   ]
  },
  {
   "cell_type": "code",
   "execution_count": 222,
   "metadata": {
    "colab": {
     "base_uri": "https://localhost:8080/",
     "height": 71
    },
    "colab_type": "code",
    "id": "iCiYlOyXHHKJ",
    "outputId": "39df68e3-d8df-4797-af48-aa2d5bf6f29e"
   },
   "outputs": [
    {
     "name": "stderr",
     "output_type": "stream",
     "text": [
      "C:\\Users\\Charic\\Documents\\Python_Scripts\\2_semester\\data_science_env\\lib\\site-packages\\IPython\\core\\interactiveshell.py:3051: DtypeWarning: Columns (0,1,2,3,4,5,6,7,8,9,10,11,13,14,19,20,21,22,23,24,25,26,27,28,29,31,32,33,34,35,36,37,38,39,40,41,42,43,45,46,47,48,49,50,51,52,53,54,55,57,58,59,61,64,66,67,68,69,70,71,72,73,76,78,79,80,82,85,87,88,89,90,91,92,93,94,97,98,99,100,101,103,106,108,109,110,111,112,113,114,115,121,122,124,127,129,130,131,132,133,134,135,136,142,143,145,148,150,151,152,153,154,155,156,157,160,162,163,164,166,169,171,172,173,174,175,176,177,178,184,185,187,190,192,193,194,195,196,197,198,199,205,206,208,211,213,214,215,216,217,218,219,220,223,225,226,227,229,232,234,235,236,237,238,239,240,244,246,247,248,250,253,254,255,256,257,258,259) have mixed types.Specify dtype option on import or set low_memory=False.\n",
      "  interactivity=interactivity, compiler=compiler, result=result)\n"
     ]
    }
   ],
   "source": [
    "#Read the csv file and stored in file\n",
    "#file=pd.read_csv('/content/gdrive/My Drive/H-1B_Disclosure_Data_FY2019.csv')\n",
    "file=pd.read_csv('../data/H-1B_Disclosure_Data_FY2019.csv')"
   ]
  },
  {
   "cell_type": "code",
   "execution_count": 223,
   "metadata": {
    "colab": {
     "base_uri": "https://localhost:8080/",
     "height": 34
    },
    "colab_type": "code",
    "id": "XT6Wmc2-WVo7",
    "outputId": "b1f659c9-cd9b-4f16-961c-6f78e6eb95a7"
   },
   "outputs": [
    {
     "data": {
      "text/plain": [
       "(1048548, 260)"
      ]
     },
     "execution_count": 223,
     "metadata": {},
     "output_type": "execute_result"
    }
   ],
   "source": [
    "file.shape"
   ]
  },
  {
   "cell_type": "code",
   "execution_count": 224,
   "metadata": {
    "colab": {
     "base_uri": "https://localhost:8080/",
     "height": 479
    },
    "colab_type": "code",
    "id": "ZxxeAh5SX0Bc",
    "outputId": "1346c035-881c-42fc-83b5-e88749c9ca61"
   },
   "outputs": [
    {
     "data": {
      "text/html": [
       "<div>\n",
       "<style scoped>\n",
       "    .dataframe tbody tr th:only-of-type {\n",
       "        vertical-align: middle;\n",
       "    }\n",
       "\n",
       "    .dataframe tbody tr th {\n",
       "        vertical-align: top;\n",
       "    }\n",
       "\n",
       "    .dataframe thead th {\n",
       "        text-align: right;\n",
       "    }\n",
       "</style>\n",
       "<table border=\"1\" class=\"dataframe\">\n",
       "  <thead>\n",
       "    <tr style=\"text-align: right;\">\n",
       "      <th></th>\n",
       "      <th>CASE_NUMBER</th>\n",
       "      <th>CASE_STATUS</th>\n",
       "      <th>CASE_SUBMITTED</th>\n",
       "      <th>DECISION_DATE</th>\n",
       "      <th>VISA_CLASS</th>\n",
       "      <th>FULL_TIME_POSITION</th>\n",
       "      <th>JOB_TITLE</th>\n",
       "      <th>SOC_CODE</th>\n",
       "      <th>SOC_TITLE</th>\n",
       "      <th>EMPLOYER_NAME</th>\n",
       "      <th>WAGE_RATE_OF_PAY_FROM_1</th>\n",
       "      <th>WAGE_UNIT_OF_PAY_1</th>\n",
       "      <th>NAICS_CODE</th>\n",
       "      <th>WORKSITE_CITY_1</th>\n",
       "      <th>WORKSITE_STATE_1</th>\n",
       "    </tr>\n",
       "  </thead>\n",
       "  <tbody>\n",
       "    <tr>\n",
       "      <th>0</th>\n",
       "      <td>I-200-16092-327771</td>\n",
       "      <td>WITHDRAWN</td>\n",
       "      <td>4/8/2016</td>\n",
       "      <td>4/30/2019</td>\n",
       "      <td>H-1B</td>\n",
       "      <td>Y</td>\n",
       "      <td>ASSOCIATE CREATIVE DIRECTOR</td>\n",
       "      <td>11-2011</td>\n",
       "      <td>ADVERTISING AND PROMOTIONS MANAGERS</td>\n",
       "      <td>R/GA MEDIA GROUP, INC.</td>\n",
       "      <td>$179,000.00</td>\n",
       "      <td>Year</td>\n",
       "      <td>541810.0</td>\n",
       "      <td>NEW YORK</td>\n",
       "      <td>NY</td>\n",
       "    </tr>\n",
       "    <tr>\n",
       "      <th>1</th>\n",
       "      <td>I-203-17188-450729</td>\n",
       "      <td>WITHDRAWN</td>\n",
       "      <td>7/14/2017</td>\n",
       "      <td>5/13/2019</td>\n",
       "      <td>E-3 Australian</td>\n",
       "      <td>Y</td>\n",
       "      <td>ACCOUNT SUPERVISOR (MOTHER)</td>\n",
       "      <td>11-2011</td>\n",
       "      <td>ADVERTISING AND PROMOTIONS MANAGERS</td>\n",
       "      <td>MOTHER INDUSTRIES LLC</td>\n",
       "      <td>$110,000.00</td>\n",
       "      <td>Year</td>\n",
       "      <td>541810.0</td>\n",
       "      <td>NEW YORK</td>\n",
       "      <td>NY</td>\n",
       "    </tr>\n",
       "    <tr>\n",
       "      <th>2</th>\n",
       "      <td>I-203-17229-572307</td>\n",
       "      <td>WITHDRAWN</td>\n",
       "      <td>8/23/2017</td>\n",
       "      <td>4/30/2019</td>\n",
       "      <td>E-3 Australian</td>\n",
       "      <td>Y</td>\n",
       "      <td>EXECUTIVE CREATIVE DIRECTOR</td>\n",
       "      <td>11-2011</td>\n",
       "      <td>ADVERTISING AND PROMOTIONS MANAGERS</td>\n",
       "      <td>WE ARE UNLIMITED, INC.</td>\n",
       "      <td>$275,000.00</td>\n",
       "      <td>Year</td>\n",
       "      <td>541810.0</td>\n",
       "      <td>CHICAGO</td>\n",
       "      <td>IL</td>\n",
       "    </tr>\n",
       "    <tr>\n",
       "      <th>3</th>\n",
       "      <td>I-203-17356-299648</td>\n",
       "      <td>WITHDRAWN</td>\n",
       "      <td>12/22/2017</td>\n",
       "      <td>8/20/2019</td>\n",
       "      <td>E-3 Australian</td>\n",
       "      <td>Y</td>\n",
       "      <td>PROJECT MANAGEMENT LEAD</td>\n",
       "      <td>11-2011</td>\n",
       "      <td>ADVERTISING AND PROMOTIONS MANAGERS</td>\n",
       "      <td>HELLO ELEPHANT, LLC</td>\n",
       "      <td>$140,000.00</td>\n",
       "      <td>Year</td>\n",
       "      <td>541810.0</td>\n",
       "      <td>BROOKLYN</td>\n",
       "      <td>NY</td>\n",
       "    </tr>\n",
       "    <tr>\n",
       "      <th>4</th>\n",
       "      <td>I-203-18008-577576</td>\n",
       "      <td>WITHDRAWN</td>\n",
       "      <td>1/10/2018</td>\n",
       "      <td>4/15/2019</td>\n",
       "      <td>E-3 Australian</td>\n",
       "      <td>Y</td>\n",
       "      <td>CREATIVE DIRECTOR, UX</td>\n",
       "      <td>11-2011</td>\n",
       "      <td>ADVERTISING AND PROMOTIONS MANAGERS</td>\n",
       "      <td>HELLO ELEPHANT, LLC</td>\n",
       "      <td>$180,000.00</td>\n",
       "      <td>Year</td>\n",
       "      <td>541810.0</td>\n",
       "      <td>BROOKLYN</td>\n",
       "      <td>NY</td>\n",
       "    </tr>\n",
       "  </tbody>\n",
       "</table>\n",
       "</div>"
      ],
      "text/plain": [
       "          CASE_NUMBER CASE_STATUS CASE_SUBMITTED DECISION_DATE  \\\n",
       "0  I-200-16092-327771   WITHDRAWN       4/8/2016     4/30/2019   \n",
       "1  I-203-17188-450729   WITHDRAWN      7/14/2017     5/13/2019   \n",
       "2  I-203-17229-572307   WITHDRAWN      8/23/2017     4/30/2019   \n",
       "3  I-203-17356-299648   WITHDRAWN     12/22/2017     8/20/2019   \n",
       "4  I-203-18008-577576   WITHDRAWN      1/10/2018     4/15/2019   \n",
       "\n",
       "       VISA_CLASS FULL_TIME_POSITION                    JOB_TITLE SOC_CODE  \\\n",
       "0            H-1B                  Y  ASSOCIATE CREATIVE DIRECTOR  11-2011   \n",
       "1  E-3 Australian                  Y  ACCOUNT SUPERVISOR (MOTHER)  11-2011   \n",
       "2  E-3 Australian                  Y  EXECUTIVE CREATIVE DIRECTOR  11-2011   \n",
       "3  E-3 Australian                  Y      PROJECT MANAGEMENT LEAD  11-2011   \n",
       "4  E-3 Australian                  Y        CREATIVE DIRECTOR, UX  11-2011   \n",
       "\n",
       "                             SOC_TITLE           EMPLOYER_NAME  \\\n",
       "0  ADVERTISING AND PROMOTIONS MANAGERS  R/GA MEDIA GROUP, INC.   \n",
       "1  ADVERTISING AND PROMOTIONS MANAGERS   MOTHER INDUSTRIES LLC   \n",
       "2  ADVERTISING AND PROMOTIONS MANAGERS  WE ARE UNLIMITED, INC.   \n",
       "3  ADVERTISING AND PROMOTIONS MANAGERS     HELLO ELEPHANT, LLC   \n",
       "4  ADVERTISING AND PROMOTIONS MANAGERS     HELLO ELEPHANT, LLC   \n",
       "\n",
       "  WAGE_RATE_OF_PAY_FROM_1 WAGE_UNIT_OF_PAY_1  NAICS_CODE WORKSITE_CITY_1  \\\n",
       "0             $179,000.00               Year    541810.0        NEW YORK   \n",
       "1             $110,000.00               Year    541810.0        NEW YORK   \n",
       "2             $275,000.00               Year    541810.0         CHICAGO   \n",
       "3             $140,000.00               Year    541810.0        BROOKLYN   \n",
       "4             $180,000.00               Year    541810.0        BROOKLYN   \n",
       "\n",
       "  WORKSITE_STATE_1  \n",
       "0               NY  \n",
       "1               NY  \n",
       "2               IL  \n",
       "3               NY  \n",
       "4               NY  "
      ]
     },
     "execution_count": 224,
     "metadata": {},
     "output_type": "execute_result"
    }
   ],
   "source": [
    "cleaned=file[['CASE_NUMBER','CASE_STATUS','CASE_SUBMITTED','DECISION_DATE','VISA_CLASS','FULL_TIME_POSITION','JOB_TITLE','SOC_CODE','SOC_TITLE',\\\n",
    "              'EMPLOYER_NAME','WAGE_RATE_OF_PAY_FROM_1','WAGE_UNIT_OF_PAY_1','NAICS_CODE','WORKSITE_CITY_1','WORKSITE_STATE_1']]\n",
    "cleaned.head()"
   ]
  },
  {
   "cell_type": "code",
   "execution_count": 225,
   "metadata": {
    "colab": {
     "base_uri": "https://localhost:8080/",
     "height": 34
    },
    "colab_type": "code",
    "id": "7sKPhmuNf6eW",
    "outputId": "ff0ef8b5-24fd-4650-81d6-831c5cbfe2f9"
   },
   "outputs": [
    {
     "data": {
      "text/plain": [
       "(1048548, 15)"
      ]
     },
     "execution_count": 225,
     "metadata": {},
     "output_type": "execute_result"
    }
   ],
   "source": [
    "cleaned.shape"
   ]
  },
  {
   "cell_type": "code",
   "execution_count": 226,
   "metadata": {
    "colab": {
     "base_uri": "https://localhost:8080/",
     "height": 102
    },
    "colab_type": "code",
    "id": "BbgGJEB9XpO6",
    "outputId": "77d86b2c-a433-4b9a-e0b4-6001a3185f35"
   },
   "outputs": [
    {
     "data": {
      "text/plain": [
       "H-1B               649083\n",
       "E-3 Australian      13087\n",
       "H-1B1 Singapore      1291\n",
       "H-1B1 Chile          1155\n",
       "Name: VISA_CLASS, dtype: int64"
      ]
     },
     "execution_count": 226,
     "metadata": {},
     "output_type": "execute_result"
    }
   ],
   "source": [
    "cleaned['VISA_CLASS'].value_counts()"
   ]
  },
  {
   "cell_type": "code",
   "execution_count": 227,
   "metadata": {
    "colab": {
     "base_uri": "https://localhost:8080/",
     "height": 122
    },
    "colab_type": "code",
    "id": "NLttcaMGZC1l",
    "outputId": "93927a2a-1a78-47f7-a6b9-b9e69d755472"
   },
   "outputs": [
    {
     "name": "stderr",
     "output_type": "stream",
     "text": [
      "C:\\Users\\Charic\\Documents\\Python_Scripts\\2_semester\\data_science_env\\lib\\site-packages\\pandas\\core\\frame.py:3994: SettingWithCopyWarning: \n",
      "A value is trying to be set on a copy of a slice from a DataFrame\n",
      "\n",
      "See the caveats in the documentation: https://pandas.pydata.org/pandas-docs/stable/user_guide/indexing.html#returning-a-view-versus-a-copy\n",
      "  errors=errors,\n"
     ]
    }
   ],
   "source": [
    "# Visa class has many categories which are not of use , we require only H1B visa type , hence we drop all records with other visa types\n",
    "cleaned.drop(labels=cleaned.loc[cleaned['VISA_CLASS']!='H-1B'].index , inplace=True)"
   ]
  },
  {
   "cell_type": "code",
   "execution_count": 228,
   "metadata": {
    "colab": {
     "base_uri": "https://localhost:8080/",
     "height": 68
    },
    "colab_type": "code",
    "id": "3dzct3CLeVuI",
    "outputId": "58d3a1a4-9fce-4aa9-adf5-aac08a11ce31"
   },
   "outputs": [
    {
     "data": {
      "text/plain": [
       "Y    638346\n",
       "N     10737\n",
       "Name: FULL_TIME_POSITION, dtype: int64"
      ]
     },
     "execution_count": 228,
     "metadata": {},
     "output_type": "execute_result"
    }
   ],
   "source": [
    "cleaned['FULL_TIME_POSITION'].value_counts()"
   ]
  },
  {
   "cell_type": "code",
   "execution_count": 229,
   "metadata": {
    "colab": {
     "base_uri": "https://localhost:8080/",
     "height": 119
    },
    "colab_type": "code",
    "id": "qox8ruM-Xff_",
    "outputId": "fbe21f04-bcff-4eea-e397-81adb5cde617"
   },
   "outputs": [
    {
     "data": {
      "text/plain": [
       "CERTIFIED              578640\n",
       "CERTIFIED-WITHDRAWN     46050\n",
       "WITHDRAWN               19227\n",
       "DENIED                   5166\n",
       "Name: CASE_STATUS, dtype: int64"
      ]
     },
     "execution_count": 229,
     "metadata": {},
     "output_type": "execute_result"
    }
   ],
   "source": [
    "cleaned['CASE_STATUS'].value_counts()"
   ]
  },
  {
   "cell_type": "code",
   "execution_count": 230,
   "metadata": {
    "colab": {
     "base_uri": "https://localhost:8080/",
     "height": 666
    },
    "colab_type": "code",
    "id": "7Cz9Kkghr3JP",
    "outputId": "e682961a-67ef-4fa4-fdab-33590860ee78"
   },
   "outputs": [
    {
     "name": "stderr",
     "output_type": "stream",
     "text": [
      "C:\\Users\\Charic\\Documents\\Python_Scripts\\2_semester\\data_science_env\\lib\\site-packages\\pandas\\core\\frame.py:4169: SettingWithCopyWarning: \n",
      "A value is trying to be set on a copy of a slice from a DataFrame\n",
      "\n",
      "See the caveats in the documentation: https://pandas.pydata.org/pandas-docs/stable/user_guide/indexing.html#returning-a-view-versus-a-copy\n",
      "  method=method,\n"
     ]
    },
    {
     "data": {
      "text/html": [
       "<div>\n",
       "<style scoped>\n",
       "    .dataframe tbody tr th:only-of-type {\n",
       "        vertical-align: middle;\n",
       "    }\n",
       "\n",
       "    .dataframe tbody tr th {\n",
       "        vertical-align: top;\n",
       "    }\n",
       "\n",
       "    .dataframe thead th {\n",
       "        text-align: right;\n",
       "    }\n",
       "</style>\n",
       "<table border=\"1\" class=\"dataframe\">\n",
       "  <thead>\n",
       "    <tr style=\"text-align: right;\">\n",
       "      <th></th>\n",
       "      <th>CASE_NUMBER</th>\n",
       "      <th>CASE_STATUS</th>\n",
       "      <th>CASE_SUBMITTED</th>\n",
       "      <th>DECISION_DATE</th>\n",
       "      <th>VISA_CLASS</th>\n",
       "      <th>FULL_TIME_POSITION</th>\n",
       "      <th>JOB_TITLE</th>\n",
       "      <th>SOC_CODE</th>\n",
       "      <th>SOC_TITLE</th>\n",
       "      <th>EMPLOYER_NAME</th>\n",
       "      <th>WAGE_RATE_OF_PAY_FROM_1</th>\n",
       "      <th>WAGE_UNIT_OF_PAY_1</th>\n",
       "      <th>NAICS_CODE</th>\n",
       "      <th>WORKSITE_CITY_1</th>\n",
       "      <th>WORKSITE_STATE_1</th>\n",
       "    </tr>\n",
       "  </thead>\n",
       "  <tbody>\n",
       "    <tr>\n",
       "      <th>18</th>\n",
       "      <td>I-200-17250-072640</td>\n",
       "      <td>CERTIFIED</td>\n",
       "      <td>9/7/2017</td>\n",
       "      <td>1/7/2019</td>\n",
       "      <td>H-1B</td>\n",
       "      <td>Y</td>\n",
       "      <td>EXECUTIVE DIRECTOR, STRATEGY</td>\n",
       "      <td>11-2011</td>\n",
       "      <td>ADVERTISING AND PROMOTIONS MANAGERS</td>\n",
       "      <td>FIGLIULO &amp; PARTNERS LLC</td>\n",
       "      <td>$230,000.00</td>\n",
       "      <td>Year</td>\n",
       "      <td>541810.0</td>\n",
       "      <td>NEW YORK</td>\n",
       "      <td>NY</td>\n",
       "    </tr>\n",
       "    <tr>\n",
       "      <th>19</th>\n",
       "      <td>I-200-18026-717110</td>\n",
       "      <td>CERTIFIED</td>\n",
       "      <td>1/26/2018</td>\n",
       "      <td>7/5/2019</td>\n",
       "      <td>H-1B</td>\n",
       "      <td>Y</td>\n",
       "      <td>PROJECT OPERATIONS MANAGER</td>\n",
       "      <td>11-2011</td>\n",
       "      <td>ADVERTISING AND PROMOTIONS MANAGERS</td>\n",
       "      <td>INVISIONAPP INC.</td>\n",
       "      <td>$107,000.00</td>\n",
       "      <td>Year</td>\n",
       "      <td>541511.0</td>\n",
       "      <td>SAN FRANCISCO</td>\n",
       "      <td>CA</td>\n",
       "    </tr>\n",
       "    <tr>\n",
       "      <th>21</th>\n",
       "      <td>I-200-18039-081565</td>\n",
       "      <td>CERTIFIED</td>\n",
       "      <td>3/5/2018</td>\n",
       "      <td>1/8/2019</td>\n",
       "      <td>H-1B</td>\n",
       "      <td>Y</td>\n",
       "      <td>MANAGER OF LEAGUE AND TOURNAMENT SERVICES</td>\n",
       "      <td>11-2011</td>\n",
       "      <td>ADVERTISING AND PROMOTIONS MANAGERS</td>\n",
       "      <td>OREGON YOUTH SOCCER ASSOCIATION</td>\n",
       "      <td>$49,087.00</td>\n",
       "      <td>Year</td>\n",
       "      <td>61162.0</td>\n",
       "      <td>BEAVERTON</td>\n",
       "      <td>OR</td>\n",
       "    </tr>\n",
       "    <tr>\n",
       "      <th>22</th>\n",
       "      <td>I-200-18082-340860</td>\n",
       "      <td>CERTIFIED</td>\n",
       "      <td>3/23/2018</td>\n",
       "      <td>4/22/2019</td>\n",
       "      <td>H-1B</td>\n",
       "      <td>Y</td>\n",
       "      <td>DIRECTOR, DEMAND</td>\n",
       "      <td>11-2011</td>\n",
       "      <td>ADVERTISING AND PROMOTIONS MANAGERS</td>\n",
       "      <td>FACTUAL, INC.</td>\n",
       "      <td>$172,930.00</td>\n",
       "      <td>Year</td>\n",
       "      <td>511210.0</td>\n",
       "      <td>NEW YORK</td>\n",
       "      <td>NY</td>\n",
       "    </tr>\n",
       "    <tr>\n",
       "      <th>24</th>\n",
       "      <td>I-200-18162-689783</td>\n",
       "      <td>CERTIFIED</td>\n",
       "      <td>9/26/2018</td>\n",
       "      <td>10/2/2018</td>\n",
       "      <td>H-1B</td>\n",
       "      <td>N</td>\n",
       "      <td>ADVERSTING AND PROMOTIONS MANAGER</td>\n",
       "      <td>11-2011</td>\n",
       "      <td>ADVERTISING AND PROMOTIONS MANAGERS</td>\n",
       "      <td>FANTUAN GROUP INC</td>\n",
       "      <td>$33.00</td>\n",
       "      <td>Hour</td>\n",
       "      <td>511210.0</td>\n",
       "      <td>CHICAGO</td>\n",
       "      <td>IL</td>\n",
       "    </tr>\n",
       "  </tbody>\n",
       "</table>\n",
       "</div>"
      ],
      "text/plain": [
       "           CASE_NUMBER CASE_STATUS CASE_SUBMITTED DECISION_DATE VISA_CLASS  \\\n",
       "18  I-200-17250-072640   CERTIFIED       9/7/2017      1/7/2019       H-1B   \n",
       "19  I-200-18026-717110   CERTIFIED      1/26/2018      7/5/2019       H-1B   \n",
       "21  I-200-18039-081565   CERTIFIED       3/5/2018      1/8/2019       H-1B   \n",
       "22  I-200-18082-340860   CERTIFIED      3/23/2018     4/22/2019       H-1B   \n",
       "24  I-200-18162-689783   CERTIFIED      9/26/2018     10/2/2018       H-1B   \n",
       "\n",
       "   FULL_TIME_POSITION                                  JOB_TITLE SOC_CODE  \\\n",
       "18                  Y               EXECUTIVE DIRECTOR, STRATEGY  11-2011   \n",
       "19                  Y                 PROJECT OPERATIONS MANAGER  11-2011   \n",
       "21                  Y  MANAGER OF LEAGUE AND TOURNAMENT SERVICES  11-2011   \n",
       "22                  Y                           DIRECTOR, DEMAND  11-2011   \n",
       "24                  N          ADVERSTING AND PROMOTIONS MANAGER  11-2011   \n",
       "\n",
       "                              SOC_TITLE                    EMPLOYER_NAME  \\\n",
       "18  ADVERTISING AND PROMOTIONS MANAGERS          FIGLIULO & PARTNERS LLC   \n",
       "19  ADVERTISING AND PROMOTIONS MANAGERS                 INVISIONAPP INC.   \n",
       "21  ADVERTISING AND PROMOTIONS MANAGERS  OREGON YOUTH SOCCER ASSOCIATION   \n",
       "22  ADVERTISING AND PROMOTIONS MANAGERS                    FACTUAL, INC.   \n",
       "24  ADVERTISING AND PROMOTIONS MANAGERS                FANTUAN GROUP INC   \n",
       "\n",
       "   WAGE_RATE_OF_PAY_FROM_1 WAGE_UNIT_OF_PAY_1  NAICS_CODE WORKSITE_CITY_1  \\\n",
       "18             $230,000.00               Year    541810.0        NEW YORK   \n",
       "19             $107,000.00               Year    541511.0   SAN FRANCISCO   \n",
       "21              $49,087.00               Year     61162.0       BEAVERTON   \n",
       "22             $172,930.00               Year    511210.0        NEW YORK   \n",
       "24                  $33.00               Hour    511210.0         CHICAGO   \n",
       "\n",
       "   WORKSITE_STATE_1  \n",
       "18               NY  \n",
       "19               CA  \n",
       "21               OR  \n",
       "22               NY  \n",
       "24               IL  "
      ]
     },
     "execution_count": 230,
     "metadata": {},
     "output_type": "execute_result"
    }
   ],
   "source": [
    "#As we want to only need accepted and denied cases we are dropping withdrawn from the data frame. \n",
    "#Case status of class certified-withdraw were certified earlier and later withdraw which can be considered a\n",
    "cleaned.replace({\"CASE_STATUS\":\"CERTIFIED-WITHDRAWN\"},\"CERTIFIED\",inplace=True)\n",
    "cleaned.drop(labels=cleaned.loc[cleaned['CASE_STATUS']=='WITHDRAWN'].index , inplace=True)\n",
    "cleaned.head()"
   ]
  },
  {
   "cell_type": "code",
   "execution_count": null,
   "metadata": {
    "colab": {},
    "colab_type": "code",
    "id": "75W7CN49Yvhf"
   },
   "outputs": [],
   "source": [
    "#cleaned.info()"
   ]
  },
  {
   "cell_type": "code",
   "execution_count": 231,
   "metadata": {
    "colab": {
     "base_uri": "https://localhost:8080/",
     "height": 68
    },
    "colab_type": "code",
    "id": "F5SSKy8mVr01",
    "outputId": "3e9ae2fd-d038-4dab-80ea-398bdcb2c5b6"
   },
   "outputs": [
    {
     "data": {
      "text/plain": [
       "<class 'float'>    460442\n",
       "<class 'str'>      169414\n",
       "Name: WAGE_RATE_OF_PAY_FROM_1, dtype: int64"
      ]
     },
     "execution_count": 231,
     "metadata": {},
     "output_type": "execute_result"
    }
   ],
   "source": [
    "#the column wages has a mix of both string and float value types and some record have the symbol '$' which we want to remove\n",
    "cleaned['WAGE_RATE_OF_PAY_FROM_1'].apply(type).value_counts()"
   ]
  },
  {
   "cell_type": "code",
   "execution_count": null,
   "metadata": {
    "colab": {
     "base_uri": "https://localhost:8080/",
     "height": 68
    },
    "colab_type": "code",
    "id": "dxghSqYygMTm",
    "outputId": "bead1f17-f9e6-453c-990e-2147b7b5b499"
   },
   "outputs": [],
   "source": [
    "cleaned['WORKSITE_STATE_1'].apply(type).value_counts()"
   ]
  },
  {
   "cell_type": "code",
   "execution_count": 232,
   "metadata": {
    "colab": {},
    "colab_type": "code",
    "id": "cDAglVs6XHVB"
   },
   "outputs": [],
   "source": [
    "def clean_wages(w):\n",
    "    \"\"\" Function to remove '$' symbol and other delimiters from wages column which consistes of str and float type values\n",
    "    if the column entry is string type then remove the symbols else return the column value as it is \n",
    "    \"\"\"\n",
    "    if isinstance(w, str):\n",
    "        return(w.replace('$', '').replace(',', ''))\n",
    "    return(w)"
   ]
  },
  {
   "cell_type": "code",
   "execution_count": 233,
   "metadata": {
    "colab": {
     "base_uri": "https://localhost:8080/",
     "height": 139
    },
    "colab_type": "code",
    "id": "Py3xCbSawIpR",
    "outputId": "f9f0c191-256b-4370-a930-33a5f045923f"
   },
   "outputs": [
    {
     "name": "stderr",
     "output_type": "stream",
     "text": [
      "C:\\Users\\Charic\\Documents\\Python_Scripts\\2_semester\\data_science_env\\lib\\site-packages\\ipykernel_launcher.py:1: SettingWithCopyWarning: \n",
      "A value is trying to be set on a copy of a slice from a DataFrame.\n",
      "Try using .loc[row_indexer,col_indexer] = value instead\n",
      "\n",
      "See the caveats in the documentation: https://pandas.pydata.org/pandas-docs/stable/user_guide/indexing.html#returning-a-view-versus-a-copy\n",
      "  \"\"\"Entry point for launching an IPython kernel.\n"
     ]
    }
   ],
   "source": [
    "cleaned['WAGES']=cleaned['WAGE_RATE_OF_PAY_FROM_1'].apply(clean_wages).astype('float')\n",
    "#cleaned.info()"
   ]
  },
  {
   "cell_type": "code",
   "execution_count": 234,
   "metadata": {
    "colab": {
     "base_uri": "https://localhost:8080/",
     "height": 119
    },
    "colab_type": "code",
    "id": "yKCdooZsQ7yD",
    "outputId": "ad04e651-10bf-471a-cf3c-5934ca0e6a5e"
   },
   "outputs": [
    {
     "data": {
      "text/plain": [
       "Year         587386\n",
       "Hour          41927\n",
       "Month           342\n",
       "Bi-Weekly       105\n",
       "Week             92\n",
       "Name: WAGE_UNIT_OF_PAY_1, dtype: int64"
      ]
     },
     "execution_count": 234,
     "metadata": {},
     "output_type": "execute_result"
    }
   ],
   "source": [
    "# the wage information that we have available has different unit of pay\n",
    "cleaned['WAGE_UNIT_OF_PAY_1'].value_counts()"
   ]
  },
  {
   "cell_type": "code",
   "execution_count": 235,
   "metadata": {
    "colab": {
     "base_uri": "https://localhost:8080/",
     "height": 445
    },
    "colab_type": "code",
    "id": "hCGTUT22Z6Bj",
    "outputId": "6b792ce6-c6ac-4b53-9fed-43336442ee2b"
   },
   "outputs": [
    {
     "name": "stderr",
     "output_type": "stream",
     "text": [
      "C:\\Users\\Charic\\Documents\\Python_Scripts\\2_semester\\data_science_env\\lib\\site-packages\\ipykernel_launcher.py:2: SettingWithCopyWarning: \n",
      "A value is trying to be set on a copy of a slice from a DataFrame.\n",
      "Try using .loc[row_indexer,col_indexer] = value instead\n",
      "\n",
      "See the caveats in the documentation: https://pandas.pydata.org/pandas-docs/stable/user_guide/indexing.html#returning-a-view-versus-a-copy\n",
      "  \n",
      "C:\\Users\\Charic\\Documents\\Python_Scripts\\2_semester\\data_science_env\\lib\\site-packages\\ipykernel_launcher.py:3: SettingWithCopyWarning: \n",
      "A value is trying to be set on a copy of a slice from a DataFrame.\n",
      "Try using .loc[row_indexer,col_indexer] = value instead\n",
      "\n",
      "See the caveats in the documentation: https://pandas.pydata.org/pandas-docs/stable/user_guide/indexing.html#returning-a-view-versus-a-copy\n",
      "  This is separate from the ipykernel package so we can avoid doing imports until\n",
      "C:\\Users\\Charic\\Documents\\Python_Scripts\\2_semester\\data_science_env\\lib\\site-packages\\ipykernel_launcher.py:4: SettingWithCopyWarning: \n",
      "A value is trying to be set on a copy of a slice from a DataFrame.\n",
      "Try using .loc[row_indexer,col_indexer] = value instead\n",
      "\n",
      "See the caveats in the documentation: https://pandas.pydata.org/pandas-docs/stable/user_guide/indexing.html#returning-a-view-versus-a-copy\n",
      "  after removing the cwd from sys.path.\n",
      "C:\\Users\\Charic\\Documents\\Python_Scripts\\2_semester\\data_science_env\\lib\\site-packages\\ipykernel_launcher.py:5: SettingWithCopyWarning: \n",
      "A value is trying to be set on a copy of a slice from a DataFrame.\n",
      "Try using .loc[row_indexer,col_indexer] = value instead\n",
      "\n",
      "See the caveats in the documentation: https://pandas.pydata.org/pandas-docs/stable/user_guide/indexing.html#returning-a-view-versus-a-copy\n",
      "  \"\"\"\n"
     ]
    }
   ],
   "source": [
    "# we convert the different units of pay to the type 'Year'\n",
    "cleaned['WAGES'] = np.where(cleaned['WAGE_UNIT_OF_PAY_1'] == 'Month',cleaned['WAGES'] * 12,cleaned['WAGES'])\n",
    "cleaned['WAGES'] = np.where(cleaned['WAGE_UNIT_OF_PAY_1'] == 'Hour',cleaned['WAGES'] * 2080,cleaned['WAGES']) # 2080=8 hours*5 days* 52 weeks\n",
    "cleaned['WAGES'] = np.where(cleaned['WAGE_UNIT_OF_PAY_1'] == 'Bi-Weekly',cleaned['WAGES'] *26,cleaned['WAGES'])\n",
    "cleaned['WAGES'] = np.where(cleaned['WAGE_UNIT_OF_PAY_1'] == 'Week',cleaned['WAGES'] * 52,cleaned['WAGES'])"
   ]
  },
  {
   "cell_type": "code",
   "execution_count": 236,
   "metadata": {
    "colab": {
     "base_uri": "https://localhost:8080/",
     "height": 122
    },
    "colab_type": "code",
    "id": "1Q006QHRdl-q",
    "outputId": "17b7585f-6380-4895-b96f-773d5f5f755f"
   },
   "outputs": [],
   "source": [
    "#As we have got the information of Wages and made transformation we can drop the initial two records\n",
    "cleaned.drop(columns=['WAGE_RATE_OF_PAY_FROM_1','WAGE_UNIT_OF_PAY_1'],axis=1,inplace=True)\n"
   ]
  },
  {
   "cell_type": "code",
   "execution_count": 237,
   "metadata": {
    "colab": {
     "base_uri": "https://localhost:8080/",
     "height": 374
    },
    "colab_type": "code",
    "id": "lnSktMB3bVM3",
    "outputId": "6236df39-d468-4e80-a870-20d8dda250f0"
   },
   "outputs": [
    {
     "name": "stdout",
     "output_type": "stream",
     "text": [
      "<class 'pandas.core.frame.DataFrame'>\n",
      "Int64Index: 629856 entries, 18 to 664616\n",
      "Data columns (total 14 columns):\n",
      " #   Column              Non-Null Count   Dtype  \n",
      "---  ------              --------------   -----  \n",
      " 0   CASE_NUMBER         629855 non-null  object \n",
      " 1   CASE_STATUS         629856 non-null  object \n",
      " 2   CASE_SUBMITTED      629856 non-null  object \n",
      " 3   DECISION_DATE       629856 non-null  object \n",
      " 4   VISA_CLASS          629856 non-null  object \n",
      " 5   FULL_TIME_POSITION  629856 non-null  object \n",
      " 6   JOB_TITLE           629856 non-null  object \n",
      " 7   SOC_CODE            629852 non-null  object \n",
      " 8   SOC_TITLE           629852 non-null  object \n",
      " 9   EMPLOYER_NAME       629848 non-null  object \n",
      " 10  NAICS_CODE          629855 non-null  float64\n",
      " 11  WORKSITE_CITY_1     629785 non-null  object \n",
      " 12  WORKSITE_STATE_1    629845 non-null  object \n",
      " 13  WAGES               629852 non-null  float64\n",
      "dtypes: float64(2), object(12)\n",
      "memory usage: 72.1+ MB\n"
     ]
    }
   ],
   "source": [
    "cleaned.info()"
   ]
  },
  {
   "cell_type": "code",
   "execution_count": 238,
   "metadata": {
    "colab": {
     "base_uri": "https://localhost:8080/",
     "height": 51
    },
    "colab_type": "code",
    "id": "RyS7f3eIbcCl",
    "outputId": "6f3fe01f-f3c8-4ffe-d700-a3c1c37fb32b"
   },
   "outputs": [
    {
     "name": "stdout",
     "output_type": "stream",
     "text": [
      "(92, 14)\n",
      "(629856, 14)\n"
     ]
    }
   ],
   "source": [
    "\"\"\"\n",
    "We should remove record that have null objects, from the above cell we see\n",
    "that all columns don't have same number of non-null records\n",
    "which means we have to remove the records that have the null values.\n",
    "we see that there are about 17 records that have null values\n",
    "\"\"\" \n",
    "null_rows = cleaned.isnull().any(axis=1)\n",
    "print(cleaned[null_rows].shape)\n",
    "print(cleaned.shape)"
   ]
  },
  {
   "cell_type": "code",
   "execution_count": 239,
   "metadata": {
    "colab": {
     "base_uri": "https://localhost:8080/",
     "height": 139
    },
    "colab_type": "code",
    "id": "keAByWsddXRe",
    "outputId": "0acbb87c-2941-4dab-ca72-52d630d9ef3a"
   },
   "outputs": [
    {
     "name": "stdout",
     "output_type": "stream",
     "text": [
      "(629764, 14)\n"
     ]
    },
    {
     "name": "stderr",
     "output_type": "stream",
     "text": [
      "C:\\Users\\Charic\\Documents\\Python_Scripts\\2_semester\\data_science_env\\lib\\site-packages\\ipykernel_launcher.py:1: SettingWithCopyWarning: \n",
      "A value is trying to be set on a copy of a slice from a DataFrame\n",
      "\n",
      "See the caveats in the documentation: https://pandas.pydata.org/pandas-docs/stable/user_guide/indexing.html#returning-a-view-versus-a-copy\n",
      "  \"\"\"Entry point for launching an IPython kernel.\n"
     ]
    }
   ],
   "source": [
    "cleaned.dropna(inplace=True)\n",
    "print(cleaned.shape)"
   ]
  },
  {
   "cell_type": "code",
   "execution_count": null,
   "metadata": {
    "colab": {},
    "colab_type": "code",
    "id": "9Aa-4cFWnW6s"
   },
   "outputs": [],
   "source": [
    "#cleaned['JOB_TITLE'].value_counts()"
   ]
  },
  {
   "cell_type": "code",
   "execution_count": 240,
   "metadata": {
    "colab": {
     "base_uri": "https://localhost:8080/",
     "height": 462
    },
    "colab_type": "code",
    "id": "M03_5gLDxgYT",
    "outputId": "d33dada3-a5f0-467f-cbf8-da7e773fef85"
   },
   "outputs": [
    {
     "name": "stderr",
     "output_type": "stream",
     "text": [
      "C:\\Users\\Charic\\Documents\\Python_Scripts\\2_semester\\data_science_env\\lib\\site-packages\\ipykernel_launcher.py:7: SettingWithCopyWarning: \n",
      "A value is trying to be set on a copy of a slice from a DataFrame.\n",
      "Try using .loc[row_indexer,col_indexer] = value instead\n",
      "\n",
      "See the caveats in the documentation: https://pandas.pydata.org/pandas-docs/stable/user_guide/indexing.html#returning-a-view-versus-a-copy\n",
      "  import sys\n",
      "C:\\Users\\Charic\\Documents\\Python_Scripts\\2_semester\\data_science_env\\lib\\site-packages\\ipykernel_launcher.py:8: SettingWithCopyWarning: \n",
      "A value is trying to be set on a copy of a slice from a DataFrame.\n",
      "Try using .loc[row_indexer,col_indexer] = value instead\n",
      "\n",
      "See the caveats in the documentation: https://pandas.pydata.org/pandas-docs/stable/user_guide/indexing.html#returning-a-view-versus-a-copy\n",
      "  \n",
      "C:\\Users\\Charic\\Documents\\Python_Scripts\\2_semester\\data_science_env\\lib\\site-packages\\ipykernel_launcher.py:9: SettingWithCopyWarning: \n",
      "A value is trying to be set on a copy of a slice from a DataFrame.\n",
      "Try using .loc[row_indexer,col_indexer] = value instead\n",
      "\n",
      "See the caveats in the documentation: https://pandas.pydata.org/pandas-docs/stable/user_guide/indexing.html#returning-a-view-versus-a-copy\n",
      "  if __name__ == '__main__':\n"
     ]
    },
    {
     "name": "stdout",
     "output_type": "stream",
     "text": [
      "Numbers and strings with numbers removed\n"
     ]
    },
    {
     "name": "stderr",
     "output_type": "stream",
     "text": [
      "C:\\Users\\Charic\\Documents\\Python_Scripts\\2_semester\\data_science_env\\lib\\site-packages\\ipykernel_launcher.py:10: SettingWithCopyWarning: \n",
      "A value is trying to be set on a copy of a slice from a DataFrame.\n",
      "Try using .loc[row_indexer,col_indexer] = value instead\n",
      "\n",
      "See the caveats in the documentation: https://pandas.pydata.org/pandas-docs/stable/user_guide/indexing.html#returning-a-view-versus-a-copy\n",
      "  # Remove the CWD from sys.path while we load stuff.\n"
     ]
    }
   ],
   "source": [
    "#we see that the job title has integers(words with integers also) \n",
    "#removing comma also\n",
    "def remove_num(text):\n",
    "  if not any(c.isdigit() for c in text):\n",
    "    return text\n",
    "  return ''\n",
    "cleaned['JOB_TITLE']=cleaned.JOB_TITLE.apply(lambda txt: \" \".join([remove_num(i) for i in txt.lower().split()]))\n",
    "cleaned['JOB_TITLE']=cleaned['JOB_TITLE'].str.replace(',', '')\n",
    "cleaned['SOC_TITLE']=cleaned.SOC_TITLE.apply(lambda txt: \" \".join([remove_num(i) for i in txt.lower().split()]))\n",
    "cleaned['SOC_TITLE']=cleaned['SOC_TITLE'].str.replace(',', '')\n",
    "print(\"Numbers and strings with numbers removed\" )\n",
    "#cleaned.head()\n",
    "#cleaned['JOB_TITLE'].value_counts()"
   ]
  },
  {
   "cell_type": "code",
   "execution_count": 249,
   "metadata": {
    "colab": {
     "base_uri": "https://localhost:8080/",
     "height": 68
    },
    "colab_type": "code",
    "id": "3DxeRz6Mxkx1",
    "outputId": "841fb983-3182-48d0-9c65-cb5f134b31ac"
   },
   "outputs": [
    {
     "name": "stderr",
     "output_type": "stream",
     "text": [
      "[nltk_data] Downloading package words to\n",
      "[nltk_data]     C:\\Users\\Charic\\AppData\\Roaming\\nltk_data...\n",
      "[nltk_data]   Unzipping corpora\\words.zip.\n"
     ]
    },
    {
     "name": "stdout",
     "output_type": "stream",
     "text": [
      "computer science program check\n"
     ]
    }
   ],
   "source": [
    "nltk.download('words')\n",
    "lemmatizer = nltk.stem.WordNetLemmatizer()\n",
    "words = set(nltk.corpus.words.words())\n",
    "spell = Speller()\n",
    "\n",
    "\n",
    "def lemmatize_text(text):\n",
    "  return lemmatizer.lemmatize(text)\n",
    "\n",
    "def spelling_checker(text):\n",
    "  return spell(text)\n",
    " \n",
    "print(spelling_checker(\"computr sciece progam check\"))"
   ]
  },
  {
   "cell_type": "code",
   "execution_count": 250,
   "metadata": {
    "colab": {
     "base_uri": "https://localhost:8080/",
     "height": 173
    },
    "colab_type": "code",
    "id": "5ZzB9FbCxvgQ",
    "outputId": "60e744c9-8c6d-4300-fd08-d0a8589fa2c4"
   },
   "outputs": [
    {
     "name": "stdout",
     "output_type": "stream",
     "text": [
      " JOB_TITLE IS  lemmatized\n"
     ]
    },
    {
     "name": "stderr",
     "output_type": "stream",
     "text": [
      "C:\\Users\\Charic\\Documents\\Python_Scripts\\2_semester\\data_science_env\\lib\\site-packages\\ipykernel_launcher.py:2: SettingWithCopyWarning: \n",
      "A value is trying to be set on a copy of a slice from a DataFrame.\n",
      "Try using .loc[row_indexer,col_indexer] = value instead\n",
      "\n",
      "See the caveats in the documentation: https://pandas.pydata.org/pandas-docs/stable/user_guide/indexing.html#returning-a-view-versus-a-copy\n",
      "  \n"
     ]
    }
   ],
   "source": [
    "#this part takes more time because spell_checker \n",
    "cleaned['JOB_TITLE']=cleaned.JOB_TITLE.apply(lambda txt: \" \".join([lemmatize_text(i) for i in txt.lower().split()]))\n",
    "print(' JOB_TITLE IS  lemmatized')\n",
    "#print(cleaned['JOB_TITLE'].value_counts() "
   ]
  },
  {
   "cell_type": "code",
   "execution_count": 257,
   "metadata": {},
   "outputs": [
    {
     "name": "stdout",
     "output_type": "stream",
     "text": [
      "JOB_TITLE SPELLING MISTAKES RECTIFIED\n"
     ]
    },
    {
     "name": "stderr",
     "output_type": "stream",
     "text": [
      "C:\\Users\\Charic\\Documents\\Python_Scripts\\2_semester\\data_science_env\\lib\\site-packages\\ipykernel_launcher.py:1: SettingWithCopyWarning: \n",
      "A value is trying to be set on a copy of a slice from a DataFrame.\n",
      "Try using .loc[row_indexer,col_indexer] = value instead\n",
      "\n",
      "See the caveats in the documentation: https://pandas.pydata.org/pandas-docs/stable/user_guide/indexing.html#returning-a-view-versus-a-copy\n",
      "  \"\"\"Entry point for launching an IPython kernel.\n"
     ]
    }
   ],
   "source": [
    "cleaned['JOB_TITLE']=cleaned.JOB_TITLE.apply(lambda txt: \" \".join([spelling_checker(i) for i in txt.lower().split()]))\n",
    "print('JOB_TITLE SPELLING MISTAKES RECTIFIED')"
   ]
  },
  {
   "cell_type": "code",
   "execution_count": 258,
   "metadata": {
    "colab": {
     "base_uri": "https://localhost:8080/",
     "height": 156
    },
    "colab_type": "code",
    "id": "q1NGrEDGxzPS",
    "outputId": "a0d529f0-23e8-425a-b01a-8359cdd0adbe"
   },
   "outputs": [
    {
     "name": "stderr",
     "output_type": "stream",
     "text": [
      "C:\\Users\\Charic\\Documents\\Python_Scripts\\2_semester\\data_science_env\\lib\\site-packages\\ipykernel_launcher.py:2: SettingWithCopyWarning: \n",
      "A value is trying to be set on a copy of a slice from a DataFrame.\n",
      "Try using .loc[row_indexer,col_indexer] = value instead\n",
      "\n",
      "See the caveats in the documentation: https://pandas.pydata.org/pandas-docs/stable/user_guide/indexing.html#returning-a-view-versus-a-copy\n",
      "  \n",
      "C:\\Users\\Charic\\Documents\\Python_Scripts\\2_semester\\data_science_env\\lib\\site-packages\\ipykernel_launcher.py:3: SettingWithCopyWarning: \n",
      "A value is trying to be set on a copy of a slice from a DataFrame.\n",
      "Try using .loc[row_indexer,col_indexer] = value instead\n",
      "\n",
      "See the caveats in the documentation: https://pandas.pydata.org/pandas-docs/stable/user_guide/indexing.html#returning-a-view-versus-a-copy\n",
      "  This is separate from the ipykernel package so we can avoid doing imports until\n"
     ]
    },
    {
     "name": "stdout",
     "output_type": "stream",
     "text": [
      "SOC_TITLE SPELLING MISTAKES RECTIFIED\n",
      " removing least significant values from SOC_TITLE\n"
     ]
    }
   ],
   "source": [
    "#clean SOC TITLE\n",
    "cleaned['SOC_TITLE']=cleaned.SOC_TITLE.apply(lambda txt: \" \".join([lemmatize_text(i) for i in txt.lower().split()]))\n",
    "cleaned['SOC_TITLE']=cleaned.SOC_TITLE.apply(lambda txt: \" \".join([spelling_checker(i) for i in txt.lower().split()]))\n",
    "print('SOC_TITLE SPELLING MISTAKES RECTIFIED')\n",
    "cleaned = cleaned.groupby(\"SOC_TITLE\").filter(lambda x: len(x) > 15)\n",
    "print(\" removing least significant values from SOC_TITLE\")\n",
    "#cleaned['SOC_TITLE'].value_counts()"
   ]
  },
  {
   "cell_type": "code",
   "execution_count": 259,
   "metadata": {},
   "outputs": [
    {
     "name": "stdout",
     "output_type": "stream",
     "text": [
      "DROPPING THE LEAST SIGNIFICANT EMPLYOERS\n"
     ]
    }
   ],
   "source": [
    "cleaned = cleaned.groupby(\"SOC_CODE\").filter(lambda x: len(x) > 15)\n",
    "print(\"DROPPING THE LEAST SIGNIFICANT EMPLYOERS\")\n",
    "#cleaned['SOC_CODE'].value_counts()"
   ]
  },
  {
   "cell_type": "code",
   "execution_count": null,
   "metadata": {
    "colab": {},
    "colab_type": "code",
    "id": "bwgV1bu5sXlE"
   },
   "outputs": [],
   "source": [
    "#we see that the job title has integers in the record which we can remove\n",
    "#handeled above\n",
    "#so commenting this part\n",
    "#cleaned['JOB_TITLE']=cleaned['JOB_TITLE'].str.replace('[0-9(){}[].]', '')\n",
    "#cleaned.head()"
   ]
  },
  {
   "cell_type": "code",
   "execution_count": 260,
   "metadata": {
    "colab": {
     "base_uri": "https://localhost:8080/",
     "height": 212
    },
    "colab_type": "code",
    "id": "15py5C4RfXIj",
    "outputId": "f626e7a9-746a-4dbe-e640-ac630468f976"
   },
   "outputs": [
    {
     "data": {
      "text/plain": [
       "software developer application                                208679\n",
       "computer system analyst                                        71186\n",
       "computer occupation all other                                  54484\n",
       "software developer system software                             30593\n",
       "computer programmer                                            16622\n",
       "                                                               ...  \n",
       "agent and business manager of artist performer and athlete        16\n",
       "mechanical engineer non-r&d                                       16\n",
       "database architect                                                16\n",
       "electrical engineer non-r&d                                       16\n",
       "regulatory affair specialist                                      10\n",
       "Name: SOC_TITLE, Length: 320, dtype: int64"
      ]
     },
     "execution_count": 260,
     "metadata": {},
     "output_type": "execute_result"
    }
   ],
   "source": [
    "cleaned['SOC_TITLE'].value_counts()"
   ]
  },
  {
   "cell_type": "code",
   "execution_count": 261,
   "metadata": {},
   "outputs": [
    {
     "name": "stdout",
     "output_type": "stream",
     "text": [
      "DROPPING THE LEAST SIGNIFICANT EMPLYOERS\n"
     ]
    }
   ],
   "source": [
    "cleaned['EMPLOYER_NAME'].value_counts()\n",
    "cleaned = cleaned.groupby(\"EMPLOYER_NAME\").filter(lambda x: len(x) > 15)\n",
    "print(\"DROPPING THE LEAST SIGNIFICANT EMPLYOERS\")\n",
    "#cleaned['EMPLOYER_NAME'].value_counts()"
   ]
  },
  {
   "cell_type": "code",
   "execution_count": 262,
   "metadata": {
    "colab": {
     "base_uri": "https://localhost:8080/",
     "height": 196
    },
    "colab_type": "code",
    "id": "67Q2TX1Ju18U",
    "outputId": "b5331455-bda4-4a0a-a50f-9f829f57ab19"
   },
   "outputs": [
    {
     "data": {
      "text/plain": [
       "COGNIZANT TECHNOLOGY SOLUTIONS US CORP    28103\n",
       "INFOSYS LIMITED                           21401\n",
       "TATA CONSULTANCY SERVICES LIMITED         11839\n",
       "GOOGLE LLC                                 9557\n",
       "ERNST & YOUNG U.S. LLP                     8661\n",
       "CAPGEMINI AMERICA INC                      7796\n",
       "DELOITTE CONSULTING LLP                    7620\n",
       "AMAZON.COM SERVICES, INC.                  6771\n",
       "MICROSOFT CORPORATION                      5887\n",
       "ACCENTURE LLP                              5584\n",
       "Name: EMPLOYER_NAME, dtype: int64"
      ]
     },
     "execution_count": 262,
     "metadata": {},
     "output_type": "execute_result"
    }
   ],
   "source": [
    "Top_Employer=cleaned['EMPLOYER_NAME'].value_counts()[:10]\n",
    "Top_Employer"
   ]
  },
  {
   "cell_type": "code",
   "execution_count": 263,
   "metadata": {
    "colab": {
     "base_uri": "https://localhost:8080/",
     "height": 70
    },
    "colab_type": "code",
    "id": "1z8j5d55v2Ak",
    "outputId": "75bf36b7-4236-4c65-c496-ee6008e21b4a"
   },
   "outputs": [],
   "source": [
    "%matplotlib inline\n",
    "import matplotlib.pyplot as plt\n",
    "import seaborn as sns"
   ]
  },
  {
   "cell_type": "code",
   "execution_count": 264,
   "metadata": {
    "colab": {
     "base_uri": "https://localhost:8080/",
     "height": 616
    },
    "colab_type": "code",
    "id": "IARZcE10wHBl",
    "outputId": "fad8582b-35a0-40b2-f1ea-b906f8fe7f6d"
   },
   "outputs": [
    {
     "data": {
      "image/png": "[encoded data removed]",
      "text/plain": [
       "<Figure size 720x720 with 1 Axes>"
      ]
     },
     "metadata": {
      "needs_background": "light"
     },
     "output_type": "display_data"
    }
   ],
   "source": [
    "plt.figure(figsize=[10,10])\n",
    "ax=sns.barplot(y=Top_Employer.index,x=Top_Employer.values,palette=sns.color_palette('viridis',10))\n",
    "ax.tick_params(labelsize=12)\n",
    "for i, v in enumerate(Top_Employer.values): \n",
    "    ax.text(.5, i, v,fontsize=15,color='white',weight='bold')\n",
    "plt.title('Top 10 Companies sponsoring H1B Visa in 2019', fontsize=20)\n",
    "plt.show()"
   ]
  },
  {
   "cell_type": "code",
   "execution_count": 265,
   "metadata": {
    "colab": {},
    "colab_type": "code",
    "id": "SBHPirCRabjw"
   },
   "outputs": [],
   "source": [
    "def wage_feature_eng(wage):\n",
    "    if wage <=50000:\n",
    "        return \"VERY LOW\"\n",
    "    elif wage in range(50000,75000):\n",
    "        return \"LOW\"\n",
    "    elif wage in range(75000,100000):\n",
    "        return \"AVERAGE\"\n",
    "    elif wage in range(100000,150000):\n",
    "        return \"HIGH\"\n",
    "    elif wage >=150000:\n",
    "        return \"VERY HIGH\""
   ]
  },
  {
   "cell_type": "code",
   "execution_count": 266,
   "metadata": {
    "colab": {
     "base_uri": "https://localhost:8080/",
     "height": 552
    },
    "colab_type": "code",
    "id": "EYUdOnMdafXp",
    "outputId": "c3c677d7-68ba-40b8-b4a4-53764aae950e"
   },
   "outputs": [
    {
     "data": {
      "text/html": [
       "<div>\n",
       "<style scoped>\n",
       "    .dataframe tbody tr th:only-of-type {\n",
       "        vertical-align: middle;\n",
       "    }\n",
       "\n",
       "    .dataframe tbody tr th {\n",
       "        vertical-align: top;\n",
       "    }\n",
       "\n",
       "    .dataframe thead th {\n",
       "        text-align: right;\n",
       "    }\n",
       "</style>\n",
       "<table border=\"1\" class=\"dataframe\">\n",
       "  <thead>\n",
       "    <tr style=\"text-align: right;\">\n",
       "      <th></th>\n",
       "      <th>CASE_NUMBER</th>\n",
       "      <th>CASE_STATUS</th>\n",
       "      <th>CASE_SUBMITTED</th>\n",
       "      <th>DECISION_DATE</th>\n",
       "      <th>VISA_CLASS</th>\n",
       "      <th>FULL_TIME_POSITION</th>\n",
       "      <th>JOB_TITLE</th>\n",
       "      <th>SOC_CODE</th>\n",
       "      <th>SOC_TITLE</th>\n",
       "      <th>EMPLOYER_NAME</th>\n",
       "      <th>NAICS_CODE</th>\n",
       "      <th>WORKSITE_CITY_1</th>\n",
       "      <th>WORKSITE_STATE_1</th>\n",
       "      <th>WAGES</th>\n",
       "      <th>WAGE_CATEGORY</th>\n",
       "    </tr>\n",
       "  </thead>\n",
       "  <tbody>\n",
       "    <tr>\n",
       "      <th>47</th>\n",
       "      <td>I-200-18299-123963</td>\n",
       "      <td>CERTIFIED</td>\n",
       "      <td>10/26/2018 17:31:16</td>\n",
       "      <td>11/01/2018 22:00:49</td>\n",
       "      <td>H-1B</td>\n",
       "      <td>Y</td>\n",
       "      <td>program manager i</td>\n",
       "      <td>11-2011</td>\n",
       "      <td>advertising and promotion manager</td>\n",
       "      <td>UNIVERSITY OF TEXAS AT DALLAS</td>\n",
       "      <td>611310.0</td>\n",
       "      <td>RICHARDSON</td>\n",
       "      <td>TX</td>\n",
       "      <td>67500.0</td>\n",
       "      <td>LOW</td>\n",
       "    </tr>\n",
       "    <tr>\n",
       "      <th>54</th>\n",
       "      <td>I-200-18317-440186</td>\n",
       "      <td>CERTIFIED</td>\n",
       "      <td>11/13/2018 20:06:33</td>\n",
       "      <td>11/19/2018 22:00:55</td>\n",
       "      <td>H-1B</td>\n",
       "      <td>Y</td>\n",
       "      <td>advertising and promotion manager</td>\n",
       "      <td>11-2011</td>\n",
       "      <td>advertising and promotion manager</td>\n",
       "      <td>APPLE INC.</td>\n",
       "      <td>334111.0</td>\n",
       "      <td>CUPERTINO</td>\n",
       "      <td>CA</td>\n",
       "      <td>97781.0</td>\n",
       "      <td>AVERAGE</td>\n",
       "    </tr>\n",
       "    <tr>\n",
       "      <th>55</th>\n",
       "      <td>I-200-18317-855371</td>\n",
       "      <td>CERTIFIED</td>\n",
       "      <td>11/13/2018 20:07:01</td>\n",
       "      <td>11/19/2018 22:00:55</td>\n",
       "      <td>H-1B</td>\n",
       "      <td>Y</td>\n",
       "      <td>advertising and promotion manager</td>\n",
       "      <td>11-2011</td>\n",
       "      <td>advertising and promotion manager</td>\n",
       "      <td>APPLE INC.</td>\n",
       "      <td>334111.0</td>\n",
       "      <td>CUPERTINO</td>\n",
       "      <td>CA</td>\n",
       "      <td>126901.0</td>\n",
       "      <td>HIGH</td>\n",
       "    </tr>\n",
       "    <tr>\n",
       "      <th>56</th>\n",
       "      <td>I-200-18317-109580</td>\n",
       "      <td>CERTIFIED</td>\n",
       "      <td>11/13/2018 20:07:34</td>\n",
       "      <td>11/19/2018 22:00:55</td>\n",
       "      <td>H-1B</td>\n",
       "      <td>Y</td>\n",
       "      <td>advertising and promotion manager</td>\n",
       "      <td>11-2011</td>\n",
       "      <td>advertising and promotion manager</td>\n",
       "      <td>APPLE INC.</td>\n",
       "      <td>334111.0</td>\n",
       "      <td>CUPERTINO</td>\n",
       "      <td>CA</td>\n",
       "      <td>156021.0</td>\n",
       "      <td>VERY HIGH</td>\n",
       "    </tr>\n",
       "    <tr>\n",
       "      <th>72</th>\n",
       "      <td>I-200-18334-445862</td>\n",
       "      <td>CERTIFIED</td>\n",
       "      <td>12/3/2018 14:26</td>\n",
       "      <td>12/10/2018 22:00</td>\n",
       "      <td>H-1B</td>\n",
       "      <td>Y</td>\n",
       "      <td>and writing</td>\n",
       "      <td>11-2011</td>\n",
       "      <td>advertising and promotion manager</td>\n",
       "      <td>APPLE INC.</td>\n",
       "      <td>334111.0</td>\n",
       "      <td>Sunnyvale</td>\n",
       "      <td>CALIFORNIA</td>\n",
       "      <td>154232.0</td>\n",
       "      <td>VERY HIGH</td>\n",
       "    </tr>\n",
       "  </tbody>\n",
       "</table>\n",
       "</div>"
      ],
      "text/plain": [
       "           CASE_NUMBER CASE_STATUS       CASE_SUBMITTED        DECISION_DATE  \\\n",
       "47  I-200-18299-123963   CERTIFIED  10/26/2018 17:31:16  11/01/2018 22:00:49   \n",
       "54  I-200-18317-440186   CERTIFIED  11/13/2018 20:06:33  11/19/2018 22:00:55   \n",
       "55  I-200-18317-855371   CERTIFIED  11/13/2018 20:07:01  11/19/2018 22:00:55   \n",
       "56  I-200-18317-109580   CERTIFIED  11/13/2018 20:07:34  11/19/2018 22:00:55   \n",
       "72  I-200-18334-445862   CERTIFIED      12/3/2018 14:26     12/10/2018 22:00   \n",
       "\n",
       "   VISA_CLASS FULL_TIME_POSITION                          JOB_TITLE SOC_CODE  \\\n",
       "47       H-1B                  Y                  program manager i  11-2011   \n",
       "54       H-1B                  Y  advertising and promotion manager  11-2011   \n",
       "55       H-1B                  Y  advertising and promotion manager  11-2011   \n",
       "56       H-1B                  Y  advertising and promotion manager  11-2011   \n",
       "72       H-1B                  Y                        and writing  11-2011   \n",
       "\n",
       "                            SOC_TITLE                  EMPLOYER_NAME  \\\n",
       "47  advertising and promotion manager  UNIVERSITY OF TEXAS AT DALLAS   \n",
       "54  advertising and promotion manager                     APPLE INC.   \n",
       "55  advertising and promotion manager                     APPLE INC.   \n",
       "56  advertising and promotion manager                     APPLE INC.   \n",
       "72  advertising and promotion manager                     APPLE INC.   \n",
       "\n",
       "    NAICS_CODE WORKSITE_CITY_1 WORKSITE_STATE_1     WAGES WAGE_CATEGORY  \n",
       "47    611310.0      RICHARDSON               TX   67500.0           LOW  \n",
       "54    334111.0       CUPERTINO               CA   97781.0       AVERAGE  \n",
       "55    334111.0       CUPERTINO               CA  126901.0          HIGH  \n",
       "56    334111.0       CUPERTINO               CA  156021.0     VERY HIGH  \n",
       "72    334111.0       Sunnyvale       CALIFORNIA  154232.0     VERY HIGH  "
      ]
     },
     "execution_count": 266,
     "metadata": {},
     "output_type": "execute_result"
    }
   ],
   "source": [
    "cleaned['WAGE_CATEGORY'] = cleaned['WAGES'].apply(wage_feature_eng)\n",
    "cleaned.head()"
   ]
  },
  {
   "cell_type": "code",
   "execution_count": 267,
   "metadata": {},
   "outputs": [
    {
     "data": {
      "text/plain": [
       "Index(['CASE_NUMBER', 'CASE_STATUS', 'CASE_SUBMITTED', 'DECISION_DATE',\n",
       "       'VISA_CLASS', 'FULL_TIME_POSITION', 'JOB_TITLE', 'SOC_CODE',\n",
       "       'SOC_TITLE', 'EMPLOYER_NAME', 'NAICS_CODE', 'WORKSITE_CITY_1',\n",
       "       'WORKSITE_STATE_1', 'WAGES', 'WAGE_CATEGORY'],\n",
       "      dtype='object')"
      ]
     },
     "execution_count": 267,
     "metadata": {},
     "output_type": "execute_result"
    }
   ],
   "source": [
    "cleaned.columns"
   ]
  },
  {
   "cell_type": "code",
   "execution_count": 268,
   "metadata": {},
   "outputs": [
    {
     "name": "stdout",
     "output_type": "stream",
     "text": [
      "BEFORE CLEANING THE WORKSITE_STATE_1 COLUMN\n"
     ]
    },
    {
     "data": {
      "text/plain": [
       "CALIFORNIA          80576\n",
       "TEXAS               43635\n",
       "NEW YORK            28640\n",
       "NEW JERSEY          26444\n",
       "ILLINOIS            21527\n",
       "                    ...  \n",
       "PR                      6\n",
       "VIRGIN ISLANDS          4\n",
       "PW                      1\n",
       "VI                      1\n",
       "MARSHALL ISLANDS        1\n",
       "Name: WORKSITE_STATE_1, Length: 110, dtype: int64"
      ]
     },
     "execution_count": 268,
     "metadata": {},
     "output_type": "execute_result"
    }
   ],
   "source": [
    "print(\"BEFORE CLEANING THE WORKSITE_STATE_1 COLUMN\")\n",
    "cleaned[\"WORKSITE_STATE_1\"].value_counts()"
   ]
  },
  {
   "cell_type": "code",
   "execution_count": 269,
   "metadata": {},
   "outputs": [
    {
     "name": "stdout",
     "output_type": "stream",
     "text": [
      "AFTER CLEANING THE WORKSITE_STATE_1 COLUMN\n"
     ]
    }
   ],
   "source": [
    "# Code to clean the \"WORKSITE_STATE_1\" column because some of the values are abbrevations and some of them are names\n",
    "#So changed to names as most of the values are names.   \n",
    "print(\"AFTER CLEANING THE WORKSITE_STATE_1 COLUMN\")\n",
    "\n",
    "cleaned.loc[(cleaned.WORKSITE_STATE_1 == \"AL\"),\"WORKSITE_STATE_1\"] = \"ALABAMA\"\n",
    "cleaned.loc[(cleaned.WORKSITE_STATE_1 == \"AK\"),\"WORKSITE_STATE_1\"] = \"ALASKA\"\n",
    "cleaned.loc[(cleaned.WORKSITE_STATE_1 == \"AZ\"),\"WORKSITE_STATE_1\"] = \"ARIZONA\"\n",
    "cleaned.loc[(cleaned.WORKSITE_STATE_1 == \"AR\"),\"WORKSITE_STATE_1\"] = \"ARKANSAS\"\n",
    "cleaned.loc[(cleaned.WORKSITE_STATE_1 == \"CA\"),\"WORKSITE_STATE_1\"] = \"CALIFORNIA\"\n",
    "cleaned.loc[(cleaned.WORKSITE_STATE_1 == \"CO\"),\"WORKSITE_STATE_1\"] = \"COLORADO\"\n",
    "cleaned.loc[(cleaned.WORKSITE_STATE_1 == \"DE\"),\"WORKSITE_STATE_1\"] = \"DELAWARE\"\n",
    "cleaned.loc[(cleaned.WORKSITE_STATE_1 == \"FL\"),\"WORKSITE_STATE_1\"] = \"FLORIDA\"\n",
    "cleaned.loc[(cleaned.WORKSITE_STATE_1 == \"GA\"),\"WORKSITE_STATE_1\"] = \"GEORGIA\"\n",
    "cleaned.loc[(cleaned.WORKSITE_STATE_1 == \"HI\"),\"WORKSITE_STATE_1\"] = \"HAWAII\"\n",
    "cleaned.loc[(cleaned.WORKSITE_STATE_1 == \"ID\"),\"WORKSITE_STATE_1\"] = \"IDAHO\"\n",
    "cleaned.loc[(cleaned.WORKSITE_STATE_1 == \"IL\"),\"WORKSITE_STATE_1\"] = \"ILLINOIS\"\n",
    "cleaned.loc[(cleaned.WORKSITE_STATE_1 == \"IN\"),\"WORKSITE_STATE_1\"] = \"INDIANA\"\n",
    "cleaned.loc[(cleaned.WORKSITE_STATE_1 == \"IA\"),\"WORKSITE_STATE_1\"] = \"IOWA\"\n",
    "cleaned.loc[(cleaned.WORKSITE_STATE_1 == \"KS\"),\"WORKSITE_STATE_1\"] = \"KANSAS\"\n",
    "cleaned.loc[(cleaned.WORKSITE_STATE_1 == \"KY\"),\"WORKSITE_STATE_1\"] = \"KENTUCKY\"\n",
    "cleaned.loc[(cleaned.WORKSITE_STATE_1 == \"LA\"),\"WORKSITE_STATE_1\"] = \"LOUISIANA\"\n",
    "cleaned.loc[(cleaned.WORKSITE_STATE_1 == \"ME\"),\"WORKSITE_STATE_1\"] = \"MAINE\"\n",
    "cleaned.loc[(cleaned.WORKSITE_STATE_1 == \"MD\"),\"WORKSITE_STATE_1\"] = \"MARYLAND\"\n",
    "cleaned.loc[(cleaned.WORKSITE_STATE_1 == \"MA\"),\"WORKSITE_STATE_1\"] = \"MASSACHUSETTS\"\n",
    "cleaned.loc[(cleaned.WORKSITE_STATE_1 == \"MI\"),\"WORKSITE_STATE_1\"] = \"MICHIGAN\"\n",
    "cleaned.loc[(cleaned.WORKSITE_STATE_1 == \"MN\"),\"WORKSITE_STATE_1\"] = \"MINNESOTA\"\n",
    "cleaned.loc[(cleaned.WORKSITE_STATE_1 == \"MS\"),\"WORKSITE_STATE_1\"] = \"MISSISSIPPI\"\n",
    "cleaned.loc[(cleaned.WORKSITE_STATE_1 == \"MO\"),\"WORKSITE_STATE_1\"] = \"MISSOURI\"\n",
    "cleaned.loc[(cleaned.WORKSITE_STATE_1 == \"MT\"),\"WORKSITE_STATE_1\"] = \"MONTANA\"\n",
    "cleaned.loc[(cleaned.WORKSITE_STATE_1 == \"NE\"),\"WORKSITE_STATE_1\"] = \"NEBRASKA\"\n",
    "cleaned.loc[(cleaned.WORKSITE_STATE_1 == \"NV\"),\"WORKSITE_STATE_1\"] = \"NEVADA\"\n",
    "cleaned.loc[(cleaned.WORKSITE_STATE_1 == \"NH\"),\"WORKSITE_STATE_1\"] = \"NEW HAMPSHIRE\"\n",
    "cleaned.loc[(cleaned.WORKSITE_STATE_1 == \"NJ\"),\"WORKSITE_STATE_1\"] = \"NEW JERSEY\"\n",
    "cleaned.loc[(cleaned.WORKSITE_STATE_1 == \"NM\"),\"WORKSITE_STATE_1\"] = \"NEW MEXICO\"\n",
    "cleaned.loc[(cleaned.WORKSITE_STATE_1 == \"NY\"),\"WORKSITE_STATE_1\"] = \"NEW YORK\"\n",
    "cleaned.loc[(cleaned.WORKSITE_STATE_1 == \"NC\"),\"WORKSITE_STATE_1\"] = \"NORTH CAROLINA\"\n",
    "cleaned.loc[(cleaned.WORKSITE_STATE_1 == \"ND\"),\"WORKSITE_STATE_1\"] = \"NORTH DAKOTA\"\n",
    "cleaned.loc[(cleaned.WORKSITE_STATE_1 == \"OH\"),\"WORKSITE_STATE_1\"] = \"OHIO\"\n",
    "cleaned.loc[(cleaned.WORKSITE_STATE_1 == \"OK\"),\"WORKSITE_STATE_1\"] = \"OKLAHOMA\"\n",
    "cleaned.loc[(cleaned.WORKSITE_STATE_1 == \"OR\"),\"WORKSITE_STATE_1\"] = \"OREGON\"\n",
    "cleaned.loc[(cleaned.WORKSITE_STATE_1 == \"PA\"),\"WORKSITE_STATE_1\"] = \"PENNSYLVANIA\"\n",
    "cleaned.loc[(cleaned.WORKSITE_STATE_1 == \"RI\"),\"WORKSITE_STATE_1\"] = \"RHODE ISLAND\"\n",
    "cleaned.loc[(cleaned.WORKSITE_STATE_1 == \"SC\"),\"WORKSITE_STATE_1\"] = \"SOUTH CAROLINA\"\n",
    "cleaned.loc[(cleaned.WORKSITE_STATE_1 == \"SD\"),\"WORKSITE_STATE_1\"] = \"SOUTH DAKOTA\"\n",
    "cleaned.loc[(cleaned.WORKSITE_STATE_1 == \"TN\"),\"WORKSITE_STATE_1\"] = \"TENNESSEE\"\n",
    "cleaned.loc[(cleaned.WORKSITE_STATE_1 == \"TX\"),\"WORKSITE_STATE_1\"] = \"TEXAS\"\n",
    "cleaned.loc[(cleaned.WORKSITE_STATE_1 == \"UT\"),\"WORKSITE_STATE_1\"] = \"UTAH\"\n",
    "cleaned.loc[(cleaned.WORKSITE_STATE_1 == \"VT\"),\"WORKSITE_STATE_1\"] = \"VERMONT\"\n",
    "cleaned.loc[(cleaned.WORKSITE_STATE_1 == \"VA\"),\"WORKSITE_STATE_1\"] = \"VIRGINIA\"\n",
    "cleaned.loc[(cleaned.WORKSITE_STATE_1 == \"WA\"),\"WORKSITE_STATE_1\"] = \"WASHINGTON\"\n",
    "cleaned.loc[(cleaned.WORKSITE_STATE_1 == \"WV\"),\"WORKSITE_STATE_1\"] = \"WEST VIRGINIA\"\n",
    "cleaned.loc[(cleaned.WORKSITE_STATE_1 == \"WI\"),\"WORKSITE_STATE_1\"] = \"WISCONSIN\"\n",
    "cleaned.loc[(cleaned.WORKSITE_STATE_1 == \"WY\"),\"WORKSITE_STATE_1\"] = \"WYOMING\"\n",
    "cleaned.loc[(cleaned.WORKSITE_STATE_1 == \"PR\"),\"WORKSITE_STATE_1\"] = \"PUERTO RICO\"\n",
    "cleaned.loc[(cleaned.WORKSITE_STATE_1 == \"VI\"),\"WORKSITE_STATE_1\"] = \"U.S. VIRGIN ISLANDS\"\n",
    "cleaned.loc[(cleaned.WORKSITE_STATE_1 == \"MP\"),\"WORKSITE_STATE_1\"] = \"NORTHERN MARIANA ISLANDS\"\n",
    "cleaned.loc[(cleaned.WORKSITE_STATE_1 == \"GU\"),\"WORKSITE_STATE_1\"] = \"GUAM\"\n",
    "cleaned.loc[(cleaned.WORKSITE_STATE_1 == \"MH\"),\"WORKSITE_STATE_1\"] = \"MARSHALL ISLANDS\"\n",
    "cleaned.loc[(cleaned.WORKSITE_STATE_1 == \"PW\"),\"WORKSITE_STATE_1\"] = \"PALAU\"\n",
    "cleaned.loc[(cleaned.WORKSITE_STATE_1 == \"DC\"),\"WORKSITE_STATE_1\"] = \"DISTRICT OF COLUMBIA\"\n",
    "cleaned.loc[(cleaned.WORKSITE_STATE_1 == \"CT\"),\"WORKSITE_STATE_1\"] = \"CONNECTICUT\"\n"
   ]
  },
  {
   "cell_type": "code",
   "execution_count": 270,
   "metadata": {},
   "outputs": [
    {
     "name": "stdout",
     "output_type": "stream",
     "text": [
      "CONVERTING CATEGORICAL COLUMNS INTO NUMERIC COLUMNS\n"
     ]
    }
   ],
   "source": [
    "cleaned[\"WORKSITE_STATE_1\"].value_counts()\n",
    "print(\"CONVERTING CATEGORICAL COLUMNS INTO NUMERIC COLUMNS\")"
   ]
  },
  {
   "cell_type": "code",
   "execution_count": 271,
   "metadata": {},
   "outputs": [
    {
     "name": "stdout",
     "output_type": "stream",
     "text": [
      "DROPPING LEAST SIGNIFICANT STATES\n"
     ]
    }
   ],
   "source": [
    "cleaned = cleaned.groupby(\"WORKSITE_STATE_1\").filter(lambda x: len(x) > 15)\n",
    "print(\"DROPPING LEAST SIGNIFICANT STATES\")\n",
    "#cleaned[\"WORKSITE_STATE_1\"].value_counts()"
   ]
  },
  {
   "cell_type": "code",
   "execution_count": 272,
   "metadata": {},
   "outputs": [
    {
     "name": "stdout",
     "output_type": "stream",
     "text": [
      "CERTIFIED    477691\n",
      "DENIED         2200\n",
      "Name: CASE_STATUS, dtype: int64\n",
      "1    477691\n",
      "0      2200\n",
      "Name: CASE_STATUS, dtype: int64\n"
     ]
    }
   ],
   "source": [
    "#CONVERTING CATEGORICAL COLUMNS INTO NUMERIC COLUMNS\n",
    "print(cleaned[\"CASE_STATUS\"].value_counts())\n",
    "cleaned.loc[(cleaned.CASE_STATUS == \"CERTIFIED\"),\"CASE_STATUS\"] = 1\n",
    "cleaned.loc[(cleaned.CASE_STATUS == \"DENIED\"),\"CASE_STATUS\"] = 0\n",
    "print(cleaned[\"CASE_STATUS\"].value_counts())"
   ]
  },
  {
   "cell_type": "code",
   "execution_count": 273,
   "metadata": {},
   "outputs": [
    {
     "name": "stdout",
     "output_type": "stream",
     "text": [
      "Y    477323\n",
      "N      2568\n",
      "Name: FULL_TIME_POSITION, dtype: int64\n",
      "1    477323\n",
      "0      2568\n",
      "Name: FULL_TIME_POSITION, dtype: int64\n"
     ]
    }
   ],
   "source": [
    "print(cleaned[\"FULL_TIME_POSITION\"].value_counts())\n",
    "cleaned.loc[(cleaned.FULL_TIME_POSITION == \"Y\"),\"FULL_TIME_POSITION\"] = 1\n",
    "cleaned.loc[(cleaned.FULL_TIME_POSITION == \"N\"),\"FULL_TIME_POSITION\"] = 0\n",
    "print(cleaned[\"FULL_TIME_POSITION\"].value_counts())"
   ]
  },
  {
   "cell_type": "markdown",
   "metadata": {},
   "source": [
    "### Baseline classifier\n",
    "\n",
    "The baseline classifier is done with a basic model. In this case we are taking the mean of the labels ('certified' and 'denied' for H1B visa approvals). It will give us the base accuracy to which we will compare our classifier's accuracy. Our classifier should have a better accuracy than the baseline classifier accuracy.\n"
   ]
  },
  {
   "cell_type": "code",
   "execution_count": 340,
   "metadata": {},
   "outputs": [
    {
     "name": "stdout",
     "output_type": "stream",
     "text": [
      "1    477691\n",
      "0      2200\n",
      "Name: CASE_STATUS, dtype: int64\n",
      "proportion:  217.13227272727272 : 1\n"
     ]
    }
   ],
   "source": [
    "# This step assigns a binary class label (0 or 1) to each label for H1B visa approval. \n",
    "#'CERTIFIED' is mapped to 1 and 'DENIED' to 0\n",
    "\n",
    "def create_class_labels(processed_data):\n",
    "    \n",
    "    y = np.where((processed_data['CASE_STATUS']== 1),1, 0)\n",
    "    \n",
    "    return y\n",
    "\n",
    "X = cleaned['CASE_STATUS'].to_numpy()\n",
    "\n",
    "# Groundtruth labels for the dataset\n",
    "y = create_class_labels(cleaned)\n",
    "counts = cleaned['CASE_STATUS'].value_counts()\n",
    "print(counts)\n",
    "print('proportion: ', counts[1]/counts[0], ': 1')"
   ]
  },
  {
   "cell_type": "code",
   "execution_count": 320,
   "metadata": {},
   "outputs": [],
   "source": [
    "import sklearn\n",
    "from statistics import mean\n",
    "\n",
    "# Baseline classifier that predicts the class base on the mode of the labels.\n",
    "\n",
    "class BaselineClasifier():\n",
    "    \n",
    "    def __init__(self):\n",
    "        self.central_tendency = None\n",
    "        \n",
    "    def fit(self, data, y, central_t='mode'): \n",
    "        \n",
    "        # Count labels and find the most frequent one\n",
    "        label, counts = np.unique(y, return_counts=True) \n",
    "        \n",
    "        if central_t == 'mode':\n",
    "            self.central_tendency = counts.argmax()\n",
    "        elif central_t == 'mean':\n",
    "            self.central_tendency = round(np.sum(y)/len(y))\n",
    "        \n",
    "        return self\n",
    "    \n",
    "    # Return an array with size equal to the data size  and each element setted to the mode.\n",
    "    def predict(self, data):\n",
    "        \n",
    "        result = np.full(data.shape[0], self.central_tendency)\n",
    "        \n",
    "        return result"
   ]
  },
  {
   "cell_type": "code",
   "execution_count": 321,
   "metadata": {},
   "outputs": [],
   "source": [
    "def compute_accuracy(validation, predicted):\n",
    "    \n",
    "    comp = prediction == validation \n",
    "    match_counts = np.count_nonzero(comp == True) \n",
    "    clasifier_accuracy = match_counts/len(validation)\n",
    "    \n",
    "    return clasifier_accuracy\n",
    "    "
   ]
  },
  {
   "cell_type": "code",
   "execution_count": 329,
   "metadata": {},
   "outputs": [],
   "source": [
    "from sklearn import metrics\n",
    "from sklearn.metrics import roc_auc_score\n",
    "\n",
    "def compute_AUC(y, prediction):\n",
    "    \n",
    "    auc = None\n",
    "    \n",
    "    try:\n",
    "        auc = roc_auc_score(y, prediction)\n",
    "    except ValueError:\n",
    "        pass\n",
    "\n",
    "    return auc"
   ]
  },
  {
   "cell_type": "code",
   "execution_count": 338,
   "metadata": {
    "scrolled": true
   },
   "outputs": [
    {
     "name": "stdout",
     "output_type": "stream",
     "text": [
      "Baseline accuracy:  0.9954156255100106\n"
     ]
    }
   ],
   "source": [
    "from sklearn import model_selection\n",
    "\n",
    "# Testing with K-folds\n",
    "\n",
    "accuracies = []\n",
    "AUCs = []\n",
    "\n",
    "kf = sklearn.model_selection.KFold(n_splits=4, random_state=1, shuffle=True) \n",
    "\n",
    "for train_idx, test_idx in kf.split(X):\n",
    "    \n",
    "    X_train, X_test, y_train, y_test = X[train_idx], X[test_idx], y[train_idx], y[test_idx] \n",
    "    baseline_clasifier = BaselineClasifier()\n",
    "    classifier = baseline_clasifier.fit(X_train, y_train, 'mean')\n",
    "    prediction = baseline_clasifier.predict(X_test)\n",
    "    \n",
    "    fold_accuracy = compute_accuracy(y_test, prediction)\n",
    "    fold_AUC = compute_AUC(y_test, prediction)   \n",
    "    accuracies.append(fold_accuracy)\n",
    "    if fold_AUC != None: AUCs.append(fold_AUC)\n",
    "    \n",
    "baseline_clasifier_accuracy = mean(accuracies)\n",
    "\n",
    "print('Baseline accuracy: ', baseline_clasifier_accuracy) "
   ]
  },
  {
   "cell_type": "code",
   "execution_count": 334,
   "metadata": {},
   "outputs": [
    {
     "name": "stdout",
     "output_type": "stream",
     "text": [
      "Baseline accuracy:  0.9953948259515102\n"
     ]
    }
   ],
   "source": [
    "from sklearn.model_selection import train_test_split\n",
    "\n",
    "# Testing with regular split\n",
    "\n",
    "# create training and testing vars\n",
    "X_train, X_test, y_train, y_test = train_test_split(X, y, test_size=0.2)\n",
    "baseline_clasifier = BaselineClasifier()\n",
    "classifier = baseline_clasifier.fit(X_train, y_train, 'mean')\n",
    "prediction = baseline_clasifier.predict(X_test)\n",
    "\n",
    "split_accuracy = compute_accuracy(y_test, prediction)\n",
    "split_AUC = compute_AUC(y_test, prediction)\n",
    "\n",
    "print('Baseline accuracy: ', split_accuracy)  "
   ]
  },
  {
   "cell_type": "markdown",
   "metadata": {},
   "source": [
    "The accuracy results of the baseline classifier is 0.99. This result is due to the highly imbalanced data, where there are 477691 CERTIFIED applications and 2200 DENIED applications. The proportion of it is 217.132272 to 1. Therefore, a performance measure based on the accuracy is not a good one. A better performance measure in imbalanced data is the Area under the ROC Curve (AUC). It meassures the likelihood that given two random points (one from the positive and one from the negative class) the classifier will rank the point from the positive class higher than the one from the negative one."
   ]
  },
  {
   "cell_type": "code",
   "execution_count": 339,
   "metadata": {},
   "outputs": [
    {
     "name": "stdout",
     "output_type": "stream",
     "text": [
      "K-fold:  0.5\n",
      "split (80-20):  0.5\n"
     ]
    }
   ],
   "source": [
    "print('K-fold: ', mean(AUCs))\n",
    "print('split (80-20): ', split_AUC)"
   ]
  },
  {
   "cell_type": "code",
   "execution_count": null,
   "metadata": {},
   "outputs": [],
   "source": [
    "Dataset = cleaned[[\"CASE_STATUS\", \"FULL_TIME_POSITION\",\"JOB_TITLE\", \"SOC_CODE\", \"SOC_TITLE\", \"EMPLOYER_NAME\", \"WORKSITE_STATE_1\", \"WAGE_CATEGORY\"]]\n",
    "Dataset.head()"
   ]
  },
  {
   "cell_type": "code",
   "execution_count": null,
   "metadata": {},
   "outputs": [],
   "source": [
    "#Considered top positions in job roles\n",
    "Top_Job_positions = Dataset[\"JOB_TITLE\"].value_counts().head(72)\n",
    "Top_Job_positions\n",
    "Dataset.head(2)\n",
    "def job_function(job):\n",
    "    if job in Top_Job_positions:\n",
    "        return job\n",
    "    else:\n",
    "        return \"others\"\n",
    "Dataset[\"JOB_POSITION\"] = Dataset[\"JOB_TITLE\"].apply(job_function)\n",
    "Dataset[\"JOB_POSITION\"].value_counts()"
   ]
  },
  {
   "cell_type": "code",
   "execution_count": null,
   "metadata": {},
   "outputs": [],
   "source": [
    "#Considered top domains\n",
    "Top_SOC_CODES = Dataset[\"SOC_CODE\"].value_counts().head(70)\n",
    "Top_SOC_CODES\n",
    "Dataset.head(2)\n",
    "def soc_function(soc):\n",
    "    if soc in Top_SOC_CODES:\n",
    "        return soc\n",
    "    else:\n",
    "        return \"others\"\n",
    "Dataset[\"TOP_SOC_CODE\"] = Dataset[\"SOC_CODE\"].apply(soc_function)\n",
    "Dataset[\"TOP_SOC_CODE\"].value_counts()"
   ]
  },
  {
   "cell_type": "code",
   "execution_count": null,
   "metadata": {},
   "outputs": [],
   "source": [
    "#Considered names of top domains\n",
    "Top_SOC_TITLE = Dataset[\"SOC_TITLE\"].value_counts().head(70)\n",
    "Top_SOC_TITLE\n",
    "Dataset.head(2)\n",
    "def soc_function(soc):\n",
    "    if soc in Top_SOC_TITLE:\n",
    "        return soc\n",
    "    else:\n",
    "        return \"others\"\n",
    "Dataset[\"TOP_SOC_TITLE\"] = Dataset[\"SOC_TITLE\"].apply(soc_function)\n",
    "Dataset[\"TOP_SOC_TITLE\"].value_counts()"
   ]
  },
  {
   "cell_type": "code",
   "execution_count": null,
   "metadata": {},
   "outputs": [],
   "source": [
    "#Considered top employers\n",
    "Top_EMPLOYER = Dataset[\"EMPLOYER_NAME\"].value_counts().head(70)\n",
    "Top_EMPLOYER\n",
    "Dataset.head(2)\n",
    "def emp_function(emp):\n",
    "    if emp in Top_EMPLOYER:\n",
    "        return emp\n",
    "    else:\n",
    "        return \"others\"\n",
    "Dataset[\"TOP_EMPLOYER\"] = Dataset[\"EMPLOYER_NAME\"].apply(emp_function)\n",
    "Dataset[\"TOP_EMPLOYER\"].value_counts()"
   ]
  },
  {
   "cell_type": "code",
   "execution_count": null,
   "metadata": {},
   "outputs": [],
   "source": [
    "Dataset.columns"
   ]
  },
  {
   "cell_type": "code",
   "execution_count": null,
   "metadata": {},
   "outputs": [],
   "source": [
    "Dataset.drop(columns=['JOB_TITLE','SOC_CODE','SOC_TITLE','EMPLOYER_NAME',],axis=1,inplace=True)\n",
    "Dataset.columns"
   ]
  },
  {
   "cell_type": "code",
   "execution_count": null,
   "metadata": {},
   "outputs": [],
   "source": [
    "#ONE HOT ENCODING\n",
    "from sklearn.preprocessing import OneHotEncoder\n",
    "Dataset.head()"
   ]
  },
  {
   "cell_type": "code",
   "execution_count": null,
   "metadata": {},
   "outputs": [],
   "source": [
    "Dataset.info()"
   ]
  },
  {
   "cell_type": "code",
   "execution_count": null,
   "metadata": {},
   "outputs": [],
   "source": [
    "Encoding = OneHotEncoder(handle_unknown='ignore',sparse = True)\n",
    "Encoding_df = pd.DataFrame(Encoding.fit_transform(Dataset[[\"WORKSITE_STATE_1\",\"JOB_POSITION\",\"TOP_SOC_CODE\",\"TOP_SOC_TITLE\",\"TOP_EMPLOYER\"]]).toarray())\n",
    "Encoding_df.head()"
   ]
  },
  {
   "cell_type": "code",
   "execution_count": null,
   "metadata": {},
   "outputs": [],
   "source": [
    "Dataset = Dataset.join(Encoding_df)\n",
    "Dataset"
   ]
  },
  {
   "cell_type": "code",
   "execution_count": null,
   "metadata": {},
   "outputs": [],
   "source": [
    "Dataset.drop(columns=['WORKSITE_STATE_1','JOB_POSITION','TOP_SOC_CODE','TOP_SOC_TITLE','TOP_EMPLOYER','WAGE_CATEGORY'],axis=1,inplace=True)\n",
    "Dataset"
   ]
  },
  {
   "cell_type": "code",
   "execution_count": null,
   "metadata": {},
   "outputs": [],
   "source": [
    "#Dependent and independent variables\n",
    "Y = Dataset['CASE_STATUS'].values\n",
    "X = Encoding_df"
   ]
  },
  {
   "cell_type": "code",
   "execution_count": null,
   "metadata": {},
   "outputs": [],
   "source": [
    "#Split the date into training and test set\n",
    "from sklearn.model_selection import train_test_split\n",
    "X_train, X_test, y_train, y_test = train_test_split(X, Y, test_size=0.25, random_state=20)"
   ]
  },
  {
   "cell_type": "code",
   "execution_count": null,
   "metadata": {
    "scrolled": true
   },
   "outputs": [],
   "source": [
    "#Build model - Random Forest Classifier\n",
    "from sklearn.ensemble import RandomForestClassifier\n",
    "\n",
    "#model_clf = RandomForestClassifier(n_estimators=10, random_state=30)\n",
    "model_clf = RandomForestClassifier(n_jobs=2,random_state=0)\n",
    "\n",
    "#train the model\n",
    "model_clf.fit(X_train,y_train)"
   ]
  },
  {
   "cell_type": "code",
   "execution_count": null,
   "metadata": {
    "scrolled": true
   },
   "outputs": [],
   "source": [
    "#test the model (predict with our test data)\n",
    "prediction_test = model_clf.predict(X_test)\n",
    "prediction_test"
   ]
  },
  {
   "cell_type": "code",
   "execution_count": null,
   "metadata": {
    "scrolled": true
   },
   "outputs": [],
   "source": [
    "#compare with original value, Y_test\n",
    "from sklearn import metrics\n",
    "print(\"Accuracy = \", metrics.accuracy_score(y_test, prediction_test))"
   ]
  },
  {
   "cell_type": "markdown",
   "metadata": {},
   "source": [
    "### Reflection\n",
    "\n",
    "What is the hardest part of the project that you’ve encountered so far?\n",
    "\n",
    "1. Setting up the data for visualization and ML analysis, e.g. same job title is cluttered with different words, integers, and punctuation characters. \n",
    "2. Encoding the dataset to be used in the Classifier. We tried with JOB_TITLE attribute but got Memory error, instead, we started to use SOC_TITLE attribute"
   ]
  }
 ],
 "metadata": {
  "accelerator": "GPU",
  "colab": {
   "collapsed_sections": [],
   "machine_shape": "hm",
   "name": "H1b_project.ipynb",
   "provenance": [],
   "toc_visible": true
  },
  "kernelspec": {
   "display_name": "Python 3",
   "language": "python",
   "name": "python3"
  },
  "language_info": {
   "codemirror_mode": {
    "name": "ipython",
    "version": 3
   },
   "file_extension": ".py",
   "mimetype": "text/x-python",
   "name": "python",
   "nbconvert_exporter": "python",
   "pygments_lexer": "ipython3",
   "version": "3.7.4"
  }
 },
 "nbformat": 4,
 "nbformat_minor": 1
}
