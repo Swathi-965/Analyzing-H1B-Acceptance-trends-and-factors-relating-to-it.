{
 "cells": [
  {
   "cell_type": "markdown",
   "metadata": {
    "colab_type": "text",
    "id": "RFnPSdxLC6em"
   },
   "source": [
    "# Analysing H1B Acceptance Trends "
   ]
  },
  {
   "cell_type": "markdown",
   "metadata": {
    "colab_type": "text",
    "id": "Uh8CJdwBJOAL"
   },
   "source": [
    "H1B visa is a nonimmigrant visa issued to gradute level workers which allows them to work in the United States. The employer sponsors the H1B visa for workers with theoretical or technical expertise in specialized fields such as in IT, finance, accounting etc. An interesting fact about immigrant workers is that about 52 percent of new Silicon valley companies were founded by such workers during 1995 and 2005. Some famous CEOs like Indira Nooyi (Pepsico), Elon Musk (Tesla), Sundar Pichai (Google),Satya Nadella (Microsoft) once arrived to the US on a H1B visa."
   ]
  },
  {
   "cell_type": "markdown",
   "metadata": {
    "colab_type": "text",
    "id": "QIe1lq1-RyDV"
   },
   "source": [
    "**Motivation**: Our team consists of five international gradute students, in the future we will be applying for H1B visa. The visa application process seems very long, complicated and uncertain. So we decided to understand this process and use Machine learning algorithms to predict the acceptance rate and trends of H1B visa. "
   ]
  },
  {
   "cell_type": "markdown",
   "metadata": {
    "colab_type": "text",
    "id": "kjQ8YI2GTfb6"
   },
   "source": [
    "## Data \n",
    "The data used in the project has been collected from <a href=\"https://www.foreignlaborcert.doleta.gov/performancedata.cfm\">the Office of Foreign Labor Certification (OFLC).</a> "
   ]
  },
  {
   "cell_type": "code",
   "execution_count": 120,
   "metadata": {
    "colab": {
     "base_uri": "https://localhost:8080/",
     "height": 54
    },
    "colab_type": "code",
    "id": "eUglaNmlQ44L",
    "outputId": "d1ef0b1d-10b3-4056-8378-1745d91b1c91"
   },
   "outputs": [
    {
     "name": "stdout",
     "output_type": "stream",
     "text": [
      "Drive already mounted at /content/gdrive; to attempt to forcibly remount, call drive.mount(\"/content/gdrive\", force_remount=True).\n"
     ]
    }
   ],
   "source": [
    "from google.colab import drive\n",
    "drive.mount('/content/gdrive')"
   ]
  },
  {
   "cell_type": "code",
   "execution_count": 9,
   "metadata": {
    "colab": {
     "base_uri": "https://localhost:8080/",
     "height": 85
    },
    "colab_type": "code",
    "id": "_sSzHVSl3-bD",
    "outputId": "e7d2985a-7e9f-40ab-cf0c-6da09777e89d"
   },
   "outputs": [
    {
     "name": "stdout",
     "output_type": "stream",
     "text": [
      "Requirement already satisfied: autocorrect in c:\\users\\charic\\documents\\python_scripts\\2_semester\\data_science_env\\lib\\site-packages (1.1.0)\n"
     ]
    },
    {
     "name": "stderr",
     "output_type": "stream",
     "text": [
      "[nltk_data] Downloading package wordnet to\n",
      "[nltk_data]     C:\\Users\\Charic\\AppData\\Roaming\\nltk_data...\n",
      "[nltk_data]   Package wordnet is already up-to-date!\n"
     ]
    },
    {
     "data": {
      "text/plain": [
       "True"
      ]
     },
     "execution_count": 9,
     "metadata": {},
     "output_type": "execute_result"
    }
   ],
   "source": [
    "!pip install autocorrect\n",
    "import pandas as pd\n",
    "import numpy as np\n",
    "import warnings\n",
    "import nltk\n",
    "from textblob import TextBlob\n",
    "from autocorrect import Speller \n",
    "nltk.download('wordnet')"
   ]
  },
  {
   "cell_type": "markdown",
   "metadata": {
    "colab_type": "text",
    "id": "FARuLUkuV7T8"
   },
   "source": [
    "## Exploratory Data Analysis"
   ]
  },
  {
   "cell_type": "markdown",
   "metadata": {
    "colab_type": "text",
    "id": "pleklaelV_xO"
   },
   "source": [
    "Before we begin working on our data we need to understand the traits of our data which we accomplish using EDA. We see that we have about 260 columns , not all 260 coulms have essential information that contributes to our analysis. Hence we pick out the columns such as case status( Accepted/ Denied) ,Employer, Job title etc. "
   ]
  },
  {
   "cell_type": "code",
   "execution_count": 8,
   "metadata": {
    "colab": {
     "base_uri": "https://localhost:8080/",
     "height": 71
    },
    "colab_type": "code",
    "id": "iCiYlOyXHHKJ",
    "outputId": "c4395d86-fc2c-4d3e-bda8-a5571fa7cde0"
   },
   "outputs": [],
   "source": [
    "#Read the csv file and stored in file\n",
    "#file=pd.read_csv('/content/gdrive/My Drive/H-1B_Disclosure_Data_FY2019.csv')\n",
    "file = pd.read_excel('../data/H-1B_Disclosure_Data_FY2019.xlsx', skip_blank_lines=False)"
   ]
  },
  {
   "cell_type": "code",
   "execution_count": 10,
   "metadata": {
    "colab": {
     "base_uri": "https://localhost:8080/",
     "height": 34
    },
    "colab_type": "code",
    "id": "XT6Wmc2-WVo7",
    "outputId": "b881bc3f-b72f-403d-c362-c068ce14e88b"
   },
   "outputs": [
    {
     "data": {
      "text/plain": [
       "(664616, 260)"
      ]
     },
     "execution_count": 10,
     "metadata": {},
     "output_type": "execute_result"
    }
   ],
   "source": [
    "file.shape"
   ]
  },
  {
   "cell_type": "code",
   "execution_count": 31,
   "metadata": {
    "colab": {
     "base_uri": "https://localhost:8080/",
     "height": 479
    },
    "colab_type": "code",
    "id": "ZxxeAh5SX0Bc",
    "outputId": "f5653606-660f-47d5-b18f-720293fd74d8"
   },
   "outputs": [
    {
     "data": {
      "text/html": [
       "<div>\n",
       "<style scoped>\n",
       "    .dataframe tbody tr th:only-of-type {\n",
       "        vertical-align: middle;\n",
       "    }\n",
       "\n",
       "    .dataframe tbody tr th {\n",
       "        vertical-align: top;\n",
       "    }\n",
       "\n",
       "    .dataframe thead th {\n",
       "        text-align: right;\n",
       "    }\n",
       "</style>\n",
       "<table border=\"1\" class=\"dataframe\">\n",
       "  <thead>\n",
       "    <tr style=\"text-align: right;\">\n",
       "      <th></th>\n",
       "      <th>CASE_NUMBER</th>\n",
       "      <th>CASE_STATUS</th>\n",
       "      <th>CASE_SUBMITTED</th>\n",
       "      <th>DECISION_DATE</th>\n",
       "      <th>VISA_CLASS</th>\n",
       "      <th>JOB_TITLE</th>\n",
       "      <th>SOC_CODE</th>\n",
       "      <th>SOC_TITLE</th>\n",
       "      <th>EMPLOYER_NAME</th>\n",
       "      <th>WAGE_RATE_OF_PAY_FROM_1</th>\n",
       "      <th>WAGE_UNIT_OF_PAY_1</th>\n",
       "    </tr>\n",
       "  </thead>\n",
       "  <tbody>\n",
       "    <tr>\n",
       "      <th>0</th>\n",
       "      <td>I-200-16092-327771</td>\n",
       "      <td>WITHDRAWN</td>\n",
       "      <td>2016-04-08</td>\n",
       "      <td>2019-04-30</td>\n",
       "      <td>H-1B</td>\n",
       "      <td>ASSOCIATE CREATIVE DIRECTOR</td>\n",
       "      <td>11-2011</td>\n",
       "      <td>ADVERTISING AND PROMOTIONS MANAGERS</td>\n",
       "      <td>R/GA MEDIA GROUP, INC.</td>\n",
       "      <td>179000.0</td>\n",
       "      <td>Year</td>\n",
       "    </tr>\n",
       "    <tr>\n",
       "      <th>1</th>\n",
       "      <td>I-203-17188-450729</td>\n",
       "      <td>WITHDRAWN</td>\n",
       "      <td>2017-07-14</td>\n",
       "      <td>2019-05-13</td>\n",
       "      <td>E-3 Australian</td>\n",
       "      <td>ACCOUNT SUPERVISOR (MOTHER)</td>\n",
       "      <td>11-2011</td>\n",
       "      <td>ADVERTISING AND PROMOTIONS MANAGERS</td>\n",
       "      <td>MOTHER INDUSTRIES LLC</td>\n",
       "      <td>110000.0</td>\n",
       "      <td>Year</td>\n",
       "    </tr>\n",
       "    <tr>\n",
       "      <th>2</th>\n",
       "      <td>I-203-17229-572307</td>\n",
       "      <td>WITHDRAWN</td>\n",
       "      <td>2017-08-23</td>\n",
       "      <td>2019-04-30</td>\n",
       "      <td>E-3 Australian</td>\n",
       "      <td>EXECUTIVE CREATIVE DIRECTOR</td>\n",
       "      <td>11-2011</td>\n",
       "      <td>ADVERTISING AND PROMOTIONS MANAGERS</td>\n",
       "      <td>WE ARE UNLIMITED, INC.</td>\n",
       "      <td>275000.0</td>\n",
       "      <td>Year</td>\n",
       "    </tr>\n",
       "    <tr>\n",
       "      <th>3</th>\n",
       "      <td>I-203-17356-299648</td>\n",
       "      <td>WITHDRAWN</td>\n",
       "      <td>2017-12-22</td>\n",
       "      <td>2019-08-20</td>\n",
       "      <td>E-3 Australian</td>\n",
       "      <td>PROJECT MANAGEMENT LEAD</td>\n",
       "      <td>11-2011</td>\n",
       "      <td>ADVERTISING AND PROMOTIONS MANAGERS</td>\n",
       "      <td>HELLO ELEPHANT, LLC</td>\n",
       "      <td>140000.0</td>\n",
       "      <td>Year</td>\n",
       "    </tr>\n",
       "    <tr>\n",
       "      <th>4</th>\n",
       "      <td>I-203-18008-577576</td>\n",
       "      <td>WITHDRAWN</td>\n",
       "      <td>2018-01-10</td>\n",
       "      <td>2019-04-15</td>\n",
       "      <td>E-3 Australian</td>\n",
       "      <td>CREATIVE DIRECTOR, UX</td>\n",
       "      <td>11-2011</td>\n",
       "      <td>ADVERTISING AND PROMOTIONS MANAGERS</td>\n",
       "      <td>HELLO ELEPHANT, LLC</td>\n",
       "      <td>180000.0</td>\n",
       "      <td>Year</td>\n",
       "    </tr>\n",
       "  </tbody>\n",
       "</table>\n",
       "</div>"
      ],
      "text/plain": [
       "          CASE_NUMBER CASE_STATUS CASE_SUBMITTED DECISION_DATE  \\\n",
       "0  I-200-16092-327771   WITHDRAWN     2016-04-08    2019-04-30   \n",
       "1  I-203-17188-450729   WITHDRAWN     2017-07-14    2019-05-13   \n",
       "2  I-203-17229-572307   WITHDRAWN     2017-08-23    2019-04-30   \n",
       "3  I-203-17356-299648   WITHDRAWN     2017-12-22    2019-08-20   \n",
       "4  I-203-18008-577576   WITHDRAWN     2018-01-10    2019-04-15   \n",
       "\n",
       "       VISA_CLASS                    JOB_TITLE SOC_CODE  \\\n",
       "0            H-1B  ASSOCIATE CREATIVE DIRECTOR  11-2011   \n",
       "1  E-3 Australian  ACCOUNT SUPERVISOR (MOTHER)  11-2011   \n",
       "2  E-3 Australian  EXECUTIVE CREATIVE DIRECTOR  11-2011   \n",
       "3  E-3 Australian      PROJECT MANAGEMENT LEAD  11-2011   \n",
       "4  E-3 Australian        CREATIVE DIRECTOR, UX  11-2011   \n",
       "\n",
       "                             SOC_TITLE           EMPLOYER_NAME  \\\n",
       "0  ADVERTISING AND PROMOTIONS MANAGERS  R/GA MEDIA GROUP, INC.   \n",
       "1  ADVERTISING AND PROMOTIONS MANAGERS   MOTHER INDUSTRIES LLC   \n",
       "2  ADVERTISING AND PROMOTIONS MANAGERS  WE ARE UNLIMITED, INC.   \n",
       "3  ADVERTISING AND PROMOTIONS MANAGERS     HELLO ELEPHANT, LLC   \n",
       "4  ADVERTISING AND PROMOTIONS MANAGERS     HELLO ELEPHANT, LLC   \n",
       "\n",
       "   WAGE_RATE_OF_PAY_FROM_1 WAGE_UNIT_OF_PAY_1  \n",
       "0                 179000.0               Year  \n",
       "1                 110000.0               Year  \n",
       "2                 275000.0               Year  \n",
       "3                 140000.0               Year  \n",
       "4                 180000.0               Year  "
      ]
     },
     "execution_count": 31,
     "metadata": {},
     "output_type": "execute_result"
    }
   ],
   "source": [
    "cleaned=file[['CASE_NUMBER','CASE_STATUS','CASE_SUBMITTED','DECISION_DATE','VISA_CLASS','JOB_TITLE','SOC_CODE','SOC_TITLE','EMPLOYER_NAME','WAGE_RATE_OF_PAY_FROM_1','WAGE_UNIT_OF_PAY_1']]\n",
    "cleaned.head()"
   ]
  },
  {
   "cell_type": "code",
   "execution_count": 32,
   "metadata": {
    "colab": {
     "base_uri": "https://localhost:8080/",
     "height": 102
    },
    "colab_type": "code",
    "id": "BbgGJEB9XpO6",
    "outputId": "c49c26e1-1441-4ad0-e449-37c1116a5ad4"
   },
   "outputs": [
    {
     "data": {
      "text/plain": [
       "H-1B               649083\n",
       "E-3 Australian      13087\n",
       "H-1B1 Singapore      1291\n",
       "H-1B1 Chile          1155\n",
       "Name: VISA_CLASS, dtype: int64"
      ]
     },
     "execution_count": 32,
     "metadata": {},
     "output_type": "execute_result"
    }
   ],
   "source": [
    "cleaned['VISA_CLASS'].value_counts()"
   ]
  },
  {
   "cell_type": "code",
   "execution_count": 33,
   "metadata": {
    "colab": {
     "base_uri": "https://localhost:8080/",
     "height": 122
    },
    "colab_type": "code",
    "id": "NLttcaMGZC1l",
    "outputId": "3ddf5f0d-5d94-4835-cdf4-75c03e017ffa"
   },
   "outputs": [],
   "source": [
    "# Visa class has many categories which are not of use , we require only H1B visa type , hence we drop all records with other visa types\n",
    "cleaned.drop(labels=cleaned[cleaned['VISA_CLASS']!='H-1B'].index , inplace=True)"
   ]
  },
  {
   "cell_type": "code",
   "execution_count": 34,
   "metadata": {
    "colab": {
     "base_uri": "https://localhost:8080/",
     "height": 119
    },
    "colab_type": "code",
    "id": "qox8ruM-Xff_",
    "outputId": "fba5a862-ca4b-46ca-bc3e-873262dc1366"
   },
   "outputs": [
    {
     "data": {
      "text/plain": [
       "CERTIFIED              578640\n",
       "CERTIFIED-WITHDRAWN     46050\n",
       "WITHDRAWN               19227\n",
       "DENIED                   5166\n",
       "Name: CASE_STATUS, dtype: int64"
      ]
     },
     "execution_count": 34,
     "metadata": {},
     "output_type": "execute_result"
    }
   ],
   "source": [
    "cleaned['CASE_STATUS'].value_counts()"
   ]
  },
  {
   "cell_type": "code",
   "execution_count": 35,
   "metadata": {
    "colab": {
     "base_uri": "https://localhost:8080/",
     "height": 666
    },
    "colab_type": "code",
    "id": "7Cz9Kkghr3JP",
    "outputId": "fabff9cb-970c-472b-9fcc-49ba0546434a"
   },
   "outputs": [
    {
     "data": {
      "text/html": [
       "<div>\n",
       "<style scoped>\n",
       "    .dataframe tbody tr th:only-of-type {\n",
       "        vertical-align: middle;\n",
       "    }\n",
       "\n",
       "    .dataframe tbody tr th {\n",
       "        vertical-align: top;\n",
       "    }\n",
       "\n",
       "    .dataframe thead th {\n",
       "        text-align: right;\n",
       "    }\n",
       "</style>\n",
       "<table border=\"1\" class=\"dataframe\">\n",
       "  <thead>\n",
       "    <tr style=\"text-align: right;\">\n",
       "      <th></th>\n",
       "      <th>CASE_NUMBER</th>\n",
       "      <th>CASE_STATUS</th>\n",
       "      <th>CASE_SUBMITTED</th>\n",
       "      <th>DECISION_DATE</th>\n",
       "      <th>VISA_CLASS</th>\n",
       "      <th>JOB_TITLE</th>\n",
       "      <th>SOC_CODE</th>\n",
       "      <th>SOC_TITLE</th>\n",
       "      <th>EMPLOYER_NAME</th>\n",
       "      <th>WAGE_RATE_OF_PAY_FROM_1</th>\n",
       "      <th>WAGE_UNIT_OF_PAY_1</th>\n",
       "    </tr>\n",
       "  </thead>\n",
       "  <tbody>\n",
       "    <tr>\n",
       "      <th>18</th>\n",
       "      <td>I-200-17250-072640</td>\n",
       "      <td>CERTIFIED</td>\n",
       "      <td>2017-09-07</td>\n",
       "      <td>2019-01-07</td>\n",
       "      <td>H-1B</td>\n",
       "      <td>EXECUTIVE DIRECTOR, STRATEGY</td>\n",
       "      <td>11-2011</td>\n",
       "      <td>ADVERTISING AND PROMOTIONS MANAGERS</td>\n",
       "      <td>FIGLIULO &amp; PARTNERS LLC</td>\n",
       "      <td>230000.0</td>\n",
       "      <td>Year</td>\n",
       "    </tr>\n",
       "    <tr>\n",
       "      <th>19</th>\n",
       "      <td>I-200-18026-717110</td>\n",
       "      <td>CERTIFIED</td>\n",
       "      <td>2018-01-26</td>\n",
       "      <td>2019-07-05</td>\n",
       "      <td>H-1B</td>\n",
       "      <td>PROJECT OPERATIONS MANAGER</td>\n",
       "      <td>11-2011</td>\n",
       "      <td>ADVERTISING AND PROMOTIONS MANAGERS</td>\n",
       "      <td>INVISIONAPP INC.</td>\n",
       "      <td>107000.0</td>\n",
       "      <td>Year</td>\n",
       "    </tr>\n",
       "    <tr>\n",
       "      <th>21</th>\n",
       "      <td>I-200-18039-081565</td>\n",
       "      <td>CERTIFIED</td>\n",
       "      <td>2018-03-05</td>\n",
       "      <td>2019-01-08</td>\n",
       "      <td>H-1B</td>\n",
       "      <td>MANAGER OF LEAGUE AND TOURNAMENT SERVICES</td>\n",
       "      <td>11-2011</td>\n",
       "      <td>ADVERTISING AND PROMOTIONS MANAGERS</td>\n",
       "      <td>OREGON YOUTH SOCCER ASSOCIATION</td>\n",
       "      <td>49087.0</td>\n",
       "      <td>Year</td>\n",
       "    </tr>\n",
       "    <tr>\n",
       "      <th>22</th>\n",
       "      <td>I-200-18082-340860</td>\n",
       "      <td>CERTIFIED</td>\n",
       "      <td>2018-03-23</td>\n",
       "      <td>2019-04-22</td>\n",
       "      <td>H-1B</td>\n",
       "      <td>DIRECTOR, DEMAND</td>\n",
       "      <td>11-2011</td>\n",
       "      <td>ADVERTISING AND PROMOTIONS MANAGERS</td>\n",
       "      <td>FACTUAL, INC.</td>\n",
       "      <td>172930.0</td>\n",
       "      <td>Year</td>\n",
       "    </tr>\n",
       "    <tr>\n",
       "      <th>24</th>\n",
       "      <td>I-200-18162-689783</td>\n",
       "      <td>CERTIFIED</td>\n",
       "      <td>2018-09-26</td>\n",
       "      <td>2018-10-02</td>\n",
       "      <td>H-1B</td>\n",
       "      <td>ADVERSTING AND PROMOTIONS MANAGER</td>\n",
       "      <td>11-2011</td>\n",
       "      <td>ADVERTISING AND PROMOTIONS MANAGERS</td>\n",
       "      <td>FANTUAN GROUP INC</td>\n",
       "      <td>33.0</td>\n",
       "      <td>Hour</td>\n",
       "    </tr>\n",
       "  </tbody>\n",
       "</table>\n",
       "</div>"
      ],
      "text/plain": [
       "           CASE_NUMBER CASE_STATUS CASE_SUBMITTED DECISION_DATE VISA_CLASS  \\\n",
       "18  I-200-17250-072640   CERTIFIED     2017-09-07    2019-01-07       H-1B   \n",
       "19  I-200-18026-717110   CERTIFIED     2018-01-26    2019-07-05       H-1B   \n",
       "21  I-200-18039-081565   CERTIFIED     2018-03-05    2019-01-08       H-1B   \n",
       "22  I-200-18082-340860   CERTIFIED     2018-03-23    2019-04-22       H-1B   \n",
       "24  I-200-18162-689783   CERTIFIED     2018-09-26    2018-10-02       H-1B   \n",
       "\n",
       "                                    JOB_TITLE SOC_CODE  \\\n",
       "18               EXECUTIVE DIRECTOR, STRATEGY  11-2011   \n",
       "19                 PROJECT OPERATIONS MANAGER  11-2011   \n",
       "21  MANAGER OF LEAGUE AND TOURNAMENT SERVICES  11-2011   \n",
       "22                           DIRECTOR, DEMAND  11-2011   \n",
       "24          ADVERSTING AND PROMOTIONS MANAGER  11-2011   \n",
       "\n",
       "                              SOC_TITLE                    EMPLOYER_NAME  \\\n",
       "18  ADVERTISING AND PROMOTIONS MANAGERS          FIGLIULO & PARTNERS LLC   \n",
       "19  ADVERTISING AND PROMOTIONS MANAGERS                 INVISIONAPP INC.   \n",
       "21  ADVERTISING AND PROMOTIONS MANAGERS  OREGON YOUTH SOCCER ASSOCIATION   \n",
       "22  ADVERTISING AND PROMOTIONS MANAGERS                    FACTUAL, INC.   \n",
       "24  ADVERTISING AND PROMOTIONS MANAGERS                FANTUAN GROUP INC   \n",
       "\n",
       "    WAGE_RATE_OF_PAY_FROM_1 WAGE_UNIT_OF_PAY_1  \n",
       "18                 230000.0               Year  \n",
       "19                 107000.0               Year  \n",
       "21                  49087.0               Year  \n",
       "22                 172930.0               Year  \n",
       "24                     33.0               Hour  "
      ]
     },
     "execution_count": 35,
     "metadata": {},
     "output_type": "execute_result"
    }
   ],
   "source": [
    "#As we want to only need accepted and denied cases we are dropping withdrawn from the data frame. \n",
    "#Case status of class certified-withdraw were certified earlier and later withdraw which can be considered a\n",
    "cleaned.replace({\"CASE_STATUS\":\"CERTIFIED-WITHDRAWN\"},\"CERTIFIED\",inplace=True)\n",
    "cleaned.drop(labels=cleaned[cleaned['CASE_STATUS']=='WITHDRAWN'].index , inplace=True)\n",
    "cleaned.head()"
   ]
  },
  {
   "cell_type": "code",
   "execution_count": 36,
   "metadata": {
    "colab": {
     "base_uri": "https://localhost:8080/",
     "height": 323
    },
    "colab_type": "code",
    "id": "75W7CN49Yvhf",
    "outputId": "773e5889-8f7a-439a-e0e7-383d24baa77e"
   },
   "outputs": [
    {
     "name": "stdout",
     "output_type": "stream",
     "text": [
      "<class 'pandas.core.frame.DataFrame'>\n",
      "Int64Index: 629856 entries, 18 to 664615\n",
      "Data columns (total 11 columns):\n",
      " #   Column                   Non-Null Count   Dtype         \n",
      "---  ------                   --------------   -----         \n",
      " 0   CASE_NUMBER              629856 non-null  object        \n",
      " 1   CASE_STATUS              629856 non-null  object        \n",
      " 2   CASE_SUBMITTED           629856 non-null  datetime64[ns]\n",
      " 3   DECISION_DATE            629856 non-null  datetime64[ns]\n",
      " 4   VISA_CLASS               629856 non-null  object        \n",
      " 5   JOB_TITLE                629856 non-null  object        \n",
      " 6   SOC_CODE                 629852 non-null  object        \n",
      " 7   SOC_TITLE                629852 non-null  object        \n",
      " 8   EMPLOYER_NAME            629848 non-null  object        \n",
      " 9   WAGE_RATE_OF_PAY_FROM_1  629852 non-null  float64       \n",
      " 10  WAGE_UNIT_OF_PAY_1       629852 non-null  object        \n",
      "dtypes: datetime64[ns](2), float64(1), object(8)\n",
      "memory usage: 57.7+ MB\n"
     ]
    }
   ],
   "source": [
    "cleaned.info()"
   ]
  },
  {
   "cell_type": "code",
   "execution_count": 37,
   "metadata": {
    "colab": {
     "base_uri": "https://localhost:8080/",
     "height": 68
    },
    "colab_type": "code",
    "id": "F5SSKy8mVr01",
    "outputId": "27daf41e-5ca8-4439-91aa-3ba6e041cfec"
   },
   "outputs": [
    {
     "data": {
      "text/plain": [
       "<class 'float'>    629856\n",
       "Name: WAGE_RATE_OF_PAY_FROM_1, dtype: int64"
      ]
     },
     "execution_count": 37,
     "metadata": {},
     "output_type": "execute_result"
    }
   ],
   "source": [
    "#the column wages has a mix of both string and float value types and some record have the symbol '$' which we want to remove\n",
    "cleaned['WAGE_RATE_OF_PAY_FROM_1'].apply(type).value_counts()"
   ]
  },
  {
   "cell_type": "code",
   "execution_count": 38,
   "metadata": {
    "colab": {},
    "colab_type": "code",
    "id": "cDAglVs6XHVB"
   },
   "outputs": [],
   "source": [
    "def clean_wages(w):\n",
    "    \"\"\" Function to remove '$' symbol and other delimiters from wages column which consistes of str and float type values\n",
    "    if the column entry is string type then remove the symbols else return the column value as it is \n",
    "    \"\"\"\n",
    "    if isinstance(w, str):\n",
    "        return(w.replace('$', '').replace(',', ''))\n",
    "    return(w)"
   ]
  },
  {
   "cell_type": "code",
   "execution_count": 39,
   "metadata": {
    "colab": {
     "base_uri": "https://localhost:8080/",
     "height": 462
    },
    "colab_type": "code",
    "id": "Py3xCbSawIpR",
    "outputId": "c17ad75b-fec9-4f0e-dac4-b9ef9b0a5802"
   },
   "outputs": [
    {
     "name": "stderr",
     "output_type": "stream",
     "text": [
      "C:\\Users\\Charic\\Documents\\Python_Scripts\\2_semester\\data_science_env\\lib\\site-packages\\ipykernel_launcher.py:1: SettingWithCopyWarning: \n",
      "A value is trying to be set on a copy of a slice from a DataFrame.\n",
      "Try using .loc[row_indexer,col_indexer] = value instead\n",
      "\n",
      "See the caveats in the documentation: https://pandas.pydata.org/pandas-docs/stable/user_guide/indexing.html#returning-a-view-versus-a-copy\n",
      "  \"\"\"Entry point for launching an IPython kernel.\n"
     ]
    },
    {
     "name": "stdout",
     "output_type": "stream",
     "text": [
      "<class 'pandas.core.frame.DataFrame'>\n",
      "Int64Index: 629856 entries, 18 to 664615\n",
      "Data columns (total 12 columns):\n",
      " #   Column                   Non-Null Count   Dtype         \n",
      "---  ------                   --------------   -----         \n",
      " 0   CASE_NUMBER              629856 non-null  object        \n",
      " 1   CASE_STATUS              629856 non-null  object        \n",
      " 2   CASE_SUBMITTED           629856 non-null  datetime64[ns]\n",
      " 3   DECISION_DATE            629856 non-null  datetime64[ns]\n",
      " 4   VISA_CLASS               629856 non-null  object        \n",
      " 5   JOB_TITLE                629856 non-null  object        \n",
      " 6   SOC_CODE                 629852 non-null  object        \n",
      " 7   SOC_TITLE                629852 non-null  object        \n",
      " 8   EMPLOYER_NAME            629848 non-null  object        \n",
      " 9   WAGE_RATE_OF_PAY_FROM_1  629852 non-null  float64       \n",
      " 10  WAGE_UNIT_OF_PAY_1       629852 non-null  object        \n",
      " 11  WAGES                    629852 non-null  float64       \n",
      "dtypes: datetime64[ns](2), float64(2), object(8)\n",
      "memory usage: 62.5+ MB\n"
     ]
    }
   ],
   "source": [
    "cleaned['WAGES']=cleaned['WAGE_RATE_OF_PAY_FROM_1'].apply(clean_wages).astype('float')\n",
    "cleaned.info()"
   ]
  },
  {
   "cell_type": "code",
   "execution_count": 41,
   "metadata": {
    "colab": {
     "base_uri": "https://localhost:8080/",
     "height": 119
    },
    "colab_type": "code",
    "id": "yKCdooZsQ7yD",
    "outputId": "c6b1312c-c667-46a8-82fe-1a0d9634d888"
   },
   "outputs": [
    {
     "data": {
      "text/plain": [
       "Year         587386\n",
       "Hour          41927\n",
       "Month           342\n",
       "Bi-Weekly       105\n",
       "Week             92\n",
       "Name: WAGE_UNIT_OF_PAY_1, dtype: int64"
      ]
     },
     "execution_count": 41,
     "metadata": {},
     "output_type": "execute_result"
    }
   ],
   "source": [
    "# the wage information that we have available has different unit of pay\n",
    "cleaned['WAGE_UNIT_OF_PAY_1'].value_counts()"
   ]
  },
  {
   "cell_type": "code",
   "execution_count": 42,
   "metadata": {
    "colab": {
     "base_uri": "https://localhost:8080/",
     "height": 267
    },
    "colab_type": "code",
    "id": "44hLG2TIZH-v",
    "outputId": "45b9d805-d359-4234-a111-3622718c56a7"
   },
   "outputs": [
    {
     "data": {
      "text/html": [
       "<div>\n",
       "<style scoped>\n",
       "    .dataframe tbody tr th:only-of-type {\n",
       "        vertical-align: middle;\n",
       "    }\n",
       "\n",
       "    .dataframe tbody tr th {\n",
       "        vertical-align: top;\n",
       "    }\n",
       "\n",
       "    .dataframe thead th {\n",
       "        text-align: right;\n",
       "    }\n",
       "</style>\n",
       "<table border=\"1\" class=\"dataframe\">\n",
       "  <thead>\n",
       "    <tr style=\"text-align: right;\">\n",
       "      <th></th>\n",
       "      <th>CASE_NUMBER</th>\n",
       "      <th>CASE_STATUS</th>\n",
       "      <th>CASE_SUBMITTED</th>\n",
       "      <th>DECISION_DATE</th>\n",
       "      <th>VISA_CLASS</th>\n",
       "      <th>JOB_TITLE</th>\n",
       "      <th>SOC_CODE</th>\n",
       "      <th>SOC_TITLE</th>\n",
       "      <th>EMPLOYER_NAME</th>\n",
       "      <th>WAGE_RATE_OF_PAY_FROM_1</th>\n",
       "      <th>WAGE_UNIT_OF_PAY_1</th>\n",
       "      <th>WAGES</th>\n",
       "    </tr>\n",
       "  </thead>\n",
       "  <tbody>\n",
       "    <tr>\n",
       "      <th>818</th>\n",
       "      <td>I-200-18306-399497</td>\n",
       "      <td>DENIED</td>\n",
       "      <td>2018-11-02 11:37:37</td>\n",
       "      <td>2018-11-05 12:07:42</td>\n",
       "      <td>H-1B</td>\n",
       "      <td>ACCOUNTING &amp; MARKETING MANAGER FOR AFRICA</td>\n",
       "      <td>11-2021</td>\n",
       "      <td>MARKETING MANAGERS</td>\n",
       "      <td>SHOP2SHIP LLC</td>\n",
       "      <td>2000.0</td>\n",
       "      <td>Month</td>\n",
       "      <td>2000.0</td>\n",
       "    </tr>\n",
       "    <tr>\n",
       "      <th>826</th>\n",
       "      <td>I-200-18309-843479</td>\n",
       "      <td>CERTIFIED</td>\n",
       "      <td>2018-11-05 12:34:19</td>\n",
       "      <td>2018-11-09 22:00:34</td>\n",
       "      <td>H-1B</td>\n",
       "      <td>ACCOUNTING &amp; MARKETING MANAGER FOR AFRICA</td>\n",
       "      <td>11-2021</td>\n",
       "      <td>MARKETING MANAGERS</td>\n",
       "      <td>SHOP2SHIP LLC</td>\n",
       "      <td>2000.0</td>\n",
       "      <td>Month</td>\n",
       "      <td>2000.0</td>\n",
       "    </tr>\n",
       "  </tbody>\n",
       "</table>\n",
       "</div>"
      ],
      "text/plain": [
       "            CASE_NUMBER CASE_STATUS      CASE_SUBMITTED       DECISION_DATE  \\\n",
       "818  I-200-18306-399497      DENIED 2018-11-02 11:37:37 2018-11-05 12:07:42   \n",
       "826  I-200-18309-843479   CERTIFIED 2018-11-05 12:34:19 2018-11-09 22:00:34   \n",
       "\n",
       "    VISA_CLASS                                  JOB_TITLE SOC_CODE  \\\n",
       "818       H-1B  ACCOUNTING & MARKETING MANAGER FOR AFRICA  11-2021   \n",
       "826       H-1B  ACCOUNTING & MARKETING MANAGER FOR AFRICA  11-2021   \n",
       "\n",
       "              SOC_TITLE  EMPLOYER_NAME  WAGE_RATE_OF_PAY_FROM_1  \\\n",
       "818  MARKETING MANAGERS  SHOP2SHIP LLC                   2000.0   \n",
       "826  MARKETING MANAGERS  SHOP2SHIP LLC                   2000.0   \n",
       "\n",
       "    WAGE_UNIT_OF_PAY_1   WAGES  \n",
       "818              Month  2000.0  \n",
       "826              Month  2000.0  "
      ]
     },
     "execution_count": 42,
     "metadata": {},
     "output_type": "execute_result"
    }
   ],
   "source": [
    "x=cleaned.loc[cleaned['WAGE_UNIT_OF_PAY_1']==\"Month\"]\n",
    "x.head(2)"
   ]
  },
  {
   "cell_type": "code",
   "execution_count": 43,
   "metadata": {
    "colab": {
     "base_uri": "https://localhost:8080/",
     "height": 445
    },
    "colab_type": "code",
    "id": "hCGTUT22Z6Bj",
    "outputId": "f7f3f4a6-a702-4574-8123-4042593c7041"
   },
   "outputs": [
    {
     "name": "stderr",
     "output_type": "stream",
     "text": [
      "C:\\Users\\Charic\\Documents\\Python_Scripts\\2_semester\\data_science_env\\lib\\site-packages\\ipykernel_launcher.py:2: SettingWithCopyWarning: \n",
      "A value is trying to be set on a copy of a slice from a DataFrame.\n",
      "Try using .loc[row_indexer,col_indexer] = value instead\n",
      "\n",
      "See the caveats in the documentation: https://pandas.pydata.org/pandas-docs/stable/user_guide/indexing.html#returning-a-view-versus-a-copy\n",
      "  \n",
      "C:\\Users\\Charic\\Documents\\Python_Scripts\\2_semester\\data_science_env\\lib\\site-packages\\ipykernel_launcher.py:3: SettingWithCopyWarning: \n",
      "A value is trying to be set on a copy of a slice from a DataFrame.\n",
      "Try using .loc[row_indexer,col_indexer] = value instead\n",
      "\n",
      "See the caveats in the documentation: https://pandas.pydata.org/pandas-docs/stable/user_guide/indexing.html#returning-a-view-versus-a-copy\n",
      "  This is separate from the ipykernel package so we can avoid doing imports until\n",
      "C:\\Users\\Charic\\Documents\\Python_Scripts\\2_semester\\data_science_env\\lib\\site-packages\\ipykernel_launcher.py:4: SettingWithCopyWarning: \n",
      "A value is trying to be set on a copy of a slice from a DataFrame.\n",
      "Try using .loc[row_indexer,col_indexer] = value instead\n",
      "\n",
      "See the caveats in the documentation: https://pandas.pydata.org/pandas-docs/stable/user_guide/indexing.html#returning-a-view-versus-a-copy\n",
      "  after removing the cwd from sys.path.\n",
      "C:\\Users\\Charic\\Documents\\Python_Scripts\\2_semester\\data_science_env\\lib\\site-packages\\ipykernel_launcher.py:5: SettingWithCopyWarning: \n",
      "A value is trying to be set on a copy of a slice from a DataFrame.\n",
      "Try using .loc[row_indexer,col_indexer] = value instead\n",
      "\n",
      "See the caveats in the documentation: https://pandas.pydata.org/pandas-docs/stable/user_guide/indexing.html#returning-a-view-versus-a-copy\n",
      "  \"\"\"\n"
     ]
    }
   ],
   "source": [
    "# we convert the different units of pay to the type 'Year'\n",
    "cleaned['WAGES'] = np.where(cleaned['WAGE_UNIT_OF_PAY_1'] == 'Month',cleaned['WAGES'] * 12,cleaned['WAGES'])\n",
    "cleaned['WAGES'] = np.where(cleaned['WAGE_UNIT_OF_PAY_1'] == 'Hour',cleaned['WAGES'] * 2080,cleaned['WAGES']) # 2080=8 hours*5 days* 52 weeks\n",
    "cleaned['WAGES'] = np.where(cleaned['WAGE_UNIT_OF_PAY_1'] == 'Bi-Weekly',cleaned['WAGES'] *26,cleaned['WAGES'])\n",
    "cleaned['WAGES'] = np.where(cleaned['WAGE_UNIT_OF_PAY_1'] == 'Week',cleaned['WAGES'] * 52,cleaned['WAGES'])"
   ]
  },
  {
   "cell_type": "code",
   "execution_count": 44,
   "metadata": {
    "colab": {
     "base_uri": "https://localhost:8080/",
     "height": 122
    },
    "colab_type": "code",
    "id": "1Q006QHRdl-q",
    "outputId": "fc2e71d3-e33b-4344-935e-b1f277974f36"
   },
   "outputs": [],
   "source": [
    "#As we have got the information of Wages and made transformation we can drop the initial two records\n",
    "cleaned.drop(columns=['WAGE_RATE_OF_PAY_FROM_1','WAGE_UNIT_OF_PAY_1'],axis=1,inplace=True)"
   ]
  },
  {
   "cell_type": "code",
   "execution_count": 45,
   "metadata": {
    "colab": {
     "base_uri": "https://localhost:8080/",
     "height": 306
    },
    "colab_type": "code",
    "id": "lnSktMB3bVM3",
    "outputId": "7b8d1dda-542f-4790-a415-c4b4dd5e30d2"
   },
   "outputs": [
    {
     "name": "stdout",
     "output_type": "stream",
     "text": [
      "<class 'pandas.core.frame.DataFrame'>\n",
      "Int64Index: 629856 entries, 18 to 664615\n",
      "Data columns (total 10 columns):\n",
      " #   Column          Non-Null Count   Dtype         \n",
      "---  ------          --------------   -----         \n",
      " 0   CASE_NUMBER     629856 non-null  object        \n",
      " 1   CASE_STATUS     629856 non-null  object        \n",
      " 2   CASE_SUBMITTED  629856 non-null  datetime64[ns]\n",
      " 3   DECISION_DATE   629856 non-null  datetime64[ns]\n",
      " 4   VISA_CLASS      629856 non-null  object        \n",
      " 5   JOB_TITLE       629856 non-null  object        \n",
      " 6   SOC_CODE        629852 non-null  object        \n",
      " 7   SOC_TITLE       629852 non-null  object        \n",
      " 8   EMPLOYER_NAME   629848 non-null  object        \n",
      " 9   WAGES           629852 non-null  float64       \n",
      "dtypes: datetime64[ns](2), float64(1), object(7)\n",
      "memory usage: 52.9+ MB\n"
     ]
    }
   ],
   "source": [
    "cleaned.info()"
   ]
  },
  {
   "cell_type": "code",
   "execution_count": 46,
   "metadata": {
    "colab": {
     "base_uri": "https://localhost:8080/",
     "height": 51
    },
    "colab_type": "code",
    "id": "RyS7f3eIbcCl",
    "outputId": "73bcfc75-0e57-4652-cb28-50033a6cab2b"
   },
   "outputs": [
    {
     "name": "stdout",
     "output_type": "stream",
     "text": [
      "(16, 10)\n",
      "(629856, 10)\n"
     ]
    }
   ],
   "source": [
    "\"\"\"\n",
    "We should remove record that have null objects, from the above cell we see\n",
    "that all columns don't have same number of non-null records\n",
    "which means we have to remove the records that have the null values.\n",
    "we see that there are about 17 records that have null values\n",
    "\"\"\" \n",
    "null_rows = cleaned.isnull().any(axis=1)\n",
    "print(cleaned[null_rows].shape)\n",
    "print(cleaned.shape)"
   ]
  },
  {
   "cell_type": "code",
   "execution_count": 47,
   "metadata": {
    "colab": {
     "base_uri": "https://localhost:8080/",
     "height": 139
    },
    "colab_type": "code",
    "id": "keAByWsddXRe",
    "outputId": "a511795c-fd48-4a61-89c4-9af9e6065f01"
   },
   "outputs": [
    {
     "name": "stdout",
     "output_type": "stream",
     "text": [
      "(629840, 10)\n"
     ]
    },
    {
     "name": "stderr",
     "output_type": "stream",
     "text": [
      "C:\\Users\\Charic\\Documents\\Python_Scripts\\2_semester\\data_science_env\\lib\\site-packages\\ipykernel_launcher.py:1: SettingWithCopyWarning: \n",
      "A value is trying to be set on a copy of a slice from a DataFrame\n",
      "\n",
      "See the caveats in the documentation: https://pandas.pydata.org/pandas-docs/stable/user_guide/indexing.html#returning-a-view-versus-a-copy\n",
      "  \"\"\"Entry point for launching an IPython kernel.\n"
     ]
    }
   ],
   "source": [
    "cleaned.dropna(inplace=True)\n",
    "print(cleaned.shape)"
   ]
  },
  {
   "cell_type": "code",
   "execution_count": 50,
   "metadata": {
    "colab": {
     "base_uri": "https://localhost:8080/",
     "height": 221
    },
    "colab_type": "code",
    "id": "9Aa-4cFWnW6s",
    "outputId": "af8f02b3-9c7b-4ea6-aa56-ca718e849d7e"
   },
   "outputs": [
    {
     "data": {
      "text/plain": [
       "SOFTWARE ENGINEER                                  33199\n",
       "SOFTWARE DEVELOPER                                 33057\n",
       "SENIOR SYSTEMS ANALYST JC60                        12759\n",
       "SENIOR SOFTWARE ENGINEER                            8135\n",
       "MANAGER JC50                                        8118\n",
       "                                                   ...  \n",
       "DEG PE PLANNER                                         1\n",
       "DIRECTOR PLATFORM ENGINEERING                          1\n",
       "DATA SOLUTION MANAGER - CLOUD                          1\n",
       "ASSISTANT PROFESSOR OF FINANCING AND ACCOUNTING        1\n",
       "PHP SUPPORT ENGINEER                                   1\n",
       "Name: JOB_TITLE, Length: 108140, dtype: int64"
      ]
     },
     "execution_count": 50,
     "metadata": {},
     "output_type": "execute_result"
    }
   ],
   "source": [
    "cleaned['JOB_TITLE'].value_counts()"
   ]
  },
  {
   "cell_type": "code",
   "execution_count": 51,
   "metadata": {
    "colab": {
     "base_uri": "https://localhost:8080/",
     "height": 649
    },
    "colab_type": "code",
    "id": "bwgV1bu5sXlE",
    "outputId": "d13ef6ef-7ce5-420d-f1a3-5ed3cfe6882f"
   },
   "outputs": [
    {
     "ename": "AttributeError",
     "evalue": "'int' object has no attribute 'lower'",
     "output_type": "error",
     "traceback": [
      "\u001b[1;31m---------------------------------------------------------------------------\u001b[0m",
      "\u001b[1;31mAttributeError\u001b[0m                            Traceback (most recent call last)",
      "\u001b[1;32m<ipython-input-51-9542e2307410>\u001b[0m in \u001b[0;36m<module>\u001b[1;34m\u001b[0m\n\u001b[0;32m      5\u001b[0m     \u001b[1;32mreturn\u001b[0m \u001b[0mtext\u001b[0m\u001b[1;33m\u001b[0m\u001b[1;33m\u001b[0m\u001b[0m\n\u001b[0;32m      6\u001b[0m   \u001b[1;32mreturn\u001b[0m \u001b[1;34m''\u001b[0m\u001b[1;33m\u001b[0m\u001b[1;33m\u001b[0m\u001b[0m\n\u001b[1;32m----> 7\u001b[1;33m \u001b[0mcleaned\u001b[0m\u001b[1;33m[\u001b[0m\u001b[1;34m'JOB_TITLE'\u001b[0m\u001b[1;33m]\u001b[0m\u001b[1;33m=\u001b[0m\u001b[0mcleaned\u001b[0m\u001b[1;33m.\u001b[0m\u001b[0mJOB_TITLE\u001b[0m\u001b[1;33m.\u001b[0m\u001b[0mapply\u001b[0m\u001b[1;33m(\u001b[0m\u001b[1;32mlambda\u001b[0m \u001b[0mtxt\u001b[0m\u001b[1;33m:\u001b[0m \u001b[1;34m\" \"\u001b[0m\u001b[1;33m.\u001b[0m\u001b[0mjoin\u001b[0m\u001b[1;33m(\u001b[0m\u001b[1;33m[\u001b[0m\u001b[0mremove_num\u001b[0m\u001b[1;33m(\u001b[0m\u001b[0mi\u001b[0m\u001b[1;33m)\u001b[0m \u001b[1;32mfor\u001b[0m \u001b[0mi\u001b[0m \u001b[1;32min\u001b[0m \u001b[0mtxt\u001b[0m\u001b[1;33m.\u001b[0m\u001b[0mlower\u001b[0m\u001b[1;33m(\u001b[0m\u001b[1;33m)\u001b[0m\u001b[1;33m.\u001b[0m\u001b[0msplit\u001b[0m\u001b[1;33m(\u001b[0m\u001b[1;33m)\u001b[0m\u001b[1;33m]\u001b[0m\u001b[1;33m)\u001b[0m\u001b[1;33m)\u001b[0m\u001b[1;33m\u001b[0m\u001b[1;33m\u001b[0m\u001b[0m\n\u001b[0m\u001b[0;32m      8\u001b[0m \u001b[0mcleaned\u001b[0m\u001b[1;33m[\u001b[0m\u001b[1;34m'JOB_TITLE'\u001b[0m\u001b[1;33m]\u001b[0m\u001b[1;33m=\u001b[0m\u001b[0mcleaned\u001b[0m\u001b[1;33m[\u001b[0m\u001b[1;34m'JOB_TITLE'\u001b[0m\u001b[1;33m]\u001b[0m\u001b[1;33m.\u001b[0m\u001b[0mstr\u001b[0m\u001b[1;33m.\u001b[0m\u001b[0mreplace\u001b[0m\u001b[1;33m(\u001b[0m\u001b[1;34m','\u001b[0m\u001b[1;33m,\u001b[0m \u001b[1;34m''\u001b[0m\u001b[1;33m)\u001b[0m\u001b[1;33m\u001b[0m\u001b[1;33m\u001b[0m\u001b[0m\n\u001b[0;32m      9\u001b[0m \u001b[0mcleaned\u001b[0m\u001b[1;33m[\u001b[0m\u001b[1;34m'SOC_TITLE'\u001b[0m\u001b[1;33m]\u001b[0m\u001b[1;33m=\u001b[0m\u001b[0mcleaned\u001b[0m\u001b[1;33m.\u001b[0m\u001b[0mSOC_TITLE\u001b[0m\u001b[1;33m.\u001b[0m\u001b[0mapply\u001b[0m\u001b[1;33m(\u001b[0m\u001b[1;32mlambda\u001b[0m \u001b[0mtxt\u001b[0m\u001b[1;33m:\u001b[0m \u001b[1;34m\" \"\u001b[0m\u001b[1;33m.\u001b[0m\u001b[0mjoin\u001b[0m\u001b[1;33m(\u001b[0m\u001b[1;33m[\u001b[0m\u001b[0mremove_num\u001b[0m\u001b[1;33m(\u001b[0m\u001b[0mi\u001b[0m\u001b[1;33m)\u001b[0m \u001b[1;32mfor\u001b[0m \u001b[0mi\u001b[0m \u001b[1;32min\u001b[0m \u001b[0mtxt\u001b[0m\u001b[1;33m.\u001b[0m\u001b[0mlower\u001b[0m\u001b[1;33m(\u001b[0m\u001b[1;33m)\u001b[0m\u001b[1;33m.\u001b[0m\u001b[0msplit\u001b[0m\u001b[1;33m(\u001b[0m\u001b[1;33m)\u001b[0m\u001b[1;33m]\u001b[0m\u001b[1;33m)\u001b[0m\u001b[1;33m)\u001b[0m\u001b[1;33m\u001b[0m\u001b[1;33m\u001b[0m\u001b[0m\n",
      "\u001b[1;32m~\\Documents\\Python_Scripts\\2_semester\\data_science_env\\lib\\site-packages\\pandas\\core\\series.py\u001b[0m in \u001b[0;36mapply\u001b[1;34m(self, func, convert_dtype, args, **kwds)\u001b[0m\n\u001b[0;32m   3847\u001b[0m             \u001b[1;32melse\u001b[0m\u001b[1;33m:\u001b[0m\u001b[1;33m\u001b[0m\u001b[1;33m\u001b[0m\u001b[0m\n\u001b[0;32m   3848\u001b[0m                 \u001b[0mvalues\u001b[0m \u001b[1;33m=\u001b[0m \u001b[0mself\u001b[0m\u001b[1;33m.\u001b[0m\u001b[0mastype\u001b[0m\u001b[1;33m(\u001b[0m\u001b[0mobject\u001b[0m\u001b[1;33m)\u001b[0m\u001b[1;33m.\u001b[0m\u001b[0mvalues\u001b[0m\u001b[1;33m\u001b[0m\u001b[1;33m\u001b[0m\u001b[0m\n\u001b[1;32m-> 3849\u001b[1;33m                 \u001b[0mmapped\u001b[0m \u001b[1;33m=\u001b[0m \u001b[0mlib\u001b[0m\u001b[1;33m.\u001b[0m\u001b[0mmap_infer\u001b[0m\u001b[1;33m(\u001b[0m\u001b[0mvalues\u001b[0m\u001b[1;33m,\u001b[0m \u001b[0mf\u001b[0m\u001b[1;33m,\u001b[0m \u001b[0mconvert\u001b[0m\u001b[1;33m=\u001b[0m\u001b[0mconvert_dtype\u001b[0m\u001b[1;33m)\u001b[0m\u001b[1;33m\u001b[0m\u001b[1;33m\u001b[0m\u001b[0m\n\u001b[0m\u001b[0;32m   3850\u001b[0m \u001b[1;33m\u001b[0m\u001b[0m\n\u001b[0;32m   3851\u001b[0m         \u001b[1;32mif\u001b[0m \u001b[0mlen\u001b[0m\u001b[1;33m(\u001b[0m\u001b[0mmapped\u001b[0m\u001b[1;33m)\u001b[0m \u001b[1;32mand\u001b[0m \u001b[0misinstance\u001b[0m\u001b[1;33m(\u001b[0m\u001b[0mmapped\u001b[0m\u001b[1;33m[\u001b[0m\u001b[1;36m0\u001b[0m\u001b[1;33m]\u001b[0m\u001b[1;33m,\u001b[0m \u001b[0mSeries\u001b[0m\u001b[1;33m)\u001b[0m\u001b[1;33m:\u001b[0m\u001b[1;33m\u001b[0m\u001b[1;33m\u001b[0m\u001b[0m\n",
      "\u001b[1;32mpandas\\_libs\\lib.pyx\u001b[0m in \u001b[0;36mpandas._libs.lib.map_infer\u001b[1;34m()\u001b[0m\n",
      "\u001b[1;32m<ipython-input-51-9542e2307410>\u001b[0m in \u001b[0;36m<lambda>\u001b[1;34m(txt)\u001b[0m\n\u001b[0;32m      5\u001b[0m     \u001b[1;32mreturn\u001b[0m \u001b[0mtext\u001b[0m\u001b[1;33m\u001b[0m\u001b[1;33m\u001b[0m\u001b[0m\n\u001b[0;32m      6\u001b[0m   \u001b[1;32mreturn\u001b[0m \u001b[1;34m''\u001b[0m\u001b[1;33m\u001b[0m\u001b[1;33m\u001b[0m\u001b[0m\n\u001b[1;32m----> 7\u001b[1;33m \u001b[0mcleaned\u001b[0m\u001b[1;33m[\u001b[0m\u001b[1;34m'JOB_TITLE'\u001b[0m\u001b[1;33m]\u001b[0m\u001b[1;33m=\u001b[0m\u001b[0mcleaned\u001b[0m\u001b[1;33m.\u001b[0m\u001b[0mJOB_TITLE\u001b[0m\u001b[1;33m.\u001b[0m\u001b[0mapply\u001b[0m\u001b[1;33m(\u001b[0m\u001b[1;32mlambda\u001b[0m \u001b[0mtxt\u001b[0m\u001b[1;33m:\u001b[0m \u001b[1;34m\" \"\u001b[0m\u001b[1;33m.\u001b[0m\u001b[0mjoin\u001b[0m\u001b[1;33m(\u001b[0m\u001b[1;33m[\u001b[0m\u001b[0mremove_num\u001b[0m\u001b[1;33m(\u001b[0m\u001b[0mi\u001b[0m\u001b[1;33m)\u001b[0m \u001b[1;32mfor\u001b[0m \u001b[0mi\u001b[0m \u001b[1;32min\u001b[0m \u001b[0mtxt\u001b[0m\u001b[1;33m.\u001b[0m\u001b[0mlower\u001b[0m\u001b[1;33m(\u001b[0m\u001b[1;33m)\u001b[0m\u001b[1;33m.\u001b[0m\u001b[0msplit\u001b[0m\u001b[1;33m(\u001b[0m\u001b[1;33m)\u001b[0m\u001b[1;33m]\u001b[0m\u001b[1;33m)\u001b[0m\u001b[1;33m)\u001b[0m\u001b[1;33m\u001b[0m\u001b[1;33m\u001b[0m\u001b[0m\n\u001b[0m\u001b[0;32m      8\u001b[0m \u001b[0mcleaned\u001b[0m\u001b[1;33m[\u001b[0m\u001b[1;34m'JOB_TITLE'\u001b[0m\u001b[1;33m]\u001b[0m\u001b[1;33m=\u001b[0m\u001b[0mcleaned\u001b[0m\u001b[1;33m[\u001b[0m\u001b[1;34m'JOB_TITLE'\u001b[0m\u001b[1;33m]\u001b[0m\u001b[1;33m.\u001b[0m\u001b[0mstr\u001b[0m\u001b[1;33m.\u001b[0m\u001b[0mreplace\u001b[0m\u001b[1;33m(\u001b[0m\u001b[1;34m','\u001b[0m\u001b[1;33m,\u001b[0m \u001b[1;34m''\u001b[0m\u001b[1;33m)\u001b[0m\u001b[1;33m\u001b[0m\u001b[1;33m\u001b[0m\u001b[0m\n\u001b[0;32m      9\u001b[0m \u001b[0mcleaned\u001b[0m\u001b[1;33m[\u001b[0m\u001b[1;34m'SOC_TITLE'\u001b[0m\u001b[1;33m]\u001b[0m\u001b[1;33m=\u001b[0m\u001b[0mcleaned\u001b[0m\u001b[1;33m.\u001b[0m\u001b[0mSOC_TITLE\u001b[0m\u001b[1;33m.\u001b[0m\u001b[0mapply\u001b[0m\u001b[1;33m(\u001b[0m\u001b[1;32mlambda\u001b[0m \u001b[0mtxt\u001b[0m\u001b[1;33m:\u001b[0m \u001b[1;34m\" \"\u001b[0m\u001b[1;33m.\u001b[0m\u001b[0mjoin\u001b[0m\u001b[1;33m(\u001b[0m\u001b[1;33m[\u001b[0m\u001b[0mremove_num\u001b[0m\u001b[1;33m(\u001b[0m\u001b[0mi\u001b[0m\u001b[1;33m)\u001b[0m \u001b[1;32mfor\u001b[0m \u001b[0mi\u001b[0m \u001b[1;32min\u001b[0m \u001b[0mtxt\u001b[0m\u001b[1;33m.\u001b[0m\u001b[0mlower\u001b[0m\u001b[1;33m(\u001b[0m\u001b[1;33m)\u001b[0m\u001b[1;33m.\u001b[0m\u001b[0msplit\u001b[0m\u001b[1;33m(\u001b[0m\u001b[1;33m)\u001b[0m\u001b[1;33m]\u001b[0m\u001b[1;33m)\u001b[0m\u001b[1;33m)\u001b[0m\u001b[1;33m\u001b[0m\u001b[1;33m\u001b[0m\u001b[0m\n",
      "\u001b[1;31mAttributeError\u001b[0m: 'int' object has no attribute 'lower'"
     ]
    }
   ],
   "source": [
    "#we see that the job title has integers(words with integers also) \n",
    "#removing comma also\n",
    "def remove_num(text):\n",
    "  if not any(c.isdigit() for c in text):\n",
    "    return text\n",
    "  return ''\n",
    "cleaned['JOB_TITLE']=cleaned.JOB_TITLE.apply(lambda txt: \" \".join([remove_num(i) for i in txt.lower().split()]))\n",
    "cleaned['JOB_TITLE']=cleaned['JOB_TITLE'].str.replace(',', '')\n",
    "cleaned['SOC_TITLE']=cleaned.SOC_TITLE.apply(lambda txt: \" \".join([remove_num(i) for i in txt.lower().split()]))\n",
    "cleaned['JOB_TITLE']=cleaned['SOC_TITLE'].str.replace(',', '')\n",
    "\n",
    "cleaned.head()\n",
    "cleaned['JOB_TITLE'].value_counts()"
   ]
  },
  {
   "cell_type": "code",
   "execution_count": 0,
   "metadata": {
    "colab": {
     "base_uri": "https://localhost:8080/",
     "height": 68
    },
    "colab_type": "code",
    "id": "15py5C4RfXIj",
    "outputId": "d4c3433e-df89-4f85-e559-7d775ab1c113"
   },
   "outputs": [
    {
     "name": "stdout",
     "output_type": "stream",
     "text": [
      "[nltk_data] Downloading package words to /root/nltk_data...\n",
      "[nltk_data]   Package words is already up-to-date!\n",
      "computer science program check\n"
     ]
    }
   ],
   "source": [
    "#code to clean and group the JOB_TITLE COLUMN\n",
    "# lemmatization and spell check function\n",
    "nltk.download('words')\n",
    "lemmatizer = nltk.stem.WordNetLemmatizer()\n",
    "words = set(nltk.corpus.words.words())\n",
    "spell = Speller()\n",
    "\n",
    "\n",
    "def lemmatize_text(text):\n",
    "  return lemmatizer.lemmatize(text)\n",
    "\n",
    "def spelling_checker(text):\n",
    "  return spell(text)\n",
    " \n",
    "print(spelling_checker(\"computr sciece progam check\"))"
   ]
  },
  {
   "cell_type": "code",
   "execution_count": 118,
   "metadata": {
    "colab": {
     "base_uri": "https://localhost:8080/",
     "height": 547
    },
    "colab_type": "code",
    "id": "47-lIQIifvvr",
    "outputId": "12b3a040-a3ed-4530-90a1-5ac1deeaedd7"
   },
   "outputs": [
    {
     "name": "stderr",
     "output_type": "stream",
     "text": [
      "/usr/local/lib/python3.6/dist-packages/ipykernel_launcher.py:1: SettingWithCopyWarning: \n",
      "A value is trying to be set on a copy of a slice from a DataFrame.\n",
      "Try using .loc[row_indexer,col_indexer] = value instead\n",
      "\n",
      "See the caveats in the documentation: https://pandas.pydata.org/pandas-docs/stable/user_guide/indexing.html#returning-a-view-versus-a-copy\n",
      "  \"\"\"Entry point for launching an IPython kernel.\n",
      "/usr/local/lib/python3.6/dist-packages/ipykernel_launcher.py:2: SettingWithCopyWarning: \n",
      "A value is trying to be set on a copy of a slice from a DataFrame.\n",
      "Try using .loc[row_indexer,col_indexer] = value instead\n",
      "\n",
      "See the caveats in the documentation: https://pandas.pydata.org/pandas-docs/stable/user_guide/indexing.html#returning-a-view-versus-a-copy\n",
      "  \n",
      "/usr/local/lib/python3.6/dist-packages/pandas/core/generic.py:5303: SettingWithCopyWarning: \n",
      "A value is trying to be set on a copy of a slice from a DataFrame.\n",
      "Try using .loc[row_indexer,col_indexer] = value instead\n",
      "\n",
      "See the caveats in the documentation: https://pandas.pydata.org/pandas-docs/stable/user_guide/indexing.html#returning-a-view-versus-a-copy\n",
      "  self[name] = value\n"
     ]
    },
    {
     "data": {
      "text/plain": [
       "software developer application                   208691\n",
       "computer system analyst                           71188\n",
       "computer occupation all other                     54486\n",
       "software developer system software                30600\n",
       "computer programmer                               16623\n",
       "                                                  ...  \n",
       "plumber pipefitter and steamfitter                    1\n",
       "security commodity and financial service sale         1\n",
       "broadcast technician                                  1\n",
       "musical instrument repairer and tuner                 1\n",
       "software develops application                         1\n",
       "Name: JOB_TITLE, Length: 716, dtype: int64"
      ]
     },
     "execution_count": 118,
     "metadata": {
      "tags": []
     },
     "output_type": "execute_result"
    }
   ],
   "source": [
    "cleaned['JOB_TITLE']=cleaned.JOB_TITLE.apply(lambda txt: \" \".join([lemmatize_text(i) for i in txt.lower().split()]))\n",
    "cleaned['SOC_TITLE']=cleaned.SOC_TITLE.apply(lambda txt: \" \".join([lemmatize_text(i) for i in txt.lower().split()]))\n",
    "\n",
    "cleaned.JOB_TITLE = cleaned.JOB_TITLE.apply(lambda txt: \" \".join([spelling_checker(i) for i in txt.lower().split()]))\n",
    "cleaned.SOC_TITLE = cleaned.SOC_TITLE.apply(lambda txt: \" \".join([spelling_checker(i) for i in txt.lower().split()]))\n",
    "\n",
    "#cleaned['JOB_TITLE']=cleaned.JOB_TITLE.apply(lambda txt: \" \".join([remove_text(i) for i in txt.lower().split()]))\n",
    "cleaned['JOB_TITLE'].value_counts() "
   ]
  },
  {
   "cell_type": "code",
   "execution_count": 0,
   "metadata": {
    "colab": {
     "base_uri": "https://localhost:8080/",
     "height": 451
    },
    "colab_type": "code",
    "id": "fNjXyrLzntEN",
    "outputId": "388d4b68-ba29-4af2-d70f-9e4a35d06d13"
   },
   "outputs": [
    {
     "data": {
      "text/html": [
       "<div>\n",
       "<style scoped>\n",
       "    .dataframe tbody tr th:only-of-type {\n",
       "        vertical-align: middle;\n",
       "    }\n",
       "\n",
       "    .dataframe tbody tr th {\n",
       "        vertical-align: top;\n",
       "    }\n",
       "\n",
       "    .dataframe thead th {\n",
       "        text-align: right;\n",
       "    }\n",
       "</style>\n",
       "<table border=\"1\" class=\"dataframe\">\n",
       "  <thead>\n",
       "    <tr style=\"text-align: right;\">\n",
       "      <th></th>\n",
       "      <th>JOB_TITLE</th>\n",
       "      <th>WAGES</th>\n",
       "    </tr>\n",
       "  </thead>\n",
       "  <tbody>\n",
       "    <tr>\n",
       "      <th>64790</th>\n",
       "      <td>senior applications engineer - power management</td>\n",
       "      <td>98847500.00</td>\n",
       "    </tr>\n",
       "    <tr>\n",
       "      <th>47728</th>\n",
       "      <td>nurse practitioners (licensed)</td>\n",
       "      <td>97780945.60</td>\n",
       "    </tr>\n",
       "    <tr>\n",
       "      <th>80095</th>\n",
       "      <td>specialist web developer</td>\n",
       "      <td>74060709.00</td>\n",
       "    </tr>\n",
       "    <tr>\n",
       "      <th>14470</th>\n",
       "      <td>chemists</td>\n",
       "      <td>41649665.05</td>\n",
       "    </tr>\n",
       "    <tr>\n",
       "      <th>38055</th>\n",
       "      <td>jr. data scientist (-.)</td>\n",
       "      <td>40303356.00</td>\n",
       "    </tr>\n",
       "    <tr>\n",
       "      <th>...</th>\n",
       "      <td>...</td>\n",
       "      <td>...</td>\n",
       "    </tr>\n",
       "    <tr>\n",
       "      <th>46956</th>\n",
       "      <td>nail technical</td>\n",
       "      <td>18720.00</td>\n",
       "    </tr>\n",
       "    <tr>\n",
       "      <th>18524</th>\n",
       "      <td>customer service all tasks &amp; duties of a nail ...</td>\n",
       "      <td>18200.00</td>\n",
       "    </tr>\n",
       "    <tr>\n",
       "      <th>91615</th>\n",
       "      <td>track and field coach</td>\n",
       "      <td>17040.00</td>\n",
       "    </tr>\n",
       "    <tr>\n",
       "      <th>40913</th>\n",
       "      <td>live streaming service</td>\n",
       "      <td>17000.00</td>\n",
       "    </tr>\n",
       "    <tr>\n",
       "      <th>32871</th>\n",
       "      <td>home health &amp; personal care aide</td>\n",
       "      <td>15912.00</td>\n",
       "    </tr>\n",
       "  </tbody>\n",
       "</table>\n",
       "<p>95426 rows × 2 columns</p>\n",
       "</div>"
      ],
      "text/plain": [
       "                                               JOB_TITLE        WAGES\n",
       "64790    senior applications engineer - power management  98847500.00\n",
       "47728                     nurse practitioners (licensed)  97780945.60\n",
       "80095                           specialist web developer  74060709.00\n",
       "14470                                           chemists  41649665.05\n",
       "38055                            jr. data scientist (-.)  40303356.00\n",
       "...                                                  ...          ...\n",
       "46956                                     nail technical     18720.00\n",
       "18524  customer service all tasks & duties of a nail ...     18200.00\n",
       "91615                              track and field coach     17040.00\n",
       "40913                             live streaming service     17000.00\n",
       "32871                   home health & personal care aide     15912.00\n",
       "\n",
       "[95426 rows x 2 columns]"
      ]
     },
     "metadata": {
      "tags": []
     },
     "output_type": "display_data"
    },
    {
     "data": {
      "text/html": [
       "<div>\n",
       "<style scoped>\n",
       "    .dataframe tbody tr th:only-of-type {\n",
       "        vertical-align: middle;\n",
       "    }\n",
       "\n",
       "    .dataframe tbody tr th {\n",
       "        vertical-align: top;\n",
       "    }\n",
       "\n",
       "    .dataframe thead th {\n",
       "        text-align: right;\n",
       "    }\n",
       "</style>\n",
       "<table border=\"1\" class=\"dataframe\">\n",
       "  <thead>\n",
       "    <tr style=\"text-align: right;\">\n",
       "      <th></th>\n",
       "      <th>JOB_TITLE</th>\n",
       "      <th>WAGES</th>\n",
       "    </tr>\n",
       "  </thead>\n",
       "  <tbody>\n",
       "  </tbody>\n",
       "</table>\n",
       "</div>"
      ],
      "text/plain": [
       "Empty DataFrame\n",
       "Columns: [JOB_TITLE, WAGES]\n",
       "Index: []"
      ]
     },
     "metadata": {
      "tags": []
     },
     "output_type": "display_data"
    }
   ],
   "source": [
    "grouped_wages=cleaned.groupby('JOB_TITLE', as_index=False).agg({'WAGES':'mean'})\n",
    "op=grouped_wages.sort_values(by=['WAGES'],ascending=False)\n",
    "X=op.loc[op['JOB_TITLE']=='SOFTWARE ENGINEER']\n",
    "display(op)\n",
    "display(X)"
   ]
  },
  {
   "cell_type": "markdown",
   "metadata": {
    "colab": {},
    "colab_type": "code",
    "id": "MU8xjr98qbJG"
   },
   "source": [
    "### Baseline classifier\n",
    "\n",
    "The baseline classifier is done with a basic model. In this case we are taking the mode of the labels ('certified' and 'denied' for H1B visa approvals). It will give us the base accuracy to which we will compare our classifier's accuracy. Our classifier should have a better accuracy than the baseline classifier accuracy.\n"
   ]
  },
  {
   "cell_type": "code",
   "execution_count": 163,
   "metadata": {},
   "outputs": [
    {
     "name": "stdout",
     "output_type": "stream",
     "text": [
      "CERTIFIED    624682\n",
      "DENIED         5158\n",
      "Name: CASE_STATUS, dtype: int64\n",
      "proportion:  121.10934470725087 : 1\n"
     ]
    }
   ],
   "source": [
    "# This step assigns a binary class label (0 or 1) to each label for H1B visa approval. \n",
    "#'CERTIFIED' is mapped to 1 and 'DENIED' to 0\n",
    "\n",
    "def create_class_labels(processed_data):\n",
    "    \n",
    "    y = np.where((processed_data['CASE_STATUS']=='CERTIFIED'),1, 0)\n",
    "    \n",
    "    return y\n",
    "\n",
    "X = cleaned['CASE_STATUS'].to_numpy()\n",
    "\n",
    "# Groundtruth labels for the dataset\n",
    "y = create_class_labels(cleaned)\n",
    "counts = cleaned['CASE_STATUS'].value_counts()\n",
    "print(counts)\n",
    "print('proportion: ', counts[0]/counts[1], ': 1')\n",
    "#print(np.count_nonzero(y == True), len(y))"
   ]
  },
  {
   "cell_type": "code",
   "execution_count": 164,
   "metadata": {},
   "outputs": [],
   "source": [
    "import sklearn\n",
    "from statistics import mean\n",
    "\n",
    "# Baseline classifier that predicts the class base on the mode of the labels.\n",
    "\n",
    "class BaselineClasifier():\n",
    "    \n",
    "    def __init__(self):\n",
    "        self.central_tendency = None\n",
    "        \n",
    "    def fit(self, data, y, central_t='mode'): \n",
    "        \n",
    "        # Count labels and find the most frequent one\n",
    "        label, counts = np.unique(y, return_counts=True) \n",
    "        \n",
    "        if central_t == 'mode':\n",
    "            self.central_tendency = counts.argmax()\n",
    "        elif central_t == 'mean':\n",
    "            self.central_tendency = round(np.sum(y)/len(y))\n",
    "        \n",
    "        return self\n",
    "    \n",
    "    # Return an array with size equal to the data size  and each element setted to the mode.\n",
    "    def predict(self, data):\n",
    "        \n",
    "        result = np.full(data.shape[0], self.central_tendency)\n",
    "        \n",
    "        return result"
   ]
  },
  {
   "cell_type": "code",
   "execution_count": 165,
   "metadata": {},
   "outputs": [],
   "source": [
    "def compute_accuracy(validation, predicted):\n",
    "    \n",
    "    comp = prediction == validation \n",
    "    match_counts = np.count_nonzero(comp == True) \n",
    "    clasifier_accuracy = match_counts/len(validation)\n",
    "    \n",
    "    return clasifier_accuracy\n",
    "    "
   ]
  },
  {
   "cell_type": "code",
   "execution_count": 189,
   "metadata": {},
   "outputs": [],
   "source": [
    "from sklearn import metrics\n",
    "from sklearn.metrics import roc_auc_score\n",
    "\n",
    "def compute_AUC(y, prediction):\n",
    "    \n",
    "    #fpr, tpr, thresholds = metrics.roc_curve(y, prediction, pos_label=2)\n",
    "    auc = roc_auc_score(y, prediction)\n",
    "    #print(auc)\n",
    "    #return metrics.auc(fpr, tpr)\n",
    "    return auc"
   ]
  },
  {
   "cell_type": "code",
   "execution_count": 190,
   "metadata": {},
   "outputs": [
    {
     "name": "stdout",
     "output_type": "stream",
     "text": [
      "0.5\n"
     ]
    }
   ],
   "source": [
    "y1 = np.array([1, 1, 1, 0])\n",
    "pred = np.array([1,1,1,1])\n",
    "print(compute_AUC(y1, pred))"
   ]
  },
  {
   "cell_type": "code",
   "execution_count": 167,
   "metadata": {},
   "outputs": [
    {
     "name": "stdout",
     "output_type": "stream",
     "text": [
      "Baseline accuracy:  0.9918106185697955\n"
     ]
    }
   ],
   "source": [
    "# Prediction with the cleaned data\n",
    "baseline_clasifier = BaselineClasifier() \n",
    "baseline_clasifier.fit(X, y, 'mode') \n",
    "prediction = baseline_clasifier.predict(cleaned)\n",
    "\n",
    "# Computation of accuracy by comparing the groundtruth labels and the predicted labels for the cleaned dataset\n",
    "baseline_clasifier_accuracy = compute_accuracy(y, prediction)\n",
    "\n",
    "print('Baseline accuracy: ', baseline_clasifier_accuracy)"
   ]
  },
  {
   "cell_type": "code",
   "execution_count": 95,
   "metadata": {},
   "outputs": [
    {
     "data": {
      "text/plain": [
       "Index(['CASE_NUMBER', 'CASE_STATUS', 'CASE_SUBMITTED', 'DECISION_DATE',\n",
       "       'VISA_CLASS', 'JOB_TITLE', 'SOC_CODE', 'SOC_TITLE', 'EMPLOYER_NAME',\n",
       "       'WAGES'],\n",
       "      dtype='object')"
      ]
     },
     "execution_count": 95,
     "metadata": {},
     "output_type": "execute_result"
    }
   ],
   "source": [
    "cleaned.columns"
   ]
  },
  {
   "cell_type": "code",
   "execution_count": 191,
   "metadata": {},
   "outputs": [
    {
     "name": "stdout",
     "output_type": "stream",
     "text": [
      "[0.5, 0.5, 0.5, 0.5]\n",
      "Baseline accuracy:  0.5\n"
     ]
    }
   ],
   "source": [
    "from sklearn import model_selection\n",
    "\n",
    "# Testing with K-folds\n",
    "\n",
    "accuracies = []\n",
    "\n",
    "kf = sklearn.model_selection.KFold(n_splits=4, random_state=1, shuffle=True) \n",
    "\n",
    "for train_idx, test_idx in kf.split(X):\n",
    "    \n",
    "    X_train, X_test, y_train, y_test = X[train_idx], X[test_idx], y[train_idx], y[test_idx] \n",
    "    baseline_clasifier = BaselineClasifier()\n",
    "    classifier = baseline_clasifier.fit(X_train, y_train, 'mean')\n",
    "    prediction = baseline_clasifier.predict(X_test)\n",
    "    \n",
    "    #fold_accuracy = compute_accuracy(y_test, prediction)\n",
    "    fold_accuracy = compute_AUC(y_test, prediction)\n",
    "    accuracies.append(fold_accuracy)\n",
    "    \n",
    "print(accuracies)\n",
    "baseline_clasifier_accuracy = mean(accuracies)\n",
    "\n",
    "print('Baseline accuracy: ', baseline_clasifier_accuracy)   \n",
    "    "
   ]
  },
  {
   "cell_type": "code",
   "execution_count": 192,
   "metadata": {},
   "outputs": [
    {
     "name": "stdout",
     "output_type": "stream",
     "text": [
      "Baseline accuracy:  0.5\n"
     ]
    }
   ],
   "source": [
    "from sklearn.model_selection import train_test_split\n",
    "\n",
    "# Testing with regular split\n",
    "\n",
    "# create training and testing vars\n",
    "X_train, X_test, y_train, y_test = train_test_split(X, y, test_size=0.2)\n",
    "baseline_clasifier = BaselineClasifier()\n",
    "classifier = baseline_clasifier.fit(X_train, y_train, 'mean')\n",
    "prediction = baseline_clasifier.predict(X_test)\n",
    "\n",
    "#split_accuracy = compute_accuracy(y_test, prediction)\n",
    "split_accuracy = compute_AUC(y_test, prediction)\n",
    "\n",
    "print('Baseline accuracy: ', split_accuracy)  "
   ]
  }
 ],
 "metadata": {
  "accelerator": "GPU",
  "colab": {
   "collapsed_sections": [],
   "machine_shape": "hm",
   "name": "H1b_project.ipynb",
   "provenance": [],
   "toc_visible": true
  },
  "kernelspec": {
   "display_name": "Python 3",
   "language": "python",
   "name": "python3"
  },
  "language_info": {
   "codemirror_mode": {
    "name": "ipython",
    "version": 3
   },
   "file_extension": ".py",
   "mimetype": "text/x-python",
   "name": "python",
   "nbconvert_exporter": "python",
   "pygments_lexer": "ipython3",
   "version": "3.7.4"
  }
 },
 "nbformat": 4,
 "nbformat_minor": 1
}
