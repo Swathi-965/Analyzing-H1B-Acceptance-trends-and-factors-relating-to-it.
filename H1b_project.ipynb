{
 "cells": [
  {
   "cell_type": "markdown",
   "metadata": {
    "colab_type": "text",
    "id": "RFnPSdxLC6em"
   },
   "source": [
    "# Analysing H1B Acceptance Trends "
   ]
  },
  {
   "cell_type": "markdown",
   "metadata": {
    "colab_type": "text",
    "id": "Uh8CJdwBJOAL"
   },
   "source": [
    "H1B visa is a nonimmigrant visa issued to gradute level workers which allows them to work in the United States. The employer sponsors the H1B visa for workers with theoretical or technical expertise in specialized fields such as in IT, finance, accounting etc. An interesting fact about immigrant workers is that about 52 percent of new Silicon valley companies were founded by such workers during 1995 and 2005. Some famous CEOs like Indira Nooyi (Pepsico), Elon Musk (Tesla), Sundar Pichai (Google),Satya Nadella (Microsoft) once arrived to the US on a H1B visa."
   ]
  },
  {
   "cell_type": "markdown",
   "metadata": {
    "colab_type": "text",
    "id": "QIe1lq1-RyDV"
   },
   "source": [
    "**Motivation**: Our team consists of five international gradute students, in the future we will be applying for H1B visa. The visa application process seems very long, complicated and uncertain. So we decided to understand this process and use Machine learning algorithms to predict the acceptance rate and trends of H1B visa. "
   ]
  },
  {
   "cell_type": "markdown",
   "metadata": {
    "colab_type": "text",
    "id": "kjQ8YI2GTfb6"
   },
   "source": [
    "## Data \n",
    "The data used in the project has been collected from <a href=\"https://www.foreignlaborcert.doleta.gov/performancedata.cfm\">the Office of Foreign Labor Certification (OFLC).</a> "
   ]
  },
  {
   "cell_type": "code",
   "execution_count": 1,
   "metadata": {
    "colab": {
     "base_uri": "https://localhost:8080/",
     "height": 122
    },
    "colab_type": "code",
    "id": "eUglaNmlQ44L",
    "outputId": "1109b5c6-cd61-4341-ae62-7151b84e8a34"
   },
   "outputs": [
    {
     "name": "stdout",
     "output_type": "stream",
     "text": [
      "Go to this URL in a browser: https://accounts.google.com/o/oauth2/auth?client_id=947318989803-6bn6qk8qdgf4n4g3pfee6491hc0brc4i.apps.googleusercontent.com&redirect_uri=urn%3aietf%3awg%3aoauth%3a2.0%3aoob&response_type=code&scope=email%20https%3a%2f%2fwww.googleapis.com%2fauth%2fdocs.test%20https%3a%2f%2fwww.googleapis.com%2fauth%2fdrive%20https%3a%2f%2fwww.googleapis.com%2fauth%2fdrive.photos.readonly%20https%3a%2f%2fwww.googleapis.com%2fauth%2fpeopleapi.readonly\n",
      "\n",
      "Enter your authorization code:\n",
      "··········\n",
      "Mounted at /content/gdrive\n"
     ]
    }
   ],
   "source": [
    "from google.colab import drive\n",
    "drive.mount('/content/gdrive')"
   ]
  },
  {
   "cell_type": "code",
   "execution_count": 3,
   "metadata": {
    "colab": {},
    "colab_type": "code",
    "id": "_sSzHVSl3-bD"
   },
   "outputs": [],
   "source": [
    "import pandas as pd\n",
    "import numpy as np\n",
    "import warnings\n",
    "import nltk"
   ]
  },
  {
   "cell_type": "markdown",
   "metadata": {
    "colab_type": "text",
    "id": "FARuLUkuV7T8"
   },
   "source": [
    "## Exploratory Data Analysis"
   ]
  },
  {
   "cell_type": "markdown",
   "metadata": {
    "colab_type": "text",
    "id": "pleklaelV_xO"
   },
   "source": [
    "Before we begin working on our data we need to understand the traits of our data which we accomplish using EDA. We see that we have about 260 columns , not all 260 coulms have essential information that contributes to our analysis. Hence we pick out the columns such as case status( Accepted/ Denied) ,Employer, Job title etc. "
   ]
  },
  {
   "cell_type": "code",
   "execution_count": null,
   "metadata": {
    "colab": {
     "base_uri": "https://localhost:8080/",
     "height": 71
    },
    "colab_type": "code",
    "id": "iCiYlOyXHHKJ",
    "outputId": "7b2084ac-85c5-40e9-8a0d-1c59f5b8f7e9"
   },
   "outputs": [],
   "source": [
    "#Read the csv file and stored in file\n",
    "#file=pd.read_csv('/content/gdrive/My Drive/H-1B_Disclosure_Data_FY2019.csv')\n",
    "file=pd.read_excel('../data/H-1B_Disclosure_Data_FY2019.xlsx')\n"
   ]
  },
  {
   "cell_type": "code",
   "execution_count": 4,
   "metadata": {
    "colab": {
     "base_uri": "https://localhost:8080/",
     "height": 34
    },
    "colab_type": "code",
    "id": "XT6Wmc2-WVo7",
    "outputId": "0fb6c8a1-ee37-4de0-cbd8-60932808dedd"
   },
   "outputs": [
    {
     "data": {
      "text/plain": [
       "(1048548, 260)"
      ]
     },
     "execution_count": 4,
     "metadata": {
      "tags": []
     },
     "output_type": "execute_result"
    }
   ],
   "source": [
    "file.shape"
   ]
  },
  {
   "cell_type": "code",
   "execution_count": 5,
   "metadata": {
    "colab": {
     "base_uri": "https://localhost:8080/",
     "height": 479
    },
    "colab_type": "code",
    "id": "ZxxeAh5SX0Bc",
    "outputId": "5c28ba00-18b0-41e8-cfa7-fbfb30513226"
   },
   "outputs": [
    {
     "data": {
      "text/html": [
       "<div>\n",
       "<style scoped>\n",
       "    .dataframe tbody tr th:only-of-type {\n",
       "        vertical-align: middle;\n",
       "    }\n",
       "\n",
       "    .dataframe tbody tr th {\n",
       "        vertical-align: top;\n",
       "    }\n",
       "\n",
       "    .dataframe thead th {\n",
       "        text-align: right;\n",
       "    }\n",
       "</style>\n",
       "<table border=\"1\" class=\"dataframe\">\n",
       "  <thead>\n",
       "    <tr style=\"text-align: right;\">\n",
       "      <th></th>\n",
       "      <th>CASE_NUMBER</th>\n",
       "      <th>CASE_STATUS</th>\n",
       "      <th>CASE_SUBMITTED</th>\n",
       "      <th>DECISION_DATE</th>\n",
       "      <th>VISA_CLASS</th>\n",
       "      <th>JOB_TITLE</th>\n",
       "      <th>SOC_CODE</th>\n",
       "      <th>SOC_TITLE</th>\n",
       "      <th>EMPLOYER_NAME</th>\n",
       "      <th>WAGE_RATE_OF_PAY_FROM_1</th>\n",
       "      <th>WAGE_UNIT_OF_PAY_1</th>\n",
       "    </tr>\n",
       "  </thead>\n",
       "  <tbody>\n",
       "    <tr>\n",
       "      <th>0</th>\n",
       "      <td>I-200-16092-327771</td>\n",
       "      <td>WITHDRAWN</td>\n",
       "      <td>4/8/2016</td>\n",
       "      <td>4/30/2019</td>\n",
       "      <td>H-1B</td>\n",
       "      <td>ASSOCIATE CREATIVE DIRECTOR</td>\n",
       "      <td>11-2011</td>\n",
       "      <td>ADVERTISING AND PROMOTIONS MANAGERS</td>\n",
       "      <td>R/GA MEDIA GROUP, INC.</td>\n",
       "      <td>$179,000.00</td>\n",
       "      <td>Year</td>\n",
       "    </tr>\n",
       "    <tr>\n",
       "      <th>1</th>\n",
       "      <td>I-203-17188-450729</td>\n",
       "      <td>WITHDRAWN</td>\n",
       "      <td>7/14/2017</td>\n",
       "      <td>5/13/2019</td>\n",
       "      <td>E-3 Australian</td>\n",
       "      <td>ACCOUNT SUPERVISOR (MOTHER)</td>\n",
       "      <td>11-2011</td>\n",
       "      <td>ADVERTISING AND PROMOTIONS MANAGERS</td>\n",
       "      <td>MOTHER INDUSTRIES LLC</td>\n",
       "      <td>$110,000.00</td>\n",
       "      <td>Year</td>\n",
       "    </tr>\n",
       "    <tr>\n",
       "      <th>2</th>\n",
       "      <td>I-203-17229-572307</td>\n",
       "      <td>WITHDRAWN</td>\n",
       "      <td>8/23/2017</td>\n",
       "      <td>4/30/2019</td>\n",
       "      <td>E-3 Australian</td>\n",
       "      <td>EXECUTIVE CREATIVE DIRECTOR</td>\n",
       "      <td>11-2011</td>\n",
       "      <td>ADVERTISING AND PROMOTIONS MANAGERS</td>\n",
       "      <td>WE ARE UNLIMITED, INC.</td>\n",
       "      <td>$275,000.00</td>\n",
       "      <td>Year</td>\n",
       "    </tr>\n",
       "    <tr>\n",
       "      <th>3</th>\n",
       "      <td>I-203-17356-299648</td>\n",
       "      <td>WITHDRAWN</td>\n",
       "      <td>12/22/2017</td>\n",
       "      <td>8/20/2019</td>\n",
       "      <td>E-3 Australian</td>\n",
       "      <td>PROJECT MANAGEMENT LEAD</td>\n",
       "      <td>11-2011</td>\n",
       "      <td>ADVERTISING AND PROMOTIONS MANAGERS</td>\n",
       "      <td>HELLO ELEPHANT, LLC</td>\n",
       "      <td>$140,000.00</td>\n",
       "      <td>Year</td>\n",
       "    </tr>\n",
       "    <tr>\n",
       "      <th>4</th>\n",
       "      <td>I-203-18008-577576</td>\n",
       "      <td>WITHDRAWN</td>\n",
       "      <td>1/10/2018</td>\n",
       "      <td>4/15/2019</td>\n",
       "      <td>E-3 Australian</td>\n",
       "      <td>CREATIVE DIRECTOR, UX</td>\n",
       "      <td>11-2011</td>\n",
       "      <td>ADVERTISING AND PROMOTIONS MANAGERS</td>\n",
       "      <td>HELLO ELEPHANT, LLC</td>\n",
       "      <td>$180,000.00</td>\n",
       "      <td>Year</td>\n",
       "    </tr>\n",
       "  </tbody>\n",
       "</table>\n",
       "</div>"
      ],
      "text/plain": [
       "          CASE_NUMBER CASE_STATUS  ... WAGE_RATE_OF_PAY_FROM_1 WAGE_UNIT_OF_PAY_1\n",
       "0  I-200-16092-327771   WITHDRAWN  ...             $179,000.00               Year\n",
       "1  I-203-17188-450729   WITHDRAWN  ...             $110,000.00               Year\n",
       "2  I-203-17229-572307   WITHDRAWN  ...             $275,000.00               Year\n",
       "3  I-203-17356-299648   WITHDRAWN  ...             $140,000.00               Year\n",
       "4  I-203-18008-577576   WITHDRAWN  ...             $180,000.00               Year\n",
       "\n",
       "[5 rows x 11 columns]"
      ]
     },
     "execution_count": 5,
     "metadata": {
      "tags": []
     },
     "output_type": "execute_result"
    }
   ],
   "source": [
    "cleaned=file[['CASE_NUMBER','CASE_STATUS','CASE_SUBMITTED','DECISION_DATE','VISA_CLASS','JOB_TITLE','SOC_CODE','SOC_TITLE','EMPLOYER_NAME','WAGE_RATE_OF_PAY_FROM_1','WAGE_UNIT_OF_PAY_1']]\n",
    "cleaned.head()"
   ]
  },
  {
   "cell_type": "code",
   "execution_count": 6,
   "metadata": {
    "colab": {
     "base_uri": "https://localhost:8080/",
     "height": 102
    },
    "colab_type": "code",
    "id": "BbgGJEB9XpO6",
    "outputId": "5e16fd02-cb06-4a03-815a-6556877e4a51"
   },
   "outputs": [
    {
     "data": {
      "text/plain": [
       "H-1B               649083\n",
       "E-3 Australian      13087\n",
       "H-1B1 Singapore      1291\n",
       "H-1B1 Chile          1155\n",
       "Name: VISA_CLASS, dtype: int64"
      ]
     },
     "execution_count": 6,
     "metadata": {
      "tags": []
     },
     "output_type": "execute_result"
    }
   ],
   "source": [
    "cleaned['VISA_CLASS'].value_counts()"
   ]
  },
  {
   "cell_type": "code",
   "execution_count": 7,
   "metadata": {
    "colab": {
     "base_uri": "https://localhost:8080/",
     "height": 122
    },
    "colab_type": "code",
    "id": "NLttcaMGZC1l",
    "outputId": "793165d0-8ffc-4214-f36d-6b05ff8e0105"
   },
   "outputs": [
    {
     "name": "stderr",
     "output_type": "stream",
     "text": [
      "/usr/local/lib/python3.6/dist-packages/pandas/core/frame.py:3997: SettingWithCopyWarning: \n",
      "A value is trying to be set on a copy of a slice from a DataFrame\n",
      "\n",
      "See the caveats in the documentation: https://pandas.pydata.org/pandas-docs/stable/user_guide/indexing.html#returning-a-view-versus-a-copy\n",
      "  errors=errors,\n"
     ]
    }
   ],
   "source": [
    "# Visa class has many categories which are not of use , we require only H1B visa type , hence we drop all records with other visa types\n",
    "cleaned.drop(labels=cleaned[cleaned['VISA_CLASS']!='H-1B'].index , inplace=True)"
   ]
  },
  {
   "cell_type": "code",
   "execution_count": 8,
   "metadata": {
    "colab": {
     "base_uri": "https://localhost:8080/",
     "height": 102
    },
    "colab_type": "code",
    "id": "qox8ruM-Xff_",
    "outputId": "be486aa4-beb2-417f-ce44-f3fa9551f5a8"
   },
   "outputs": [
    {
     "data": {
      "text/plain": [
       "CERTIFIED              578640\n",
       "CERTIFIED-WITHDRAWN     46050\n",
       "WITHDRAWN               19227\n",
       "DENIED                   5166\n",
       "Name: CASE_STATUS, dtype: int64"
      ]
     },
     "execution_count": 8,
     "metadata": {
      "tags": []
     },
     "output_type": "execute_result"
    }
   ],
   "source": [
    "cleaned['CASE_STATUS'].value_counts()"
   ]
  },
  {
   "cell_type": "code",
   "execution_count": 9,
   "metadata": {
    "colab": {
     "base_uri": "https://localhost:8080/",
     "height": 649
    },
    "colab_type": "code",
    "id": "7Cz9Kkghr3JP",
    "outputId": "28089db0-0493-4e6a-b111-160d2fadb6ae"
   },
   "outputs": [
    {
     "name": "stderr",
     "output_type": "stream",
     "text": [
      "/usr/local/lib/python3.6/dist-packages/pandas/core/frame.py:4172: SettingWithCopyWarning: \n",
      "A value is trying to be set on a copy of a slice from a DataFrame\n",
      "\n",
      "See the caveats in the documentation: https://pandas.pydata.org/pandas-docs/stable/user_guide/indexing.html#returning-a-view-versus-a-copy\n",
      "  method=method,\n",
      "/usr/local/lib/python3.6/dist-packages/pandas/core/frame.py:3997: SettingWithCopyWarning: \n",
      "A value is trying to be set on a copy of a slice from a DataFrame\n",
      "\n",
      "See the caveats in the documentation: https://pandas.pydata.org/pandas-docs/stable/user_guide/indexing.html#returning-a-view-versus-a-copy\n",
      "  errors=errors,\n"
     ]
    },
    {
     "data": {
      "text/html": [
       "<div>\n",
       "<style scoped>\n",
       "    .dataframe tbody tr th:only-of-type {\n",
       "        vertical-align: middle;\n",
       "    }\n",
       "\n",
       "    .dataframe tbody tr th {\n",
       "        vertical-align: top;\n",
       "    }\n",
       "\n",
       "    .dataframe thead th {\n",
       "        text-align: right;\n",
       "    }\n",
       "</style>\n",
       "<table border=\"1\" class=\"dataframe\">\n",
       "  <thead>\n",
       "    <tr style=\"text-align: right;\">\n",
       "      <th></th>\n",
       "      <th>CASE_NUMBER</th>\n",
       "      <th>CASE_STATUS</th>\n",
       "      <th>CASE_SUBMITTED</th>\n",
       "      <th>DECISION_DATE</th>\n",
       "      <th>VISA_CLASS</th>\n",
       "      <th>JOB_TITLE</th>\n",
       "      <th>SOC_CODE</th>\n",
       "      <th>SOC_TITLE</th>\n",
       "      <th>EMPLOYER_NAME</th>\n",
       "      <th>WAGE_RATE_OF_PAY_FROM_1</th>\n",
       "      <th>WAGE_UNIT_OF_PAY_1</th>\n",
       "    </tr>\n",
       "  </thead>\n",
       "  <tbody>\n",
       "    <tr>\n",
       "      <th>18</th>\n",
       "      <td>I-200-17250-072640</td>\n",
       "      <td>CERTIFIED</td>\n",
       "      <td>9/7/2017</td>\n",
       "      <td>1/7/2019</td>\n",
       "      <td>H-1B</td>\n",
       "      <td>EXECUTIVE DIRECTOR, STRATEGY</td>\n",
       "      <td>11-2011</td>\n",
       "      <td>ADVERTISING AND PROMOTIONS MANAGERS</td>\n",
       "      <td>FIGLIULO &amp; PARTNERS LLC</td>\n",
       "      <td>$230,000.00</td>\n",
       "      <td>Year</td>\n",
       "    </tr>\n",
       "    <tr>\n",
       "      <th>19</th>\n",
       "      <td>I-200-18026-717110</td>\n",
       "      <td>CERTIFIED</td>\n",
       "      <td>1/26/2018</td>\n",
       "      <td>7/5/2019</td>\n",
       "      <td>H-1B</td>\n",
       "      <td>PROJECT OPERATIONS MANAGER</td>\n",
       "      <td>11-2011</td>\n",
       "      <td>ADVERTISING AND PROMOTIONS MANAGERS</td>\n",
       "      <td>INVISIONAPP INC.</td>\n",
       "      <td>$107,000.00</td>\n",
       "      <td>Year</td>\n",
       "    </tr>\n",
       "    <tr>\n",
       "      <th>21</th>\n",
       "      <td>I-200-18039-081565</td>\n",
       "      <td>CERTIFIED</td>\n",
       "      <td>3/5/2018</td>\n",
       "      <td>1/8/2019</td>\n",
       "      <td>H-1B</td>\n",
       "      <td>MANAGER OF LEAGUE AND TOURNAMENT SERVICES</td>\n",
       "      <td>11-2011</td>\n",
       "      <td>ADVERTISING AND PROMOTIONS MANAGERS</td>\n",
       "      <td>OREGON YOUTH SOCCER ASSOCIATION</td>\n",
       "      <td>$49,087.00</td>\n",
       "      <td>Year</td>\n",
       "    </tr>\n",
       "    <tr>\n",
       "      <th>22</th>\n",
       "      <td>I-200-18082-340860</td>\n",
       "      <td>CERTIFIED</td>\n",
       "      <td>3/23/2018</td>\n",
       "      <td>4/22/2019</td>\n",
       "      <td>H-1B</td>\n",
       "      <td>DIRECTOR, DEMAND</td>\n",
       "      <td>11-2011</td>\n",
       "      <td>ADVERTISING AND PROMOTIONS MANAGERS</td>\n",
       "      <td>FACTUAL, INC.</td>\n",
       "      <td>$172,930.00</td>\n",
       "      <td>Year</td>\n",
       "    </tr>\n",
       "    <tr>\n",
       "      <th>24</th>\n",
       "      <td>I-200-18162-689783</td>\n",
       "      <td>CERTIFIED</td>\n",
       "      <td>9/26/2018</td>\n",
       "      <td>10/2/2018</td>\n",
       "      <td>H-1B</td>\n",
       "      <td>ADVERSTING AND PROMOTIONS MANAGER</td>\n",
       "      <td>11-2011</td>\n",
       "      <td>ADVERTISING AND PROMOTIONS MANAGERS</td>\n",
       "      <td>FANTUAN GROUP INC</td>\n",
       "      <td>$33.00</td>\n",
       "      <td>Hour</td>\n",
       "    </tr>\n",
       "  </tbody>\n",
       "</table>\n",
       "</div>"
      ],
      "text/plain": [
       "           CASE_NUMBER CASE_STATUS  ... WAGE_RATE_OF_PAY_FROM_1 WAGE_UNIT_OF_PAY_1\n",
       "18  I-200-17250-072640   CERTIFIED  ...             $230,000.00               Year\n",
       "19  I-200-18026-717110   CERTIFIED  ...             $107,000.00               Year\n",
       "21  I-200-18039-081565   CERTIFIED  ...              $49,087.00               Year\n",
       "22  I-200-18082-340860   CERTIFIED  ...             $172,930.00               Year\n",
       "24  I-200-18162-689783   CERTIFIED  ...                  $33.00               Hour\n",
       "\n",
       "[5 rows x 11 columns]"
      ]
     },
     "execution_count": 9,
     "metadata": {
      "tags": []
     },
     "output_type": "execute_result"
    }
   ],
   "source": [
    "#As we want to only need accepted and denied cases we are dropping withdrawn from the data frame. \n",
    "#Case status of class certified-withdraw were certified earlier and later withdraw which can be considered a\n",
    "cleaned.replace({\"CASE_STATUS\":\"CERTIFIED-WITHDRAWN\"},\"CERTIFIED\",inplace=True)\n",
    "cleaned.drop(labels=cleaned[cleaned['CASE_STATUS']=='WITHDRAWN'].index , inplace=True)\n",
    "cleaned.head()"
   ]
  },
  {
   "cell_type": "code",
   "execution_count": 10,
   "metadata": {
    "colab": {
     "base_uri": "https://localhost:8080/",
     "height": 323
    },
    "colab_type": "code",
    "id": "75W7CN49Yvhf",
    "outputId": "0ed1c474-5464-4618-8db0-104ec8b9dcac"
   },
   "outputs": [
    {
     "name": "stdout",
     "output_type": "stream",
     "text": [
      "<class 'pandas.core.frame.DataFrame'>\n",
      "Int64Index: 629856 entries, 18 to 664616\n",
      "Data columns (total 11 columns):\n",
      " #   Column                   Non-Null Count   Dtype \n",
      "---  ------                   --------------   ----- \n",
      " 0   CASE_NUMBER              629855 non-null  object\n",
      " 1   CASE_STATUS              629856 non-null  object\n",
      " 2   CASE_SUBMITTED           629856 non-null  object\n",
      " 3   DECISION_DATE            629856 non-null  object\n",
      " 4   VISA_CLASS               629856 non-null  object\n",
      " 5   JOB_TITLE                629856 non-null  object\n",
      " 6   SOC_CODE                 629852 non-null  object\n",
      " 7   SOC_TITLE                629852 non-null  object\n",
      " 8   EMPLOYER_NAME            629848 non-null  object\n",
      " 9   WAGE_RATE_OF_PAY_FROM_1  629852 non-null  object\n",
      " 10  WAGE_UNIT_OF_PAY_1       629852 non-null  object\n",
      "dtypes: object(11)\n",
      "memory usage: 57.7+ MB\n"
     ]
    }
   ],
   "source": [
    "cleaned.info()"
   ]
  },
  {
   "cell_type": "code",
   "execution_count": 11,
   "metadata": {
    "colab": {
     "base_uri": "https://localhost:8080/",
     "height": 68
    },
    "colab_type": "code",
    "id": "F5SSKy8mVr01",
    "outputId": "2faebaaa-3fc1-415d-a73b-3b90daa6d99c"
   },
   "outputs": [
    {
     "data": {
      "text/plain": [
       "<class 'float'>    460442\n",
       "<class 'str'>      169414\n",
       "Name: WAGE_RATE_OF_PAY_FROM_1, dtype: int64"
      ]
     },
     "execution_count": 11,
     "metadata": {
      "tags": []
     },
     "output_type": "execute_result"
    }
   ],
   "source": [
    "#the column wages has a mix of both string and float value types and some record have the symbol '$' which we want to remove\n",
    "cleaned['WAGE_RATE_OF_PAY_FROM_1'].apply(type).value_counts()"
   ]
  },
  {
   "cell_type": "code",
   "execution_count": 0,
   "metadata": {
    "colab": {},
    "colab_type": "code",
    "id": "cDAglVs6XHVB"
   },
   "outputs": [],
   "source": [
    "def clean_wages(w):\n",
    "    \"\"\" Function to remove '$' symbol and other delimiters from wages column which consistes of str and float type values\n",
    "    if the column entry is string type then remove the symbols else return the column value as it is \n",
    "    \"\"\"\n",
    "    if isinstance(w, str):\n",
    "        return(w.replace('$', '').replace(',', ''))\n",
    "    return(w)"
   ]
  },
  {
   "cell_type": "code",
   "execution_count": 13,
   "metadata": {
    "colab": {
     "base_uri": "https://localhost:8080/",
     "height": 462
    },
    "colab_type": "code",
    "id": "Py3xCbSawIpR",
    "outputId": "5f7c5bb6-ddd5-4971-cf98-a263d1225734"
   },
   "outputs": [
    {
     "name": "stdout",
     "output_type": "stream",
     "text": [
      "<class 'pandas.core.frame.DataFrame'>\n",
      "Int64Index: 629856 entries, 18 to 664616\n",
      "Data columns (total 12 columns):\n",
      " #   Column                   Non-Null Count   Dtype  \n",
      "---  ------                   --------------   -----  \n",
      " 0   CASE_NUMBER              629855 non-null  object \n",
      " 1   CASE_STATUS              629856 non-null  object \n",
      " 2   CASE_SUBMITTED           629856 non-null  object \n",
      " 3   DECISION_DATE            629856 non-null  object \n",
      " 4   VISA_CLASS               629856 non-null  object \n",
      " 5   JOB_TITLE                629856 non-null  object \n",
      " 6   SOC_CODE                 629852 non-null  object \n",
      " 7   SOC_TITLE                629852 non-null  object \n",
      " 8   EMPLOYER_NAME            629848 non-null  object \n",
      " 9   WAGE_RATE_OF_PAY_FROM_1  629852 non-null  object \n",
      " 10  WAGE_UNIT_OF_PAY_1       629852 non-null  object \n",
      " 11  WAGES                    629852 non-null  float64\n",
      "dtypes: float64(1), object(11)\n",
      "memory usage: 62.5+ MB\n"
     ]
    },
    {
     "name": "stderr",
     "output_type": "stream",
     "text": [
      "/usr/local/lib/python3.6/dist-packages/ipykernel_launcher.py:1: SettingWithCopyWarning: \n",
      "A value is trying to be set on a copy of a slice from a DataFrame.\n",
      "Try using .loc[row_indexer,col_indexer] = value instead\n",
      "\n",
      "See the caveats in the documentation: https://pandas.pydata.org/pandas-docs/stable/user_guide/indexing.html#returning-a-view-versus-a-copy\n",
      "  \"\"\"Entry point for launching an IPython kernel.\n"
     ]
    }
   ],
   "source": [
    "cleaned['WAGES']=cleaned['WAGE_RATE_OF_PAY_FROM_1'].apply(clean_wages).astype('float')\n",
    "cleaned.info()\n"
   ]
  },
  {
   "cell_type": "code",
   "execution_count": 14,
   "metadata": {
    "colab": {
     "base_uri": "https://localhost:8080/",
     "height": 119
    },
    "colab_type": "code",
    "id": "yKCdooZsQ7yD",
    "outputId": "cbd5e7d8-e418-4e71-d298-b0d8ca9605e4"
   },
   "outputs": [
    {
     "data": {
      "text/plain": [
       "Year         587386\n",
       "Hour          41927\n",
       "Month           342\n",
       "Bi-Weekly       105\n",
       "Week             92\n",
       "Name: WAGE_UNIT_OF_PAY_1, dtype: int64"
      ]
     },
     "execution_count": 14,
     "metadata": {
      "tags": []
     },
     "output_type": "execute_result"
    }
   ],
   "source": [
    "# the wage information that we have available has different unit of pay\n",
    "cleaned['WAGE_UNIT_OF_PAY_1'].value_counts()"
   ]
  },
  {
   "cell_type": "code",
   "execution_count": 15,
   "metadata": {
    "colab": {
     "base_uri": "https://localhost:8080/",
     "height": 267
    },
    "colab_type": "code",
    "id": "44hLG2TIZH-v",
    "outputId": "1b262b8e-530d-4be8-e01e-6f030f3f464a"
   },
   "outputs": [
    {
     "data": {
      "text/html": [
       "<div>\n",
       "<style scoped>\n",
       "    .dataframe tbody tr th:only-of-type {\n",
       "        vertical-align: middle;\n",
       "    }\n",
       "\n",
       "    .dataframe tbody tr th {\n",
       "        vertical-align: top;\n",
       "    }\n",
       "\n",
       "    .dataframe thead th {\n",
       "        text-align: right;\n",
       "    }\n",
       "</style>\n",
       "<table border=\"1\" class=\"dataframe\">\n",
       "  <thead>\n",
       "    <tr style=\"text-align: right;\">\n",
       "      <th></th>\n",
       "      <th>CASE_NUMBER</th>\n",
       "      <th>CASE_STATUS</th>\n",
       "      <th>CASE_SUBMITTED</th>\n",
       "      <th>DECISION_DATE</th>\n",
       "      <th>VISA_CLASS</th>\n",
       "      <th>JOB_TITLE</th>\n",
       "      <th>SOC_CODE</th>\n",
       "      <th>SOC_TITLE</th>\n",
       "      <th>EMPLOYER_NAME</th>\n",
       "      <th>WAGE_RATE_OF_PAY_FROM_1</th>\n",
       "      <th>WAGE_UNIT_OF_PAY_1</th>\n",
       "      <th>WAGES</th>\n",
       "    </tr>\n",
       "  </thead>\n",
       "  <tbody>\n",
       "    <tr>\n",
       "      <th>818</th>\n",
       "      <td>I-200-18306-399497</td>\n",
       "      <td>DENIED</td>\n",
       "      <td>11/02/2018 11:37:37</td>\n",
       "      <td>11/05/2018 12:07:42</td>\n",
       "      <td>H-1B</td>\n",
       "      <td>ACCOUNTING &amp; MARKETING MANAGER FOR AFRICA</td>\n",
       "      <td>11-2021</td>\n",
       "      <td>MARKETING MANAGERS</td>\n",
       "      <td>SHOP2SHIP LLC</td>\n",
       "      <td>2000</td>\n",
       "      <td>Month</td>\n",
       "      <td>2000.0</td>\n",
       "    </tr>\n",
       "    <tr>\n",
       "      <th>826</th>\n",
       "      <td>I-200-18309-843479</td>\n",
       "      <td>CERTIFIED</td>\n",
       "      <td>11/05/2018 12:34:19</td>\n",
       "      <td>11/09/2018 22:00:34</td>\n",
       "      <td>H-1B</td>\n",
       "      <td>ACCOUNTING &amp; MARKETING MANAGER FOR AFRICA</td>\n",
       "      <td>11-2021</td>\n",
       "      <td>MARKETING MANAGERS</td>\n",
       "      <td>SHOP2SHIP LLC</td>\n",
       "      <td>2000</td>\n",
       "      <td>Month</td>\n",
       "      <td>2000.0</td>\n",
       "    </tr>\n",
       "  </tbody>\n",
       "</table>\n",
       "</div>"
      ],
      "text/plain": [
       "            CASE_NUMBER CASE_STATUS  ... WAGE_UNIT_OF_PAY_1   WAGES\n",
       "818  I-200-18306-399497      DENIED  ...              Month  2000.0\n",
       "826  I-200-18309-843479   CERTIFIED  ...              Month  2000.0\n",
       "\n",
       "[2 rows x 12 columns]"
      ]
     },
     "execution_count": 15,
     "metadata": {
      "tags": []
     },
     "output_type": "execute_result"
    }
   ],
   "source": [
    "x=cleaned.loc[cleaned['WAGE_UNIT_OF_PAY_1']==\"Month\"]\n",
    "x.head(2)\n"
   ]
  },
  {
   "cell_type": "code",
   "execution_count": 16,
   "metadata": {
    "colab": {
     "base_uri": "https://localhost:8080/",
     "height": 445
    },
    "colab_type": "code",
    "id": "hCGTUT22Z6Bj",
    "outputId": "00a2d5d3-f818-40e1-cb13-e60e4a7b70e6"
   },
   "outputs": [
    {
     "name": "stderr",
     "output_type": "stream",
     "text": [
      "/usr/local/lib/python3.6/dist-packages/ipykernel_launcher.py:1: SettingWithCopyWarning: \n",
      "A value is trying to be set on a copy of a slice from a DataFrame.\n",
      "Try using .loc[row_indexer,col_indexer] = value instead\n",
      "\n",
      "See the caveats in the documentation: https://pandas.pydata.org/pandas-docs/stable/user_guide/indexing.html#returning-a-view-versus-a-copy\n",
      "  \"\"\"Entry point for launching an IPython kernel.\n",
      "/usr/local/lib/python3.6/dist-packages/ipykernel_launcher.py:2: SettingWithCopyWarning: \n",
      "A value is trying to be set on a copy of a slice from a DataFrame.\n",
      "Try using .loc[row_indexer,col_indexer] = value instead\n",
      "\n",
      "See the caveats in the documentation: https://pandas.pydata.org/pandas-docs/stable/user_guide/indexing.html#returning-a-view-versus-a-copy\n",
      "  \n",
      "/usr/local/lib/python3.6/dist-packages/ipykernel_launcher.py:3: SettingWithCopyWarning: \n",
      "A value is trying to be set on a copy of a slice from a DataFrame.\n",
      "Try using .loc[row_indexer,col_indexer] = value instead\n",
      "\n",
      "See the caveats in the documentation: https://pandas.pydata.org/pandas-docs/stable/user_guide/indexing.html#returning-a-view-versus-a-copy\n",
      "  This is separate from the ipykernel package so we can avoid doing imports until\n",
      "/usr/local/lib/python3.6/dist-packages/ipykernel_launcher.py:4: SettingWithCopyWarning: \n",
      "A value is trying to be set on a copy of a slice from a DataFrame.\n",
      "Try using .loc[row_indexer,col_indexer] = value instead\n",
      "\n",
      "See the caveats in the documentation: https://pandas.pydata.org/pandas-docs/stable/user_guide/indexing.html#returning-a-view-versus-a-copy\n",
      "  after removing the cwd from sys.path.\n"
     ]
    }
   ],
   "source": [
    "# we convert the different units of pay to the type 'Year'\n",
    "cleaned['WAGES'] = np.where(cleaned['WAGE_UNIT_OF_PAY_1'] == 'Month',cleaned['WAGES'] * 12,cleaned['WAGES'])\n",
    "cleaned['WAGES'] = np.where(cleaned['WAGE_UNIT_OF_PAY_1'] == 'Hour',cleaned['WAGES'] * 2080,cleaned['WAGES']) # 2080=8 hours*5 days* 52 weeks\n",
    "cleaned['WAGES'] = np.where(cleaned['WAGE_UNIT_OF_PAY_1'] == 'Bi-Weekly',cleaned['WAGES'] *26,cleaned['WAGES'])\n",
    "cleaned['WAGES'] = np.where(cleaned['WAGE_UNIT_OF_PAY_1'] == 'Week',cleaned['WAGES'] * 52,cleaned['WAGES'])"
   ]
  },
  {
   "cell_type": "code",
   "execution_count": 17,
   "metadata": {
    "colab": {
     "base_uri": "https://localhost:8080/",
     "height": 122
    },
    "colab_type": "code",
    "id": "1Q006QHRdl-q",
    "outputId": "86057c8e-620d-4d53-e101-62114c1b8eac"
   },
   "outputs": [
    {
     "name": "stderr",
     "output_type": "stream",
     "text": [
      "/usr/local/lib/python3.6/dist-packages/pandas/core/frame.py:3997: SettingWithCopyWarning: \n",
      "A value is trying to be set on a copy of a slice from a DataFrame\n",
      "\n",
      "See the caveats in the documentation: https://pandas.pydata.org/pandas-docs/stable/user_guide/indexing.html#returning-a-view-versus-a-copy\n",
      "  errors=errors,\n"
     ]
    }
   ],
   "source": [
    "#As we have got the information of Wages and made transformation we can drop the initial two records\n",
    "cleaned.drop(columns=['WAGE_RATE_OF_PAY_FROM_1','WAGE_UNIT_OF_PAY_1'],axis=1,inplace=True)\n"
   ]
  },
  {
   "cell_type": "code",
   "execution_count": 18,
   "metadata": {
    "colab": {
     "base_uri": "https://localhost:8080/",
     "height": 306
    },
    "colab_type": "code",
    "id": "lnSktMB3bVM3",
    "outputId": "5dc7c8a2-d306-4f24-a216-8863b75f5838"
   },
   "outputs": [
    {
     "name": "stdout",
     "output_type": "stream",
     "text": [
      "<class 'pandas.core.frame.DataFrame'>\n",
      "Int64Index: 629856 entries, 18 to 664616\n",
      "Data columns (total 10 columns):\n",
      " #   Column          Non-Null Count   Dtype  \n",
      "---  ------          --------------   -----  \n",
      " 0   CASE_NUMBER     629855 non-null  object \n",
      " 1   CASE_STATUS     629856 non-null  object \n",
      " 2   CASE_SUBMITTED  629856 non-null  object \n",
      " 3   DECISION_DATE   629856 non-null  object \n",
      " 4   VISA_CLASS      629856 non-null  object \n",
      " 5   JOB_TITLE       629856 non-null  object \n",
      " 6   SOC_CODE        629852 non-null  object \n",
      " 7   SOC_TITLE       629852 non-null  object \n",
      " 8   EMPLOYER_NAME   629848 non-null  object \n",
      " 9   WAGES           629852 non-null  float64\n",
      "dtypes: float64(1), object(9)\n",
      "memory usage: 52.9+ MB\n"
     ]
    }
   ],
   "source": [
    "cleaned.info()"
   ]
  },
  {
   "cell_type": "code",
   "execution_count": 19,
   "metadata": {
    "colab": {
     "base_uri": "https://localhost:8080/",
     "height": 51
    },
    "colab_type": "code",
    "id": "RyS7f3eIbcCl",
    "outputId": "38d5171f-7ac1-4e6b-ceca-892ff45370ab"
   },
   "outputs": [
    {
     "name": "stdout",
     "output_type": "stream",
     "text": [
      "(17, 10)\n",
      "(629856, 10)\n"
     ]
    }
   ],
   "source": [
    "\"\"\"\n",
    "We should remove record that have null objects, from the above cell we see\n",
    "that all columns don't have same number of non-null records\n",
    "which means we have to remove the records that have the null values.\n",
    "we see that there are about 17 records that have null values\n",
    "\"\"\" \n",
    "null_rows = cleaned.isnull().any(axis=1)\n",
    "print(cleaned[null_rows].shape)\n",
    "print(cleaned.shape)"
   ]
  },
  {
   "cell_type": "code",
   "execution_count": 20,
   "metadata": {
    "colab": {
     "base_uri": "https://localhost:8080/",
     "height": 139
    },
    "colab_type": "code",
    "id": "keAByWsddXRe",
    "outputId": "21daa724-2966-494e-bc0f-c13b322599cd"
   },
   "outputs": [
    {
     "name": "stdout",
     "output_type": "stream",
     "text": [
      "(629839, 10)\n"
     ]
    },
    {
     "name": "stderr",
     "output_type": "stream",
     "text": [
      "/usr/local/lib/python3.6/dist-packages/ipykernel_launcher.py:1: SettingWithCopyWarning: \n",
      "A value is trying to be set on a copy of a slice from a DataFrame\n",
      "\n",
      "See the caveats in the documentation: https://pandas.pydata.org/pandas-docs/stable/user_guide/indexing.html#returning-a-view-versus-a-copy\n",
      "  \"\"\"Entry point for launching an IPython kernel.\n"
     ]
    }
   ],
   "source": [
    "cleaned.dropna(inplace=True)\n",
    "print(cleaned.shape)"
   ]
  },
  {
   "cell_type": "code",
   "execution_count": 21,
   "metadata": {
    "colab": {
     "base_uri": "https://localhost:8080/",
     "height": 221
    },
    "colab_type": "code",
    "id": "9Aa-4cFWnW6s",
    "outputId": "d27cb137-b3fb-4284-e2a9-cc1aae5f6989"
   },
   "outputs": [
    {
     "data": {
      "text/plain": [
       "SOFTWARE ENGINEER                                            33199\n",
       "SOFTWARE DEVELOPER                                           33057\n",
       "SENIOR SYSTEMS ANALYST JC60                                  12759\n",
       "SENIOR SOFTWARE ENGINEER                                      8135\n",
       "MANAGER JC50                                                  8118\n",
       "                                                             ...  \n",
       "ASSOCIATE DIRECTOR OF PLAYER DEVELOPMENT/VIDEO OPERATIONS        1\n",
       "MANAGING DIRECTOR-ASIA                                           1\n",
       "CLINICAL LEAD LAB TECHNOLOGIST                                   1\n",
       "ACCOUNT MANAGER, 1615.26884                                      1\n",
       "SITE RELIABILITY ASSOCIATE ENGINEER                              1\n",
       "Name: JOB_TITLE, Length: 108139, dtype: int64"
      ]
     },
     "execution_count": 21,
     "metadata": {
      "tags": []
     },
     "output_type": "execute_result"
    }
   ],
   "source": [
    "cleaned['JOB_TITLE'].value_counts()"
   ]
  },
  {
   "cell_type": "code",
   "execution_count": 2,
   "metadata": {
    "colab": {
     "base_uri": "https://localhost:8080/",
     "height": 445
    },
    "colab_type": "code",
    "id": "bwgV1bu5sXlE",
    "outputId": "6ffca77a-4b3e-49d9-bd5e-9fb84c959ada"
   },
   "outputs": [
    {
     "ename": "NameError",
     "evalue": "name 'cleaned' is not defined",
     "output_type": "error",
     "traceback": [
      "\u001b[1;31m---------------------------------------------------------------------------\u001b[0m",
      "\u001b[1;31mNameError\u001b[0m                                 Traceback (most recent call last)",
      "\u001b[1;32m<ipython-input-2-94dba7bee7bc>\u001b[0m in \u001b[0;36m<module>\u001b[1;34m\u001b[0m\n\u001b[0;32m      1\u001b[0m \u001b[1;31m#we see that the job title has integers in the record which we can remove\u001b[0m\u001b[1;33m\u001b[0m\u001b[1;33m\u001b[0m\u001b[1;33m\u001b[0m\u001b[0m\n\u001b[0;32m      2\u001b[0m \u001b[1;31m#removing comma also\u001b[0m\u001b[1;33m\u001b[0m\u001b[1;33m\u001b[0m\u001b[1;33m\u001b[0m\u001b[0m\n\u001b[1;32m----> 3\u001b[1;33m \u001b[0mcleaned\u001b[0m\u001b[1;33m[\u001b[0m\u001b[1;34m'JOB_TITLE'\u001b[0m\u001b[1;33m]\u001b[0m\u001b[1;33m=\u001b[0m\u001b[0mcleaned\u001b[0m\u001b[1;33m[\u001b[0m\u001b[1;34m'JOB_TITLE'\u001b[0m\u001b[1;33m]\u001b[0m\u001b[1;33m.\u001b[0m\u001b[0mstr\u001b[0m\u001b[1;33m.\u001b[0m\u001b[0mreplace\u001b[0m\u001b[1;33m(\u001b[0m\u001b[1;34m'\\d+'\u001b[0m\u001b[1;33m,\u001b[0m \u001b[1;34m''\u001b[0m\u001b[1;33m)\u001b[0m\u001b[1;33m\u001b[0m\u001b[1;33m\u001b[0m\u001b[0m\n\u001b[0m\u001b[0;32m      4\u001b[0m \u001b[0mcleaned\u001b[0m\u001b[1;33m[\u001b[0m\u001b[1;34m'JOB_TITLE'\u001b[0m\u001b[1;33m]\u001b[0m\u001b[1;33m=\u001b[0m\u001b[0mcleaned\u001b[0m\u001b[1;33m[\u001b[0m\u001b[1;34m'JOB_TITLE'\u001b[0m\u001b[1;33m]\u001b[0m\u001b[1;33m.\u001b[0m\u001b[0mstr\u001b[0m\u001b[1;33m.\u001b[0m\u001b[0mreplace\u001b[0m\u001b[1;33m(\u001b[0m\u001b[1;34m','\u001b[0m\u001b[1;33m,\u001b[0m \u001b[1;34m''\u001b[0m\u001b[1;33m)\u001b[0m\u001b[1;33m\u001b[0m\u001b[1;33m\u001b[0m\u001b[0m\n\u001b[0;32m      5\u001b[0m \u001b[0mcleaned\u001b[0m\u001b[1;33m.\u001b[0m\u001b[0mhead\u001b[0m\u001b[1;33m(\u001b[0m\u001b[1;33m)\u001b[0m\u001b[1;33m\u001b[0m\u001b[1;33m\u001b[0m\u001b[0m\n",
      "\u001b[1;31mNameError\u001b[0m: name 'cleaned' is not defined"
     ]
    }
   ],
   "source": [
    "#we see that the job title has integers in the record which we can remove\n",
    "#removing comma also\n",
    "cleaned['JOB_TITLE']=cleaned['JOB_TITLE'].str.replace('\\d+', '')\n",
    "cleaned['JOB_TITLE']=cleaned['JOB_TITLE'].str.replace(',', '')\n",
    "cleaned.head()\n",
    "cleaned['JOB_TITLE'].value_counts()"
   ]
  },
  {
   "cell_type": "code",
   "execution_count": null,
   "metadata": {},
   "outputs": [],
   "source": [
    "# code to check spelling\n",
    "from textblob import TextBlob\n",
    "\n",
    "def spelling_checker(job_title):\n",
    "    \n",
    "    b = TextBlob(job_title.lower())\n",
    "    corrected = b.correct()\n",
    "    return corrected\n",
    "    \n",
    "cleaned.JOB_TITLE.apply(lambda txt: \" \".join([spelling_checker(i) for i in txt.split()]))\n",
    "#df_spell.JOB_TITLE = df_spell['JOB_TITLE'].apply(spelling_checker)\n",
    "cleaned['JOB_TITLE'].value_counts()"
   ]
  },
  {
   "cell_type": "code",
   "execution_count": 38,
   "metadata": {
    "colab": {
     "base_uri": "https://localhost:8080/",
     "height": 377
    },
    "colab_type": "code",
    "id": "15py5C4RfXIj",
    "outputId": "5c7e83c3-5539-4899-815f-dc2546e58e09"
   },
   "outputs": [
    {
     "name": "stdout",
     "output_type": "stream",
     "text": [
      "[nltk_data] Downloading package wordnet to /root/nltk_data...\n",
      "[nltk_data]   Package wordnet is already up-to-date!\n"
     ]
    },
    {
     "name": "stderr",
     "output_type": "stream",
     "text": [
      "/usr/local/lib/python3.6/dist-packages/ipykernel_launcher.py:9: SettingWithCopyWarning: \n",
      "A value is trying to be set on a copy of a slice from a DataFrame.\n",
      "Try using .loc[row_indexer,col_indexer] = value instead\n",
      "\n",
      "See the caveats in the documentation: https://pandas.pydata.org/pandas-docs/stable/user_guide/indexing.html#returning-a-view-versus-a-copy\n",
      "  if __name__ == '__main__':\n"
     ]
    },
    {
     "data": {
      "text/plain": [
       "SOFTWARE ENGINEER                              33199\n",
       "SOFTWARE DEVELOPER                             33057\n",
       "SENIOR SYSTEMS ANALYST JC                      12759\n",
       "SENIOR SOFTWARE ENGINEER                        8135\n",
       "MANAGER JC                                      8118\n",
       "                                               ...  \n",
       "RESEARCH ASSOCIATE THEORETICAL                     1\n",
       "BUS INFO DEVELOPER                                 1\n",
       "ELECTRICAL AND ELECTRONICS CONTROL ENGINEER        1\n",
       "INSPECTION SPECIALIST                              1\n",
       "ANALYST, IT RISK MANAGEMENT AND CONTROLS           1\n",
       "Name: JOB_TITLE, Length: 98514, dtype: int64"
      ]
     },
     "execution_count": 38,
     "metadata": {
      "tags": []
     },
     "output_type": "execute_result"
    }
   ],
   "source": [
    "#code to clean and group the JOB_TITLE COLUMN\n",
    "import nltk\n",
    "nltk.download('wordnet')\n",
    "lemmatizer = nltk.stem.WordNetLemmatizer()\n",
    "\n",
    "def lemmatize_text(text):\n",
    "    return lemmatizer.lemmatize(text)\n",
    "\n",
    "cleaned['JOB_TITLE']=cleaned.JOB_TITLE.apply(lemmatize_text)\n",
    "cleaned['JOB_TITLE'].value_counts()"
   ]
  },
  {
   "cell_type": "code",
   "execution_count": 39,
   "metadata": {
    "colab": {
     "base_uri": "https://localhost:8080/",
     "height": 482
    },
    "colab_type": "code",
    "id": "fNjXyrLzntEN",
    "outputId": "bb79c649-f1d4-427c-ed4b-71df4bdd8e41"
   },
   "outputs": [
    {
     "data": {
      "text/html": [
       "<div>\n",
       "<style scoped>\n",
       "    .dataframe tbody tr th:only-of-type {\n",
       "        vertical-align: middle;\n",
       "    }\n",
       "\n",
       "    .dataframe tbody tr th {\n",
       "        vertical-align: top;\n",
       "    }\n",
       "\n",
       "    .dataframe thead th {\n",
       "        text-align: right;\n",
       "    }\n",
       "</style>\n",
       "<table border=\"1\" class=\"dataframe\">\n",
       "  <thead>\n",
       "    <tr style=\"text-align: right;\">\n",
       "      <th></th>\n",
       "      <th>JOB_TITLE</th>\n",
       "      <th>WAGES</th>\n",
       "    </tr>\n",
       "  </thead>\n",
       "  <tbody>\n",
       "    <tr>\n",
       "      <th>67098</th>\n",
       "      <td>SENIOR APPLICATIONS ENGINEER - POWER MANAGEMENT</td>\n",
       "      <td>98847500.00</td>\n",
       "    </tr>\n",
       "    <tr>\n",
       "      <th>49032</th>\n",
       "      <td>NURSE PRACTITIONERS (LICENSED)</td>\n",
       "      <td>97780945.60</td>\n",
       "    </tr>\n",
       "    <tr>\n",
       "      <th>82800</th>\n",
       "      <td>SPECIALIST WEB DEVELOPER</td>\n",
       "      <td>74060709.00</td>\n",
       "    </tr>\n",
       "    <tr>\n",
       "      <th>14407</th>\n",
       "      <td>CHEMISTS</td>\n",
       "      <td>41649665.05</td>\n",
       "    </tr>\n",
       "    <tr>\n",
       "      <th>39032</th>\n",
       "      <td>JR. DATA SCIENTIST (-.)</td>\n",
       "      <td>40303356.00</td>\n",
       "    </tr>\n",
       "    <tr>\n",
       "      <th>...</th>\n",
       "      <td>...</td>\n",
       "      <td>...</td>\n",
       "    </tr>\n",
       "    <tr>\n",
       "      <th>95920</th>\n",
       "      <td>VEHICLE SALES/SALES CONSULTANT</td>\n",
       "      <td>18720.00</td>\n",
       "    </tr>\n",
       "    <tr>\n",
       "      <th>18645</th>\n",
       "      <td>CUSTOMER SERVICE, ALL TASKS &amp; DUTIES OF A NAIL...</td>\n",
       "      <td>18200.00</td>\n",
       "    </tr>\n",
       "    <tr>\n",
       "      <th>94677</th>\n",
       "      <td>TRACK AND FIELD COACH</td>\n",
       "      <td>17040.00</td>\n",
       "    </tr>\n",
       "    <tr>\n",
       "      <th>41918</th>\n",
       "      <td>LIVE STREAMING SERVICE</td>\n",
       "      <td>17000.00</td>\n",
       "    </tr>\n",
       "    <tr>\n",
       "      <th>33451</th>\n",
       "      <td>HOME HEALTH &amp; PERSONAL CARE AIDE</td>\n",
       "      <td>15912.00</td>\n",
       "    </tr>\n",
       "  </tbody>\n",
       "</table>\n",
       "<p>98514 rows × 2 columns</p>\n",
       "</div>"
      ],
      "text/plain": [
       "                                               JOB_TITLE        WAGES\n",
       "67098    SENIOR APPLICATIONS ENGINEER - POWER MANAGEMENT  98847500.00\n",
       "49032                     NURSE PRACTITIONERS (LICENSED)  97780945.60\n",
       "82800                           SPECIALIST WEB DEVELOPER  74060709.00\n",
       "14407                                           CHEMISTS  41649665.05\n",
       "39032                            JR. DATA SCIENTIST (-.)  40303356.00\n",
       "...                                                  ...          ...\n",
       "95920                     VEHICLE SALES/SALES CONSULTANT     18720.00\n",
       "18645  CUSTOMER SERVICE, ALL TASKS & DUTIES OF A NAIL...     18200.00\n",
       "94677                              TRACK AND FIELD COACH     17040.00\n",
       "41918                             LIVE STREAMING SERVICE     17000.00\n",
       "33451                   HOME HEALTH & PERSONAL CARE AIDE     15912.00\n",
       "\n",
       "[98514 rows x 2 columns]"
      ]
     },
     "metadata": {
      "tags": []
     },
     "output_type": "display_data"
    },
    {
     "data": {
      "text/html": [
       "<div>\n",
       "<style scoped>\n",
       "    .dataframe tbody tr th:only-of-type {\n",
       "        vertical-align: middle;\n",
       "    }\n",
       "\n",
       "    .dataframe tbody tr th {\n",
       "        vertical-align: top;\n",
       "    }\n",
       "\n",
       "    .dataframe thead th {\n",
       "        text-align: right;\n",
       "    }\n",
       "</style>\n",
       "<table border=\"1\" class=\"dataframe\">\n",
       "  <thead>\n",
       "    <tr style=\"text-align: right;\">\n",
       "      <th></th>\n",
       "      <th>JOB_TITLE</th>\n",
       "      <th>WAGES</th>\n",
       "    </tr>\n",
       "  </thead>\n",
       "  <tbody>\n",
       "    <tr>\n",
       "      <th>79916</th>\n",
       "      <td>SOFTWARE ENGINEER</td>\n",
       "      <td>112102.821495</td>\n",
       "    </tr>\n",
       "  </tbody>\n",
       "</table>\n",
       "</div>"
      ],
      "text/plain": [
       "               JOB_TITLE          WAGES\n",
       "79916  SOFTWARE ENGINEER  112102.821495"
      ]
     },
     "metadata": {
      "tags": []
     },
     "output_type": "display_data"
    }
   ],
   "source": [
    "grouped_wages=cleaned.groupby('JOB_TITLE', as_index=False).agg({'WAGES':'mean'})\n",
    "op=grouped_wages.sort_values(by=['WAGES'],ascending=False)\n",
    "X=op.loc[op['JOB_TITLE']=='SOFTWARE ENGINEER']\n",
    "display(op)\n",
    "display(X)"
   ]
  },
  {
   "cell_type": "code",
   "execution_count": 0,
   "metadata": {
    "colab": {},
    "colab_type": "code",
    "id": "MU8xjr98qbJG"
   },
   "outputs": [],
   "source": [
    "\n"
   ]
  }
 ],
 "metadata": {
  "accelerator": "GPU",
  "colab": {
   "collapsed_sections": [],
   "machine_shape": "hm",
   "name": "H1b_project.ipynb",
   "provenance": [],
   "toc_visible": true
  },
  "kernelspec": {
   "display_name": "Python 3",
   "language": "python",
   "name": "python3"
  },
  "language_info": {
   "codemirror_mode": {
    "name": "ipython",
    "version": 3
   },
   "file_extension": ".py",
   "mimetype": "text/x-python",
   "name": "python",
   "nbconvert_exporter": "python",
   "pygments_lexer": "ipython3",
   "version": "3.7.4"
  }
 },
 "nbformat": 4,
 "nbformat_minor": 1
}
