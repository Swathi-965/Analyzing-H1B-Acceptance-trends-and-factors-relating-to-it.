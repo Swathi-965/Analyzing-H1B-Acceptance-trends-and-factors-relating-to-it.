{
  "nbformat": 4,
  "nbformat_minor": 0,
  "metadata": {
    "colab": {
      "name": "H1b_project.ipynb",
      "provenance": [],
      "collapsed_sections": [],
      "toc_visible": true,
      "machine_shape": "hm"
    },
    "kernelspec": {
      "name": "python3",
      "display_name": "Python 3"
    },
    "accelerator": "GPU"
  },
  "cells": [
    {
      "cell_type": "markdown",
      "metadata": {
        "id": "RFnPSdxLC6em",
        "colab_type": "text"
      },
      "source": [
        "# Analysing H1B Acceptance Trends "
      ]
    },
    {
      "cell_type": "markdown",
      "metadata": {
        "id": "Uh8CJdwBJOAL",
        "colab_type": "text"
      },
      "source": [
        "H1B visa is a nonimmigrant visa issued to gradute level workers which allows them to work in the United States. The employer sponsors the H1B visa for workers with theoretical or technical expertise in specialized fields such as in IT, finance, accounting etc. An interesting fact about immigrant workers is that about 52 percent of new Silicon valley companies were founded by such workers during 1995 and 2005. Some famous CEOs like Indira Nooyi (Pepsico), Elon Musk (Tesla), Sundar Pichai (Google),Satya Nadella (Microsoft) once arrived to the US on a H1B visa."
      ]
    },
    {
      "cell_type": "markdown",
      "metadata": {
        "id": "QIe1lq1-RyDV",
        "colab_type": "text"
      },
      "source": [
        "**Motivation**: Our team consists of five international gradute students, in the future we will be applying for H1B visa. The visa application process seems very long, complicated and uncertain. So we decided to understand this process and use Machine learning algorithms to predict the acceptance rate and trends of H1B visa. "
      ]
    },
    {
      "cell_type": "markdown",
      "metadata": {
        "id": "kjQ8YI2GTfb6",
        "colab_type": "text"
      },
      "source": [
        "## Data \n",
        "The data used in the project has been collected from <a href=\"https://www.foreignlaborcert.doleta.gov/performancedata.cfm\">the Office of Foreign Labor Certification (OFLC).</a> "
      ]
    },
    {
      "cell_type": "code",
      "metadata": {
        "id": "eUglaNmlQ44L",
        "colab_type": "code",
        "outputId": "9402e391-ca8c-474e-abc5-0f810ccdc530",
        "colab": {
          "base_uri": "https://localhost:8080/",
          "height": 545
        }
      },
      "source": [
        "from google.colab import drive\n",
        "drive.mount('/content/gdrive')"
      ],
      "execution_count": 0,
      "outputs": [
        {
          "output_type": "error",
          "ename": "TIMEOUT",
          "evalue": "ignored",
          "traceback": [
            "\u001b[0;31m---------------------------------------------------------------------------\u001b[0m",
            "\u001b[0;31mTIMEOUT\u001b[0m                                   Traceback (most recent call last)",
            "\u001b[0;32m<ipython-input-1-4996ee3d8d09>\u001b[0m in \u001b[0;36m<module>\u001b[0;34m()\u001b[0m\n\u001b[1;32m      1\u001b[0m \u001b[0;32mfrom\u001b[0m \u001b[0mgoogle\u001b[0m\u001b[0;34m.\u001b[0m\u001b[0mcolab\u001b[0m \u001b[0;32mimport\u001b[0m \u001b[0mdrive\u001b[0m\u001b[0;34m\u001b[0m\u001b[0;34m\u001b[0m\u001b[0m\n\u001b[0;32m----> 2\u001b[0;31m \u001b[0mdrive\u001b[0m\u001b[0;34m.\u001b[0m\u001b[0mmount\u001b[0m\u001b[0;34m(\u001b[0m\u001b[0;34m'/content/gdrive'\u001b[0m\u001b[0;34m)\u001b[0m\u001b[0;34m\u001b[0m\u001b[0;34m\u001b[0m\u001b[0m\n\u001b[0m",
            "\u001b[0;32m/usr/local/lib/python3.6/dist-packages/google/colab/drive.py\u001b[0m in \u001b[0;36mmount\u001b[0;34m(mountpoint, force_remount, timeout_ms, use_metadata_server)\u001b[0m\n\u001b[1;32m    218\u001b[0m         \u001b[0moauth_prompt\u001b[0m\u001b[0;34m,\u001b[0m\u001b[0;34m\u001b[0m\u001b[0;34m\u001b[0m\u001b[0m\n\u001b[1;32m    219\u001b[0m         \u001b[0mproblem_and_stopped\u001b[0m\u001b[0;34m,\u001b[0m\u001b[0;34m\u001b[0m\u001b[0;34m\u001b[0m\u001b[0m\n\u001b[0;32m--> 220\u001b[0;31m         \u001b[0mdrive_exited\u001b[0m\u001b[0;34m,\u001b[0m\u001b[0;34m\u001b[0m\u001b[0;34m\u001b[0m\u001b[0m\n\u001b[0m\u001b[1;32m    221\u001b[0m     ])\n\u001b[1;32m    222\u001b[0m     \u001b[0;32mif\u001b[0m \u001b[0mcase\u001b[0m \u001b[0;34m==\u001b[0m \u001b[0;36m0\u001b[0m\u001b[0;34m:\u001b[0m\u001b[0;34m\u001b[0m\u001b[0;34m\u001b[0m\u001b[0m\n",
            "\u001b[0;32m/usr/local/lib/python3.6/dist-packages/pexpect/spawnbase.py\u001b[0m in \u001b[0;36mexpect\u001b[0;34m(self, pattern, timeout, searchwindowsize, async_, **kw)\u001b[0m\n\u001b[1;32m    342\u001b[0m         \u001b[0mcompiled_pattern_list\u001b[0m \u001b[0;34m=\u001b[0m \u001b[0mself\u001b[0m\u001b[0;34m.\u001b[0m\u001b[0mcompile_pattern_list\u001b[0m\u001b[0;34m(\u001b[0m\u001b[0mpattern\u001b[0m\u001b[0;34m)\u001b[0m\u001b[0;34m\u001b[0m\u001b[0;34m\u001b[0m\u001b[0m\n\u001b[1;32m    343\u001b[0m         return self.expect_list(compiled_pattern_list,\n\u001b[0;32m--> 344\u001b[0;31m                 timeout, searchwindowsize, async_)\n\u001b[0m\u001b[1;32m    345\u001b[0m \u001b[0;34m\u001b[0m\u001b[0m\n\u001b[1;32m    346\u001b[0m     def expect_list(self, pattern_list, timeout=-1, searchwindowsize=-1,\n",
            "\u001b[0;32m/usr/local/lib/python3.6/dist-packages/pexpect/spawnbase.py\u001b[0m in \u001b[0;36mexpect_list\u001b[0;34m(self, pattern_list, timeout, searchwindowsize, async_, **kw)\u001b[0m\n\u001b[1;32m    370\u001b[0m             \u001b[0;32mreturn\u001b[0m \u001b[0mexpect_async\u001b[0m\u001b[0;34m(\u001b[0m\u001b[0mexp\u001b[0m\u001b[0;34m,\u001b[0m \u001b[0mtimeout\u001b[0m\u001b[0;34m)\u001b[0m\u001b[0;34m\u001b[0m\u001b[0;34m\u001b[0m\u001b[0m\n\u001b[1;32m    371\u001b[0m         \u001b[0;32melse\u001b[0m\u001b[0;34m:\u001b[0m\u001b[0;34m\u001b[0m\u001b[0;34m\u001b[0m\u001b[0m\n\u001b[0;32m--> 372\u001b[0;31m             \u001b[0;32mreturn\u001b[0m \u001b[0mexp\u001b[0m\u001b[0;34m.\u001b[0m\u001b[0mexpect_loop\u001b[0m\u001b[0;34m(\u001b[0m\u001b[0mtimeout\u001b[0m\u001b[0;34m)\u001b[0m\u001b[0;34m\u001b[0m\u001b[0;34m\u001b[0m\u001b[0m\n\u001b[0m\u001b[1;32m    373\u001b[0m \u001b[0;34m\u001b[0m\u001b[0m\n\u001b[1;32m    374\u001b[0m     def expect_exact(self, pattern_list, timeout=-1, searchwindowsize=-1,\n",
            "\u001b[0;32m/usr/local/lib/python3.6/dist-packages/pexpect/expect.py\u001b[0m in \u001b[0;36mexpect_loop\u001b[0;34m(self, timeout)\u001b[0m\n\u001b[1;32m    179\u001b[0m             \u001b[0;32mreturn\u001b[0m \u001b[0mself\u001b[0m\u001b[0;34m.\u001b[0m\u001b[0meof\u001b[0m\u001b[0;34m(\u001b[0m\u001b[0me\u001b[0m\u001b[0;34m)\u001b[0m\u001b[0;34m\u001b[0m\u001b[0;34m\u001b[0m\u001b[0m\n\u001b[1;32m    180\u001b[0m         \u001b[0;32mexcept\u001b[0m \u001b[0mTIMEOUT\u001b[0m \u001b[0;32mas\u001b[0m \u001b[0me\u001b[0m\u001b[0;34m:\u001b[0m\u001b[0;34m\u001b[0m\u001b[0;34m\u001b[0m\u001b[0m\n\u001b[0;32m--> 181\u001b[0;31m             \u001b[0;32mreturn\u001b[0m \u001b[0mself\u001b[0m\u001b[0;34m.\u001b[0m\u001b[0mtimeout\u001b[0m\u001b[0;34m(\u001b[0m\u001b[0me\u001b[0m\u001b[0;34m)\u001b[0m\u001b[0;34m\u001b[0m\u001b[0;34m\u001b[0m\u001b[0m\n\u001b[0m\u001b[1;32m    182\u001b[0m         \u001b[0;32mexcept\u001b[0m\u001b[0;34m:\u001b[0m\u001b[0;34m\u001b[0m\u001b[0;34m\u001b[0m\u001b[0m\n\u001b[1;32m    183\u001b[0m             \u001b[0mself\u001b[0m\u001b[0;34m.\u001b[0m\u001b[0merrored\u001b[0m\u001b[0;34m(\u001b[0m\u001b[0;34m)\u001b[0m\u001b[0;34m\u001b[0m\u001b[0;34m\u001b[0m\u001b[0m\n",
            "\u001b[0;32m/usr/local/lib/python3.6/dist-packages/pexpect/expect.py\u001b[0m in \u001b[0;36mtimeout\u001b[0;34m(self, err)\u001b[0m\n\u001b[1;32m    142\u001b[0m             \u001b[0mexc\u001b[0m \u001b[0;34m=\u001b[0m \u001b[0mTIMEOUT\u001b[0m\u001b[0;34m(\u001b[0m\u001b[0mmsg\u001b[0m\u001b[0;34m)\u001b[0m\u001b[0;34m\u001b[0m\u001b[0;34m\u001b[0m\u001b[0m\n\u001b[1;32m    143\u001b[0m             \u001b[0mexc\u001b[0m\u001b[0;34m.\u001b[0m\u001b[0m__cause__\u001b[0m \u001b[0;34m=\u001b[0m \u001b[0;32mNone\u001b[0m    \u001b[0;31m# in Python 3.x we can use \"raise exc from None\"\u001b[0m\u001b[0;34m\u001b[0m\u001b[0;34m\u001b[0m\u001b[0m\n\u001b[0;32m--> 144\u001b[0;31m             \u001b[0;32mraise\u001b[0m \u001b[0mexc\u001b[0m\u001b[0;34m\u001b[0m\u001b[0;34m\u001b[0m\u001b[0m\n\u001b[0m\u001b[1;32m    145\u001b[0m \u001b[0;34m\u001b[0m\u001b[0m\n\u001b[1;32m    146\u001b[0m     \u001b[0;32mdef\u001b[0m \u001b[0merrored\u001b[0m\u001b[0;34m(\u001b[0m\u001b[0mself\u001b[0m\u001b[0;34m)\u001b[0m\u001b[0;34m:\u001b[0m\u001b[0;34m\u001b[0m\u001b[0;34m\u001b[0m\u001b[0m\n",
            "\u001b[0;31mTIMEOUT\u001b[0m: <pexpect.popen_spawn.PopenSpawn object at 0x7f80f61334a8>\nsearcher: searcher_re:\n    0: re.compile('google.colab.drive MOUNTED')\n    1: re.compile('root@d820752083d4-065970d57afb466b92ead16c28c0b442: ')\n    2: re.compile('(Go to this URL in a browser: https://.*)$')\n    3: re.compile('Drive File Stream encountered a problem and has stopped')\n    4: re.compile('drive EXITED')\n<pexpect.popen_spawn.PopenSpawn object at 0x7f80f61334a8>\nsearcher: searcher_re:\n    0: re.compile('google.colab.drive MOUNTED')\n    1: re.compile('root@d820752083d4-065970d57afb466b92ead16c28c0b442: ')\n    2: re.compile('(Go to this URL in a browser: https://.*)$')\n    3: re.compile('Drive File Stream encountered a problem and has stopped')\n    4: re.compile('drive EXITED')"
          ]
        }
      ]
    },
    {
      "cell_type": "code",
      "metadata": {
        "id": "_sSzHVSl3-bD",
        "colab_type": "code",
        "colab": {}
      },
      "source": [
        "!pip install autocorrect\n",
        "import pandas as pd\n",
        "import numpy as np\n",
        "import warnings\n",
        "import nltk\n",
        "from textblob import TextBlob\n",
        "from autocorrect import Speller \n",
        "nltk.download('wordnet')"
      ],
      "execution_count": 0,
      "outputs": []
    },
    {
      "cell_type": "markdown",
      "metadata": {
        "id": "FARuLUkuV7T8",
        "colab_type": "text"
      },
      "source": [
        "## Exploratory Data Analysis"
      ]
    },
    {
      "cell_type": "markdown",
      "metadata": {
        "id": "pleklaelV_xO",
        "colab_type": "text"
      },
      "source": [
        "Before we begin working on our data we need to understand the traits of our data which we accomplish using EDA. We see that we have about 260 columns , not all 260 coulms have essential information that contributes to our analysis. Hence we pick out the columns such as case status( Accepted/ Denied) ,Employer, Job title etc. "
      ]
    },
    {
      "cell_type": "code",
      "metadata": {
        "id": "iCiYlOyXHHKJ",
        "colab_type": "code",
        "outputId": "291c0d66-4a01-4c68-e4ed-8c779503c04f",
        "colab": {
          "base_uri": "https://localhost:8080/",
          "height": 71
        }
      },
      "source": [
        "#Read the csv file and stored in file\n",
        "file=pd.read_csv('/content/gdrive/My Drive/H-1B_Disclosure_Data_FY2019.csv')"
      ],
      "execution_count": 0,
      "outputs": [
        {
          "output_type": "stream",
          "text": [
            "/usr/local/lib/python3.6/dist-packages/IPython/core/interactiveshell.py:2718: DtypeWarning: Columns (0,1,2,3,4,5,6,7,8,9,10,11,13,14,19,20,21,22,23,24,25,26,27,28,29,31,32,33,34,35,36,37,38,39,40,41,42,43,45,46,47,48,49,50,51,52,53,54,55,57,58,59,61,64,66,67,68,69,70,71,72,73,76,78,79,80,82,85,87,88,89,90,91,92,93,94,97,98,99,100,101,103,106,108,109,110,111,112,113,114,115,121,122,124,127,129,130,131,132,133,134,135,136,142,143,145,148,150,151,152,153,154,155,156,157,160,162,163,164,166,169,171,172,173,174,175,176,177,178,184,185,187,190,192,193,194,195,196,197,198,199,205,206,208,211,213,214,215,216,217,218,219,220,223,225,226,227,229,232,234,235,236,237,238,239,240,244,246,247,248,250,253,254,255,256,257,258,259) have mixed types.Specify dtype option on import or set low_memory=False.\n",
            "  interactivity=interactivity, compiler=compiler, result=result)\n"
          ],
          "name": "stderr"
        }
      ]
    },
    {
      "cell_type": "code",
      "metadata": {
        "id": "XT6Wmc2-WVo7",
        "colab_type": "code",
        "outputId": "b4ad2891-0a7c-40fd-dae9-843049aeb533",
        "colab": {
          "base_uri": "https://localhost:8080/",
          "height": 34
        }
      },
      "source": [
        "file.shape"
      ],
      "execution_count": 0,
      "outputs": [
        {
          "output_type": "execute_result",
          "data": {
            "text/plain": [
              "(1048548, 260)"
            ]
          },
          "metadata": {
            "tags": []
          },
          "execution_count": 4
        }
      ]
    },
    {
      "cell_type": "code",
      "metadata": {
        "id": "ZxxeAh5SX0Bc",
        "colab_type": "code",
        "outputId": "f45a069b-87f3-4d60-b041-b92d57e6ebbe",
        "colab": {
          "base_uri": "https://localhost:8080/",
          "height": 479
        }
      },
      "source": [
        "cleaned=file[['CASE_NUMBER','CASE_STATUS','CASE_SUBMITTED','DECISION_DATE','VISA_CLASS','JOB_TITLE','SOC_CODE','SOC_TITLE','EMPLOYER_NAME','WAGE_RATE_OF_PAY_FROM_1','WAGE_UNIT_OF_PAY_1']]\n",
        "cleaned.head()"
      ],
      "execution_count": 0,
      "outputs": [
        {
          "output_type": "execute_result",
          "data": {
            "text/html": [
              "<div>\n",
              "<style scoped>\n",
              "    .dataframe tbody tr th:only-of-type {\n",
              "        vertical-align: middle;\n",
              "    }\n",
              "\n",
              "    .dataframe tbody tr th {\n",
              "        vertical-align: top;\n",
              "    }\n",
              "\n",
              "    .dataframe thead th {\n",
              "        text-align: right;\n",
              "    }\n",
              "</style>\n",
              "<table border=\"1\" class=\"dataframe\">\n",
              "  <thead>\n",
              "    <tr style=\"text-align: right;\">\n",
              "      <th></th>\n",
              "      <th>CASE_NUMBER</th>\n",
              "      <th>CASE_STATUS</th>\n",
              "      <th>CASE_SUBMITTED</th>\n",
              "      <th>DECISION_DATE</th>\n",
              "      <th>VISA_CLASS</th>\n",
              "      <th>JOB_TITLE</th>\n",
              "      <th>SOC_CODE</th>\n",
              "      <th>SOC_TITLE</th>\n",
              "      <th>EMPLOYER_NAME</th>\n",
              "      <th>WAGE_RATE_OF_PAY_FROM_1</th>\n",
              "      <th>WAGE_UNIT_OF_PAY_1</th>\n",
              "    </tr>\n",
              "  </thead>\n",
              "  <tbody>\n",
              "    <tr>\n",
              "      <th>0</th>\n",
              "      <td>I-200-16092-327771</td>\n",
              "      <td>WITHDRAWN</td>\n",
              "      <td>4/8/2016</td>\n",
              "      <td>4/30/2019</td>\n",
              "      <td>H-1B</td>\n",
              "      <td>ASSOCIATE CREATIVE DIRECTOR</td>\n",
              "      <td>11-2011</td>\n",
              "      <td>ADVERTISING AND PROMOTIONS MANAGERS</td>\n",
              "      <td>R/GA MEDIA GROUP, INC.</td>\n",
              "      <td>$179,000.00</td>\n",
              "      <td>Year</td>\n",
              "    </tr>\n",
              "    <tr>\n",
              "      <th>1</th>\n",
              "      <td>I-203-17188-450729</td>\n",
              "      <td>WITHDRAWN</td>\n",
              "      <td>7/14/2017</td>\n",
              "      <td>5/13/2019</td>\n",
              "      <td>E-3 Australian</td>\n",
              "      <td>ACCOUNT SUPERVISOR (MOTHER)</td>\n",
              "      <td>11-2011</td>\n",
              "      <td>ADVERTISING AND PROMOTIONS MANAGERS</td>\n",
              "      <td>MOTHER INDUSTRIES LLC</td>\n",
              "      <td>$110,000.00</td>\n",
              "      <td>Year</td>\n",
              "    </tr>\n",
              "    <tr>\n",
              "      <th>2</th>\n",
              "      <td>I-203-17229-572307</td>\n",
              "      <td>WITHDRAWN</td>\n",
              "      <td>8/23/2017</td>\n",
              "      <td>4/30/2019</td>\n",
              "      <td>E-3 Australian</td>\n",
              "      <td>EXECUTIVE CREATIVE DIRECTOR</td>\n",
              "      <td>11-2011</td>\n",
              "      <td>ADVERTISING AND PROMOTIONS MANAGERS</td>\n",
              "      <td>WE ARE UNLIMITED, INC.</td>\n",
              "      <td>$275,000.00</td>\n",
              "      <td>Year</td>\n",
              "    </tr>\n",
              "    <tr>\n",
              "      <th>3</th>\n",
              "      <td>I-203-17356-299648</td>\n",
              "      <td>WITHDRAWN</td>\n",
              "      <td>12/22/2017</td>\n",
              "      <td>8/20/2019</td>\n",
              "      <td>E-3 Australian</td>\n",
              "      <td>PROJECT MANAGEMENT LEAD</td>\n",
              "      <td>11-2011</td>\n",
              "      <td>ADVERTISING AND PROMOTIONS MANAGERS</td>\n",
              "      <td>HELLO ELEPHANT, LLC</td>\n",
              "      <td>$140,000.00</td>\n",
              "      <td>Year</td>\n",
              "    </tr>\n",
              "    <tr>\n",
              "      <th>4</th>\n",
              "      <td>I-203-18008-577576</td>\n",
              "      <td>WITHDRAWN</td>\n",
              "      <td>1/10/2018</td>\n",
              "      <td>4/15/2019</td>\n",
              "      <td>E-3 Australian</td>\n",
              "      <td>CREATIVE DIRECTOR, UX</td>\n",
              "      <td>11-2011</td>\n",
              "      <td>ADVERTISING AND PROMOTIONS MANAGERS</td>\n",
              "      <td>HELLO ELEPHANT, LLC</td>\n",
              "      <td>$180,000.00</td>\n",
              "      <td>Year</td>\n",
              "    </tr>\n",
              "  </tbody>\n",
              "</table>\n",
              "</div>"
            ],
            "text/plain": [
              "          CASE_NUMBER CASE_STATUS  ... WAGE_RATE_OF_PAY_FROM_1 WAGE_UNIT_OF_PAY_1\n",
              "0  I-200-16092-327771   WITHDRAWN  ...             $179,000.00               Year\n",
              "1  I-203-17188-450729   WITHDRAWN  ...             $110,000.00               Year\n",
              "2  I-203-17229-572307   WITHDRAWN  ...             $275,000.00               Year\n",
              "3  I-203-17356-299648   WITHDRAWN  ...             $140,000.00               Year\n",
              "4  I-203-18008-577576   WITHDRAWN  ...             $180,000.00               Year\n",
              "\n",
              "[5 rows x 11 columns]"
            ]
          },
          "metadata": {
            "tags": []
          },
          "execution_count": 5
        }
      ]
    },
    {
      "cell_type": "code",
      "metadata": {
        "id": "BbgGJEB9XpO6",
        "colab_type": "code",
        "outputId": "f9c08197-58dd-4e79-b8c0-299533f72306",
        "colab": {
          "base_uri": "https://localhost:8080/",
          "height": 102
        }
      },
      "source": [
        "cleaned['VISA_CLASS'].value_counts()"
      ],
      "execution_count": 0,
      "outputs": [
        {
          "output_type": "execute_result",
          "data": {
            "text/plain": [
              "H-1B               649083\n",
              "E-3 Australian      13087\n",
              "H-1B1 Singapore      1291\n",
              "H-1B1 Chile          1155\n",
              "Name: VISA_CLASS, dtype: int64"
            ]
          },
          "metadata": {
            "tags": []
          },
          "execution_count": 7
        }
      ]
    },
    {
      "cell_type": "code",
      "metadata": {
        "id": "NLttcaMGZC1l",
        "colab_type": "code",
        "outputId": "73a94a98-74f6-41e0-96af-b99edee04e1b",
        "colab": {
          "base_uri": "https://localhost:8080/",
          "height": 122
        }
      },
      "source": [
        "# Visa class has many categories which are not of use , we require only H1B visa type , hence we drop all records with other visa types\n",
        "cleaned.drop(labels=cleaned[cleaned['VISA_CLASS']!='H-1B'].index , inplace=True)"
      ],
      "execution_count": 0,
      "outputs": [
        {
          "output_type": "stream",
          "text": [
            "/usr/local/lib/python3.6/dist-packages/pandas/core/frame.py:3997: SettingWithCopyWarning: \n",
            "A value is trying to be set on a copy of a slice from a DataFrame\n",
            "\n",
            "See the caveats in the documentation: https://pandas.pydata.org/pandas-docs/stable/user_guide/indexing.html#returning-a-view-versus-a-copy\n",
            "  errors=errors,\n"
          ],
          "name": "stderr"
        }
      ]
    },
    {
      "cell_type": "code",
      "metadata": {
        "id": "qox8ruM-Xff_",
        "colab_type": "code",
        "outputId": "54249dd1-ccb6-46e6-c0ea-0f465da6af59",
        "colab": {
          "base_uri": "https://localhost:8080/",
          "height": 119
        }
      },
      "source": [
        "cleaned['CASE_STATUS'].value_counts()"
      ],
      "execution_count": 0,
      "outputs": [
        {
          "output_type": "execute_result",
          "data": {
            "text/plain": [
              "CERTIFIED              592103\n",
              "CERTIFIED-WITHDRAWN     46946\n",
              "WITHDRAWN               19674\n",
              "DENIED                   5893\n",
              "I-200-19196-496412          1\n",
              "Name: CASE_STATUS, dtype: int64"
            ]
          },
          "metadata": {
            "tags": []
          },
          "execution_count": 8
        }
      ]
    },
    {
      "cell_type": "code",
      "metadata": {
        "id": "7Cz9Kkghr3JP",
        "colab_type": "code",
        "outputId": "1b7c2621-b21c-46d5-b64d-da33d6f2308e",
        "colab": {
          "base_uri": "https://localhost:8080/",
          "height": 666
        }
      },
      "source": [
        "#As we want to only need accepted and denied cases we are dropping withdrawn from the data frame. \n",
        "#Case status of class certified-withdraw were certified earlier and later withdraw which can be considered a\n",
        "cleaned.replace({\"CASE_STATUS\":\"CERTIFIED-WITHDRAWN\"},\"CERTIFIED\",inplace=True)\n",
        "cleaned.drop(labels=cleaned[cleaned['CASE_STATUS']=='WITHDRAWN'].index , inplace=True)\n",
        "cleaned.head()"
      ],
      "execution_count": 0,
      "outputs": [
        {
          "output_type": "stream",
          "text": [
            "/usr/local/lib/python3.6/dist-packages/pandas/core/frame.py:4172: SettingWithCopyWarning: \n",
            "A value is trying to be set on a copy of a slice from a DataFrame\n",
            "\n",
            "See the caveats in the documentation: https://pandas.pydata.org/pandas-docs/stable/user_guide/indexing.html#returning-a-view-versus-a-copy\n",
            "  method=method,\n",
            "/usr/local/lib/python3.6/dist-packages/pandas/core/frame.py:3997: SettingWithCopyWarning: \n",
            "A value is trying to be set on a copy of a slice from a DataFrame\n",
            "\n",
            "See the caveats in the documentation: https://pandas.pydata.org/pandas-docs/stable/user_guide/indexing.html#returning-a-view-versus-a-copy\n",
            "  errors=errors,\n"
          ],
          "name": "stderr"
        },
        {
          "output_type": "execute_result",
          "data": {
            "text/html": [
              "<div>\n",
              "<style scoped>\n",
              "    .dataframe tbody tr th:only-of-type {\n",
              "        vertical-align: middle;\n",
              "    }\n",
              "\n",
              "    .dataframe tbody tr th {\n",
              "        vertical-align: top;\n",
              "    }\n",
              "\n",
              "    .dataframe thead th {\n",
              "        text-align: right;\n",
              "    }\n",
              "</style>\n",
              "<table border=\"1\" class=\"dataframe\">\n",
              "  <thead>\n",
              "    <tr style=\"text-align: right;\">\n",
              "      <th></th>\n",
              "      <th>CASE_NUMBER</th>\n",
              "      <th>CASE_STATUS</th>\n",
              "      <th>CASE_SUBMITTED</th>\n",
              "      <th>DECISION_DATE</th>\n",
              "      <th>VISA_CLASS</th>\n",
              "      <th>JOB_TITLE</th>\n",
              "      <th>SOC_CODE</th>\n",
              "      <th>SOC_TITLE</th>\n",
              "      <th>EMPLOYER_NAME</th>\n",
              "      <th>WAGE_RATE_OF_PAY_FROM_1</th>\n",
              "      <th>WAGE_UNIT_OF_PAY_1</th>\n",
              "    </tr>\n",
              "  </thead>\n",
              "  <tbody>\n",
              "    <tr>\n",
              "      <th>16</th>\n",
              "      <td>I-203-17048-800372</td>\n",
              "      <td>CERTIFIED</td>\n",
              "      <td>2/17/2017</td>\n",
              "      <td>2/26/2019</td>\n",
              "      <td>E-3 Australian</td>\n",
              "      <td>ASSOCIATE EXPERIENCE DIRECTOR</td>\n",
              "      <td>11-2011</td>\n",
              "      <td>ADVERTISING AND PROMOTIONS MANAGERS</td>\n",
              "      <td>HUGE, LLC</td>\n",
              "      <td>$147,000.00</td>\n",
              "      <td>Year</td>\n",
              "    </tr>\n",
              "    <tr>\n",
              "      <th>17</th>\n",
              "      <td>I-203-17118-231630</td>\n",
              "      <td>CERTIFIED</td>\n",
              "      <td>5/17/2017</td>\n",
              "      <td>1/7/2019</td>\n",
              "      <td>E-3 Australian</td>\n",
              "      <td>ASSOCIATE CREATIVE DIRECTOR</td>\n",
              "      <td>11-2011</td>\n",
              "      <td>ADVERTISING AND PROMOTIONS MANAGERS</td>\n",
              "      <td>R/GA MEDIA GROUP, INC.</td>\n",
              "      <td>$150,000.00</td>\n",
              "      <td>Year</td>\n",
              "    </tr>\n",
              "    <tr>\n",
              "      <th>18</th>\n",
              "      <td>I-200-17250-072640</td>\n",
              "      <td>CERTIFIED</td>\n",
              "      <td>9/7/2017</td>\n",
              "      <td>1/7/2019</td>\n",
              "      <td>H-1B</td>\n",
              "      <td>EXECUTIVE DIRECTOR, STRATEGY</td>\n",
              "      <td>11-2011</td>\n",
              "      <td>ADVERTISING AND PROMOTIONS MANAGERS</td>\n",
              "      <td>FIGLIULO &amp; PARTNERS LLC</td>\n",
              "      <td>$230,000.00</td>\n",
              "      <td>Year</td>\n",
              "    </tr>\n",
              "    <tr>\n",
              "      <th>19</th>\n",
              "      <td>I-200-18026-717110</td>\n",
              "      <td>CERTIFIED</td>\n",
              "      <td>1/26/2018</td>\n",
              "      <td>7/5/2019</td>\n",
              "      <td>H-1B</td>\n",
              "      <td>PROJECT OPERATIONS MANAGER</td>\n",
              "      <td>11-2011</td>\n",
              "      <td>ADVERTISING AND PROMOTIONS MANAGERS</td>\n",
              "      <td>INVISIONAPP INC.</td>\n",
              "      <td>$107,000.00</td>\n",
              "      <td>Year</td>\n",
              "    </tr>\n",
              "    <tr>\n",
              "      <th>20</th>\n",
              "      <td>I-203-18052-454057</td>\n",
              "      <td>CERTIFIED</td>\n",
              "      <td>3/5/2018</td>\n",
              "      <td>11/15/2018</td>\n",
              "      <td>E-3 Australian</td>\n",
              "      <td>ACCOUNT DIRECTOR</td>\n",
              "      <td>11-2011</td>\n",
              "      <td>ADVERTISING AND PROMOTIONS MANAGERS</td>\n",
              "      <td>GOODBY, SILVERSTEIN AND PARTNERS, INC.</td>\n",
              "      <td>$127,962.00</td>\n",
              "      <td>Year</td>\n",
              "    </tr>\n",
              "  </tbody>\n",
              "</table>\n",
              "</div>"
            ],
            "text/plain": [
              "           CASE_NUMBER CASE_STATUS  ... WAGE_RATE_OF_PAY_FROM_1 WAGE_UNIT_OF_PAY_1\n",
              "16  I-203-17048-800372   CERTIFIED  ...             $147,000.00               Year\n",
              "17  I-203-17118-231630   CERTIFIED  ...             $150,000.00               Year\n",
              "18  I-200-17250-072640   CERTIFIED  ...             $230,000.00               Year\n",
              "19  I-200-18026-717110   CERTIFIED  ...             $107,000.00               Year\n",
              "20  I-203-18052-454057   CERTIFIED  ...             $127,962.00               Year\n",
              "\n",
              "[5 rows x 11 columns]"
            ]
          },
          "metadata": {
            "tags": []
          },
          "execution_count": 9
        }
      ]
    },
    {
      "cell_type": "code",
      "metadata": {
        "id": "75W7CN49Yvhf",
        "colab_type": "code",
        "outputId": "e96e6fd4-8d40-4d38-f671-7d66b51385fe",
        "colab": {
          "base_uri": "https://localhost:8080/",
          "height": 323
        }
      },
      "source": [
        "cleaned.info()"
      ],
      "execution_count": 0,
      "outputs": [
        {
          "output_type": "stream",
          "text": [
            "<class 'pandas.core.frame.DataFrame'>\n",
            "Int64Index: 1028874 entries, 16 to 1048547\n",
            "Data columns (total 11 columns):\n",
            " #   Column                   Non-Null Count   Dtype \n",
            "---  ------                   --------------   ----- \n",
            " 0   CASE_NUMBER              644941 non-null  object\n",
            " 1   CASE_STATUS              644943 non-null  object\n",
            " 2   CASE_SUBMITTED           644942 non-null  object\n",
            " 3   DECISION_DATE            644942 non-null  object\n",
            " 4   VISA_CLASS               644942 non-null  object\n",
            " 5   JOB_TITLE                644942 non-null  object\n",
            " 6   SOC_CODE                 644938 non-null  object\n",
            " 7   SOC_TITLE                644938 non-null  object\n",
            " 8   EMPLOYER_NAME            644934 non-null  object\n",
            " 9   WAGE_RATE_OF_PAY_FROM_1  644938 non-null  object\n",
            " 10  WAGE_UNIT_OF_PAY_1       644938 non-null  object\n",
            "dtypes: object(11)\n",
            "memory usage: 94.2+ MB\n"
          ],
          "name": "stdout"
        }
      ]
    },
    {
      "cell_type": "code",
      "metadata": {
        "id": "F5SSKy8mVr01",
        "colab_type": "code",
        "outputId": "5711e582-c8a7-473f-df28-859d92fdfa92",
        "colab": {
          "base_uri": "https://localhost:8080/",
          "height": 68
        }
      },
      "source": [
        "#the column wages has a mix of both string and float value types and some record have the symbol '$' which we want to remove\n",
        "cleaned['WAGE_RATE_OF_PAY_FROM_1'].apply(type).value_counts()"
      ],
      "execution_count": 0,
      "outputs": [
        {
          "output_type": "execute_result",
          "data": {
            "text/plain": [
              "<class 'float'>    848828\n",
              "<class 'str'>      180046\n",
              "Name: WAGE_RATE_OF_PAY_FROM_1, dtype: int64"
            ]
          },
          "metadata": {
            "tags": []
          },
          "execution_count": 11
        }
      ]
    },
    {
      "cell_type": "code",
      "metadata": {
        "id": "cDAglVs6XHVB",
        "colab_type": "code",
        "colab": {}
      },
      "source": [
        "def clean_wages(w):\n",
        "    \"\"\" Function to remove '$' symbol and other delimiters from wages column which consistes of str and float type values\n",
        "    if the column entry is string type then remove the symbols else return the column value as it is \n",
        "    \"\"\"\n",
        "    if isinstance(w, str):\n",
        "        return(w.replace('$', '').replace(',', ''))\n",
        "    return(w)"
      ],
      "execution_count": 0,
      "outputs": []
    },
    {
      "cell_type": "code",
      "metadata": {
        "id": "Py3xCbSawIpR",
        "colab_type": "code",
        "outputId": "3f090377-bbf5-4f0c-e8e7-3a2105df8f47",
        "colab": {
          "base_uri": "https://localhost:8080/",
          "height": 462
        }
      },
      "source": [
        "cleaned['WAGES']=cleaned['WAGE_RATE_OF_PAY_FROM_1'].apply(clean_wages).astype('float')\n",
        "cleaned.info()"
      ],
      "execution_count": 0,
      "outputs": [
        {
          "output_type": "stream",
          "text": [
            "<class 'pandas.core.frame.DataFrame'>\n",
            "Int64Index: 1028874 entries, 16 to 1048547\n",
            "Data columns (total 12 columns):\n",
            " #   Column                   Non-Null Count   Dtype  \n",
            "---  ------                   --------------   -----  \n",
            " 0   CASE_NUMBER              644941 non-null  object \n",
            " 1   CASE_STATUS              644943 non-null  object \n",
            " 2   CASE_SUBMITTED           644942 non-null  object \n",
            " 3   DECISION_DATE            644942 non-null  object \n",
            " 4   VISA_CLASS               644942 non-null  object \n",
            " 5   JOB_TITLE                644942 non-null  object \n",
            " 6   SOC_CODE                 644938 non-null  object \n",
            " 7   SOC_TITLE                644938 non-null  object \n",
            " 8   EMPLOYER_NAME            644934 non-null  object \n",
            " 9   WAGE_RATE_OF_PAY_FROM_1  644938 non-null  object \n",
            " 10  WAGE_UNIT_OF_PAY_1       644938 non-null  object \n",
            " 11  WAGES                    644938 non-null  float64\n",
            "dtypes: float64(1), object(11)\n",
            "memory usage: 102.0+ MB\n"
          ],
          "name": "stdout"
        },
        {
          "output_type": "stream",
          "text": [
            "/usr/local/lib/python3.6/dist-packages/ipykernel_launcher.py:1: SettingWithCopyWarning: \n",
            "A value is trying to be set on a copy of a slice from a DataFrame.\n",
            "Try using .loc[row_indexer,col_indexer] = value instead\n",
            "\n",
            "See the caveats in the documentation: https://pandas.pydata.org/pandas-docs/stable/user_guide/indexing.html#returning-a-view-versus-a-copy\n",
            "  \"\"\"Entry point for launching an IPython kernel.\n"
          ],
          "name": "stderr"
        }
      ]
    },
    {
      "cell_type": "code",
      "metadata": {
        "id": "yKCdooZsQ7yD",
        "colab_type": "code",
        "outputId": "682d6490-65d5-40cb-815c-57c6b685b29e",
        "colab": {
          "base_uri": "https://localhost:8080/",
          "height": 119
        }
      },
      "source": [
        "# the wage information that we have available has different unit of pay\n",
        "cleaned['WAGE_UNIT_OF_PAY_1'].value_counts()"
      ],
      "execution_count": 0,
      "outputs": [
        {
          "output_type": "execute_result",
          "data": {
            "text/plain": [
              "Year         601004\n",
              "Hour          43268\n",
              "Month           405\n",
              "Week            133\n",
              "Bi-Weekly       128\n",
              "Name: WAGE_UNIT_OF_PAY_1, dtype: int64"
            ]
          },
          "metadata": {
            "tags": []
          },
          "execution_count": 14
        }
      ]
    },
    {
      "cell_type": "code",
      "metadata": {
        "id": "44hLG2TIZH-v",
        "colab_type": "code",
        "outputId": "f31f597d-53dd-4a0b-bc8d-4ff48536a230",
        "colab": {
          "base_uri": "https://localhost:8080/",
          "height": 233
        }
      },
      "source": [
        "x=cleaned.loc[cleaned['WAGE_UNIT_OF_PAY_1']==\"Month\"]\n",
        "x.head(2)"
      ],
      "execution_count": 0,
      "outputs": [
        {
          "output_type": "execute_result",
          "data": {
            "text/html": [
              "<div>\n",
              "<style scoped>\n",
              "    .dataframe tbody tr th:only-of-type {\n",
              "        vertical-align: middle;\n",
              "    }\n",
              "\n",
              "    .dataframe tbody tr th {\n",
              "        vertical-align: top;\n",
              "    }\n",
              "\n",
              "    .dataframe thead th {\n",
              "        text-align: right;\n",
              "    }\n",
              "</style>\n",
              "<table border=\"1\" class=\"dataframe\">\n",
              "  <thead>\n",
              "    <tr style=\"text-align: right;\">\n",
              "      <th></th>\n",
              "      <th>CASE_NUMBER</th>\n",
              "      <th>CASE_STATUS</th>\n",
              "      <th>CASE_SUBMITTED</th>\n",
              "      <th>DECISION_DATE</th>\n",
              "      <th>VISA_CLASS</th>\n",
              "      <th>JOB_TITLE</th>\n",
              "      <th>SOC_CODE</th>\n",
              "      <th>SOC_TITLE</th>\n",
              "      <th>EMPLOYER_NAME</th>\n",
              "      <th>WAGE_RATE_OF_PAY_FROM_1</th>\n",
              "      <th>WAGE_UNIT_OF_PAY_1</th>\n",
              "      <th>WAGES</th>\n",
              "    </tr>\n",
              "  </thead>\n",
              "  <tbody>\n",
              "    <tr>\n",
              "      <th>110</th>\n",
              "      <td>I-203-19030-554145</td>\n",
              "      <td>DENIED</td>\n",
              "      <td>2/5/2019 22:56</td>\n",
              "      <td>2/8/2019 13:24</td>\n",
              "      <td>E-3 Australian</td>\n",
              "      <td>SENIOR PARTNERSHIPS MANAGER</td>\n",
              "      <td>11-2011</td>\n",
              "      <td>ADVERTISING AND PROMOTIONS MANAGERS</td>\n",
              "      <td>INTREPID US INC</td>\n",
              "      <td>95000</td>\n",
              "      <td>Month</td>\n",
              "      <td>95000.0</td>\n",
              "    </tr>\n",
              "    <tr>\n",
              "      <th>818</th>\n",
              "      <td>I-200-18306-399497</td>\n",
              "      <td>DENIED</td>\n",
              "      <td>11/02/2018 11:37:37</td>\n",
              "      <td>11/05/2018 12:07:42</td>\n",
              "      <td>H-1B</td>\n",
              "      <td>ACCOUNTING &amp; MARKETING MANAGER FOR AFRICA</td>\n",
              "      <td>11-2021</td>\n",
              "      <td>MARKETING MANAGERS</td>\n",
              "      <td>SHOP2SHIP LLC</td>\n",
              "      <td>2000</td>\n",
              "      <td>Month</td>\n",
              "      <td>2000.0</td>\n",
              "    </tr>\n",
              "  </tbody>\n",
              "</table>\n",
              "</div>"
            ],
            "text/plain": [
              "            CASE_NUMBER CASE_STATUS  ... WAGE_UNIT_OF_PAY_1    WAGES\n",
              "110  I-203-19030-554145      DENIED  ...              Month  95000.0\n",
              "818  I-200-18306-399497      DENIED  ...              Month   2000.0\n",
              "\n",
              "[2 rows x 12 columns]"
            ]
          },
          "metadata": {
            "tags": []
          },
          "execution_count": 15
        }
      ]
    },
    {
      "cell_type": "code",
      "metadata": {
        "id": "hCGTUT22Z6Bj",
        "colab_type": "code",
        "outputId": "8dd2b350-840a-457f-a6b8-7cfa54e0aacd",
        "colab": {
          "base_uri": "https://localhost:8080/",
          "height": 445
        }
      },
      "source": [
        "# we convert the different units of pay to the type 'Year'\n",
        "cleaned['WAGES'] = np.where(cleaned['WAGE_UNIT_OF_PAY_1'] == 'Month',cleaned['WAGES'] * 12,cleaned['WAGES'])\n",
        "cleaned['WAGES'] = np.where(cleaned['WAGE_UNIT_OF_PAY_1'] == 'Hour',cleaned['WAGES'] * 2080,cleaned['WAGES']) # 2080=8 hours*5 days* 52 weeks\n",
        "cleaned['WAGES'] = np.where(cleaned['WAGE_UNIT_OF_PAY_1'] == 'Bi-Weekly',cleaned['WAGES'] *26,cleaned['WAGES'])\n",
        "cleaned['WAGES'] = np.where(cleaned['WAGE_UNIT_OF_PAY_1'] == 'Week',cleaned['WAGES'] * 52,cleaned['WAGES'])"
      ],
      "execution_count": 0,
      "outputs": [
        {
          "output_type": "stream",
          "text": [
            "/usr/local/lib/python3.6/dist-packages/ipykernel_launcher.py:1: SettingWithCopyWarning: \n",
            "A value is trying to be set on a copy of a slice from a DataFrame.\n",
            "Try using .loc[row_indexer,col_indexer] = value instead\n",
            "\n",
            "See the caveats in the documentation: https://pandas.pydata.org/pandas-docs/stable/user_guide/indexing.html#returning-a-view-versus-a-copy\n",
            "  \"\"\"Entry point for launching an IPython kernel.\n",
            "/usr/local/lib/python3.6/dist-packages/ipykernel_launcher.py:2: SettingWithCopyWarning: \n",
            "A value is trying to be set on a copy of a slice from a DataFrame.\n",
            "Try using .loc[row_indexer,col_indexer] = value instead\n",
            "\n",
            "See the caveats in the documentation: https://pandas.pydata.org/pandas-docs/stable/user_guide/indexing.html#returning-a-view-versus-a-copy\n",
            "  \n",
            "/usr/local/lib/python3.6/dist-packages/ipykernel_launcher.py:3: SettingWithCopyWarning: \n",
            "A value is trying to be set on a copy of a slice from a DataFrame.\n",
            "Try using .loc[row_indexer,col_indexer] = value instead\n",
            "\n",
            "See the caveats in the documentation: https://pandas.pydata.org/pandas-docs/stable/user_guide/indexing.html#returning-a-view-versus-a-copy\n",
            "  This is separate from the ipykernel package so we can avoid doing imports until\n",
            "/usr/local/lib/python3.6/dist-packages/ipykernel_launcher.py:4: SettingWithCopyWarning: \n",
            "A value is trying to be set on a copy of a slice from a DataFrame.\n",
            "Try using .loc[row_indexer,col_indexer] = value instead\n",
            "\n",
            "See the caveats in the documentation: https://pandas.pydata.org/pandas-docs/stable/user_guide/indexing.html#returning-a-view-versus-a-copy\n",
            "  after removing the cwd from sys.path.\n"
          ],
          "name": "stderr"
        }
      ]
    },
    {
      "cell_type": "code",
      "metadata": {
        "id": "1Q006QHRdl-q",
        "colab_type": "code",
        "outputId": "96f64265-2772-4167-e541-ac6a0b8c59b4",
        "colab": {
          "base_uri": "https://localhost:8080/",
          "height": 122
        }
      },
      "source": [
        "#As we have got the information of Wages and made transformation we can drop the initial two records\n",
        "cleaned.drop(columns=['WAGE_RATE_OF_PAY_FROM_1','WAGE_UNIT_OF_PAY_1'],axis=1,inplace=True)"
      ],
      "execution_count": 0,
      "outputs": [
        {
          "output_type": "stream",
          "text": [
            "/usr/local/lib/python3.6/dist-packages/pandas/core/frame.py:3997: SettingWithCopyWarning: \n",
            "A value is trying to be set on a copy of a slice from a DataFrame\n",
            "\n",
            "See the caveats in the documentation: https://pandas.pydata.org/pandas-docs/stable/user_guide/indexing.html#returning-a-view-versus-a-copy\n",
            "  errors=errors,\n"
          ],
          "name": "stderr"
        }
      ]
    },
    {
      "cell_type": "code",
      "metadata": {
        "id": "lnSktMB3bVM3",
        "colab_type": "code",
        "outputId": "97f4251b-c90e-4d7a-8368-3fa1a937b0d6",
        "colab": {
          "base_uri": "https://localhost:8080/",
          "height": 306
        }
      },
      "source": [
        "cleaned.info()"
      ],
      "execution_count": 0,
      "outputs": [
        {
          "output_type": "stream",
          "text": [
            "<class 'pandas.core.frame.DataFrame'>\n",
            "Int64Index: 1028874 entries, 16 to 1048547\n",
            "Data columns (total 10 columns):\n",
            " #   Column          Non-Null Count   Dtype  \n",
            "---  ------          --------------   -----  \n",
            " 0   CASE_NUMBER     644941 non-null  object \n",
            " 1   CASE_STATUS     644943 non-null  object \n",
            " 2   CASE_SUBMITTED  644942 non-null  object \n",
            " 3   DECISION_DATE   644942 non-null  object \n",
            " 4   VISA_CLASS      644942 non-null  object \n",
            " 5   JOB_TITLE       644942 non-null  object \n",
            " 6   SOC_CODE        644938 non-null  object \n",
            " 7   SOC_TITLE       644938 non-null  object \n",
            " 8   EMPLOYER_NAME   644934 non-null  object \n",
            " 9   WAGES           644938 non-null  float64\n",
            "dtypes: float64(1), object(9)\n",
            "memory usage: 86.3+ MB\n"
          ],
          "name": "stdout"
        }
      ]
    },
    {
      "cell_type": "code",
      "metadata": {
        "id": "RyS7f3eIbcCl",
        "colab_type": "code",
        "outputId": "395d4140-ea53-4914-8788-577abd379ce9",
        "colab": {
          "base_uri": "https://localhost:8080/",
          "height": 51
        }
      },
      "source": [
        "\"\"\"\n",
        "We should remove record that have null objects, from the above cell we see\n",
        "that all columns don't have same number of non-null records\n",
        "which means we have to remove the records that have the null values.\n",
        "we see that there are about 17 records that have null values\n",
        "\"\"\" \n",
        "null_rows = cleaned.isnull().any(axis=1)\n",
        "print(cleaned[null_rows].shape)\n",
        "print(cleaned.shape)"
      ],
      "execution_count": 0,
      "outputs": [
        {
          "output_type": "stream",
          "text": [
            "(383949, 10)\n",
            "(1028874, 10)\n"
          ],
          "name": "stdout"
        }
      ]
    },
    {
      "cell_type": "code",
      "metadata": {
        "id": "keAByWsddXRe",
        "colab_type": "code",
        "outputId": "e95f4c1e-e0ad-41b7-c023-2e9794556bad",
        "colab": {
          "base_uri": "https://localhost:8080/",
          "height": 139
        }
      },
      "source": [
        "cleaned.dropna(inplace=True)\n",
        "print(cleaned.shape)"
      ],
      "execution_count": 0,
      "outputs": [
        {
          "output_type": "stream",
          "text": [
            "(644925, 10)\n"
          ],
          "name": "stdout"
        },
        {
          "output_type": "stream",
          "text": [
            "/usr/local/lib/python3.6/dist-packages/ipykernel_launcher.py:1: SettingWithCopyWarning: \n",
            "A value is trying to be set on a copy of a slice from a DataFrame\n",
            "\n",
            "See the caveats in the documentation: https://pandas.pydata.org/pandas-docs/stable/user_guide/indexing.html#returning-a-view-versus-a-copy\n",
            "  \"\"\"Entry point for launching an IPython kernel.\n"
          ],
          "name": "stderr"
        }
      ]
    },
    {
      "cell_type": "code",
      "metadata": {
        "id": "9Aa-4cFWnW6s",
        "colab_type": "code",
        "outputId": "11509005-b888-4c1e-80b5-2640bb48ce1b",
        "colab": {
          "base_uri": "https://localhost:8080/",
          "height": 221
        }
      },
      "source": [
        "cleaned['JOB_TITLE'].value_counts()"
      ],
      "execution_count": 0,
      "outputs": [
        {
          "output_type": "execute_result",
          "data": {
            "text/plain": [
              "SOFTWARE ENGINEER                         33574\n",
              "SOFTWARE DEVELOPER                        33155\n",
              "SENIOR SYSTEMS ANALYST JC60               12770\n",
              "SENIOR SOFTWARE ENGINEER                   8285\n",
              "MANAGER JC50                               8134\n",
              "                                          ...  \n",
              "SR BUSINESS ARCHITECT (SOC 15-1199.02)        1\n",
              "TEST ENGINEER 1615.46631                      1\n",
              "SENIOR ASSOCIATE II, QUALITY ASSURANCE        1\n",
              "IT TRAINING & BUSINESS MANAGER                1\n",
              "FRONT END UI   DEVELOPER                      1\n",
              "Name: JOB_TITLE, Length: 112793, dtype: int64"
            ]
          },
          "metadata": {
            "tags": []
          },
          "execution_count": 21
        }
      ]
    },
    {
      "cell_type": "code",
      "metadata": {
        "id": "bwgV1bu5sXlE",
        "colab_type": "code",
        "outputId": "5cbe1e78-c816-4fa0-d442-fc5873ebd49a",
        "colab": {
          "base_uri": "https://localhost:8080/",
          "height": 649
        }
      },
      "source": [
        "#we see that the job title has integers(words with integers also) \n",
        "#removing comma also\n",
        "def remove_num(text):\n",
        "  if not any(c.isdigit() for c in text):\n",
        "    return text\n",
        "  return ''\n",
        "cleaned['JOB_TITLE']=cleaned.JOB_TITLE.apply(lambda txt: \" \".join([remove_num(i) for i in txt.lower().split()]))\n",
        "cleaned['JOB_TITLE']=cleaned['JOB_TITLE'].str.replace(',', '')\n",
        "cleaned['SOC_TITLE']=cleaned.SOC_TITLE.apply(lambda txt: \" \".join([remove_num(i) for i in txt.lower().split()]))\n",
        "cleaned['SOC_TITLE']=cleaned['SOC_TITLE'].str.replace(',', '')\n",
        "\n",
        "cleaned.head()\n",
        "cleaned['JOB_TITLE'].value_counts()"
      ],
      "execution_count": 0,
      "outputs": [
        {
          "output_type": "stream",
          "text": [
            "/usr/local/lib/python3.6/dist-packages/ipykernel_launcher.py:5: SettingWithCopyWarning: \n",
            "A value is trying to be set on a copy of a slice from a DataFrame.\n",
            "Try using .loc[row_indexer,col_indexer] = value instead\n",
            "\n",
            "See the caveats in the documentation: https://pandas.pydata.org/pandas-docs/stable/user_guide/indexing.html#returning-a-view-versus-a-copy\n",
            "  \"\"\"\n",
            "/usr/local/lib/python3.6/dist-packages/ipykernel_launcher.py:6: SettingWithCopyWarning: \n",
            "A value is trying to be set on a copy of a slice from a DataFrame.\n",
            "Try using .loc[row_indexer,col_indexer] = value instead\n",
            "\n",
            "See the caveats in the documentation: https://pandas.pydata.org/pandas-docs/stable/user_guide/indexing.html#returning-a-view-versus-a-copy\n",
            "  \n",
            "/usr/local/lib/python3.6/dist-packages/ipykernel_launcher.py:7: SettingWithCopyWarning: \n",
            "A value is trying to be set on a copy of a slice from a DataFrame.\n",
            "Try using .loc[row_indexer,col_indexer] = value instead\n",
            "\n",
            "See the caveats in the documentation: https://pandas.pydata.org/pandas-docs/stable/user_guide/indexing.html#returning-a-view-versus-a-copy\n",
            "  import sys\n",
            "/usr/local/lib/python3.6/dist-packages/ipykernel_launcher.py:8: SettingWithCopyWarning: \n",
            "A value is trying to be set on a copy of a slice from a DataFrame.\n",
            "Try using .loc[row_indexer,col_indexer] = value instead\n",
            "\n",
            "See the caveats in the documentation: https://pandas.pydata.org/pandas-docs/stable/user_guide/indexing.html#returning-a-view-versus-a-copy\n",
            "  \n"
          ],
          "name": "stderr"
        },
        {
          "output_type": "execute_result",
          "data": {
            "text/plain": [
              "software engineer              33767\n",
              "software developer             33244\n",
              "senior systems analyst         12771\n",
              "senior software engineer        8300\n",
              "manager                         8143\n",
              "                               ...  \n",
              "unix systems adminitrator          1\n",
              "quality scientist iii              1\n",
              "pediatrician/neonatologist         1\n",
              "clinical programmer/analyst        1\n",
              "systems engineer (ms iis)          1\n",
              "Name: JOB_TITLE, Length: 100583, dtype: int64"
            ]
          },
          "metadata": {
            "tags": []
          },
          "execution_count": 22
        }
      ]
    },
    {
      "cell_type": "code",
      "metadata": {
        "id": "15py5C4RfXIj",
        "colab_type": "code",
        "outputId": "3417e09d-9ab1-4753-cfe7-d60443ec8602",
        "colab": {
          "base_uri": "https://localhost:8080/",
          "height": 68
        }
      },
      "source": [
        "#code to clean and group the JOB_TITLE COLUMN\n",
        "# lemmatization and spell check function\n",
        "nltk.download('words')\n",
        "lemmatizer = nltk.stem.WordNetLemmatizer()\n",
        "words = set(nltk.corpus.words.words())\n",
        "spell = Speller()\n",
        "\n",
        "\n",
        "def lemmatize_text(text):\n",
        "  return lemmatizer.lemmatize(text)\n",
        "\n",
        "def spelling_checker(text):\n",
        "  return spell(text)\n",
        " \n",
        "print(spelling_checker(\"computr sciece progam check\"))"
      ],
      "execution_count": 0,
      "outputs": [
        {
          "output_type": "stream",
          "text": [
            "[nltk_data] Downloading package words to /root/nltk_data...\n",
            "[nltk_data]   Unzipping corpora/words.zip.\n",
            "computer science program check\n"
          ],
          "name": "stdout"
        }
      ]
    },
    {
      "cell_type": "code",
      "metadata": {
        "id": "47-lIQIifvvr",
        "colab_type": "code",
        "outputId": "5cfa9e64-9cbd-4e19-e4e4-fdb81f87c569",
        "colab": {
          "base_uri": "https://localhost:8080/",
          "height": 683
        }
      },
      "source": [
        "#this part takes more time because spell_checker \n",
        "cleaned['JOB_TITLE']=cleaned.JOB_TITLE.apply(lambda txt: \" \".join([lemmatize_text(i) for i in txt.lower().split()]))\n",
        "print(' after lemmatization')\n",
        "print(cleaned['JOB_TITLE'].value_counts() )\n",
        "cleaned['JOB_TITLE']=cleaned.JOB_TITLE.apply(lambda txt: \" \".join([spelling_checker(i) for i in txt.lower().split()]))\n",
        "print('after spell correction')\n",
        "#cleaned['JOB_TITLE']=cleaned.JOB_TITLE.apply(lambda txt: \" \".join([remove_text(i) for i in txt.lower().split()]))\n",
        "cleaned['JOB_TITLE'].value_counts() "
      ],
      "execution_count": 0,
      "outputs": [
        {
          "output_type": "stream",
          "text": [
            "/usr/local/lib/python3.6/dist-packages/ipykernel_launcher.py:1: SettingWithCopyWarning: \n",
            "A value is trying to be set on a copy of a slice from a DataFrame.\n",
            "Try using .loc[row_indexer,col_indexer] = value instead\n",
            "\n",
            "See the caveats in the documentation: https://pandas.pydata.org/pandas-docs/stable/user_guide/indexing.html#returning-a-view-versus-a-copy\n",
            "  \"\"\"Entry point for launching an IPython kernel.\n"
          ],
          "name": "stderr"
        },
        {
          "output_type": "stream",
          "text": [
            " after lemmatization\n",
            "software engineer                                        41171\n",
            "software developer                                       33458\n",
            "senior system analyst                                    13312\n",
            "manager                                                   9703\n",
            "senior software engineer                                  8448\n",
            "                                                         ...  \n",
            "analyst sec reporting / technical accounting                 1\n",
            "engineer network                                             1\n",
            "principal it project management                              1\n",
            "global business process leader - product configurator        1\n",
            "sr. front end (fe) engineer                                  1\n",
            "Name: JOB_TITLE, Length: 97053, dtype: int64\n",
            "after spell correction\n"
          ],
          "name": "stdout"
        },
        {
          "output_type": "stream",
          "text": [
            "/usr/local/lib/python3.6/dist-packages/ipykernel_launcher.py:4: SettingWithCopyWarning: \n",
            "A value is trying to be set on a copy of a slice from a DataFrame.\n",
            "Try using .loc[row_indexer,col_indexer] = value instead\n",
            "\n",
            "See the caveats in the documentation: https://pandas.pydata.org/pandas-docs/stable/user_guide/indexing.html#returning-a-view-versus-a-copy\n",
            "  after removing the cwd from sys.path.\n"
          ],
          "name": "stderr"
        },
        {
          "output_type": "execute_result",
          "data": {
            "text/plain": [
              "software engineer                                             41214\n",
              "software developer                                            33511\n",
              "senior system analyst                                         13312\n",
              "manager                                                        9703\n",
              "senior software engineer                                       8460\n",
              "                                                              ...  \n",
              "industrials analyst                                               1\n",
              "engineer principal project                                        1\n",
              "technical service associate                                       1\n",
              "strategic finance associate                                       1\n",
              "sr. market research analyst (analytics & strategy manager)        1\n",
              "Name: JOB_TITLE, Length: 96179, dtype: int64"
            ]
          },
          "metadata": {
            "tags": []
          },
          "execution_count": 25
        }
      ]
    },
    {
      "cell_type": "code",
      "metadata": {
        "id": "mJ5_vNcIIW3A",
        "colab_type": "code",
        "outputId": "f7d719f4-7ffd-460b-98bf-e93428cc02de",
        "colab": {
          "base_uri": "https://localhost:8080/",
          "height": 445
        }
      },
      "source": [
        "#clean SOC TITLE\n",
        "cleaned['SOC_TITLE']=cleaned.SOC_TITLE.apply(lambda txt: \" \".join([lemmatize_text(i) for i in txt.lower().split()]))\n",
        "cleaned['SOC_TITLE']=cleaned.SOC_TITLE.apply(lambda txt: \" \".join([spelling_checker(i) for i in txt.lower().split()]))\n",
        "cleaned['SOC_TITLE'].value_counts() "
      ],
      "execution_count": 0,
      "outputs": [
        {
          "output_type": "stream",
          "text": [
            "/usr/local/lib/python3.6/dist-packages/ipykernel_launcher.py:1: SettingWithCopyWarning: \n",
            "A value is trying to be set on a copy of a slice from a DataFrame.\n",
            "Try using .loc[row_indexer,col_indexer] = value instead\n",
            "\n",
            "See the caveats in the documentation: https://pandas.pydata.org/pandas-docs/stable/user_guide/indexing.html#returning-a-view-versus-a-copy\n",
            "  \"\"\"Entry point for launching an IPython kernel.\n",
            "/usr/local/lib/python3.6/dist-packages/ipykernel_launcher.py:2: SettingWithCopyWarning: \n",
            "A value is trying to be set on a copy of a slice from a DataFrame.\n",
            "Try using .loc[row_indexer,col_indexer] = value instead\n",
            "\n",
            "See the caveats in the documentation: https://pandas.pydata.org/pandas-docs/stable/user_guide/indexing.html#returning-a-view-versus-a-copy\n",
            "  \n"
          ],
          "name": "stderr"
        },
        {
          "output_type": "execute_result",
          "data": {
            "text/plain": [
              "software developer application                    210295\n",
              "computer system analyst                            71524\n",
              "computer occupation all other                      54961\n",
              "software developer system software                 30909\n",
              "computer programmer                                16662\n",
              "                                                   ...  \n",
              "food watchmakers                                       1\n",
              "accountant and auditors                                1\n",
              "regulatory affair specialists                          1\n",
              "property real estate manager                           1\n",
              "sawing machine setter operator and tender wood         1\n",
              "Name: SOC_TITLE, Length: 776, dtype: int64"
            ]
          },
          "metadata": {
            "tags": []
          },
          "execution_count": 26
        }
      ]
    },
    {
      "cell_type": "code",
      "metadata": {
        "id": "fNjXyrLzntEN",
        "colab_type": "code",
        "outputId": "0510f664-f72e-42b5-8942-c871dbdee56e",
        "colab": {
          "base_uri": "https://localhost:8080/",
          "height": 482
        }
      },
      "source": [
        "grouped_wages=cleaned.groupby('JOB_TITLE', as_index=False).agg({'WAGES':'mean'})\n",
        "op=grouped_wages.sort_values(by=['WAGES'],ascending=False)\n",
        "#X=op.loc[op['JOB_TITLE']=='software engineer']\n",
        "display(op)\n",
        "display(X)"
      ],
      "execution_count": 0,
      "outputs": [
        {
          "output_type": "display_data",
          "data": {
            "text/html": [
              "<div>\n",
              "<style scoped>\n",
              "    .dataframe tbody tr th:only-of-type {\n",
              "        vertical-align: middle;\n",
              "    }\n",
              "\n",
              "    .dataframe tbody tr th {\n",
              "        vertical-align: top;\n",
              "    }\n",
              "\n",
              "    .dataframe thead th {\n",
              "        text-align: right;\n",
              "    }\n",
              "</style>\n",
              "<table border=\"1\" class=\"dataframe\">\n",
              "  <thead>\n",
              "    <tr style=\"text-align: right;\">\n",
              "      <th></th>\n",
              "      <th>JOB_TITLE</th>\n",
              "      <th>WAGES</th>\n",
              "    </tr>\n",
              "  </thead>\n",
              "  <tbody>\n",
              "    <tr>\n",
              "      <th>65553</th>\n",
              "      <td>senior application engineer - power management</td>\n",
              "      <td>9.884750e+07</td>\n",
              "    </tr>\n",
              "    <tr>\n",
              "      <th>48524</th>\n",
              "      <td>nurse practitioner (licensed)</td>\n",
              "      <td>9.778095e+07</td>\n",
              "    </tr>\n",
              "    <tr>\n",
              "      <th>80803</th>\n",
              "      <td>specialist web developer</td>\n",
              "      <td>7.406071e+07</td>\n",
              "    </tr>\n",
              "    <tr>\n",
              "      <th>12942</th>\n",
              "      <td>business intelligence associate</td>\n",
              "      <td>3.439664e+07</td>\n",
              "    </tr>\n",
              "    <tr>\n",
              "      <th>49111</th>\n",
              "      <td>operation professional</td>\n",
              "      <td>2.776000e+07</td>\n",
              "    </tr>\n",
              "    <tr>\n",
              "      <th>...</th>\n",
              "      <td>...</td>\n",
              "      <td>...</td>\n",
              "    </tr>\n",
              "    <tr>\n",
              "      <th>18627</th>\n",
              "      <td>customer service all task &amp; duty of a nail salon</td>\n",
              "      <td>1.820000e+04</td>\n",
              "    </tr>\n",
              "    <tr>\n",
              "      <th>25223</th>\n",
              "      <td>early education classroom assistant</td>\n",
              "      <td>1.768000e+04</td>\n",
              "    </tr>\n",
              "    <tr>\n",
              "      <th>92168</th>\n",
              "      <td>track and field coach</td>\n",
              "      <td>1.704000e+04</td>\n",
              "    </tr>\n",
              "    <tr>\n",
              "      <th>41568</th>\n",
              "      <td>live streaming service</td>\n",
              "      <td>1.700000e+04</td>\n",
              "    </tr>\n",
              "    <tr>\n",
              "      <th>33575</th>\n",
              "      <td>home health &amp; personal care aide</td>\n",
              "      <td>1.591200e+04</td>\n",
              "    </tr>\n",
              "  </tbody>\n",
              "</table>\n",
              "<p>96179 rows × 2 columns</p>\n",
              "</div>"
            ],
            "text/plain": [
              "                                              JOB_TITLE         WAGES\n",
              "65553    senior application engineer - power management  9.884750e+07\n",
              "48524                     nurse practitioner (licensed)  9.778095e+07\n",
              "80803                          specialist web developer  7.406071e+07\n",
              "12942                   business intelligence associate  3.439664e+07\n",
              "49111                            operation professional  2.776000e+07\n",
              "...                                                 ...           ...\n",
              "18627  customer service all task & duty of a nail salon  1.820000e+04\n",
              "25223               early education classroom assistant  1.768000e+04\n",
              "92168                             track and field coach  1.704000e+04\n",
              "41568                            live streaming service  1.700000e+04\n",
              "33575                  home health & personal care aide  1.591200e+04\n",
              "\n",
              "[96179 rows x 2 columns]"
            ]
          },
          "metadata": {
            "tags": []
          }
        },
        {
          "output_type": "display_data",
          "data": {
            "text/html": [
              "<div>\n",
              "<style scoped>\n",
              "    .dataframe tbody tr th:only-of-type {\n",
              "        vertical-align: middle;\n",
              "    }\n",
              "\n",
              "    .dataframe tbody tr th {\n",
              "        vertical-align: top;\n",
              "    }\n",
              "\n",
              "    .dataframe thead th {\n",
              "        text-align: right;\n",
              "    }\n",
              "</style>\n",
              "<table border=\"1\" class=\"dataframe\">\n",
              "  <thead>\n",
              "    <tr style=\"text-align: right;\">\n",
              "      <th></th>\n",
              "      <th>JOB_TITLE</th>\n",
              "      <th>WAGES</th>\n",
              "    </tr>\n",
              "  </thead>\n",
              "  <tbody>\n",
              "    <tr>\n",
              "      <th>78215</th>\n",
              "      <td>software engineer</td>\n",
              "      <td>131035.528326</td>\n",
              "    </tr>\n",
              "  </tbody>\n",
              "</table>\n",
              "</div>"
            ],
            "text/plain": [
              "               JOB_TITLE          WAGES\n",
              "78215  software engineer  131035.528326"
            ]
          },
          "metadata": {
            "tags": []
          }
        }
      ]
    },
    {
      "cell_type": "code",
      "metadata": {
        "id": "MU8xjr98qbJG",
        "colab_type": "code",
        "colab": {}
      },
      "source": [
        "\n"
      ],
      "execution_count": 0,
      "outputs": []
    }
  ]
}