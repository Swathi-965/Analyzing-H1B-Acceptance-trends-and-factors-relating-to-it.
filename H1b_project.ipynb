{
 "cells": [
  {
   "cell_type": "markdown",
   "metadata": {
    "colab_type": "text",
    "id": "RFnPSdxLC6em"
   },
   "source": [
    "# Analysing H1B Acceptance Trends "
   ]
  },
  {
   "cell_type": "markdown",
   "metadata": {
    "colab_type": "text",
    "id": "Uh8CJdwBJOAL"
   },
   "source": [
    "H1B visa is a nonimmigrant visa issued to gradute level workers which allows them to work in the United States. The employer sponsors the H1B visa for workers with theoretical or technical expertise in specialized fields such as in IT, finance, accounting etc. An interesting fact about immigrant workers is that about 52 percent of new Silicon valley companies were founded by such workers during 1995 and 2005. Some famous CEOs like Indira Nooyi (Pepsico), Elon Musk (Tesla), Sundar Pichai (Google),Satya Nadella (Microsoft) once arrived to the US on a H1B visa."
   ]
  },
  {
   "cell_type": "markdown",
   "metadata": {
    "colab_type": "text",
    "id": "QIe1lq1-RyDV"
   },
   "source": [
    "**Motivation**: Our team consists of five international gradute students, in the future we will be applying for H1B visa. The visa application process seems very long, complicated and uncertain. So we decided to understand this process and use Machine learning algorithms to predict the acceptance rate and trends of H1B visa. "
   ]
  },
  {
   "cell_type": "markdown",
   "metadata": {
    "colab_type": "text",
    "id": "kjQ8YI2GTfb6"
   },
   "source": [
    "## Data \n",
    "The data used in the project has been collected from <a href=\"https://www.foreignlaborcert.doleta.gov/performancedata.cfm\">the Office of Foreign Labor Certification (OFLC).</a> "
   ]
  },
  {
   "cell_type": "code",
   "execution_count": 120,
   "metadata": {
    "colab": {
     "base_uri": "https://localhost:8080/",
     "height": 54
    },
    "colab_type": "code",
    "id": "eUglaNmlQ44L",
    "outputId": "d1ef0b1d-10b3-4056-8378-1745d91b1c91"
   },
   "outputs": [
    {
     "name": "stdout",
     "output_type": "stream",
     "text": [
      "Drive already mounted at /content/gdrive; to attempt to forcibly remount, call drive.mount(\"/content/gdrive\", force_remount=True).\n"
     ]
    }
   ],
   "source": [
    "from google.colab import drive\n",
    "drive.mount('/content/gdrive')"
   ]
  },
  {
   "cell_type": "code",
   "execution_count": 121,
   "metadata": {
    "colab": {
     "base_uri": "https://localhost:8080/",
     "height": 85
    },
    "colab_type": "code",
    "id": "_sSzHVSl3-bD",
    "outputId": "e7d2985a-7e9f-40ab-cf0c-6da09777e89d"
   },
   "outputs": [
    {
     "name": "stdout",
     "output_type": "stream",
     "text": [
      "Requirement already satisfied: autocorrect in /usr/local/lib/python3.6/dist-packages (1.1.0)\n",
      "[nltk_data] Downloading package wordnet to /root/nltk_data...\n",
      "[nltk_data]   Package wordnet is already up-to-date!\n"
     ]
    },
    {
     "data": {
      "text/plain": [
       "True"
      ]
     },
     "execution_count": 121,
     "metadata": {
      "tags": []
     },
     "output_type": "execute_result"
    }
   ],
   "source": [
    "!pip install autocorrect\n",
    "import pandas as pd\n",
    "import numpy as np\n",
    "import warnings\n",
    "import nltk\n",
    "from textblob import TextBlob\n",
    "from autocorrect import Speller \n",
    "nltk.download('wordnet')"
   ]
  },
  {
   "cell_type": "markdown",
   "metadata": {
    "colab_type": "text",
    "id": "FARuLUkuV7T8"
   },
   "source": [
    "## Exploratory Data Analysis"
   ]
  },
  {
   "cell_type": "markdown",
   "metadata": {
    "colab_type": "text",
    "id": "pleklaelV_xO"
   },
   "source": [
    "Before we begin working on our data we need to understand the traits of our data which we accomplish using EDA. We see that we have about 260 columns , not all 260 coulms have essential information that contributes to our analysis. Hence we pick out the columns such as case status( Accepted/ Denied) ,Employer, Job title etc. "
   ]
  },
  {
   "cell_type": "code",
   "execution_count": 122,
   "metadata": {
    "colab": {
     "base_uri": "https://localhost:8080/",
     "height": 71
    },
    "colab_type": "code",
    "id": "iCiYlOyXHHKJ",
    "outputId": "c4395d86-fc2c-4d3e-bda8-a5571fa7cde0"
   },
   "outputs": [
    {
     "name": "stderr",
     "output_type": "stream",
     "text": [
      "/usr/local/lib/python3.6/dist-packages/IPython/core/interactiveshell.py:2718: DtypeWarning: Columns (0,1,2,3,4,5,6,7,8,9,10,11,13,14,19,20,21,22,23,24,25,26,27,28,29,31,32,33,34,35,36,37,38,39,40,41,42,43,45,46,47,48,49,50,51,52,53,54,55,57,58,59,61,64,66,67,68,69,70,71,72,73,76,78,79,80,82,85,87,88,89,90,91,92,93,94,97,98,99,100,101,103,106,108,109,110,111,112,113,114,115,121,122,124,127,129,130,131,132,133,134,135,136,142,143,145,148,150,151,152,153,154,155,156,157,160,162,163,164,166,169,171,172,173,174,175,176,177,178,184,185,187,190,192,193,194,195,196,197,198,199,205,206,208,211,213,214,215,216,217,218,219,220,223,225,226,227,229,232,234,235,236,237,238,239,240,244,246,247,248,250,253,254,255,256,257,258,259) have mixed types.Specify dtype option on import or set low_memory=False.\n",
      "  interactivity=interactivity, compiler=compiler, result=result)\n"
     ]
    }
   ],
   "source": [
    "#Read the csv file and stored in file\n",
    "file=pd.read_csv('/content/gdrive/My Drive/H-1B_Disclosure_Data_FY2019.csv')"
   ]
  },
  {
   "cell_type": "code",
   "execution_count": 123,
   "metadata": {
    "colab": {
     "base_uri": "https://localhost:8080/",
     "height": 34
    },
    "colab_type": "code",
    "id": "XT6Wmc2-WVo7",
    "outputId": "b881bc3f-b72f-403d-c362-c068ce14e88b"
   },
   "outputs": [
    {
<<<<<<< HEAD
      "cell_type": "code",
      "metadata": {
        "id": "eUglaNmlQ44L",
        "colab_type": "code",
        "outputId": "87b76efe-80fa-442d-e645-f013319ecfb5",
        "colab": {
          "base_uri": "https://localhost:8080/",
          "height": 122
        }
      },
      "source": [
        "from google.colab import drive\n",
        "drive.mount('/content/gdrive')"
      ],
      "execution_count": 1,
      "outputs": [
        {
          "output_type": "stream",
          "text": [
            "Go to this URL in a browser: https://accounts.google.com/o/oauth2/auth?client_id=947318989803-6bn6qk8qdgf4n4g3pfee6491hc0brc4i.apps.googleusercontent.com&redirect_uri=urn%3aietf%3awg%3aoauth%3a2.0%3aoob&response_type=code&scope=email%20https%3a%2f%2fwww.googleapis.com%2fauth%2fdocs.test%20https%3a%2f%2fwww.googleapis.com%2fauth%2fdrive%20https%3a%2f%2fwww.googleapis.com%2fauth%2fdrive.photos.readonly%20https%3a%2f%2fwww.googleapis.com%2fauth%2fpeopleapi.readonly\n",
            "\n",
            "Enter your authorization code:\n",
            "··········\n",
            "Mounted at /content/gdrive\n"
          ],
          "name": "stdout"
        }
=======
     "data": {
      "text/plain": [
       "(1048548, 260)"
>>>>>>> Implementation of baseline classifier for H1B visa acceptance
      ]
     },
     "execution_count": 123,
     "metadata": {
      "tags": []
     },
     "output_type": "execute_result"
    }
   ],
   "source": [
    "file.shape"
   ]
  },
  {
   "cell_type": "code",
   "execution_count": 124,
   "metadata": {
    "colab": {
     "base_uri": "https://localhost:8080/",
     "height": 479
    },
    "colab_type": "code",
    "id": "ZxxeAh5SX0Bc",
    "outputId": "f5653606-660f-47d5-b18f-720293fd74d8"
   },
   "outputs": [
    {
<<<<<<< HEAD
      "cell_type": "code",
      "metadata": {
        "id": "_sSzHVSl3-bD",
        "colab_type": "code",
        "outputId": "add0c914-136c-4047-e4d7-a43af2c0f21a",
        "colab": {
          "base_uri": "https://localhost:8080/",
          "height": 258
        }
      },
      "source": [
        "!pip install autocorrect\n",
        "import pandas as pd\n",
        "import numpy as np\n",
        "import warnings\n",
        "import nltk\n",
        "from textblob import TextBlob\n",
        "from autocorrect import Speller \n",
        "nltk.download('wordnet')"
      ],
      "execution_count": 2,
      "outputs": [
        {
          "output_type": "stream",
          "text": [
            "Collecting autocorrect\n",
            "\u001b[?25l  Downloading https://files.pythonhosted.org/packages/a9/b0/a1d628fa192e8ebf124b4cebc2a42b4e3aa65b8052fdf4888e04fadf3e8d/autocorrect-1.1.0.tar.gz (1.8MB)\n",
            "\u001b[K     |████████████████████████████████| 1.8MB 4.7MB/s \n",
            "\u001b[?25hBuilding wheels for collected packages: autocorrect\n",
            "  Building wheel for autocorrect (setup.py) ... \u001b[?25l\u001b[?25hdone\n",
            "  Created wheel for autocorrect: filename=autocorrect-1.1.0-cp36-none-any.whl size=1810772 sha256=55a605e674cb3dbb7e1e4f52ef55eb70452b5c2f46550df01382354bde50bb56\n",
            "  Stored in directory: /root/.cache/pip/wheels/78/7f/b1/527522820ae623df6a2dbe14f778d23adaea4bebe43f7ebcfe\n",
            "Successfully built autocorrect\n",
            "Installing collected packages: autocorrect\n",
            "Successfully installed autocorrect-1.1.0\n",
            "[nltk_data] Downloading package wordnet to /root/nltk_data...\n",
            "[nltk_data]   Unzipping corpora/wordnet.zip.\n"
          ],
          "name": "stdout"
        },
        {
          "output_type": "execute_result",
          "data": {
            "text/plain": [
              "True"
            ]
          },
          "metadata": {
            "tags": []
          },
          "execution_count": 2
        }
=======
     "data": {
      "text/html": [
       "<div>\n",
       "<style scoped>\n",
       "    .dataframe tbody tr th:only-of-type {\n",
       "        vertical-align: middle;\n",
       "    }\n",
       "\n",
       "    .dataframe tbody tr th {\n",
       "        vertical-align: top;\n",
       "    }\n",
       "\n",
       "    .dataframe thead th {\n",
       "        text-align: right;\n",
       "    }\n",
       "</style>\n",
       "<table border=\"1\" class=\"dataframe\">\n",
       "  <thead>\n",
       "    <tr style=\"text-align: right;\">\n",
       "      <th></th>\n",
       "      <th>CASE_NUMBER</th>\n",
       "      <th>CASE_STATUS</th>\n",
       "      <th>CASE_SUBMITTED</th>\n",
       "      <th>DECISION_DATE</th>\n",
       "      <th>VISA_CLASS</th>\n",
       "      <th>JOB_TITLE</th>\n",
       "      <th>SOC_CODE</th>\n",
       "      <th>SOC_TITLE</th>\n",
       "      <th>EMPLOYER_NAME</th>\n",
       "      <th>WAGE_RATE_OF_PAY_FROM_1</th>\n",
       "      <th>WAGE_UNIT_OF_PAY_1</th>\n",
       "    </tr>\n",
       "  </thead>\n",
       "  <tbody>\n",
       "    <tr>\n",
       "      <th>0</th>\n",
       "      <td>I-200-16092-327771</td>\n",
       "      <td>WITHDRAWN</td>\n",
       "      <td>4/8/2016</td>\n",
       "      <td>4/30/2019</td>\n",
       "      <td>H-1B</td>\n",
       "      <td>ASSOCIATE CREATIVE DIRECTOR</td>\n",
       "      <td>11-2011</td>\n",
       "      <td>ADVERTISING AND PROMOTIONS MANAGERS</td>\n",
       "      <td>R/GA MEDIA GROUP, INC.</td>\n",
       "      <td>$179,000.00</td>\n",
       "      <td>Year</td>\n",
       "    </tr>\n",
       "    <tr>\n",
       "      <th>1</th>\n",
       "      <td>I-203-17188-450729</td>\n",
       "      <td>WITHDRAWN</td>\n",
       "      <td>7/14/2017</td>\n",
       "      <td>5/13/2019</td>\n",
       "      <td>E-3 Australian</td>\n",
       "      <td>ACCOUNT SUPERVISOR (MOTHER)</td>\n",
       "      <td>11-2011</td>\n",
       "      <td>ADVERTISING AND PROMOTIONS MANAGERS</td>\n",
       "      <td>MOTHER INDUSTRIES LLC</td>\n",
       "      <td>$110,000.00</td>\n",
       "      <td>Year</td>\n",
       "    </tr>\n",
       "    <tr>\n",
       "      <th>2</th>\n",
       "      <td>I-203-17229-572307</td>\n",
       "      <td>WITHDRAWN</td>\n",
       "      <td>8/23/2017</td>\n",
       "      <td>4/30/2019</td>\n",
       "      <td>E-3 Australian</td>\n",
       "      <td>EXECUTIVE CREATIVE DIRECTOR</td>\n",
       "      <td>11-2011</td>\n",
       "      <td>ADVERTISING AND PROMOTIONS MANAGERS</td>\n",
       "      <td>WE ARE UNLIMITED, INC.</td>\n",
       "      <td>$275,000.00</td>\n",
       "      <td>Year</td>\n",
       "    </tr>\n",
       "    <tr>\n",
       "      <th>3</th>\n",
       "      <td>I-203-17356-299648</td>\n",
       "      <td>WITHDRAWN</td>\n",
       "      <td>12/22/2017</td>\n",
       "      <td>8/20/2019</td>\n",
       "      <td>E-3 Australian</td>\n",
       "      <td>PROJECT MANAGEMENT LEAD</td>\n",
       "      <td>11-2011</td>\n",
       "      <td>ADVERTISING AND PROMOTIONS MANAGERS</td>\n",
       "      <td>HELLO ELEPHANT, LLC</td>\n",
       "      <td>$140,000.00</td>\n",
       "      <td>Year</td>\n",
       "    </tr>\n",
       "    <tr>\n",
       "      <th>4</th>\n",
       "      <td>I-203-18008-577576</td>\n",
       "      <td>WITHDRAWN</td>\n",
       "      <td>1/10/2018</td>\n",
       "      <td>4/15/2019</td>\n",
       "      <td>E-3 Australian</td>\n",
       "      <td>CREATIVE DIRECTOR, UX</td>\n",
       "      <td>11-2011</td>\n",
       "      <td>ADVERTISING AND PROMOTIONS MANAGERS</td>\n",
       "      <td>HELLO ELEPHANT, LLC</td>\n",
       "      <td>$180,000.00</td>\n",
       "      <td>Year</td>\n",
       "    </tr>\n",
       "  </tbody>\n",
       "</table>\n",
       "</div>"
      ],
      "text/plain": [
       "          CASE_NUMBER CASE_STATUS  ... WAGE_RATE_OF_PAY_FROM_1 WAGE_UNIT_OF_PAY_1\n",
       "0  I-200-16092-327771   WITHDRAWN  ...             $179,000.00               Year\n",
       "1  I-203-17188-450729   WITHDRAWN  ...             $110,000.00               Year\n",
       "2  I-203-17229-572307   WITHDRAWN  ...             $275,000.00               Year\n",
       "3  I-203-17356-299648   WITHDRAWN  ...             $140,000.00               Year\n",
       "4  I-203-18008-577576   WITHDRAWN  ...             $180,000.00               Year\n",
       "\n",
       "[5 rows x 11 columns]"
>>>>>>> Implementation of baseline classifier for H1B visa acceptance
      ]
     },
     "execution_count": 124,
     "metadata": {
      "tags": []
     },
     "output_type": "execute_result"
    }
   ],
   "source": [
    "cleaned=file[['CASE_NUMBER','CASE_STATUS','CASE_SUBMITTED','DECISION_DATE','VISA_CLASS','JOB_TITLE','SOC_CODE','SOC_TITLE','EMPLOYER_NAME','WAGE_RATE_OF_PAY_FROM_1','WAGE_UNIT_OF_PAY_1']]\n",
    "cleaned.head()"
   ]
  },
  {
   "cell_type": "code",
   "execution_count": 125,
   "metadata": {
    "colab": {
     "base_uri": "https://localhost:8080/",
     "height": 102
    },
    "colab_type": "code",
    "id": "BbgGJEB9XpO6",
    "outputId": "c49c26e1-1441-4ad0-e449-37c1116a5ad4"
   },
   "outputs": [
    {
     "data": {
      "text/plain": [
       "H-1B               649083\n",
       "E-3 Australian      13087\n",
       "H-1B1 Singapore      1291\n",
       "H-1B1 Chile          1155\n",
       "Name: VISA_CLASS, dtype: int64"
      ]
     },
     "execution_count": 125,
     "metadata": {
      "tags": []
     },
     "output_type": "execute_result"
    }
   ],
   "source": [
    "cleaned['VISA_CLASS'].value_counts()"
   ]
  },
  {
   "cell_type": "code",
   "execution_count": 0,
   "metadata": {
    "colab": {
     "base_uri": "https://localhost:8080/",
     "height": 122
    },
    "colab_type": "code",
    "id": "NLttcaMGZC1l",
    "outputId": "3ddf5f0d-5d94-4835-cdf4-75c03e017ffa"
   },
   "outputs": [
    {
     "name": "stderr",
     "output_type": "stream",
     "text": [
      "/usr/local/lib/python3.6/dist-packages/pandas/core/frame.py:3997: SettingWithCopyWarning: \n",
      "A value is trying to be set on a copy of a slice from a DataFrame\n",
      "\n",
      "See the caveats in the documentation: https://pandas.pydata.org/pandas-docs/stable/user_guide/indexing.html#returning-a-view-versus-a-copy\n",
      "  errors=errors,\n"
     ]
    }
   ],
   "source": [
    "# Visa class has many categories which are not of use , we require only H1B visa type , hence we drop all records with other visa types\n",
    "cleaned.drop(labels=cleaned[cleaned['VISA_CLASS']!='H-1B'].index , inplace=True)"
   ]
  },
  {
   "cell_type": "code",
   "execution_count": 126,
   "metadata": {
    "colab": {
     "base_uri": "https://localhost:8080/",
     "height": 119
    },
    "colab_type": "code",
    "id": "qox8ruM-Xff_",
    "outputId": "fba5a862-ca4b-46ca-bc3e-873262dc1366"
   },
   "outputs": [
    {
<<<<<<< HEAD
      "cell_type": "code",
      "metadata": {
        "id": "iCiYlOyXHHKJ",
        "colab_type": "code",
        "outputId": "ed6648bb-dbd3-472c-9e27-8411eb7de83e",
        "colab": {
          "base_uri": "https://localhost:8080/",
          "height": 71
        }
      },
      "source": [
        "#Read the csv file and stored in file\n",
        "file=pd.read_csv('/content/gdrive/My Drive/H-1B_Disclosure_Data_FY2019.csv')"
      ],
      "execution_count": 24,
      "outputs": [
        {
          "output_type": "stream",
          "text": [
            "/usr/local/lib/python3.6/dist-packages/IPython/core/interactiveshell.py:2718: DtypeWarning: Columns (0,1,2,3,4,5,6,7,8,9,10,11,13,14,19,20,21,22,23,24,25,26,27,28,29,31,32,33,34,35,36,37,38,39,40,41,42,43,45,46,47,48,49,50,51,52,53,54,55,57,58,59,61,64,66,67,68,69,70,71,72,73,76,78,79,80,82,85,87,88,89,90,91,92,93,94,97,98,99,100,101,103,106,108,109,110,111,112,113,114,115,121,122,124,127,129,130,131,132,133,134,135,136,142,143,145,148,150,151,152,153,154,155,156,157,160,162,163,164,166,169,171,172,173,174,175,176,177,178,184,185,187,190,192,193,194,195,196,197,198,199,205,206,208,211,213,214,215,216,217,218,219,220,223,225,226,227,229,232,234,235,236,237,238,239,240,244,246,247,248,250,253,254,255,256,257,258,259) have mixed types.Specify dtype option on import or set low_memory=False.\n",
            "  interactivity=interactivity, compiler=compiler, result=result)\n"
          ],
          "name": "stderr"
        }
=======
     "data": {
      "text/plain": [
       "CERTIFIED              592103\n",
       "CERTIFIED-WITHDRAWN     46946\n",
       "WITHDRAWN               19674\n",
       "DENIED                   5893\n",
       "I-200-19196-496412          1\n",
       "Name: CASE_STATUS, dtype: int64"
>>>>>>> Implementation of baseline classifier for H1B visa acceptance
      ]
     },
     "execution_count": 126,
     "metadata": {
      "tags": []
     },
     "output_type": "execute_result"
    }
   ],
   "source": [
    "cleaned['CASE_STATUS'].value_counts()"
   ]
  },
  {
   "cell_type": "code",
   "execution_count": 127,
   "metadata": {
    "colab": {
     "base_uri": "https://localhost:8080/",
     "height": 666
    },
    "colab_type": "code",
    "id": "7Cz9Kkghr3JP",
    "outputId": "fabff9cb-970c-472b-9fcc-49ba0546434a"
   },
   "outputs": [
    {
<<<<<<< HEAD
      "cell_type": "code",
      "metadata": {
        "id": "XT6Wmc2-WVo7",
        "colab_type": "code",
        "outputId": "beea1dfd-70c6-4e4b-aa6f-9dc8ccc477d5",
        "colab": {
          "base_uri": "https://localhost:8080/",
          "height": 34
        }
      },
      "source": [
        "file.shape"
      ],
      "execution_count": 25,
      "outputs": [
        {
          "output_type": "execute_result",
          "data": {
            "text/plain": [
              "(1048548, 260)"
            ]
          },
          "metadata": {
            "tags": []
          },
          "execution_count": 25
        }
      ]
    },
    {
      "cell_type": "code",
      "metadata": {
        "id": "ZxxeAh5SX0Bc",
        "colab_type": "code",
        "outputId": "aeb30967-48b8-476c-8052-68c5c453485b",
        "colab": {
          "base_uri": "https://localhost:8080/",
          "height": 479
        }
      },
      "source": [
        "cleaned=file[['CASE_NUMBER','CASE_STATUS','CASE_SUBMITTED','DECISION_DATE','VISA_CLASS','JOB_TITLE','SOC_CODE','SOC_TITLE','EMPLOYER_NAME','WAGE_RATE_OF_PAY_FROM_1','WAGE_UNIT_OF_PAY_1']]\n",
        "cleaned.head()"
      ],
      "execution_count": 26,
      "outputs": [
        {
          "output_type": "execute_result",
          "data": {
            "text/html": [
              "<div>\n",
              "<style scoped>\n",
              "    .dataframe tbody tr th:only-of-type {\n",
              "        vertical-align: middle;\n",
              "    }\n",
              "\n",
              "    .dataframe tbody tr th {\n",
              "        vertical-align: top;\n",
              "    }\n",
              "\n",
              "    .dataframe thead th {\n",
              "        text-align: right;\n",
              "    }\n",
              "</style>\n",
              "<table border=\"1\" class=\"dataframe\">\n",
              "  <thead>\n",
              "    <tr style=\"text-align: right;\">\n",
              "      <th></th>\n",
              "      <th>CASE_NUMBER</th>\n",
              "      <th>CASE_STATUS</th>\n",
              "      <th>CASE_SUBMITTED</th>\n",
              "      <th>DECISION_DATE</th>\n",
              "      <th>VISA_CLASS</th>\n",
              "      <th>JOB_TITLE</th>\n",
              "      <th>SOC_CODE</th>\n",
              "      <th>SOC_TITLE</th>\n",
              "      <th>EMPLOYER_NAME</th>\n",
              "      <th>WAGE_RATE_OF_PAY_FROM_1</th>\n",
              "      <th>WAGE_UNIT_OF_PAY_1</th>\n",
              "    </tr>\n",
              "  </thead>\n",
              "  <tbody>\n",
              "    <tr>\n",
              "      <th>0</th>\n",
              "      <td>I-200-16092-327771</td>\n",
              "      <td>WITHDRAWN</td>\n",
              "      <td>4/8/2016</td>\n",
              "      <td>4/30/2019</td>\n",
              "      <td>H-1B</td>\n",
              "      <td>ASSOCIATE CREATIVE DIRECTOR</td>\n",
              "      <td>11-2011</td>\n",
              "      <td>ADVERTISING AND PROMOTIONS MANAGERS</td>\n",
              "      <td>R/GA MEDIA GROUP, INC.</td>\n",
              "      <td>$179,000.00</td>\n",
              "      <td>Year</td>\n",
              "    </tr>\n",
              "    <tr>\n",
              "      <th>1</th>\n",
              "      <td>I-203-17188-450729</td>\n",
              "      <td>WITHDRAWN</td>\n",
              "      <td>7/14/2017</td>\n",
              "      <td>5/13/2019</td>\n",
              "      <td>E-3 Australian</td>\n",
              "      <td>ACCOUNT SUPERVISOR (MOTHER)</td>\n",
              "      <td>11-2011</td>\n",
              "      <td>ADVERTISING AND PROMOTIONS MANAGERS</td>\n",
              "      <td>MOTHER INDUSTRIES LLC</td>\n",
              "      <td>$110,000.00</td>\n",
              "      <td>Year</td>\n",
              "    </tr>\n",
              "    <tr>\n",
              "      <th>2</th>\n",
              "      <td>I-203-17229-572307</td>\n",
              "      <td>WITHDRAWN</td>\n",
              "      <td>8/23/2017</td>\n",
              "      <td>4/30/2019</td>\n",
              "      <td>E-3 Australian</td>\n",
              "      <td>EXECUTIVE CREATIVE DIRECTOR</td>\n",
              "      <td>11-2011</td>\n",
              "      <td>ADVERTISING AND PROMOTIONS MANAGERS</td>\n",
              "      <td>WE ARE UNLIMITED, INC.</td>\n",
              "      <td>$275,000.00</td>\n",
              "      <td>Year</td>\n",
              "    </tr>\n",
              "    <tr>\n",
              "      <th>3</th>\n",
              "      <td>I-203-17356-299648</td>\n",
              "      <td>WITHDRAWN</td>\n",
              "      <td>12/22/2017</td>\n",
              "      <td>8/20/2019</td>\n",
              "      <td>E-3 Australian</td>\n",
              "      <td>PROJECT MANAGEMENT LEAD</td>\n",
              "      <td>11-2011</td>\n",
              "      <td>ADVERTISING AND PROMOTIONS MANAGERS</td>\n",
              "      <td>HELLO ELEPHANT, LLC</td>\n",
              "      <td>$140,000.00</td>\n",
              "      <td>Year</td>\n",
              "    </tr>\n",
              "    <tr>\n",
              "      <th>4</th>\n",
              "      <td>I-203-18008-577576</td>\n",
              "      <td>WITHDRAWN</td>\n",
              "      <td>1/10/2018</td>\n",
              "      <td>4/15/2019</td>\n",
              "      <td>E-3 Australian</td>\n",
              "      <td>CREATIVE DIRECTOR, UX</td>\n",
              "      <td>11-2011</td>\n",
              "      <td>ADVERTISING AND PROMOTIONS MANAGERS</td>\n",
              "      <td>HELLO ELEPHANT, LLC</td>\n",
              "      <td>$180,000.00</td>\n",
              "      <td>Year</td>\n",
              "    </tr>\n",
              "  </tbody>\n",
              "</table>\n",
              "</div>"
            ],
            "text/plain": [
              "          CASE_NUMBER CASE_STATUS  ... WAGE_RATE_OF_PAY_FROM_1 WAGE_UNIT_OF_PAY_1\n",
              "0  I-200-16092-327771   WITHDRAWN  ...             $179,000.00               Year\n",
              "1  I-203-17188-450729   WITHDRAWN  ...             $110,000.00               Year\n",
              "2  I-203-17229-572307   WITHDRAWN  ...             $275,000.00               Year\n",
              "3  I-203-17356-299648   WITHDRAWN  ...             $140,000.00               Year\n",
              "4  I-203-18008-577576   WITHDRAWN  ...             $180,000.00               Year\n",
              "\n",
              "[5 rows x 11 columns]"
            ]
          },
          "metadata": {
            "tags": []
          },
          "execution_count": 26
        }
=======
     "name": "stderr",
     "output_type": "stream",
     "text": [
      "/usr/local/lib/python3.6/dist-packages/pandas/core/frame.py:4172: SettingWithCopyWarning: \n",
      "A value is trying to be set on a copy of a slice from a DataFrame\n",
      "\n",
      "See the caveats in the documentation: https://pandas.pydata.org/pandas-docs/stable/user_guide/indexing.html#returning-a-view-versus-a-copy\n",
      "  method=method,\n",
      "/usr/local/lib/python3.6/dist-packages/pandas/core/frame.py:3997: SettingWithCopyWarning: \n",
      "A value is trying to be set on a copy of a slice from a DataFrame\n",
      "\n",
      "See the caveats in the documentation: https://pandas.pydata.org/pandas-docs/stable/user_guide/indexing.html#returning-a-view-versus-a-copy\n",
      "  errors=errors,\n"
     ]
    },
    {
     "data": {
      "text/html": [
       "<div>\n",
       "<style scoped>\n",
       "    .dataframe tbody tr th:only-of-type {\n",
       "        vertical-align: middle;\n",
       "    }\n",
       "\n",
       "    .dataframe tbody tr th {\n",
       "        vertical-align: top;\n",
       "    }\n",
       "\n",
       "    .dataframe thead th {\n",
       "        text-align: right;\n",
       "    }\n",
       "</style>\n",
       "<table border=\"1\" class=\"dataframe\">\n",
       "  <thead>\n",
       "    <tr style=\"text-align: right;\">\n",
       "      <th></th>\n",
       "      <th>CASE_NUMBER</th>\n",
       "      <th>CASE_STATUS</th>\n",
       "      <th>CASE_SUBMITTED</th>\n",
       "      <th>DECISION_DATE</th>\n",
       "      <th>VISA_CLASS</th>\n",
       "      <th>JOB_TITLE</th>\n",
       "      <th>SOC_CODE</th>\n",
       "      <th>SOC_TITLE</th>\n",
       "      <th>EMPLOYER_NAME</th>\n",
       "      <th>WAGE_RATE_OF_PAY_FROM_1</th>\n",
       "      <th>WAGE_UNIT_OF_PAY_1</th>\n",
       "    </tr>\n",
       "  </thead>\n",
       "  <tbody>\n",
       "    <tr>\n",
       "      <th>16</th>\n",
       "      <td>I-203-17048-800372</td>\n",
       "      <td>CERTIFIED</td>\n",
       "      <td>2/17/2017</td>\n",
       "      <td>2/26/2019</td>\n",
       "      <td>E-3 Australian</td>\n",
       "      <td>ASSOCIATE EXPERIENCE DIRECTOR</td>\n",
       "      <td>11-2011</td>\n",
       "      <td>ADVERTISING AND PROMOTIONS MANAGERS</td>\n",
       "      <td>HUGE, LLC</td>\n",
       "      <td>$147,000.00</td>\n",
       "      <td>Year</td>\n",
       "    </tr>\n",
       "    <tr>\n",
       "      <th>17</th>\n",
       "      <td>I-203-17118-231630</td>\n",
       "      <td>CERTIFIED</td>\n",
       "      <td>5/17/2017</td>\n",
       "      <td>1/7/2019</td>\n",
       "      <td>E-3 Australian</td>\n",
       "      <td>ASSOCIATE CREATIVE DIRECTOR</td>\n",
       "      <td>11-2011</td>\n",
       "      <td>ADVERTISING AND PROMOTIONS MANAGERS</td>\n",
       "      <td>R/GA MEDIA GROUP, INC.</td>\n",
       "      <td>$150,000.00</td>\n",
       "      <td>Year</td>\n",
       "    </tr>\n",
       "    <tr>\n",
       "      <th>18</th>\n",
       "      <td>I-200-17250-072640</td>\n",
       "      <td>CERTIFIED</td>\n",
       "      <td>9/7/2017</td>\n",
       "      <td>1/7/2019</td>\n",
       "      <td>H-1B</td>\n",
       "      <td>EXECUTIVE DIRECTOR, STRATEGY</td>\n",
       "      <td>11-2011</td>\n",
       "      <td>ADVERTISING AND PROMOTIONS MANAGERS</td>\n",
       "      <td>FIGLIULO &amp; PARTNERS LLC</td>\n",
       "      <td>$230,000.00</td>\n",
       "      <td>Year</td>\n",
       "    </tr>\n",
       "    <tr>\n",
       "      <th>19</th>\n",
       "      <td>I-200-18026-717110</td>\n",
       "      <td>CERTIFIED</td>\n",
       "      <td>1/26/2018</td>\n",
       "      <td>7/5/2019</td>\n",
       "      <td>H-1B</td>\n",
       "      <td>PROJECT OPERATIONS MANAGER</td>\n",
       "      <td>11-2011</td>\n",
       "      <td>ADVERTISING AND PROMOTIONS MANAGERS</td>\n",
       "      <td>INVISIONAPP INC.</td>\n",
       "      <td>$107,000.00</td>\n",
       "      <td>Year</td>\n",
       "    </tr>\n",
       "    <tr>\n",
       "      <th>20</th>\n",
       "      <td>I-203-18052-454057</td>\n",
       "      <td>CERTIFIED</td>\n",
       "      <td>3/5/2018</td>\n",
       "      <td>11/15/2018</td>\n",
       "      <td>E-3 Australian</td>\n",
       "      <td>ACCOUNT DIRECTOR</td>\n",
       "      <td>11-2011</td>\n",
       "      <td>ADVERTISING AND PROMOTIONS MANAGERS</td>\n",
       "      <td>GOODBY, SILVERSTEIN AND PARTNERS, INC.</td>\n",
       "      <td>$127,962.00</td>\n",
       "      <td>Year</td>\n",
       "    </tr>\n",
       "  </tbody>\n",
       "</table>\n",
       "</div>"
      ],
      "text/plain": [
       "           CASE_NUMBER CASE_STATUS  ... WAGE_RATE_OF_PAY_FROM_1 WAGE_UNIT_OF_PAY_1\n",
       "16  I-203-17048-800372   CERTIFIED  ...             $147,000.00               Year\n",
       "17  I-203-17118-231630   CERTIFIED  ...             $150,000.00               Year\n",
       "18  I-200-17250-072640   CERTIFIED  ...             $230,000.00               Year\n",
       "19  I-200-18026-717110   CERTIFIED  ...             $107,000.00               Year\n",
       "20  I-203-18052-454057   CERTIFIED  ...             $127,962.00               Year\n",
       "\n",
       "[5 rows x 11 columns]"
>>>>>>> Implementation of baseline classifier for H1B visa acceptance
      ]
     },
     "execution_count": 127,
     "metadata": {
      "tags": []
     },
     "output_type": "execute_result"
    }
   ],
   "source": [
    "#As we want to only need accepted and denied cases we are dropping withdrawn from the data frame. \n",
    "#Case status of class certified-withdraw were certified earlier and later withdraw which can be considered a\n",
    "cleaned.replace({\"CASE_STATUS\":\"CERTIFIED-WITHDRAWN\"},\"CERTIFIED\",inplace=True)\n",
    "cleaned.drop(labels=cleaned[cleaned['CASE_STATUS']=='WITHDRAWN'].index , inplace=True)\n",
    "cleaned.head()"
   ]
  },
  {
   "cell_type": "code",
   "execution_count": 128,
   "metadata": {
    "colab": {
     "base_uri": "https://localhost:8080/",
     "height": 323
    },
    "colab_type": "code",
    "id": "75W7CN49Yvhf",
    "outputId": "773e5889-8f7a-439a-e0e7-383d24baa77e"
   },
   "outputs": [
    {
<<<<<<< HEAD
      "cell_type": "code",
      "metadata": {
        "id": "BbgGJEB9XpO6",
        "colab_type": "code",
        "outputId": "637681bf-7035-4588-c8d6-d0543ab373a0",
        "colab": {
          "base_uri": "https://localhost:8080/",
          "height": 102
        }
      },
      "source": [
        "cleaned['VISA_CLASS'].value_counts()"
      ],
      "execution_count": 27,
      "outputs": [
        {
          "output_type": "execute_result",
          "data": {
            "text/plain": [
              "H-1B               649083\n",
              "E-3 Australian      13087\n",
              "H-1B1 Singapore      1291\n",
              "H-1B1 Chile          1155\n",
              "Name: VISA_CLASS, dtype: int64"
            ]
          },
          "metadata": {
            "tags": []
          },
          "execution_count": 27
        }
      ]
=======
     "name": "stdout",
     "output_type": "stream",
     "text": [
      "<class 'pandas.core.frame.DataFrame'>\n",
      "Int64Index: 1028874 entries, 16 to 1048547\n",
      "Data columns (total 11 columns):\n",
      " #   Column                   Non-Null Count   Dtype \n",
      "---  ------                   --------------   ----- \n",
      " 0   CASE_NUMBER              644941 non-null  object\n",
      " 1   CASE_STATUS              644943 non-null  object\n",
      " 2   CASE_SUBMITTED           644942 non-null  object\n",
      " 3   DECISION_DATE            644942 non-null  object\n",
      " 4   VISA_CLASS               644942 non-null  object\n",
      " 5   JOB_TITLE                644942 non-null  object\n",
      " 6   SOC_CODE                 644938 non-null  object\n",
      " 7   SOC_TITLE                644938 non-null  object\n",
      " 8   EMPLOYER_NAME            644934 non-null  object\n",
      " 9   WAGE_RATE_OF_PAY_FROM_1  644938 non-null  object\n",
      " 10  WAGE_UNIT_OF_PAY_1       644938 non-null  object\n",
      "dtypes: object(11)\n",
      "memory usage: 94.2+ MB\n"
     ]
    }
   ],
   "source": [
    "cleaned.info()"
   ]
  },
  {
   "cell_type": "code",
   "execution_count": 129,
   "metadata": {
    "colab": {
     "base_uri": "https://localhost:8080/",
     "height": 68
>>>>>>> Implementation of baseline classifier for H1B visa acceptance
    },
    "colab_type": "code",
    "id": "F5SSKy8mVr01",
    "outputId": "27daf41e-5ca8-4439-91aa-3ba6e041cfec"
   },
   "outputs": [
    {
<<<<<<< HEAD
      "cell_type": "code",
      "metadata": {
        "id": "NLttcaMGZC1l",
        "colab_type": "code",
        "outputId": "73a94a98-74f6-41e0-96af-b99edee04e1b",
        "colab": {
          "base_uri": "https://localhost:8080/",
          "height": 122
        }
      },
      "source": [
        "# Visa class has many categories which are not of use , we require only H1B visa type , hence we drop all records with other visa types\n",
        "cleaned.drop(labels=cleaned[cleaned['VISA_CLASS']!='H-1B'].index , inplace=True)"
      ],
      "execution_count": 28,
      "outputs": [
        {
          "output_type": "stream",
          "text": [
            "/usr/local/lib/python3.6/dist-packages/pandas/core/frame.py:3997: SettingWithCopyWarning: \n",
            "A value is trying to be set on a copy of a slice from a DataFrame\n",
            "\n",
            "See the caveats in the documentation: https://pandas.pydata.org/pandas-docs/stable/user_guide/indexing.html#returning-a-view-versus-a-copy\n",
            "  errors=errors,\n"
          ],
          "name": "stderr"
        }
=======
     "data": {
      "text/plain": [
       "<class 'float'>    848828\n",
       "<class 'str'>      180046\n",
       "Name: WAGE_RATE_OF_PAY_FROM_1, dtype: int64"
>>>>>>> Implementation of baseline classifier for H1B visa acceptance
      ]
     },
     "execution_count": 129,
     "metadata": {
      "tags": []
     },
     "output_type": "execute_result"
    }
   ],
   "source": [
    "#the column wages has a mix of both string and float value types and some record have the symbol '$' which we want to remove\n",
    "cleaned['WAGE_RATE_OF_PAY_FROM_1'].apply(type).value_counts()"
   ]
  },
  {
   "cell_type": "code",
   "execution_count": 0,
   "metadata": {
    "colab": {},
    "colab_type": "code",
    "id": "cDAglVs6XHVB"
   },
   "outputs": [],
   "source": [
    "def clean_wages(w):\n",
    "    \"\"\" Function to remove '$' symbol and other delimiters from wages column which consistes of str and float type values\n",
    "    if the column entry is string type then remove the symbols else return the column value as it is \n",
    "    \"\"\"\n",
    "    if isinstance(w, str):\n",
    "        return(w.replace('$', '').replace(',', ''))\n",
    "    return(w)"
   ]
  },
  {
   "cell_type": "code",
   "execution_count": 0,
   "metadata": {
    "colab": {
     "base_uri": "https://localhost:8080/",
     "height": 462
    },
    "colab_type": "code",
    "id": "Py3xCbSawIpR",
    "outputId": "c17ad75b-fec9-4f0e-dac4-b9ef9b0a5802"
   },
   "outputs": [
    {
<<<<<<< HEAD
      "cell_type": "code",
      "metadata": {
        "id": "qox8ruM-Xff_",
        "colab_type": "code",
        "outputId": "b95c2e3e-7234-4762-c360-69698cebff6d",
        "colab": {
          "base_uri": "https://localhost:8080/",
          "height": 102
        }
      },
      "source": [
        "cleaned['CASE_STATUS'].value_counts()"
      ],
      "execution_count": 29,
      "outputs": [
        {
          "output_type": "execute_result",
          "data": {
            "text/plain": [
              "CERTIFIED              578640\n",
              "CERTIFIED-WITHDRAWN     46050\n",
              "WITHDRAWN               19227\n",
              "DENIED                   5166\n",
              "Name: CASE_STATUS, dtype: int64"
            ]
          },
          "metadata": {
            "tags": []
          },
          "execution_count": 29
        }
      ]
    },
    {
      "cell_type": "code",
      "metadata": {
        "id": "7Cz9Kkghr3JP",
        "colab_type": "code",
        "outputId": "bb3d1034-078b-4460-bbdd-8a7a36c8bacf",
        "colab": {
          "base_uri": "https://localhost:8080/",
          "height": 649
        }
      },
      "source": [
        "#As we want to only need accepted and denied cases we are dropping withdrawn from the data frame. \n",
        "#Case status of class certified-withdraw were certified earlier and later withdraw which can be considered a\n",
        "cleaned.replace({\"CASE_STATUS\":\"CERTIFIED-WITHDRAWN\"},\"CERTIFIED\",inplace=True)\n",
        "cleaned.drop(labels=cleaned[cleaned['CASE_STATUS']=='WITHDRAWN'].index , inplace=True)\n",
        "cleaned.head()"
      ],
      "execution_count": 30,
      "outputs": [
        {
          "output_type": "stream",
          "text": [
            "/usr/local/lib/python3.6/dist-packages/pandas/core/frame.py:4172: SettingWithCopyWarning: \n",
            "A value is trying to be set on a copy of a slice from a DataFrame\n",
            "\n",
            "See the caveats in the documentation: https://pandas.pydata.org/pandas-docs/stable/user_guide/indexing.html#returning-a-view-versus-a-copy\n",
            "  method=method,\n",
            "/usr/local/lib/python3.6/dist-packages/pandas/core/frame.py:3997: SettingWithCopyWarning: \n",
            "A value is trying to be set on a copy of a slice from a DataFrame\n",
            "\n",
            "See the caveats in the documentation: https://pandas.pydata.org/pandas-docs/stable/user_guide/indexing.html#returning-a-view-versus-a-copy\n",
            "  errors=errors,\n"
          ],
          "name": "stderr"
        },
        {
          "output_type": "execute_result",
          "data": {
            "text/html": [
              "<div>\n",
              "<style scoped>\n",
              "    .dataframe tbody tr th:only-of-type {\n",
              "        vertical-align: middle;\n",
              "    }\n",
              "\n",
              "    .dataframe tbody tr th {\n",
              "        vertical-align: top;\n",
              "    }\n",
              "\n",
              "    .dataframe thead th {\n",
              "        text-align: right;\n",
              "    }\n",
              "</style>\n",
              "<table border=\"1\" class=\"dataframe\">\n",
              "  <thead>\n",
              "    <tr style=\"text-align: right;\">\n",
              "      <th></th>\n",
              "      <th>CASE_NUMBER</th>\n",
              "      <th>CASE_STATUS</th>\n",
              "      <th>CASE_SUBMITTED</th>\n",
              "      <th>DECISION_DATE</th>\n",
              "      <th>VISA_CLASS</th>\n",
              "      <th>JOB_TITLE</th>\n",
              "      <th>SOC_CODE</th>\n",
              "      <th>SOC_TITLE</th>\n",
              "      <th>EMPLOYER_NAME</th>\n",
              "      <th>WAGE_RATE_OF_PAY_FROM_1</th>\n",
              "      <th>WAGE_UNIT_OF_PAY_1</th>\n",
              "    </tr>\n",
              "  </thead>\n",
              "  <tbody>\n",
              "    <tr>\n",
              "      <th>18</th>\n",
              "      <td>I-200-17250-072640</td>\n",
              "      <td>CERTIFIED</td>\n",
              "      <td>9/7/2017</td>\n",
              "      <td>1/7/2019</td>\n",
              "      <td>H-1B</td>\n",
              "      <td>EXECUTIVE DIRECTOR, STRATEGY</td>\n",
              "      <td>11-2011</td>\n",
              "      <td>ADVERTISING AND PROMOTIONS MANAGERS</td>\n",
              "      <td>FIGLIULO &amp; PARTNERS LLC</td>\n",
              "      <td>$230,000.00</td>\n",
              "      <td>Year</td>\n",
              "    </tr>\n",
              "    <tr>\n",
              "      <th>19</th>\n",
              "      <td>I-200-18026-717110</td>\n",
              "      <td>CERTIFIED</td>\n",
              "      <td>1/26/2018</td>\n",
              "      <td>7/5/2019</td>\n",
              "      <td>H-1B</td>\n",
              "      <td>PROJECT OPERATIONS MANAGER</td>\n",
              "      <td>11-2011</td>\n",
              "      <td>ADVERTISING AND PROMOTIONS MANAGERS</td>\n",
              "      <td>INVISIONAPP INC.</td>\n",
              "      <td>$107,000.00</td>\n",
              "      <td>Year</td>\n",
              "    </tr>\n",
              "    <tr>\n",
              "      <th>21</th>\n",
              "      <td>I-200-18039-081565</td>\n",
              "      <td>CERTIFIED</td>\n",
              "      <td>3/5/2018</td>\n",
              "      <td>1/8/2019</td>\n",
              "      <td>H-1B</td>\n",
              "      <td>MANAGER OF LEAGUE AND TOURNAMENT SERVICES</td>\n",
              "      <td>11-2011</td>\n",
              "      <td>ADVERTISING AND PROMOTIONS MANAGERS</td>\n",
              "      <td>OREGON YOUTH SOCCER ASSOCIATION</td>\n",
              "      <td>$49,087.00</td>\n",
              "      <td>Year</td>\n",
              "    </tr>\n",
              "    <tr>\n",
              "      <th>22</th>\n",
              "      <td>I-200-18082-340860</td>\n",
              "      <td>CERTIFIED</td>\n",
              "      <td>3/23/2018</td>\n",
              "      <td>4/22/2019</td>\n",
              "      <td>H-1B</td>\n",
              "      <td>DIRECTOR, DEMAND</td>\n",
              "      <td>11-2011</td>\n",
              "      <td>ADVERTISING AND PROMOTIONS MANAGERS</td>\n",
              "      <td>FACTUAL, INC.</td>\n",
              "      <td>$172,930.00</td>\n",
              "      <td>Year</td>\n",
              "    </tr>\n",
              "    <tr>\n",
              "      <th>24</th>\n",
              "      <td>I-200-18162-689783</td>\n",
              "      <td>CERTIFIED</td>\n",
              "      <td>9/26/2018</td>\n",
              "      <td>10/2/2018</td>\n",
              "      <td>H-1B</td>\n",
              "      <td>ADVERSTING AND PROMOTIONS MANAGER</td>\n",
              "      <td>11-2011</td>\n",
              "      <td>ADVERTISING AND PROMOTIONS MANAGERS</td>\n",
              "      <td>FANTUAN GROUP INC</td>\n",
              "      <td>$33.00</td>\n",
              "      <td>Hour</td>\n",
              "    </tr>\n",
              "  </tbody>\n",
              "</table>\n",
              "</div>"
            ],
            "text/plain": [
              "           CASE_NUMBER CASE_STATUS  ... WAGE_RATE_OF_PAY_FROM_1 WAGE_UNIT_OF_PAY_1\n",
              "18  I-200-17250-072640   CERTIFIED  ...             $230,000.00               Year\n",
              "19  I-200-18026-717110   CERTIFIED  ...             $107,000.00               Year\n",
              "21  I-200-18039-081565   CERTIFIED  ...              $49,087.00               Year\n",
              "22  I-200-18082-340860   CERTIFIED  ...             $172,930.00               Year\n",
              "24  I-200-18162-689783   CERTIFIED  ...                  $33.00               Hour\n",
              "\n",
              "[5 rows x 11 columns]"
            ]
          },
          "metadata": {
            "tags": []
          },
          "execution_count": 30
        }
      ]
=======
     "name": "stdout",
     "output_type": "stream",
     "text": [
      "<class 'pandas.core.frame.DataFrame'>\n",
      "Int64Index: 629856 entries, 18 to 664616\n",
      "Data columns (total 12 columns):\n",
      " #   Column                   Non-Null Count   Dtype  \n",
      "---  ------                   --------------   -----  \n",
      " 0   CASE_NUMBER              629855 non-null  object \n",
      " 1   CASE_STATUS              629856 non-null  object \n",
      " 2   CASE_SUBMITTED           629856 non-null  object \n",
      " 3   DECISION_DATE            629856 non-null  object \n",
      " 4   VISA_CLASS               629856 non-null  object \n",
      " 5   JOB_TITLE                629856 non-null  object \n",
      " 6   SOC_CODE                 629852 non-null  object \n",
      " 7   SOC_TITLE                629852 non-null  object \n",
      " 8   EMPLOYER_NAME            629848 non-null  object \n",
      " 9   WAGE_RATE_OF_PAY_FROM_1  629852 non-null  object \n",
      " 10  WAGE_UNIT_OF_PAY_1       629852 non-null  object \n",
      " 11  WAGES                    629852 non-null  float64\n",
      "dtypes: float64(1), object(11)\n",
      "memory usage: 62.5+ MB\n"
     ]
    },
    {
     "name": "stderr",
     "output_type": "stream",
     "text": [
      "/usr/local/lib/python3.6/dist-packages/ipykernel_launcher.py:1: SettingWithCopyWarning: \n",
      "A value is trying to be set on a copy of a slice from a DataFrame.\n",
      "Try using .loc[row_indexer,col_indexer] = value instead\n",
      "\n",
      "See the caveats in the documentation: https://pandas.pydata.org/pandas-docs/stable/user_guide/indexing.html#returning-a-view-versus-a-copy\n",
      "  \"\"\"Entry point for launching an IPython kernel.\n"
     ]
    }
   ],
   "source": [
    "cleaned['WAGES']=cleaned['WAGE_RATE_OF_PAY_FROM_1'].apply(clean_wages).astype('float')\n",
    "cleaned.info()"
   ]
  },
  {
   "cell_type": "code",
   "execution_count": 0,
   "metadata": {
    "colab": {
     "base_uri": "https://localhost:8080/",
     "height": 119
>>>>>>> Implementation of baseline classifier for H1B visa acceptance
    },
    "colab_type": "code",
    "id": "yKCdooZsQ7yD",
    "outputId": "c6b1312c-c667-46a8-82fe-1a0d9634d888"
   },
   "outputs": [
    {
<<<<<<< HEAD
      "cell_type": "code",
      "metadata": {
        "id": "75W7CN49Yvhf",
        "colab_type": "code",
        "outputId": "68f171b4-89c1-40c6-8dfa-401714dcf799",
        "colab": {
          "base_uri": "https://localhost:8080/",
          "height": 323
        }
      },
      "source": [
        "cleaned.info()"
      ],
      "execution_count": 31,
      "outputs": [
        {
          "output_type": "stream",
          "text": [
            "<class 'pandas.core.frame.DataFrame'>\n",
            "Int64Index: 629856 entries, 18 to 664616\n",
            "Data columns (total 11 columns):\n",
            " #   Column                   Non-Null Count   Dtype \n",
            "---  ------                   --------------   ----- \n",
            " 0   CASE_NUMBER              629855 non-null  object\n",
            " 1   CASE_STATUS              629856 non-null  object\n",
            " 2   CASE_SUBMITTED           629856 non-null  object\n",
            " 3   DECISION_DATE            629856 non-null  object\n",
            " 4   VISA_CLASS               629856 non-null  object\n",
            " 5   JOB_TITLE                629856 non-null  object\n",
            " 6   SOC_CODE                 629852 non-null  object\n",
            " 7   SOC_TITLE                629852 non-null  object\n",
            " 8   EMPLOYER_NAME            629848 non-null  object\n",
            " 9   WAGE_RATE_OF_PAY_FROM_1  629852 non-null  object\n",
            " 10  WAGE_UNIT_OF_PAY_1       629852 non-null  object\n",
            "dtypes: object(11)\n",
            "memory usage: 57.7+ MB\n"
          ],
          "name": "stdout"
        }
=======
     "data": {
      "text/plain": [
       "Year         587386\n",
       "Hour          41927\n",
       "Month           342\n",
       "Bi-Weekly       105\n",
       "Week             92\n",
       "Name: WAGE_UNIT_OF_PAY_1, dtype: int64"
>>>>>>> Implementation of baseline classifier for H1B visa acceptance
      ]
     },
     "execution_count": 100,
     "metadata": {
      "tags": []
     },
     "output_type": "execute_result"
    }
   ],
   "source": [
    "# the wage information that we have available has different unit of pay\n",
    "cleaned['WAGE_UNIT_OF_PAY_1'].value_counts()"
   ]
  },
  {
   "cell_type": "code",
   "execution_count": 0,
   "metadata": {
    "colab": {
     "base_uri": "https://localhost:8080/",
     "height": 267
    },
    "colab_type": "code",
    "id": "44hLG2TIZH-v",
    "outputId": "45b9d805-d359-4234-a111-3622718c56a7"
   },
   "outputs": [
    {
<<<<<<< HEAD
      "cell_type": "code",
      "metadata": {
        "id": "F5SSKy8mVr01",
        "colab_type": "code",
        "outputId": "e1724dcf-d068-4659-cf4d-9da2fff2c214",
        "colab": {
          "base_uri": "https://localhost:8080/",
          "height": 68
        }
      },
      "source": [
        "#the column wages has a mix of both string and float value types and some record have the symbol '$' which we want to remove\n",
        "cleaned['WAGE_RATE_OF_PAY_FROM_1'].apply(type).value_counts()"
      ],
      "execution_count": 32,
      "outputs": [
        {
          "output_type": "execute_result",
          "data": {
            "text/plain": [
              "<class 'float'>    460442\n",
              "<class 'str'>      169414\n",
              "Name: WAGE_RATE_OF_PAY_FROM_1, dtype: int64"
            ]
          },
          "metadata": {
            "tags": []
          },
          "execution_count": 32
        }
=======
     "data": {
      "text/html": [
       "<div>\n",
       "<style scoped>\n",
       "    .dataframe tbody tr th:only-of-type {\n",
       "        vertical-align: middle;\n",
       "    }\n",
       "\n",
       "    .dataframe tbody tr th {\n",
       "        vertical-align: top;\n",
       "    }\n",
       "\n",
       "    .dataframe thead th {\n",
       "        text-align: right;\n",
       "    }\n",
       "</style>\n",
       "<table border=\"1\" class=\"dataframe\">\n",
       "  <thead>\n",
       "    <tr style=\"text-align: right;\">\n",
       "      <th></th>\n",
       "      <th>CASE_NUMBER</th>\n",
       "      <th>CASE_STATUS</th>\n",
       "      <th>CASE_SUBMITTED</th>\n",
       "      <th>DECISION_DATE</th>\n",
       "      <th>VISA_CLASS</th>\n",
       "      <th>JOB_TITLE</th>\n",
       "      <th>SOC_CODE</th>\n",
       "      <th>SOC_TITLE</th>\n",
       "      <th>EMPLOYER_NAME</th>\n",
       "      <th>WAGE_RATE_OF_PAY_FROM_1</th>\n",
       "      <th>WAGE_UNIT_OF_PAY_1</th>\n",
       "      <th>WAGES</th>\n",
       "    </tr>\n",
       "  </thead>\n",
       "  <tbody>\n",
       "    <tr>\n",
       "      <th>818</th>\n",
       "      <td>I-200-18306-399497</td>\n",
       "      <td>DENIED</td>\n",
       "      <td>11/02/2018 11:37:37</td>\n",
       "      <td>11/05/2018 12:07:42</td>\n",
       "      <td>H-1B</td>\n",
       "      <td>ACCOUNTING &amp; MARKETING MANAGER FOR AFRICA</td>\n",
       "      <td>11-2021</td>\n",
       "      <td>MARKETING MANAGERS</td>\n",
       "      <td>SHOP2SHIP LLC</td>\n",
       "      <td>2000</td>\n",
       "      <td>Month</td>\n",
       "      <td>2000.0</td>\n",
       "    </tr>\n",
       "    <tr>\n",
       "      <th>826</th>\n",
       "      <td>I-200-18309-843479</td>\n",
       "      <td>CERTIFIED</td>\n",
       "      <td>11/05/2018 12:34:19</td>\n",
       "      <td>11/09/2018 22:00:34</td>\n",
       "      <td>H-1B</td>\n",
       "      <td>ACCOUNTING &amp; MARKETING MANAGER FOR AFRICA</td>\n",
       "      <td>11-2021</td>\n",
       "      <td>MARKETING MANAGERS</td>\n",
       "      <td>SHOP2SHIP LLC</td>\n",
       "      <td>2000</td>\n",
       "      <td>Month</td>\n",
       "      <td>2000.0</td>\n",
       "    </tr>\n",
       "  </tbody>\n",
       "</table>\n",
       "</div>"
      ],
      "text/plain": [
       "            CASE_NUMBER CASE_STATUS  ... WAGE_UNIT_OF_PAY_1   WAGES\n",
       "818  I-200-18306-399497      DENIED  ...              Month  2000.0\n",
       "826  I-200-18309-843479   CERTIFIED  ...              Month  2000.0\n",
       "\n",
       "[2 rows x 12 columns]"
>>>>>>> Implementation of baseline classifier for H1B visa acceptance
      ]
     },
     "execution_count": 101,
     "metadata": {
      "tags": []
     },
     "output_type": "execute_result"
    }
   ],
   "source": [
    "x=cleaned.loc[cleaned['WAGE_UNIT_OF_PAY_1']==\"Month\"]\n",
    "x.head(2)"
   ]
  },
  {
   "cell_type": "code",
   "execution_count": 0,
   "metadata": {
    "colab": {
     "base_uri": "https://localhost:8080/",
     "height": 445
    },
    "colab_type": "code",
    "id": "hCGTUT22Z6Bj",
    "outputId": "f7f3f4a6-a702-4574-8123-4042593c7041"
   },
   "outputs": [
    {
     "name": "stderr",
     "output_type": "stream",
     "text": [
      "/usr/local/lib/python3.6/dist-packages/ipykernel_launcher.py:1: SettingWithCopyWarning: \n",
      "A value is trying to be set on a copy of a slice from a DataFrame.\n",
      "Try using .loc[row_indexer,col_indexer] = value instead\n",
      "\n",
      "See the caveats in the documentation: https://pandas.pydata.org/pandas-docs/stable/user_guide/indexing.html#returning-a-view-versus-a-copy\n",
      "  \"\"\"Entry point for launching an IPython kernel.\n",
      "/usr/local/lib/python3.6/dist-packages/ipykernel_launcher.py:2: SettingWithCopyWarning: \n",
      "A value is trying to be set on a copy of a slice from a DataFrame.\n",
      "Try using .loc[row_indexer,col_indexer] = value instead\n",
      "\n",
      "See the caveats in the documentation: https://pandas.pydata.org/pandas-docs/stable/user_guide/indexing.html#returning-a-view-versus-a-copy\n",
      "  \n",
      "/usr/local/lib/python3.6/dist-packages/ipykernel_launcher.py:3: SettingWithCopyWarning: \n",
      "A value is trying to be set on a copy of a slice from a DataFrame.\n",
      "Try using .loc[row_indexer,col_indexer] = value instead\n",
      "\n",
      "See the caveats in the documentation: https://pandas.pydata.org/pandas-docs/stable/user_guide/indexing.html#returning-a-view-versus-a-copy\n",
      "  This is separate from the ipykernel package so we can avoid doing imports until\n",
      "/usr/local/lib/python3.6/dist-packages/ipykernel_launcher.py:4: SettingWithCopyWarning: \n",
      "A value is trying to be set on a copy of a slice from a DataFrame.\n",
      "Try using .loc[row_indexer,col_indexer] = value instead\n",
      "\n",
      "See the caveats in the documentation: https://pandas.pydata.org/pandas-docs/stable/user_guide/indexing.html#returning-a-view-versus-a-copy\n",
      "  after removing the cwd from sys.path.\n"
     ]
    }
   ],
   "source": [
    "# we convert the different units of pay to the type 'Year'\n",
    "cleaned['WAGES'] = np.where(cleaned['WAGE_UNIT_OF_PAY_1'] == 'Month',cleaned['WAGES'] * 12,cleaned['WAGES'])\n",
    "cleaned['WAGES'] = np.where(cleaned['WAGE_UNIT_OF_PAY_1'] == 'Hour',cleaned['WAGES'] * 2080,cleaned['WAGES']) # 2080=8 hours*5 days* 52 weeks\n",
    "cleaned['WAGES'] = np.where(cleaned['WAGE_UNIT_OF_PAY_1'] == 'Bi-Weekly',cleaned['WAGES'] *26,cleaned['WAGES'])\n",
    "cleaned['WAGES'] = np.where(cleaned['WAGE_UNIT_OF_PAY_1'] == 'Week',cleaned['WAGES'] * 52,cleaned['WAGES'])"
   ]
  },
  {
   "cell_type": "code",
   "execution_count": 0,
   "metadata": {
    "colab": {
     "base_uri": "https://localhost:8080/",
     "height": 122
    },
    "colab_type": "code",
    "id": "1Q006QHRdl-q",
    "outputId": "fc2e71d3-e33b-4344-935e-b1f277974f36"
   },
   "outputs": [
    {
<<<<<<< HEAD
      "cell_type": "code",
      "metadata": {
        "id": "Py3xCbSawIpR",
        "colab_type": "code",
        "outputId": "2bab2a5e-1ba6-48e6-cab0-ab8e8d475c97",
        "colab": {
          "base_uri": "https://localhost:8080/",
          "height": 462
        }
      },
      "source": [
        "cleaned['WAGES']=cleaned['WAGE_RATE_OF_PAY_FROM_1'].apply(clean_wages).astype('float')\n",
        "cleaned.info()"
      ],
      "execution_count": 34,
      "outputs": [
        {
          "output_type": "stream",
          "text": [
            "<class 'pandas.core.frame.DataFrame'>\n",
            "Int64Index: 629856 entries, 18 to 664616\n",
            "Data columns (total 12 columns):\n",
            " #   Column                   Non-Null Count   Dtype  \n",
            "---  ------                   --------------   -----  \n",
            " 0   CASE_NUMBER              629855 non-null  object \n",
            " 1   CASE_STATUS              629856 non-null  object \n",
            " 2   CASE_SUBMITTED           629856 non-null  object \n",
            " 3   DECISION_DATE            629856 non-null  object \n",
            " 4   VISA_CLASS               629856 non-null  object \n",
            " 5   JOB_TITLE                629856 non-null  object \n",
            " 6   SOC_CODE                 629852 non-null  object \n",
            " 7   SOC_TITLE                629852 non-null  object \n",
            " 8   EMPLOYER_NAME            629848 non-null  object \n",
            " 9   WAGE_RATE_OF_PAY_FROM_1  629852 non-null  object \n",
            " 10  WAGE_UNIT_OF_PAY_1       629852 non-null  object \n",
            " 11  WAGES                    629852 non-null  float64\n",
            "dtypes: float64(1), object(11)\n",
            "memory usage: 62.5+ MB\n"
          ],
          "name": "stdout"
        },
        {
          "output_type": "stream",
          "text": [
            "/usr/local/lib/python3.6/dist-packages/ipykernel_launcher.py:1: SettingWithCopyWarning: \n",
            "A value is trying to be set on a copy of a slice from a DataFrame.\n",
            "Try using .loc[row_indexer,col_indexer] = value instead\n",
            "\n",
            "See the caveats in the documentation: https://pandas.pydata.org/pandas-docs/stable/user_guide/indexing.html#returning-a-view-versus-a-copy\n",
            "  \"\"\"Entry point for launching an IPython kernel.\n"
          ],
          "name": "stderr"
        }
      ]
=======
     "name": "stderr",
     "output_type": "stream",
     "text": [
      "/usr/local/lib/python3.6/dist-packages/pandas/core/frame.py:3997: SettingWithCopyWarning: \n",
      "A value is trying to be set on a copy of a slice from a DataFrame\n",
      "\n",
      "See the caveats in the documentation: https://pandas.pydata.org/pandas-docs/stable/user_guide/indexing.html#returning-a-view-versus-a-copy\n",
      "  errors=errors,\n"
     ]
    }
   ],
   "source": [
    "#As we have got the information of Wages and made transformation we can drop the initial two records\n",
    "cleaned.drop(columns=['WAGE_RATE_OF_PAY_FROM_1','WAGE_UNIT_OF_PAY_1'],axis=1,inplace=True)"
   ]
  },
  {
   "cell_type": "code",
   "execution_count": 0,
   "metadata": {
    "colab": {
     "base_uri": "https://localhost:8080/",
     "height": 306
>>>>>>> Implementation of baseline classifier for H1B visa acceptance
    },
    "colab_type": "code",
    "id": "lnSktMB3bVM3",
    "outputId": "7b8d1dda-542f-4790-a415-c4b4dd5e30d2"
   },
   "outputs": [
    {
<<<<<<< HEAD
      "cell_type": "code",
      "metadata": {
        "id": "yKCdooZsQ7yD",
        "colab_type": "code",
        "outputId": "fc5bb552-3c02-475b-df4c-56b085302f1b",
        "colab": {
          "base_uri": "https://localhost:8080/",
          "height": 119
        }
      },
      "source": [
        "# the wage information that we have available has different unit of pay\n",
        "cleaned['WAGE_UNIT_OF_PAY_1'].value_counts()"
      ],
      "execution_count": 35,
      "outputs": [
        {
          "output_type": "execute_result",
          "data": {
            "text/plain": [
              "Year         587386\n",
              "Hour          41927\n",
              "Month           342\n",
              "Bi-Weekly       105\n",
              "Week             92\n",
              "Name: WAGE_UNIT_OF_PAY_1, dtype: int64"
            ]
          },
          "metadata": {
            "tags": []
          },
          "execution_count": 35
        }
      ]
=======
     "name": "stdout",
     "output_type": "stream",
     "text": [
      "<class 'pandas.core.frame.DataFrame'>\n",
      "Int64Index: 629856 entries, 18 to 664616\n",
      "Data columns (total 10 columns):\n",
      " #   Column          Non-Null Count   Dtype  \n",
      "---  ------          --------------   -----  \n",
      " 0   CASE_NUMBER     629855 non-null  object \n",
      " 1   CASE_STATUS     629856 non-null  object \n",
      " 2   CASE_SUBMITTED  629856 non-null  object \n",
      " 3   DECISION_DATE   629856 non-null  object \n",
      " 4   VISA_CLASS      629856 non-null  object \n",
      " 5   JOB_TITLE       629856 non-null  object \n",
      " 6   SOC_CODE        629852 non-null  object \n",
      " 7   SOC_TITLE       629852 non-null  object \n",
      " 8   EMPLOYER_NAME   629848 non-null  object \n",
      " 9   WAGES           629852 non-null  float64\n",
      "dtypes: float64(1), object(9)\n",
      "memory usage: 52.9+ MB\n"
     ]
    }
   ],
   "source": [
    "cleaned.info()"
   ]
  },
  {
   "cell_type": "code",
   "execution_count": 0,
   "metadata": {
    "colab": {
     "base_uri": "https://localhost:8080/",
     "height": 51
>>>>>>> Implementation of baseline classifier for H1B visa acceptance
    },
    "colab_type": "code",
    "id": "RyS7f3eIbcCl",
    "outputId": "73bcfc75-0e57-4652-cb28-50033a6cab2b"
   },
   "outputs": [
    {
<<<<<<< HEAD
      "cell_type": "code",
      "metadata": {
        "id": "44hLG2TIZH-v",
        "colab_type": "code",
        "outputId": "1329e438-e2cc-48c9-893e-4d3d4f82aabf",
        "colab": {
          "base_uri": "https://localhost:8080/",
          "height": 267
        }
      },
      "source": [
        "x=cleaned.loc[cleaned['WAGE_UNIT_OF_PAY_1']==\"Month\"]\n",
        "x.head(2)"
      ],
      "execution_count": 36,
      "outputs": [
        {
          "output_type": "execute_result",
          "data": {
            "text/html": [
              "<div>\n",
              "<style scoped>\n",
              "    .dataframe tbody tr th:only-of-type {\n",
              "        vertical-align: middle;\n",
              "    }\n",
              "\n",
              "    .dataframe tbody tr th {\n",
              "        vertical-align: top;\n",
              "    }\n",
              "\n",
              "    .dataframe thead th {\n",
              "        text-align: right;\n",
              "    }\n",
              "</style>\n",
              "<table border=\"1\" class=\"dataframe\">\n",
              "  <thead>\n",
              "    <tr style=\"text-align: right;\">\n",
              "      <th></th>\n",
              "      <th>CASE_NUMBER</th>\n",
              "      <th>CASE_STATUS</th>\n",
              "      <th>CASE_SUBMITTED</th>\n",
              "      <th>DECISION_DATE</th>\n",
              "      <th>VISA_CLASS</th>\n",
              "      <th>JOB_TITLE</th>\n",
              "      <th>SOC_CODE</th>\n",
              "      <th>SOC_TITLE</th>\n",
              "      <th>EMPLOYER_NAME</th>\n",
              "      <th>WAGE_RATE_OF_PAY_FROM_1</th>\n",
              "      <th>WAGE_UNIT_OF_PAY_1</th>\n",
              "      <th>WAGES</th>\n",
              "    </tr>\n",
              "  </thead>\n",
              "  <tbody>\n",
              "    <tr>\n",
              "      <th>818</th>\n",
              "      <td>I-200-18306-399497</td>\n",
              "      <td>DENIED</td>\n",
              "      <td>11/02/2018 11:37:37</td>\n",
              "      <td>11/05/2018 12:07:42</td>\n",
              "      <td>H-1B</td>\n",
              "      <td>ACCOUNTING &amp; MARKETING MANAGER FOR AFRICA</td>\n",
              "      <td>11-2021</td>\n",
              "      <td>MARKETING MANAGERS</td>\n",
              "      <td>SHOP2SHIP LLC</td>\n",
              "      <td>2000</td>\n",
              "      <td>Month</td>\n",
              "      <td>2000.0</td>\n",
              "    </tr>\n",
              "    <tr>\n",
              "      <th>826</th>\n",
              "      <td>I-200-18309-843479</td>\n",
              "      <td>CERTIFIED</td>\n",
              "      <td>11/05/2018 12:34:19</td>\n",
              "      <td>11/09/2018 22:00:34</td>\n",
              "      <td>H-1B</td>\n",
              "      <td>ACCOUNTING &amp; MARKETING MANAGER FOR AFRICA</td>\n",
              "      <td>11-2021</td>\n",
              "      <td>MARKETING MANAGERS</td>\n",
              "      <td>SHOP2SHIP LLC</td>\n",
              "      <td>2000</td>\n",
              "      <td>Month</td>\n",
              "      <td>2000.0</td>\n",
              "    </tr>\n",
              "  </tbody>\n",
              "</table>\n",
              "</div>"
            ],
            "text/plain": [
              "            CASE_NUMBER CASE_STATUS  ... WAGE_UNIT_OF_PAY_1   WAGES\n",
              "818  I-200-18306-399497      DENIED  ...              Month  2000.0\n",
              "826  I-200-18309-843479   CERTIFIED  ...              Month  2000.0\n",
              "\n",
              "[2 rows x 12 columns]"
            ]
          },
          "metadata": {
            "tags": []
          },
          "execution_count": 36
        }
      ]
=======
     "name": "stdout",
     "output_type": "stream",
     "text": [
      "(17, 10)\n",
      "(629856, 10)\n"
     ]
    }
   ],
   "source": [
    "\"\"\"\n",
    "We should remove record that have null objects, from the above cell we see\n",
    "that all columns don't have same number of non-null records\n",
    "which means we have to remove the records that have the null values.\n",
    "we see that there are about 17 records that have null values\n",
    "\"\"\" \n",
    "null_rows = cleaned.isnull().any(axis=1)\n",
    "print(cleaned[null_rows].shape)\n",
    "print(cleaned.shape)"
   ]
  },
  {
   "cell_type": "code",
   "execution_count": 0,
   "metadata": {
    "colab": {
     "base_uri": "https://localhost:8080/",
     "height": 139
>>>>>>> Implementation of baseline classifier for H1B visa acceptance
    },
    "colab_type": "code",
    "id": "keAByWsddXRe",
    "outputId": "a511795c-fd48-4a61-89c4-9af9e6065f01"
   },
   "outputs": [
    {
<<<<<<< HEAD
      "cell_type": "code",
      "metadata": {
        "id": "hCGTUT22Z6Bj",
        "colab_type": "code",
        "outputId": "8b685159-3c9c-4fb9-f476-89239035f090",
        "colab": {
          "base_uri": "https://localhost:8080/",
          "height": 445
        }
      },
      "source": [
        "# we convert the different units of pay to the type 'Year'\n",
        "cleaned['WAGES'] = np.where(cleaned['WAGE_UNIT_OF_PAY_1'] == 'Month',cleaned['WAGES'] * 12,cleaned['WAGES'])\n",
        "cleaned['WAGES'] = np.where(cleaned['WAGE_UNIT_OF_PAY_1'] == 'Hour',cleaned['WAGES'] * 2080,cleaned['WAGES']) # 2080=8 hours*5 days* 52 weeks\n",
        "cleaned['WAGES'] = np.where(cleaned['WAGE_UNIT_OF_PAY_1'] == 'Bi-Weekly',cleaned['WAGES'] *26,cleaned['WAGES'])\n",
        "cleaned['WAGES'] = np.where(cleaned['WAGE_UNIT_OF_PAY_1'] == 'Week',cleaned['WAGES'] * 52,cleaned['WAGES'])"
      ],
      "execution_count": 37,
      "outputs": [
        {
          "output_type": "stream",
          "text": [
            "/usr/local/lib/python3.6/dist-packages/ipykernel_launcher.py:1: SettingWithCopyWarning: \n",
            "A value is trying to be set on a copy of a slice from a DataFrame.\n",
            "Try using .loc[row_indexer,col_indexer] = value instead\n",
            "\n",
            "See the caveats in the documentation: https://pandas.pydata.org/pandas-docs/stable/user_guide/indexing.html#returning-a-view-versus-a-copy\n",
            "  \"\"\"Entry point for launching an IPython kernel.\n",
            "/usr/local/lib/python3.6/dist-packages/ipykernel_launcher.py:2: SettingWithCopyWarning: \n",
            "A value is trying to be set on a copy of a slice from a DataFrame.\n",
            "Try using .loc[row_indexer,col_indexer] = value instead\n",
            "\n",
            "See the caveats in the documentation: https://pandas.pydata.org/pandas-docs/stable/user_guide/indexing.html#returning-a-view-versus-a-copy\n",
            "  \n",
            "/usr/local/lib/python3.6/dist-packages/ipykernel_launcher.py:3: SettingWithCopyWarning: \n",
            "A value is trying to be set on a copy of a slice from a DataFrame.\n",
            "Try using .loc[row_indexer,col_indexer] = value instead\n",
            "\n",
            "See the caveats in the documentation: https://pandas.pydata.org/pandas-docs/stable/user_guide/indexing.html#returning-a-view-versus-a-copy\n",
            "  This is separate from the ipykernel package so we can avoid doing imports until\n",
            "/usr/local/lib/python3.6/dist-packages/ipykernel_launcher.py:4: SettingWithCopyWarning: \n",
            "A value is trying to be set on a copy of a slice from a DataFrame.\n",
            "Try using .loc[row_indexer,col_indexer] = value instead\n",
            "\n",
            "See the caveats in the documentation: https://pandas.pydata.org/pandas-docs/stable/user_guide/indexing.html#returning-a-view-versus-a-copy\n",
            "  after removing the cwd from sys.path.\n"
          ],
          "name": "stderr"
        }
      ]
    },
    {
      "cell_type": "code",
      "metadata": {
        "id": "1Q006QHRdl-q",
        "colab_type": "code",
        "outputId": "76478cd1-5dc2-4c45-b4b6-3d11776cc897",
        "colab": {
          "base_uri": "https://localhost:8080/",
          "height": 122
        }
      },
      "source": [
        "#As we have got the information of Wages and made transformation we can drop the initial two records\n",
        "cleaned.drop(columns=['WAGE_RATE_OF_PAY_FROM_1','WAGE_UNIT_OF_PAY_1'],axis=1,inplace=True)"
      ],
      "execution_count": 38,
      "outputs": [
        {
          "output_type": "stream",
          "text": [
            "/usr/local/lib/python3.6/dist-packages/pandas/core/frame.py:3997: SettingWithCopyWarning: \n",
            "A value is trying to be set on a copy of a slice from a DataFrame\n",
            "\n",
            "See the caveats in the documentation: https://pandas.pydata.org/pandas-docs/stable/user_guide/indexing.html#returning-a-view-versus-a-copy\n",
            "  errors=errors,\n"
          ],
          "name": "stderr"
        }
      ]
=======
     "name": "stdout",
     "output_type": "stream",
     "text": [
      "(629839, 10)\n"
     ]
    },
    {
     "name": "stderr",
     "output_type": "stream",
     "text": [
      "/usr/local/lib/python3.6/dist-packages/ipykernel_launcher.py:1: SettingWithCopyWarning: \n",
      "A value is trying to be set on a copy of a slice from a DataFrame\n",
      "\n",
      "See the caveats in the documentation: https://pandas.pydata.org/pandas-docs/stable/user_guide/indexing.html#returning-a-view-versus-a-copy\n",
      "  \"\"\"Entry point for launching an IPython kernel.\n"
     ]
    }
   ],
   "source": [
    "cleaned.dropna(inplace=True)\n",
    "print(cleaned.shape)"
   ]
  },
  {
   "cell_type": "code",
   "execution_count": 0,
   "metadata": {
    "colab": {
     "base_uri": "https://localhost:8080/",
     "height": 221
>>>>>>> Implementation of baseline classifier for H1B visa acceptance
    },
    "colab_type": "code",
    "id": "9Aa-4cFWnW6s",
    "outputId": "af8f02b3-9c7b-4ea6-aa56-ca718e849d7e"
   },
   "outputs": [
    {
<<<<<<< HEAD
      "cell_type": "code",
      "metadata": {
        "id": "lnSktMB3bVM3",
        "colab_type": "code",
        "outputId": "317c111f-10f1-4c64-a9f2-9fc6e6032bb1",
        "colab": {
          "base_uri": "https://localhost:8080/",
          "height": 306
        }
      },
      "source": [
        "cleaned.info()"
      ],
      "execution_count": 39,
      "outputs": [
        {
          "output_type": "stream",
          "text": [
            "<class 'pandas.core.frame.DataFrame'>\n",
            "Int64Index: 629856 entries, 18 to 664616\n",
            "Data columns (total 10 columns):\n",
            " #   Column          Non-Null Count   Dtype  \n",
            "---  ------          --------------   -----  \n",
            " 0   CASE_NUMBER     629855 non-null  object \n",
            " 1   CASE_STATUS     629856 non-null  object \n",
            " 2   CASE_SUBMITTED  629856 non-null  object \n",
            " 3   DECISION_DATE   629856 non-null  object \n",
            " 4   VISA_CLASS      629856 non-null  object \n",
            " 5   JOB_TITLE       629856 non-null  object \n",
            " 6   SOC_CODE        629852 non-null  object \n",
            " 7   SOC_TITLE       629852 non-null  object \n",
            " 8   EMPLOYER_NAME   629848 non-null  object \n",
            " 9   WAGES           629852 non-null  float64\n",
            "dtypes: float64(1), object(9)\n",
            "memory usage: 52.9+ MB\n"
          ],
          "name": "stdout"
        }
=======
     "data": {
      "text/plain": [
       "SOFTWARE ENGINEER                                        33199\n",
       "SOFTWARE DEVELOPER                                       33057\n",
       "SENIOR SYSTEMS ANALYST JC60                              12759\n",
       "SENIOR SOFTWARE ENGINEER                                  8135\n",
       "MANAGER JC50                                              8118\n",
       "                                                         ...  \n",
       "SOFTWARE ENGINEER 1615.36457                                 1\n",
       "IT SR. LEAD APPLICATION DEVELOPMENT ASSOCIATE/ANALYST        1\n",
       "ENGINEER SR. SYSTEM                                          1\n",
       "SENIOR PROGRAM OFFICER, POLIO                                1\n",
       "SR. ENGINEER 1 - SOFTWARE ENGINEER                           1\n",
       "Name: JOB_TITLE, Length: 108139, dtype: int64"
>>>>>>> Implementation of baseline classifier for H1B visa acceptance
      ]
     },
     "execution_count": 107,
     "metadata": {
      "tags": []
     },
     "output_type": "execute_result"
    }
   ],
   "source": [
    "cleaned['JOB_TITLE'].value_counts()"
   ]
  },
  {
   "cell_type": "code",
   "execution_count": 119,
   "metadata": {
    "colab": {
     "base_uri": "https://localhost:8080/",
     "height": 649
    },
    "colab_type": "code",
    "id": "bwgV1bu5sXlE",
    "outputId": "d13ef6ef-7ce5-420d-f1a3-5ed3cfe6882f"
   },
   "outputs": [
    {
<<<<<<< HEAD
      "cell_type": "code",
      "metadata": {
        "id": "RyS7f3eIbcCl",
        "colab_type": "code",
        "outputId": "d98f14c8-d15f-40ed-c02d-abb8592c786f",
        "colab": {
          "base_uri": "https://localhost:8080/",
          "height": 51
        }
      },
      "source": [
        "\"\"\"\n",
        "We should remove record that have null objects, from the above cell we see\n",
        "that all columns don't have same number of non-null records\n",
        "which means we have to remove the records that have the null values.\n",
        "we see that there are about 17 records that have null values\n",
        "\"\"\" \n",
        "null_rows = cleaned.isnull().any(axis=1)\n",
        "print(cleaned[null_rows].shape)\n",
        "print(cleaned.shape)"
      ],
      "execution_count": 40,
      "outputs": [
        {
          "output_type": "stream",
          "text": [
            "(17, 10)\n",
            "(629856, 10)\n"
          ],
          "name": "stdout"
        }
      ]
    },
    {
      "cell_type": "code",
      "metadata": {
        "id": "keAByWsddXRe",
        "colab_type": "code",
        "outputId": "a7cdb646-360d-46fd-c663-36ba7e1be79e",
        "colab": {
          "base_uri": "https://localhost:8080/",
          "height": 139
        }
      },
      "source": [
        "cleaned.dropna(inplace=True)\n",
        "print(cleaned.shape)"
      ],
      "execution_count": 41,
      "outputs": [
        {
          "output_type": "stream",
          "text": [
            "(629839, 10)\n"
          ],
          "name": "stdout"
        },
        {
          "output_type": "stream",
          "text": [
            "/usr/local/lib/python3.6/dist-packages/ipykernel_launcher.py:1: SettingWithCopyWarning: \n",
            "A value is trying to be set on a copy of a slice from a DataFrame\n",
            "\n",
            "See the caveats in the documentation: https://pandas.pydata.org/pandas-docs/stable/user_guide/indexing.html#returning-a-view-versus-a-copy\n",
            "  \"\"\"Entry point for launching an IPython kernel.\n"
          ],
          "name": "stderr"
        }
=======
     "name": "stderr",
     "output_type": "stream",
     "text": [
      "/usr/local/lib/python3.6/dist-packages/ipykernel_launcher.py:5: SettingWithCopyWarning: \n",
      "A value is trying to be set on a copy of a slice from a DataFrame.\n",
      "Try using .loc[row_indexer,col_indexer] = value instead\n",
      "\n",
      "See the caveats in the documentation: https://pandas.pydata.org/pandas-docs/stable/user_guide/indexing.html#returning-a-view-versus-a-copy\n",
      "  \"\"\"\n",
      "/usr/local/lib/python3.6/dist-packages/ipykernel_launcher.py:6: SettingWithCopyWarning: \n",
      "A value is trying to be set on a copy of a slice from a DataFrame.\n",
      "Try using .loc[row_indexer,col_indexer] = value instead\n",
      "\n",
      "See the caveats in the documentation: https://pandas.pydata.org/pandas-docs/stable/user_guide/indexing.html#returning-a-view-versus-a-copy\n",
      "  \n",
      "/usr/local/lib/python3.6/dist-packages/ipykernel_launcher.py:7: SettingWithCopyWarning: \n",
      "A value is trying to be set on a copy of a slice from a DataFrame.\n",
      "Try using .loc[row_indexer,col_indexer] = value instead\n",
      "\n",
      "See the caveats in the documentation: https://pandas.pydata.org/pandas-docs/stable/user_guide/indexing.html#returning-a-view-versus-a-copy\n",
      "  import sys\n",
      "/usr/local/lib/python3.6/dist-packages/ipykernel_launcher.py:8: SettingWithCopyWarning: \n",
      "A value is trying to be set on a copy of a slice from a DataFrame.\n",
      "Try using .loc[row_indexer,col_indexer] = value instead\n",
      "\n",
      "See the caveats in the documentation: https://pandas.pydata.org/pandas-docs/stable/user_guide/indexing.html#returning-a-view-versus-a-copy\n",
      "  \n"
     ]
    },
    {
     "data": {
      "text/plain": [
       "software developers application                      208502\n",
       "computer system analyst                               71188\n",
       "computer occupations all other                        54490\n",
       "software developers system software                   30591\n",
       "computer programmer                                   16623\n",
       "                                                      ...  \n",
       "health and safety engs. except mining safety engs         1\n",
       "computer and information manager system manager           1\n",
       "recreation and fitness study teacher postsecond           1\n",
       "information tectology project manager                     1\n",
       "maintenance and repair workers general                    1\n",
       "Name: JOB_TITLE, Length: 729, dtype: int64"
>>>>>>> Implementation of baseline classifier for H1B visa acceptance
      ]
     },
     "execution_count": 119,
     "metadata": {
      "tags": []
     },
     "output_type": "execute_result"
    }
   ],
   "source": [
    "#we see that the job title has integers(words with integers also) \n",
    "#removing comma also\n",
    "def remove_num(text):\n",
    "  if not any(c.isdigit() for c in text):\n",
    "    return text\n",
    "  return ''\n",
    "cleaned['JOB_TITLE']=cleaned.JOB_TITLE.apply(lambda txt: \" \".join([remove_num(i) for i in txt.lower().split()]))\n",
    "cleaned['JOB_TITLE']=cleaned['JOB_TITLE'].str.replace(',', '')\n",
    "cleaned['SOC_TITLE']=cleaned.SOC_TITLE.apply(lambda txt: \" \".join([remove_num(i) for i in txt.lower().split()]))\n",
    "cleaned['JOB_TITLE']=cleaned['SOC_TITLE'].str.replace(',', '')\n",
    "\n",
    "cleaned.head()\n",
    "cleaned['JOB_TITLE'].value_counts()"
   ]
  },
  {
   "cell_type": "code",
   "execution_count": 0,
   "metadata": {
    "colab": {
     "base_uri": "https://localhost:8080/",
     "height": 68
    },
    "colab_type": "code",
    "id": "15py5C4RfXIj",
    "outputId": "d4c3433e-df89-4f85-e559-7d775ab1c113"
   },
   "outputs": [
    {
<<<<<<< HEAD
      "cell_type": "code",
      "metadata": {
        "id": "9Aa-4cFWnW6s",
        "colab_type": "code",
        "outputId": "2f7ede92-1688-48ed-a1d9-0e961ddd92f2",
        "colab": {
          "base_uri": "https://localhost:8080/",
          "height": 221
        }
      },
      "source": [
        "cleaned['JOB_TITLE'].value_counts()"
      ],
      "execution_count": 42,
      "outputs": [
        {
          "output_type": "execute_result",
          "data": {
            "text/plain": [
              "SOFTWARE ENGINEER                     33199\n",
              "SOFTWARE DEVELOPER                    33057\n",
              "SENIOR SYSTEMS ANALYST JC60           12759\n",
              "SENIOR SOFTWARE ENGINEER               8135\n",
              "MANAGER JC50                           8118\n",
              "                                      ...  \n",
              "SR. BUSINESS ANALYST/PRODUCT OWNER        1\n",
              "DIRECTOR FOUNDATION PARTNERSHIPS          1\n",
              "PROFESSOR, APPLIED ENGINEERING            1\n",
              "ORACLE EBS FINANCIALS CONSULTANT          1\n",
              "PRODUCT PRINCIPAL                         1\n",
              "Name: JOB_TITLE, Length: 108139, dtype: int64"
            ]
          },
          "metadata": {
            "tags": []
          },
          "execution_count": 42
        }
      ]
=======
     "name": "stdout",
     "output_type": "stream",
     "text": [
      "[nltk_data] Downloading package words to /root/nltk_data...\n",
      "[nltk_data]   Package words is already up-to-date!\n",
      "computer science program check\n"
     ]
    }
   ],
   "source": [
    "#code to clean and group the JOB_TITLE COLUMN\n",
    "# lemmatization and spell check function\n",
    "nltk.download('words')\n",
    "lemmatizer = nltk.stem.WordNetLemmatizer()\n",
    "words = set(nltk.corpus.words.words())\n",
    "spell = Speller()\n",
    "\n",
    "\n",
    "def lemmatize_text(text):\n",
    "  return lemmatizer.lemmatize(text)\n",
    "\n",
    "def spelling_checker(text):\n",
    "  return spell(text)\n",
    " \n",
    "print(spelling_checker(\"computr sciece progam check\"))"
   ]
  },
  {
   "cell_type": "code",
   "execution_count": 118,
   "metadata": {
    "colab": {
     "base_uri": "https://localhost:8080/",
     "height": 547
>>>>>>> Implementation of baseline classifier for H1B visa acceptance
    },
    "colab_type": "code",
    "id": "47-lIQIifvvr",
    "outputId": "12b3a040-a3ed-4530-90a1-5ac1deeaedd7"
   },
   "outputs": [
    {
<<<<<<< HEAD
      "cell_type": "code",
      "metadata": {
        "id": "bwgV1bu5sXlE",
        "colab_type": "code",
        "outputId": "9c4dd991-a414-4730-e660-ba9fe3fc5844",
        "colab": {
          "base_uri": "https://localhost:8080/",
          "height": 649
        }
      },
      "source": [
        "#we see that the job title has integers(words with integers also) \n",
        "#removing comma also\n",
        "def remove_num(text):\n",
        "  if not any(c.isdigit() for c in text):\n",
        "    return text\n",
        "  return ''\n",
        "cleaned['JOB_TITLE']=cleaned.JOB_TITLE.apply(lambda txt: \" \".join([remove_num(i) for i in txt.lower().split()]))\n",
        "cleaned['JOB_TITLE']=cleaned['JOB_TITLE'].str.replace(',', '')\n",
        "cleaned['SOC_TITLE']=cleaned.SOC_TITLE.apply(lambda txt: \" \".join([remove_num(i) for i in txt.lower().split()]))\n",
        "cleaned['SOC_TITLE']=cleaned['SOC_TITLE'].str.replace(',', '')\n",
        "\n",
        "cleaned.head()\n",
        "cleaned['JOB_TITLE'].value_counts()"
      ],
      "execution_count": 43,
      "outputs": [
        {
          "output_type": "stream",
          "text": [
            "/usr/local/lib/python3.6/dist-packages/ipykernel_launcher.py:5: SettingWithCopyWarning: \n",
            "A value is trying to be set on a copy of a slice from a DataFrame.\n",
            "Try using .loc[row_indexer,col_indexer] = value instead\n",
            "\n",
            "See the caveats in the documentation: https://pandas.pydata.org/pandas-docs/stable/user_guide/indexing.html#returning-a-view-versus-a-copy\n",
            "  \"\"\"\n",
            "/usr/local/lib/python3.6/dist-packages/ipykernel_launcher.py:6: SettingWithCopyWarning: \n",
            "A value is trying to be set on a copy of a slice from a DataFrame.\n",
            "Try using .loc[row_indexer,col_indexer] = value instead\n",
            "\n",
            "See the caveats in the documentation: https://pandas.pydata.org/pandas-docs/stable/user_guide/indexing.html#returning-a-view-versus-a-copy\n",
            "  \n",
            "/usr/local/lib/python3.6/dist-packages/ipykernel_launcher.py:7: SettingWithCopyWarning: \n",
            "A value is trying to be set on a copy of a slice from a DataFrame.\n",
            "Try using .loc[row_indexer,col_indexer] = value instead\n",
            "\n",
            "See the caveats in the documentation: https://pandas.pydata.org/pandas-docs/stable/user_guide/indexing.html#returning-a-view-versus-a-copy\n",
            "  import sys\n",
            "/usr/local/lib/python3.6/dist-packages/ipykernel_launcher.py:8: SettingWithCopyWarning: \n",
            "A value is trying to be set on a copy of a slice from a DataFrame.\n",
            "Try using .loc[row_indexer,col_indexer] = value instead\n",
            "\n",
            "See the caveats in the documentation: https://pandas.pydata.org/pandas-docs/stable/user_guide/indexing.html#returning-a-view-versus-a-copy\n",
            "  \n"
          ],
          "name": "stderr"
        },
        {
          "output_type": "execute_result",
          "data": {
            "text/plain": [
              "software engineer                            33391\n",
              "software developer                           33146\n",
              "senior systems analyst                       12760\n",
              "senior software engineer                      8149\n",
              "manager                                       8127\n",
              "                                             ...  \n",
              "engineer-dry etch process                        1\n",
              "analyst - business data                          1\n",
              "sr business process analyst-manufacturing        1\n",
              "solutions architect senior advisor               1\n",
              "senior associate regulatory operations           1\n",
              "Name: JOB_TITLE, Length: 96188, dtype: int64"
            ]
          },
          "metadata": {
            "tags": []
          },
          "execution_count": 43
        }
      ]
    },
    {
      "cell_type": "code",
      "metadata": {
        "id": "15py5C4RfXIj",
        "colab_type": "code",
        "outputId": "b88fea52-981c-4dbf-ce78-dac0759f86df",
        "colab": {
          "base_uri": "https://localhost:8080/",
          "height": 68
        }
      },
      "source": [
        "#code to clean and group the JOB_TITLE COLUMN\n",
        "# lemmatization and spell check function\n",
        "nltk.download('words')\n",
        "lemmatizer = nltk.stem.WordNetLemmatizer()\n",
        "words = set(nltk.corpus.words.words())\n",
        "spell = Speller()\n",
        "\n",
        "\n",
        "def lemmatize_text(text):\n",
        "  return lemmatizer.lemmatize(text)\n",
        "\n",
        "def spelling_checker(text):\n",
        "  return spell(text)\n",
        " \n",
        "print(spelling_checker(\"computr sciece progam check\"))"
      ],
      "execution_count": 44,
      "outputs": [
        {
          "output_type": "stream",
          "text": [
            "[nltk_data] Downloading package words to /root/nltk_data...\n",
            "[nltk_data]   Unzipping corpora/words.zip.\n",
            "computer science program check\n"
          ],
          "name": "stdout"
        }
=======
     "name": "stderr",
     "output_type": "stream",
     "text": [
      "/usr/local/lib/python3.6/dist-packages/ipykernel_launcher.py:1: SettingWithCopyWarning: \n",
      "A value is trying to be set on a copy of a slice from a DataFrame.\n",
      "Try using .loc[row_indexer,col_indexer] = value instead\n",
      "\n",
      "See the caveats in the documentation: https://pandas.pydata.org/pandas-docs/stable/user_guide/indexing.html#returning-a-view-versus-a-copy\n",
      "  \"\"\"Entry point for launching an IPython kernel.\n",
      "/usr/local/lib/python3.6/dist-packages/ipykernel_launcher.py:2: SettingWithCopyWarning: \n",
      "A value is trying to be set on a copy of a slice from a DataFrame.\n",
      "Try using .loc[row_indexer,col_indexer] = value instead\n",
      "\n",
      "See the caveats in the documentation: https://pandas.pydata.org/pandas-docs/stable/user_guide/indexing.html#returning-a-view-versus-a-copy\n",
      "  \n",
      "/usr/local/lib/python3.6/dist-packages/pandas/core/generic.py:5303: SettingWithCopyWarning: \n",
      "A value is trying to be set on a copy of a slice from a DataFrame.\n",
      "Try using .loc[row_indexer,col_indexer] = value instead\n",
      "\n",
      "See the caveats in the documentation: https://pandas.pydata.org/pandas-docs/stable/user_guide/indexing.html#returning-a-view-versus-a-copy\n",
      "  self[name] = value\n"
     ]
    },
    {
     "data": {
      "text/plain": [
       "software developer application                   208691\n",
       "computer system analyst                           71188\n",
       "computer occupation all other                     54486\n",
       "software developer system software                30600\n",
       "computer programmer                               16623\n",
       "                                                  ...  \n",
       "plumber pipefitter and steamfitter                    1\n",
       "security commodity and financial service sale         1\n",
       "broadcast technician                                  1\n",
       "musical instrument repairer and tuner                 1\n",
       "software develops application                         1\n",
       "Name: JOB_TITLE, Length: 716, dtype: int64"
>>>>>>> Implementation of baseline classifier for H1B visa acceptance
      ]
     },
     "execution_count": 118,
     "metadata": {
      "tags": []
     },
     "output_type": "execute_result"
    }
   ],
   "source": [
    "cleaned['JOB_TITLE']=cleaned.JOB_TITLE.apply(lambda txt: \" \".join([lemmatize_text(i) for i in txt.lower().split()]))\n",
    "cleaned['SOC_TITLE']=cleaned.SOC_TITLE.apply(lambda txt: \" \".join([lemmatize_text(i) for i in txt.lower().split()]))\n",
    "\n",
    "cleaned.JOB_TITLE = cleaned.JOB_TITLE.apply(lambda txt: \" \".join([spelling_checker(i) for i in txt.lower().split()]))\n",
    "cleaned.SOC_TITLE = cleaned.SOC_TITLE.apply(lambda txt: \" \".join([spelling_checker(i) for i in txt.lower().split()]))\n",
    "\n",
    "#cleaned['JOB_TITLE']=cleaned.JOB_TITLE.apply(lambda txt: \" \".join([remove_text(i) for i in txt.lower().split()]))\n",
    "cleaned['JOB_TITLE'].value_counts() "
   ]
  },
  {
   "cell_type": "code",
   "execution_count": 0,
   "metadata": {
    "colab": {
     "base_uri": "https://localhost:8080/",
     "height": 451
    },
    "colab_type": "code",
    "id": "fNjXyrLzntEN",
    "outputId": "388d4b68-ba29-4af2-d70f-9e4a35d06d13"
   },
   "outputs": [
    {
<<<<<<< HEAD
      "cell_type": "code",
      "metadata": {
        "id": "47-lIQIifvvr",
        "colab_type": "code",
        "outputId": "885afcb2-3c01-454f-cd71-5c7c51942b83",
        "colab": {
          "base_uri": "https://localhost:8080/",
          "height": 445
        }
      },
      "source": [
        "#this part takes more time because spell_checker \n",
        "cleaned['JOB_TITLE']=cleaned.JOB_TITLE.apply(lambda txt: \" \".join([lemmatize_text(i) for i in txt.lower().split()]))\n",
        "cleaned['SOC_TITLE']=cleaned.SOC_TITLE.apply(lambda txt: \" \".join([lemmatize_text(i) for i in txt.lower().split()]))\n",
        "\n",
        "cleaned['JOB_TITLE']=cleaned.JOB_TITLE.apply(lambda txt: \" \".join([spelling_checker(i) for i in txt.lower().split()]))\n",
        "cleaned['SOC_TITLE']=cleaned.SOC_TITLE.apply(lambda txt: \" \".join([spelling_checker(i) for i in txt.lower().split()]))\n",
        "\n",
        "#cleaned['JOB_TITLE']=cleaned.JOB_TITLE.apply(lambda txt: \" \".join([remove_text(i) for i in txt.lower().split()]))\n",
        "cleaned['JOB_TITLE'].value_counts() "
      ],
      "execution_count": 47,
      "outputs": [
        {
          "output_type": "stream",
          "text": [
            "/usr/local/lib/python3.6/dist-packages/ipykernel_launcher.py:1: SettingWithCopyWarning: \n",
            "A value is trying to be set on a copy of a slice from a DataFrame.\n",
            "Try using .loc[row_indexer,col_indexer] = value instead\n",
            "\n",
            "See the caveats in the documentation: https://pandas.pydata.org/pandas-docs/stable/user_guide/indexing.html#returning-a-view-versus-a-copy\n",
            "  \"\"\"Entry point for launching an IPython kernel.\n",
            "/usr/local/lib/python3.6/dist-packages/ipykernel_launcher.py:2: SettingWithCopyWarning: \n",
            "A value is trying to be set on a copy of a slice from a DataFrame.\n",
            "Try using .loc[row_indexer,col_indexer] = value instead\n",
            "\n",
            "See the caveats in the documentation: https://pandas.pydata.org/pandas-docs/stable/user_guide/indexing.html#returning-a-view-versus-a-copy\n",
            "  \n"
          ],
          "name": "stderr"
        },
        {
          "output_type": "execute_result",
          "data": {
            "text/plain": [
              "software engineer                                         40676\n",
              "software developer                                        33360\n",
              "senior system analyst                                     13300\n",
              "manager                                                    9598\n",
              "senior software engineer                                   8295\n",
              "                                                          ...  \n",
              "assistant professor in supply chain management                1\n",
              "director technical product management customer journey        1\n",
              "assistant project director                                    1\n",
              "consultant (lead developer)                                   1\n",
              "network system engineer - collaboration                       1\n",
              "Name: JOB_TITLE, Length: 92758, dtype: int64"
            ]
          },
          "metadata": {
            "tags": []
          },
          "execution_count": 47
        }
=======
     "data": {
      "text/html": [
       "<div>\n",
       "<style scoped>\n",
       "    .dataframe tbody tr th:only-of-type {\n",
       "        vertical-align: middle;\n",
       "    }\n",
       "\n",
       "    .dataframe tbody tr th {\n",
       "        vertical-align: top;\n",
       "    }\n",
       "\n",
       "    .dataframe thead th {\n",
       "        text-align: right;\n",
       "    }\n",
       "</style>\n",
       "<table border=\"1\" class=\"dataframe\">\n",
       "  <thead>\n",
       "    <tr style=\"text-align: right;\">\n",
       "      <th></th>\n",
       "      <th>JOB_TITLE</th>\n",
       "      <th>WAGES</th>\n",
       "    </tr>\n",
       "  </thead>\n",
       "  <tbody>\n",
       "    <tr>\n",
       "      <th>64790</th>\n",
       "      <td>senior applications engineer - power management</td>\n",
       "      <td>98847500.00</td>\n",
       "    </tr>\n",
       "    <tr>\n",
       "      <th>47728</th>\n",
       "      <td>nurse practitioners (licensed)</td>\n",
       "      <td>97780945.60</td>\n",
       "    </tr>\n",
       "    <tr>\n",
       "      <th>80095</th>\n",
       "      <td>specialist web developer</td>\n",
       "      <td>74060709.00</td>\n",
       "    </tr>\n",
       "    <tr>\n",
       "      <th>14470</th>\n",
       "      <td>chemists</td>\n",
       "      <td>41649665.05</td>\n",
       "    </tr>\n",
       "    <tr>\n",
       "      <th>38055</th>\n",
       "      <td>jr. data scientist (-.)</td>\n",
       "      <td>40303356.00</td>\n",
       "    </tr>\n",
       "    <tr>\n",
       "      <th>...</th>\n",
       "      <td>...</td>\n",
       "      <td>...</td>\n",
       "    </tr>\n",
       "    <tr>\n",
       "      <th>46956</th>\n",
       "      <td>nail technical</td>\n",
       "      <td>18720.00</td>\n",
       "    </tr>\n",
       "    <tr>\n",
       "      <th>18524</th>\n",
       "      <td>customer service all tasks &amp; duties of a nail ...</td>\n",
       "      <td>18200.00</td>\n",
       "    </tr>\n",
       "    <tr>\n",
       "      <th>91615</th>\n",
       "      <td>track and field coach</td>\n",
       "      <td>17040.00</td>\n",
       "    </tr>\n",
       "    <tr>\n",
       "      <th>40913</th>\n",
       "      <td>live streaming service</td>\n",
       "      <td>17000.00</td>\n",
       "    </tr>\n",
       "    <tr>\n",
       "      <th>32871</th>\n",
       "      <td>home health &amp; personal care aide</td>\n",
       "      <td>15912.00</td>\n",
       "    </tr>\n",
       "  </tbody>\n",
       "</table>\n",
       "<p>95426 rows × 2 columns</p>\n",
       "</div>"
      ],
      "text/plain": [
       "                                               JOB_TITLE        WAGES\n",
       "64790    senior applications engineer - power management  98847500.00\n",
       "47728                     nurse practitioners (licensed)  97780945.60\n",
       "80095                           specialist web developer  74060709.00\n",
       "14470                                           chemists  41649665.05\n",
       "38055                            jr. data scientist (-.)  40303356.00\n",
       "...                                                  ...          ...\n",
       "46956                                     nail technical     18720.00\n",
       "18524  customer service all tasks & duties of a nail ...     18200.00\n",
       "91615                              track and field coach     17040.00\n",
       "40913                             live streaming service     17000.00\n",
       "32871                   home health & personal care aide     15912.00\n",
       "\n",
       "[95426 rows x 2 columns]"
>>>>>>> Implementation of baseline classifier for H1B visa acceptance
      ]
     },
     "metadata": {
      "tags": []
     },
     "output_type": "display_data"
    },
    {
     "data": {
      "text/html": [
       "<div>\n",
       "<style scoped>\n",
       "    .dataframe tbody tr th:only-of-type {\n",
       "        vertical-align: middle;\n",
       "    }\n",
       "\n",
       "    .dataframe tbody tr th {\n",
       "        vertical-align: top;\n",
       "    }\n",
       "\n",
       "    .dataframe thead th {\n",
       "        text-align: right;\n",
       "    }\n",
       "</style>\n",
       "<table border=\"1\" class=\"dataframe\">\n",
       "  <thead>\n",
       "    <tr style=\"text-align: right;\">\n",
       "      <th></th>\n",
       "      <th>JOB_TITLE</th>\n",
       "      <th>WAGES</th>\n",
       "    </tr>\n",
       "  </thead>\n",
       "  <tbody>\n",
       "  </tbody>\n",
       "</table>\n",
       "</div>"
      ],
      "text/plain": [
       "Empty DataFrame\n",
       "Columns: [JOB_TITLE, WAGES]\n",
       "Index: []"
      ]
     },
     "metadata": {
      "tags": []
     },
     "output_type": "display_data"
    }
   ],
   "source": [
    "grouped_wages=cleaned.groupby('JOB_TITLE', as_index=False).agg({'WAGES':'mean'})\n",
    "op=grouped_wages.sort_values(by=['WAGES'],ascending=False)\n",
    "X=op.loc[op['JOB_TITLE']=='SOFTWARE ENGINEER']\n",
    "display(op)\n",
    "display(X)"
   ]
  },
  {
   "cell_type": "markdown",
   "metadata": {
    "colab": {},
    "colab_type": "code",
    "id": "MU8xjr98qbJG"
   },
   "source": [
    "### Baseline classifier\n",
    "\n",
    "The baseline classifier is done with a basic model. In this case we are taking the mode of the labels ('certified' and 'denied' for H1B visa approvals). It will give us the base accuracy to which we will compare our classifier's accuracy. Our classifier should have a better accuracy than the baseline classifier accuracy.\n"
   ]
  },
  {
   "cell_type": "code",
   "execution_count": 46,
   "metadata": {},
   "outputs": [],
   "source": [
    "# This step assigns a binary class label (0 or 1) to each label for H1B visa approval. \n",
    "#'CERTIFIED' is mapped to 1 and 'DENIED' to 0\n",
    "\n",
    "def create_class_labels(processed_data):\n",
    "    \n",
    "    y = np.where((processed_data['CASE_STATUS']=='CERTIFIED'),1, 0)\n",
    "    \n",
    "    return y\n",
    "\n",
    "# Groundtruth labels for the dataset\n",
    "y = create_class_labels(cleaned)"
   ]
  },
  {
   "cell_type": "code",
   "execution_count": 48,
   "metadata": {},
   "outputs": [],
   "source": [
    "# Baseline classifier that predicts the class base on the mode of the labels.\n",
    "\n",
    "class BaselineClasifier():\n",
    "    \n",
    "    def __init__(self):\n",
    "        self.mode = None\n",
    "        \n",
    "    def fit(self, data, y): \n",
    "        \n",
    "        # Count labels and find the most frequent one\n",
    "        label, counts = np.unique(y, return_counts=True) \n",
    "        self.mode = counts.argmax()\n",
    "        \n",
    "        return self\n",
    "    \n",
    "    # Return an array with size equal to the data size  and each element setted to the mode.\n",
    "    def predict(self, data):\n",
    "        \n",
    "        result = np.full(data.shape[0], self.mode)\n",
    "        \n",
    "        return result"
   ]
  },
  {
   "cell_type": "code",
   "execution_count": 50,
   "metadata": {},
   "outputs": [
    {
     "name": "stdout",
     "output_type": "stream",
     "text": [
      "Baseline accuracy:  0.9918106185697955\n"
     ]
    }
   ],
   "source": [
    "# Prediction with the cleaned data\n",
    "baseline_clasifier = BaselineClasifier() \n",
    "baseline_clasifier.fit(cleaned, y) \n",
    "prediction = baseline_clasifier.predict(cleaned)\n",
    "\n",
    "# Computation of accuracy by comparing the groundtruth labels and the predicted labels for the cleaned dataset\n",
    "comp = prediction == y \n",
    "match_counts = np.count_nonzero(comp == True) \n",
    "baseline_clasifier_accuracy = match_counts/len(y)\n",
    "\n",
    "print('Baseline accuracy: ', baseline_clasifier_accuracy)"
   ]
  }
 ],
 "metadata": {
  "accelerator": "GPU",
  "colab": {
   "collapsed_sections": [],
   "machine_shape": "hm",
   "name": "H1b_project.ipynb",
   "provenance": [],
   "toc_visible": true
  },
  "kernelspec": {
   "display_name": "Python 3",
   "language": "python",
   "name": "python3"
  },
  "language_info": {
   "codemirror_mode": {
    "name": "ipython",
    "version": 3
   },
   "file_extension": ".py",
   "mimetype": "text/x-python",
   "name": "python",
   "nbconvert_exporter": "python",
   "pygments_lexer": "ipython3",
   "version": "3.7.4"
  }
 },
 "nbformat": 4,
 "nbformat_minor": 1
}
